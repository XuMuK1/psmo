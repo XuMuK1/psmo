{
 "cells": [
  {
   "cell_type": "markdown",
   "metadata": {},
   "source": [
    "# Метод максимального правдоподобия"
   ]
  },
  {
   "cell_type": "markdown",
   "metadata": {},
   "source": [
    "## Оценка одномерной выборки"
   ]
  },
  {
   "cell_type": "code",
   "execution_count": null,
   "metadata": {},
   "outputs": [],
   "source": [
    "import numpy as np \n",
    "\n",
    "size = 10000 # Number of observations\n",
    "mu = 3 # Mean\n",
    "sigma = 2 # Standard deviation \n",
    "sample = # ༼ つ ◕_◕ ༽つ"
   ]
  },
  {
   "cell_type": "markdown",
   "metadata": {},
   "source": [
    "### Явное решение"
   ]
  },
  {
   "cell_type": "code",
   "execution_count": null,
   "metadata": {},
   "outputs": [],
   "source": [
    "mu_hat = # ༼ つ ◕_◕ ༽つ\n",
    "sigma_hat = # ༼ つ ◕_◕ ༽つ\n",
    "\n",
    "print(f\"Estimated mu: {mu_hat}\")\n",
    "print(f\"Estimated sigma: {sigma_hat}\")"
   ]
  },
  {
   "cell_type": "markdown",
   "metadata": {},
   "source": [
    "### Численное решение"
   ]
  },
  {
   "cell_type": "code",
   "execution_count": null,
   "metadata": {},
   "outputs": [],
   "source": [
    "    \n",
    "def log_likelihood_factory(sample: np.ndarray):\n",
    "\n",
    "    def log_likelihood(params):\n",
    "        mu, sigma = params\n",
    "\n",
    "        lik =  # ༼ つ ◕_◕ ༽つ\n",
    "        \n",
    "        # For maximization\n",
    "        return  - lik\n",
    "    \n",
    "    return log_likelihood\n",
    "\n",
    "\n",
    "def log_likelihood_grad_factory(sample: np.ndarray):\n",
    "\n",
    "    def log_likelihood_grad(params):\n",
    "        mu, sigma = params\n",
    "\n",
    "        mu_part =  # ༼ つ ◕_◕ ༽つ\n",
    "        sigma_part = # ༼ つ ◕_◕ ༽つ\n",
    "        \n",
    "        # For maximization\n",
    "        return - np.array([mu_part, sigma_part])\n",
    "    \n",
    "    return log_likelihood_grad"
   ]
  },
  {
   "cell_type": "code",
   "execution_count": null,
   "metadata": {},
   "outputs": [],
   "source": [
    "from scipy.optimize import minimize\n",
    "\n",
    "x0 = np.random.uniform(size=2)\n",
    "res = minimize(\n",
    "    log_likelihood_factory(sample), \n",
    "    x0,\n",
    "    jac=log_likelihood_grad_factory(sample)\n",
    ")"
   ]
  },
  {
   "cell_type": "code",
   "execution_count": null,
   "metadata": {},
   "outputs": [],
   "source": [
    "res"
   ]
  },
  {
   "cell_type": "markdown",
   "metadata": {},
   "source": [
    "## Марковская цепь\n",
    "\n",
    "**Марковская цепь** — это математическая модель стохастического процесса, в которой вероятность перехода в следующее состояние зависит только от текущего состояния и не зависит от предыдущих состояний. Такая характеристика называется *свойством Маркова* или свойством отсутствия памяти.\n",
    "\n",
    "Формально, последовательность случайных переменных $( X_1, X_2, \\ldots, X_n )$ образует Марковскую цепь, если выполняется следующее условие:\n",
    "\n",
    "$$\n",
    "P(X_{n+1} = x \\mid X_1 = x_1, X_2 = x_2, \\ldots, X_n = x_n) = P(X_{n+1} = x \\mid X_n = x_n)\n",
    "$$\n",
    "\n",
    "где $ P $ обозначает вероятность, а $ X_n $ — состояние в момент времени $ n $.\n",
    "\n"
   ]
  },
  {
   "cell_type": "code",
   "execution_count": 2,
   "metadata": {},
   "outputs": [],
   "source": [
    "from tqdm import trange\n",
    "import numpy as np\n",
    "import networkx as nx\n",
    "import matplotlib.pyplot as plt\n",
    "import plotly.graph_objects as go\n",
    "\n",
    "\n",
    "class MarkovChain:\n",
    "    def __init__(self, nodes: list[int], transition_matrix: np.ndarray):\n",
    "        \"\"\"\n",
    "        Initializes a Markov chain with the given nodes and transition matrix.\n",
    "\n",
    "        Args:\n",
    "            nodes (list[int]): List of node identifiers.\n",
    "            transition_matrix (np.ndarray): Square matrix representing transition probabilities between nodes.\n",
    "        \n",
    "        Raises:\n",
    "            AssertionError: If the dimensions of the transition matrix do not match the number of nodes.\n",
    "        \"\"\"\n",
    "\n",
    "        # ༼ つ ◕_◕ ༽つ\n",
    "\n",
    "    def generate_trajectory(self, length: int) -> np.ndarray:\n",
    "        \"\"\"\n",
    "        Generates a trajectory of the Markov chain starting from a random node.\n",
    "\n",
    "        Args:\n",
    "            length (int): Length of the desired trajectory.\n",
    "\n",
    "        Returns:\n",
    "            np.ndarray: Array representing the sequence of nodes in the trajectory.\n",
    "        \"\"\"\n",
    "        \n",
    "        # ༼ つ ◕_◕ ༽つ\n",
    "\n",
    "    def plot(self):\n",
    "        \"\"\"\n",
    "        Plots the Markov chain graph with nodes and edges. The edge labels represent transition probabilities.\n",
    "        \"\"\"\n",
    "        # Position the nodes using a layout\n",
    "        pos = nx.spring_layout(self.graph)\n",
    "\n",
    "        # Draw the graph\n",
    "        nx.draw(self.graph, pos, with_labels=True, node_color='lightblue', node_size=2000, font_size=12, font_weight='bold', arrows=True, connectionstyle='arc3,rad=0.2')\n",
    "\n",
    "        # Draw edge labels (probabilities)\n",
    "        edge_labels = nx.get_edge_attributes(self.graph, 'label')\n",
    "        nx.draw_networkx_edge_labels(self.graph, pos, edge_labels=edge_labels, font_size=10)\n",
    "\n",
    "        # Show the plot\n",
    "        plt.show()\n",
    "\n",
    "    def plot_trajectory(self, trajectory: np.ndarray):\n",
    "        \"\"\"\n",
    "        Plots the trajectory of the Markov chain over time, using Plotly for animation.\n",
    "\n",
    "        Args:\n",
    "            trajectory (np.ndarray): Array representing the sequence of nodes in the trajectory.\n",
    "        \"\"\"\n",
    "        pos = nx.spring_layout(self.graph)\n",
    "        edge_x, edge_y = [], []\n",
    "        for edge in self.graph.edges():\n",
    "            x0, y0 = pos[edge[0]]\n",
    "            x1, y1 = pos[edge[1]]\n",
    "            edge_x.extend([x0, x1, None])\n",
    "            edge_y.extend([y0, y1, None])\n",
    "\n",
    "        edge_trace = go.Scatter(\n",
    "            x=edge_x, y=edge_y,\n",
    "            line=dict(width=1, color='#888'),\n",
    "            hoverinfo='none',\n",
    "            mode='lines')\n",
    "\n",
    "        node_x, node_y = zip(*[pos[n] for n in self.graph.nodes()])\n",
    "        node_trace = go.Scatter(\n",
    "            x=node_x, y=node_y,\n",
    "            mode='markers+text',\n",
    "            text=[str(node) for node in self.graph.nodes()],\n",
    "            textposition='top center',\n",
    "            hoverinfo='text',\n",
    "            marker=dict(size=20, color='lightblue'))\n",
    "\n",
    "        frames = []\n",
    "        for i in range(len(trajectory)):\n",
    "            frame_node_trace = go.Scatter(\n",
    "                x=node_x, y=node_y,\n",
    "                mode='markers+text',\n",
    "                text=[str(node) for node in self.graph.nodes()],\n",
    "                textposition='top center',\n",
    "                hoverinfo='text',\n",
    "                marker=dict(size=[30 if n == trajectory[i] else 20 for n in self.graph.nodes()],\n",
    "                            color=['red' if n == trajectory[i] else 'lightblue' for n in self.graph.nodes()]))\n",
    "            frames.append(go.Frame(data=[edge_trace, frame_node_trace]))\n",
    "\n",
    "        layout = go.Layout(\n",
    "            showlegend=False,\n",
    "            xaxis=dict(visible=False),\n",
    "            yaxis=dict(visible=False),\n",
    "            template='plotly_white',\n",
    "            updatemenus=[{\n",
    "                \"buttons\": [{\n",
    "                    \"args\": [None, {\"frame\": {\"duration\": 500, \"redraw\": True}, \n",
    "                                    \"fromcurrent\": True, \"transition\": {\"duration\": 300}}],\n",
    "                    \"label\": \"Play\",\n",
    "                    \"method\": \"animate\"}],\n",
    "                \"direction\": \"left\",\n",
    "                \"pad\": {\"r\": 10, \"t\": 87},\n",
    "                \"showactive\": False,\n",
    "                \"type\": \"buttons\",\n",
    "                \"x\": 0.1,\n",
    "                \"xanchor\": \"right\",\n",
    "                \"y\": 0,\n",
    "                \"yanchor\": \"top\"}])\n",
    "\n",
    "        fig = go.Figure(data=[edge_trace, node_trace], frames=frames, layout=layout)\n",
    "        fig.update_layout(margin=dict(l=0, r=0, t=0, b=0))\n",
    "        fig.show()\n"
   ]
  },
  {
   "cell_type": "code",
   "execution_count": 3,
   "metadata": {},
   "outputs": [],
   "source": [
    "n_nodes = 5\n",
    "\n",
    "def generate_markov_chain(n_nodes: int) -> MarkovChain:\n",
    "    \"\"\"\n",
    "    Generates a random Markov chain with a specified number of nodes.\n",
    "\n",
    "    Args:\n",
    "        n_nodes (int): The number of nodes in the Markov chain.\n",
    "\n",
    "    Returns:\n",
    "        MarkovChain: An instance of the MarkovChain class initialized with the generated nodes and transition matrix.\n",
    "\n",
    "    Notes:\n",
    "        Each node has a randomly chosen number of neighbors and transition probabilities.\n",
    "    \"\"\"\n",
    "    \n",
    "    # ༼ つ ◕_◕ ༽つ\n",
    "\n",
    "\n",
    "    return MarkovChain(nodes=nodes, transition_matrix=transition_matrix)\n"
   ]
  },
  {
   "cell_type": "code",
   "execution_count": 4,
   "metadata": {},
   "outputs": [],
   "source": [
    "chain = generate_markov_chain(5)"
   ]
  },
  {
   "cell_type": "code",
   "execution_count": 5,
   "metadata": {},
   "outputs": [
    {
     "name": "stderr",
     "output_type": "stream",
     "text": [
      "100%|██████████| 10/10 [00:00<00:00, 4308.92it/s]\n"
     ]
    }
   ],
   "source": [
    "t = chain.generate_trajectory(10)"
   ]
  },
  {
   "cell_type": "code",
   "execution_count": 6,
   "metadata": {},
   "outputs": [
    {
     "data": {
      "application/vnd.plotly.v1+json": {
       "config": {
        "plotlyServerURL": "https://plot.ly"
       },
       "data": [
        {
         "hoverinfo": "none",
         "line": {
          "color": "#888",
          "width": 1
         },
         "mode": "lines",
         "type": "scatter",
         "x": [
          0.7634531995079235,
          0.5536751577808452,
          null,
          0.7634531995079235,
          -0.0702694056171404,
          null,
          0.5536751577808452,
          0.7634531995079235,
          null,
          0.5536751577808452,
          -0.7267520071447574,
          null,
          0.5536751577808452,
          -0.5201069445268701,
          null,
          -0.0702694056171404,
          0.7634531995079235,
          null,
          -0.0702694056171404,
          0.5536751577808452,
          null,
          -0.0702694056171404,
          -0.5201069445268701,
          null,
          -0.7267520071447574,
          0.7634531995079235,
          null,
          -0.7267520071447574,
          0.5536751577808452,
          null,
          -0.7267520071447574,
          -0.5201069445268701,
          null,
          -0.5201069445268701,
          0.5536751577808452,
          null,
          -0.5201069445268701,
          -0.0702694056171404,
          null
         ],
         "y": [
          -0.8565445681006703,
          0.9088644681867977,
          null,
          -0.8565445681006703,
          -0.38820434034858053,
          null,
          0.9088644681867977,
          -0.8565445681006703,
          null,
          0.9088644681867977,
          -0.6641155597375482,
          null,
          0.9088644681867977,
          1,
          null,
          -0.38820434034858053,
          -0.8565445681006703,
          null,
          -0.38820434034858053,
          0.9088644681867977,
          null,
          -0.38820434034858053,
          1,
          null,
          -0.6641155597375482,
          -0.8565445681006703,
          null,
          -0.6641155597375482,
          0.9088644681867977,
          null,
          -0.6641155597375482,
          1,
          null,
          1,
          0.9088644681867977,
          null,
          1,
          -0.38820434034858053,
          null
         ]
        },
        {
         "hoverinfo": "text",
         "marker": {
          "color": "lightblue",
          "size": 20
         },
         "mode": "markers+text",
         "text": [
          "0",
          "1",
          "2",
          "3",
          "4"
         ],
         "textposition": "top center",
         "type": "scatter",
         "x": [
          0.7634531995079235,
          0.5536751577808452,
          -0.0702694056171404,
          -0.7267520071447574,
          -0.5201069445268701
         ],
         "y": [
          -0.8565445681006703,
          0.9088644681867977,
          -0.38820434034858053,
          -0.6641155597375482,
          1
         ]
        }
       ],
       "frames": [
        {
         "data": [
          {
           "hoverinfo": "none",
           "line": {
            "color": "#888",
            "width": 1
           },
           "mode": "lines",
           "type": "scatter",
           "x": [
            0.7634531995079235,
            0.5536751577808452,
            null,
            0.7634531995079235,
            -0.0702694056171404,
            null,
            0.5536751577808452,
            0.7634531995079235,
            null,
            0.5536751577808452,
            -0.7267520071447574,
            null,
            0.5536751577808452,
            -0.5201069445268701,
            null,
            -0.0702694056171404,
            0.7634531995079235,
            null,
            -0.0702694056171404,
            0.5536751577808452,
            null,
            -0.0702694056171404,
            -0.5201069445268701,
            null,
            -0.7267520071447574,
            0.7634531995079235,
            null,
            -0.7267520071447574,
            0.5536751577808452,
            null,
            -0.7267520071447574,
            -0.5201069445268701,
            null,
            -0.5201069445268701,
            0.5536751577808452,
            null,
            -0.5201069445268701,
            -0.0702694056171404,
            null
           ],
           "y": [
            -0.8565445681006703,
            0.9088644681867977,
            null,
            -0.8565445681006703,
            -0.38820434034858053,
            null,
            0.9088644681867977,
            -0.8565445681006703,
            null,
            0.9088644681867977,
            -0.6641155597375482,
            null,
            0.9088644681867977,
            1,
            null,
            -0.38820434034858053,
            -0.8565445681006703,
            null,
            -0.38820434034858053,
            0.9088644681867977,
            null,
            -0.38820434034858053,
            1,
            null,
            -0.6641155597375482,
            -0.8565445681006703,
            null,
            -0.6641155597375482,
            0.9088644681867977,
            null,
            -0.6641155597375482,
            1,
            null,
            1,
            0.9088644681867977,
            null,
            1,
            -0.38820434034858053,
            null
           ]
          },
          {
           "hoverinfo": "text",
           "marker": {
            "color": [
             "lightblue",
             "lightblue",
             "lightblue",
             "lightblue",
             "red"
            ],
            "size": [
             20,
             20,
             20,
             20,
             30
            ]
           },
           "mode": "markers+text",
           "text": [
            "0",
            "1",
            "2",
            "3",
            "4"
           ],
           "textposition": "top center",
           "type": "scatter",
           "x": [
            0.7634531995079235,
            0.5536751577808452,
            -0.0702694056171404,
            -0.7267520071447574,
            -0.5201069445268701
           ],
           "y": [
            -0.8565445681006703,
            0.9088644681867977,
            -0.38820434034858053,
            -0.6641155597375482,
            1
           ]
          }
         ]
        },
        {
         "data": [
          {
           "hoverinfo": "none",
           "line": {
            "color": "#888",
            "width": 1
           },
           "mode": "lines",
           "type": "scatter",
           "x": [
            0.7634531995079235,
            0.5536751577808452,
            null,
            0.7634531995079235,
            -0.0702694056171404,
            null,
            0.5536751577808452,
            0.7634531995079235,
            null,
            0.5536751577808452,
            -0.7267520071447574,
            null,
            0.5536751577808452,
            -0.5201069445268701,
            null,
            -0.0702694056171404,
            0.7634531995079235,
            null,
            -0.0702694056171404,
            0.5536751577808452,
            null,
            -0.0702694056171404,
            -0.5201069445268701,
            null,
            -0.7267520071447574,
            0.7634531995079235,
            null,
            -0.7267520071447574,
            0.5536751577808452,
            null,
            -0.7267520071447574,
            -0.5201069445268701,
            null,
            -0.5201069445268701,
            0.5536751577808452,
            null,
            -0.5201069445268701,
            -0.0702694056171404,
            null
           ],
           "y": [
            -0.8565445681006703,
            0.9088644681867977,
            null,
            -0.8565445681006703,
            -0.38820434034858053,
            null,
            0.9088644681867977,
            -0.8565445681006703,
            null,
            0.9088644681867977,
            -0.6641155597375482,
            null,
            0.9088644681867977,
            1,
            null,
            -0.38820434034858053,
            -0.8565445681006703,
            null,
            -0.38820434034858053,
            0.9088644681867977,
            null,
            -0.38820434034858053,
            1,
            null,
            -0.6641155597375482,
            -0.8565445681006703,
            null,
            -0.6641155597375482,
            0.9088644681867977,
            null,
            -0.6641155597375482,
            1,
            null,
            1,
            0.9088644681867977,
            null,
            1,
            -0.38820434034858053,
            null
           ]
          },
          {
           "hoverinfo": "text",
           "marker": {
            "color": [
             "lightblue",
             "lightblue",
             "red",
             "lightblue",
             "lightblue"
            ],
            "size": [
             20,
             20,
             30,
             20,
             20
            ]
           },
           "mode": "markers+text",
           "text": [
            "0",
            "1",
            "2",
            "3",
            "4"
           ],
           "textposition": "top center",
           "type": "scatter",
           "x": [
            0.7634531995079235,
            0.5536751577808452,
            -0.0702694056171404,
            -0.7267520071447574,
            -0.5201069445268701
           ],
           "y": [
            -0.8565445681006703,
            0.9088644681867977,
            -0.38820434034858053,
            -0.6641155597375482,
            1
           ]
          }
         ]
        },
        {
         "data": [
          {
           "hoverinfo": "none",
           "line": {
            "color": "#888",
            "width": 1
           },
           "mode": "lines",
           "type": "scatter",
           "x": [
            0.7634531995079235,
            0.5536751577808452,
            null,
            0.7634531995079235,
            -0.0702694056171404,
            null,
            0.5536751577808452,
            0.7634531995079235,
            null,
            0.5536751577808452,
            -0.7267520071447574,
            null,
            0.5536751577808452,
            -0.5201069445268701,
            null,
            -0.0702694056171404,
            0.7634531995079235,
            null,
            -0.0702694056171404,
            0.5536751577808452,
            null,
            -0.0702694056171404,
            -0.5201069445268701,
            null,
            -0.7267520071447574,
            0.7634531995079235,
            null,
            -0.7267520071447574,
            0.5536751577808452,
            null,
            -0.7267520071447574,
            -0.5201069445268701,
            null,
            -0.5201069445268701,
            0.5536751577808452,
            null,
            -0.5201069445268701,
            -0.0702694056171404,
            null
           ],
           "y": [
            -0.8565445681006703,
            0.9088644681867977,
            null,
            -0.8565445681006703,
            -0.38820434034858053,
            null,
            0.9088644681867977,
            -0.8565445681006703,
            null,
            0.9088644681867977,
            -0.6641155597375482,
            null,
            0.9088644681867977,
            1,
            null,
            -0.38820434034858053,
            -0.8565445681006703,
            null,
            -0.38820434034858053,
            0.9088644681867977,
            null,
            -0.38820434034858053,
            1,
            null,
            -0.6641155597375482,
            -0.8565445681006703,
            null,
            -0.6641155597375482,
            0.9088644681867977,
            null,
            -0.6641155597375482,
            1,
            null,
            1,
            0.9088644681867977,
            null,
            1,
            -0.38820434034858053,
            null
           ]
          },
          {
           "hoverinfo": "text",
           "marker": {
            "color": [
             "lightblue",
             "red",
             "lightblue",
             "lightblue",
             "lightblue"
            ],
            "size": [
             20,
             30,
             20,
             20,
             20
            ]
           },
           "mode": "markers+text",
           "text": [
            "0",
            "1",
            "2",
            "3",
            "4"
           ],
           "textposition": "top center",
           "type": "scatter",
           "x": [
            0.7634531995079235,
            0.5536751577808452,
            -0.0702694056171404,
            -0.7267520071447574,
            -0.5201069445268701
           ],
           "y": [
            -0.8565445681006703,
            0.9088644681867977,
            -0.38820434034858053,
            -0.6641155597375482,
            1
           ]
          }
         ]
        },
        {
         "data": [
          {
           "hoverinfo": "none",
           "line": {
            "color": "#888",
            "width": 1
           },
           "mode": "lines",
           "type": "scatter",
           "x": [
            0.7634531995079235,
            0.5536751577808452,
            null,
            0.7634531995079235,
            -0.0702694056171404,
            null,
            0.5536751577808452,
            0.7634531995079235,
            null,
            0.5536751577808452,
            -0.7267520071447574,
            null,
            0.5536751577808452,
            -0.5201069445268701,
            null,
            -0.0702694056171404,
            0.7634531995079235,
            null,
            -0.0702694056171404,
            0.5536751577808452,
            null,
            -0.0702694056171404,
            -0.5201069445268701,
            null,
            -0.7267520071447574,
            0.7634531995079235,
            null,
            -0.7267520071447574,
            0.5536751577808452,
            null,
            -0.7267520071447574,
            -0.5201069445268701,
            null,
            -0.5201069445268701,
            0.5536751577808452,
            null,
            -0.5201069445268701,
            -0.0702694056171404,
            null
           ],
           "y": [
            -0.8565445681006703,
            0.9088644681867977,
            null,
            -0.8565445681006703,
            -0.38820434034858053,
            null,
            0.9088644681867977,
            -0.8565445681006703,
            null,
            0.9088644681867977,
            -0.6641155597375482,
            null,
            0.9088644681867977,
            1,
            null,
            -0.38820434034858053,
            -0.8565445681006703,
            null,
            -0.38820434034858053,
            0.9088644681867977,
            null,
            -0.38820434034858053,
            1,
            null,
            -0.6641155597375482,
            -0.8565445681006703,
            null,
            -0.6641155597375482,
            0.9088644681867977,
            null,
            -0.6641155597375482,
            1,
            null,
            1,
            0.9088644681867977,
            null,
            1,
            -0.38820434034858053,
            null
           ]
          },
          {
           "hoverinfo": "text",
           "marker": {
            "color": [
             "lightblue",
             "lightblue",
             "lightblue",
             "lightblue",
             "red"
            ],
            "size": [
             20,
             20,
             20,
             20,
             30
            ]
           },
           "mode": "markers+text",
           "text": [
            "0",
            "1",
            "2",
            "3",
            "4"
           ],
           "textposition": "top center",
           "type": "scatter",
           "x": [
            0.7634531995079235,
            0.5536751577808452,
            -0.0702694056171404,
            -0.7267520071447574,
            -0.5201069445268701
           ],
           "y": [
            -0.8565445681006703,
            0.9088644681867977,
            -0.38820434034858053,
            -0.6641155597375482,
            1
           ]
          }
         ]
        },
        {
         "data": [
          {
           "hoverinfo": "none",
           "line": {
            "color": "#888",
            "width": 1
           },
           "mode": "lines",
           "type": "scatter",
           "x": [
            0.7634531995079235,
            0.5536751577808452,
            null,
            0.7634531995079235,
            -0.0702694056171404,
            null,
            0.5536751577808452,
            0.7634531995079235,
            null,
            0.5536751577808452,
            -0.7267520071447574,
            null,
            0.5536751577808452,
            -0.5201069445268701,
            null,
            -0.0702694056171404,
            0.7634531995079235,
            null,
            -0.0702694056171404,
            0.5536751577808452,
            null,
            -0.0702694056171404,
            -0.5201069445268701,
            null,
            -0.7267520071447574,
            0.7634531995079235,
            null,
            -0.7267520071447574,
            0.5536751577808452,
            null,
            -0.7267520071447574,
            -0.5201069445268701,
            null,
            -0.5201069445268701,
            0.5536751577808452,
            null,
            -0.5201069445268701,
            -0.0702694056171404,
            null
           ],
           "y": [
            -0.8565445681006703,
            0.9088644681867977,
            null,
            -0.8565445681006703,
            -0.38820434034858053,
            null,
            0.9088644681867977,
            -0.8565445681006703,
            null,
            0.9088644681867977,
            -0.6641155597375482,
            null,
            0.9088644681867977,
            1,
            null,
            -0.38820434034858053,
            -0.8565445681006703,
            null,
            -0.38820434034858053,
            0.9088644681867977,
            null,
            -0.38820434034858053,
            1,
            null,
            -0.6641155597375482,
            -0.8565445681006703,
            null,
            -0.6641155597375482,
            0.9088644681867977,
            null,
            -0.6641155597375482,
            1,
            null,
            1,
            0.9088644681867977,
            null,
            1,
            -0.38820434034858053,
            null
           ]
          },
          {
           "hoverinfo": "text",
           "marker": {
            "color": [
             "lightblue",
             "lightblue",
             "red",
             "lightblue",
             "lightblue"
            ],
            "size": [
             20,
             20,
             30,
             20,
             20
            ]
           },
           "mode": "markers+text",
           "text": [
            "0",
            "1",
            "2",
            "3",
            "4"
           ],
           "textposition": "top center",
           "type": "scatter",
           "x": [
            0.7634531995079235,
            0.5536751577808452,
            -0.0702694056171404,
            -0.7267520071447574,
            -0.5201069445268701
           ],
           "y": [
            -0.8565445681006703,
            0.9088644681867977,
            -0.38820434034858053,
            -0.6641155597375482,
            1
           ]
          }
         ]
        },
        {
         "data": [
          {
           "hoverinfo": "none",
           "line": {
            "color": "#888",
            "width": 1
           },
           "mode": "lines",
           "type": "scatter",
           "x": [
            0.7634531995079235,
            0.5536751577808452,
            null,
            0.7634531995079235,
            -0.0702694056171404,
            null,
            0.5536751577808452,
            0.7634531995079235,
            null,
            0.5536751577808452,
            -0.7267520071447574,
            null,
            0.5536751577808452,
            -0.5201069445268701,
            null,
            -0.0702694056171404,
            0.7634531995079235,
            null,
            -0.0702694056171404,
            0.5536751577808452,
            null,
            -0.0702694056171404,
            -0.5201069445268701,
            null,
            -0.7267520071447574,
            0.7634531995079235,
            null,
            -0.7267520071447574,
            0.5536751577808452,
            null,
            -0.7267520071447574,
            -0.5201069445268701,
            null,
            -0.5201069445268701,
            0.5536751577808452,
            null,
            -0.5201069445268701,
            -0.0702694056171404,
            null
           ],
           "y": [
            -0.8565445681006703,
            0.9088644681867977,
            null,
            -0.8565445681006703,
            -0.38820434034858053,
            null,
            0.9088644681867977,
            -0.8565445681006703,
            null,
            0.9088644681867977,
            -0.6641155597375482,
            null,
            0.9088644681867977,
            1,
            null,
            -0.38820434034858053,
            -0.8565445681006703,
            null,
            -0.38820434034858053,
            0.9088644681867977,
            null,
            -0.38820434034858053,
            1,
            null,
            -0.6641155597375482,
            -0.8565445681006703,
            null,
            -0.6641155597375482,
            0.9088644681867977,
            null,
            -0.6641155597375482,
            1,
            null,
            1,
            0.9088644681867977,
            null,
            1,
            -0.38820434034858053,
            null
           ]
          },
          {
           "hoverinfo": "text",
           "marker": {
            "color": [
             "lightblue",
             "lightblue",
             "lightblue",
             "lightblue",
             "red"
            ],
            "size": [
             20,
             20,
             20,
             20,
             30
            ]
           },
           "mode": "markers+text",
           "text": [
            "0",
            "1",
            "2",
            "3",
            "4"
           ],
           "textposition": "top center",
           "type": "scatter",
           "x": [
            0.7634531995079235,
            0.5536751577808452,
            -0.0702694056171404,
            -0.7267520071447574,
            -0.5201069445268701
           ],
           "y": [
            -0.8565445681006703,
            0.9088644681867977,
            -0.38820434034858053,
            -0.6641155597375482,
            1
           ]
          }
         ]
        },
        {
         "data": [
          {
           "hoverinfo": "none",
           "line": {
            "color": "#888",
            "width": 1
           },
           "mode": "lines",
           "type": "scatter",
           "x": [
            0.7634531995079235,
            0.5536751577808452,
            null,
            0.7634531995079235,
            -0.0702694056171404,
            null,
            0.5536751577808452,
            0.7634531995079235,
            null,
            0.5536751577808452,
            -0.7267520071447574,
            null,
            0.5536751577808452,
            -0.5201069445268701,
            null,
            -0.0702694056171404,
            0.7634531995079235,
            null,
            -0.0702694056171404,
            0.5536751577808452,
            null,
            -0.0702694056171404,
            -0.5201069445268701,
            null,
            -0.7267520071447574,
            0.7634531995079235,
            null,
            -0.7267520071447574,
            0.5536751577808452,
            null,
            -0.7267520071447574,
            -0.5201069445268701,
            null,
            -0.5201069445268701,
            0.5536751577808452,
            null,
            -0.5201069445268701,
            -0.0702694056171404,
            null
           ],
           "y": [
            -0.8565445681006703,
            0.9088644681867977,
            null,
            -0.8565445681006703,
            -0.38820434034858053,
            null,
            0.9088644681867977,
            -0.8565445681006703,
            null,
            0.9088644681867977,
            -0.6641155597375482,
            null,
            0.9088644681867977,
            1,
            null,
            -0.38820434034858053,
            -0.8565445681006703,
            null,
            -0.38820434034858053,
            0.9088644681867977,
            null,
            -0.38820434034858053,
            1,
            null,
            -0.6641155597375482,
            -0.8565445681006703,
            null,
            -0.6641155597375482,
            0.9088644681867977,
            null,
            -0.6641155597375482,
            1,
            null,
            1,
            0.9088644681867977,
            null,
            1,
            -0.38820434034858053,
            null
           ]
          },
          {
           "hoverinfo": "text",
           "marker": {
            "color": [
             "lightblue",
             "lightblue",
             "red",
             "lightblue",
             "lightblue"
            ],
            "size": [
             20,
             20,
             30,
             20,
             20
            ]
           },
           "mode": "markers+text",
           "text": [
            "0",
            "1",
            "2",
            "3",
            "4"
           ],
           "textposition": "top center",
           "type": "scatter",
           "x": [
            0.7634531995079235,
            0.5536751577808452,
            -0.0702694056171404,
            -0.7267520071447574,
            -0.5201069445268701
           ],
           "y": [
            -0.8565445681006703,
            0.9088644681867977,
            -0.38820434034858053,
            -0.6641155597375482,
            1
           ]
          }
         ]
        },
        {
         "data": [
          {
           "hoverinfo": "none",
           "line": {
            "color": "#888",
            "width": 1
           },
           "mode": "lines",
           "type": "scatter",
           "x": [
            0.7634531995079235,
            0.5536751577808452,
            null,
            0.7634531995079235,
            -0.0702694056171404,
            null,
            0.5536751577808452,
            0.7634531995079235,
            null,
            0.5536751577808452,
            -0.7267520071447574,
            null,
            0.5536751577808452,
            -0.5201069445268701,
            null,
            -0.0702694056171404,
            0.7634531995079235,
            null,
            -0.0702694056171404,
            0.5536751577808452,
            null,
            -0.0702694056171404,
            -0.5201069445268701,
            null,
            -0.7267520071447574,
            0.7634531995079235,
            null,
            -0.7267520071447574,
            0.5536751577808452,
            null,
            -0.7267520071447574,
            -0.5201069445268701,
            null,
            -0.5201069445268701,
            0.5536751577808452,
            null,
            -0.5201069445268701,
            -0.0702694056171404,
            null
           ],
           "y": [
            -0.8565445681006703,
            0.9088644681867977,
            null,
            -0.8565445681006703,
            -0.38820434034858053,
            null,
            0.9088644681867977,
            -0.8565445681006703,
            null,
            0.9088644681867977,
            -0.6641155597375482,
            null,
            0.9088644681867977,
            1,
            null,
            -0.38820434034858053,
            -0.8565445681006703,
            null,
            -0.38820434034858053,
            0.9088644681867977,
            null,
            -0.38820434034858053,
            1,
            null,
            -0.6641155597375482,
            -0.8565445681006703,
            null,
            -0.6641155597375482,
            0.9088644681867977,
            null,
            -0.6641155597375482,
            1,
            null,
            1,
            0.9088644681867977,
            null,
            1,
            -0.38820434034858053,
            null
           ]
          },
          {
           "hoverinfo": "text",
           "marker": {
            "color": [
             "lightblue",
             "red",
             "lightblue",
             "lightblue",
             "lightblue"
            ],
            "size": [
             20,
             30,
             20,
             20,
             20
            ]
           },
           "mode": "markers+text",
           "text": [
            "0",
            "1",
            "2",
            "3",
            "4"
           ],
           "textposition": "top center",
           "type": "scatter",
           "x": [
            0.7634531995079235,
            0.5536751577808452,
            -0.0702694056171404,
            -0.7267520071447574,
            -0.5201069445268701
           ],
           "y": [
            -0.8565445681006703,
            0.9088644681867977,
            -0.38820434034858053,
            -0.6641155597375482,
            1
           ]
          }
         ]
        },
        {
         "data": [
          {
           "hoverinfo": "none",
           "line": {
            "color": "#888",
            "width": 1
           },
           "mode": "lines",
           "type": "scatter",
           "x": [
            0.7634531995079235,
            0.5536751577808452,
            null,
            0.7634531995079235,
            -0.0702694056171404,
            null,
            0.5536751577808452,
            0.7634531995079235,
            null,
            0.5536751577808452,
            -0.7267520071447574,
            null,
            0.5536751577808452,
            -0.5201069445268701,
            null,
            -0.0702694056171404,
            0.7634531995079235,
            null,
            -0.0702694056171404,
            0.5536751577808452,
            null,
            -0.0702694056171404,
            -0.5201069445268701,
            null,
            -0.7267520071447574,
            0.7634531995079235,
            null,
            -0.7267520071447574,
            0.5536751577808452,
            null,
            -0.7267520071447574,
            -0.5201069445268701,
            null,
            -0.5201069445268701,
            0.5536751577808452,
            null,
            -0.5201069445268701,
            -0.0702694056171404,
            null
           ],
           "y": [
            -0.8565445681006703,
            0.9088644681867977,
            null,
            -0.8565445681006703,
            -0.38820434034858053,
            null,
            0.9088644681867977,
            -0.8565445681006703,
            null,
            0.9088644681867977,
            -0.6641155597375482,
            null,
            0.9088644681867977,
            1,
            null,
            -0.38820434034858053,
            -0.8565445681006703,
            null,
            -0.38820434034858053,
            0.9088644681867977,
            null,
            -0.38820434034858053,
            1,
            null,
            -0.6641155597375482,
            -0.8565445681006703,
            null,
            -0.6641155597375482,
            0.9088644681867977,
            null,
            -0.6641155597375482,
            1,
            null,
            1,
            0.9088644681867977,
            null,
            1,
            -0.38820434034858053,
            null
           ]
          },
          {
           "hoverinfo": "text",
           "marker": {
            "color": [
             "lightblue",
             "lightblue",
             "lightblue",
             "lightblue",
             "red"
            ],
            "size": [
             20,
             20,
             20,
             20,
             30
            ]
           },
           "mode": "markers+text",
           "text": [
            "0",
            "1",
            "2",
            "3",
            "4"
           ],
           "textposition": "top center",
           "type": "scatter",
           "x": [
            0.7634531995079235,
            0.5536751577808452,
            -0.0702694056171404,
            -0.7267520071447574,
            -0.5201069445268701
           ],
           "y": [
            -0.8565445681006703,
            0.9088644681867977,
            -0.38820434034858053,
            -0.6641155597375482,
            1
           ]
          }
         ]
        },
        {
         "data": [
          {
           "hoverinfo": "none",
           "line": {
            "color": "#888",
            "width": 1
           },
           "mode": "lines",
           "type": "scatter",
           "x": [
            0.7634531995079235,
            0.5536751577808452,
            null,
            0.7634531995079235,
            -0.0702694056171404,
            null,
            0.5536751577808452,
            0.7634531995079235,
            null,
            0.5536751577808452,
            -0.7267520071447574,
            null,
            0.5536751577808452,
            -0.5201069445268701,
            null,
            -0.0702694056171404,
            0.7634531995079235,
            null,
            -0.0702694056171404,
            0.5536751577808452,
            null,
            -0.0702694056171404,
            -0.5201069445268701,
            null,
            -0.7267520071447574,
            0.7634531995079235,
            null,
            -0.7267520071447574,
            0.5536751577808452,
            null,
            -0.7267520071447574,
            -0.5201069445268701,
            null,
            -0.5201069445268701,
            0.5536751577808452,
            null,
            -0.5201069445268701,
            -0.0702694056171404,
            null
           ],
           "y": [
            -0.8565445681006703,
            0.9088644681867977,
            null,
            -0.8565445681006703,
            -0.38820434034858053,
            null,
            0.9088644681867977,
            -0.8565445681006703,
            null,
            0.9088644681867977,
            -0.6641155597375482,
            null,
            0.9088644681867977,
            1,
            null,
            -0.38820434034858053,
            -0.8565445681006703,
            null,
            -0.38820434034858053,
            0.9088644681867977,
            null,
            -0.38820434034858053,
            1,
            null,
            -0.6641155597375482,
            -0.8565445681006703,
            null,
            -0.6641155597375482,
            0.9088644681867977,
            null,
            -0.6641155597375482,
            1,
            null,
            1,
            0.9088644681867977,
            null,
            1,
            -0.38820434034858053,
            null
           ]
          },
          {
           "hoverinfo": "text",
           "marker": {
            "color": [
             "lightblue",
             "lightblue",
             "red",
             "lightblue",
             "lightblue"
            ],
            "size": [
             20,
             20,
             30,
             20,
             20
            ]
           },
           "mode": "markers+text",
           "text": [
            "0",
            "1",
            "2",
            "3",
            "4"
           ],
           "textposition": "top center",
           "type": "scatter",
           "x": [
            0.7634531995079235,
            0.5536751577808452,
            -0.0702694056171404,
            -0.7267520071447574,
            -0.5201069445268701
           ],
           "y": [
            -0.8565445681006703,
            0.9088644681867977,
            -0.38820434034858053,
            -0.6641155597375482,
            1
           ]
          }
         ]
        },
        {
         "data": [
          {
           "hoverinfo": "none",
           "line": {
            "color": "#888",
            "width": 1
           },
           "mode": "lines",
           "type": "scatter",
           "x": [
            0.7634531995079235,
            0.5536751577808452,
            null,
            0.7634531995079235,
            -0.0702694056171404,
            null,
            0.5536751577808452,
            0.7634531995079235,
            null,
            0.5536751577808452,
            -0.7267520071447574,
            null,
            0.5536751577808452,
            -0.5201069445268701,
            null,
            -0.0702694056171404,
            0.7634531995079235,
            null,
            -0.0702694056171404,
            0.5536751577808452,
            null,
            -0.0702694056171404,
            -0.5201069445268701,
            null,
            -0.7267520071447574,
            0.7634531995079235,
            null,
            -0.7267520071447574,
            0.5536751577808452,
            null,
            -0.7267520071447574,
            -0.5201069445268701,
            null,
            -0.5201069445268701,
            0.5536751577808452,
            null,
            -0.5201069445268701,
            -0.0702694056171404,
            null
           ],
           "y": [
            -0.8565445681006703,
            0.9088644681867977,
            null,
            -0.8565445681006703,
            -0.38820434034858053,
            null,
            0.9088644681867977,
            -0.8565445681006703,
            null,
            0.9088644681867977,
            -0.6641155597375482,
            null,
            0.9088644681867977,
            1,
            null,
            -0.38820434034858053,
            -0.8565445681006703,
            null,
            -0.38820434034858053,
            0.9088644681867977,
            null,
            -0.38820434034858053,
            1,
            null,
            -0.6641155597375482,
            -0.8565445681006703,
            null,
            -0.6641155597375482,
            0.9088644681867977,
            null,
            -0.6641155597375482,
            1,
            null,
            1,
            0.9088644681867977,
            null,
            1,
            -0.38820434034858053,
            null
           ]
          },
          {
           "hoverinfo": "text",
           "marker": {
            "color": [
             "lightblue",
             "lightblue",
             "lightblue",
             "lightblue",
             "red"
            ],
            "size": [
             20,
             20,
             20,
             20,
             30
            ]
           },
           "mode": "markers+text",
           "text": [
            "0",
            "1",
            "2",
            "3",
            "4"
           ],
           "textposition": "top center",
           "type": "scatter",
           "x": [
            0.7634531995079235,
            0.5536751577808452,
            -0.0702694056171404,
            -0.7267520071447574,
            -0.5201069445268701
           ],
           "y": [
            -0.8565445681006703,
            0.9088644681867977,
            -0.38820434034858053,
            -0.6641155597375482,
            1
           ]
          }
         ]
        }
       ],
       "layout": {
        "margin": {
         "b": 0,
         "l": 0,
         "r": 0,
         "t": 0
        },
        "showlegend": false,
        "template": {
         "data": {
          "bar": [
           {
            "error_x": {
             "color": "#2a3f5f"
            },
            "error_y": {
             "color": "#2a3f5f"
            },
            "marker": {
             "line": {
              "color": "white",
              "width": 0.5
             },
             "pattern": {
              "fillmode": "overlay",
              "size": 10,
              "solidity": 0.2
             }
            },
            "type": "bar"
           }
          ],
          "barpolar": [
           {
            "marker": {
             "line": {
              "color": "white",
              "width": 0.5
             },
             "pattern": {
              "fillmode": "overlay",
              "size": 10,
              "solidity": 0.2
             }
            },
            "type": "barpolar"
           }
          ],
          "carpet": [
           {
            "aaxis": {
             "endlinecolor": "#2a3f5f",
             "gridcolor": "#C8D4E3",
             "linecolor": "#C8D4E3",
             "minorgridcolor": "#C8D4E3",
             "startlinecolor": "#2a3f5f"
            },
            "baxis": {
             "endlinecolor": "#2a3f5f",
             "gridcolor": "#C8D4E3",
             "linecolor": "#C8D4E3",
             "minorgridcolor": "#C8D4E3",
             "startlinecolor": "#2a3f5f"
            },
            "type": "carpet"
           }
          ],
          "choropleth": [
           {
            "colorbar": {
             "outlinewidth": 0,
             "ticks": ""
            },
            "type": "choropleth"
           }
          ],
          "contour": [
           {
            "colorbar": {
             "outlinewidth": 0,
             "ticks": ""
            },
            "colorscale": [
             [
              0,
              "#0d0887"
             ],
             [
              0.1111111111111111,
              "#46039f"
             ],
             [
              0.2222222222222222,
              "#7201a8"
             ],
             [
              0.3333333333333333,
              "#9c179e"
             ],
             [
              0.4444444444444444,
              "#bd3786"
             ],
             [
              0.5555555555555556,
              "#d8576b"
             ],
             [
              0.6666666666666666,
              "#ed7953"
             ],
             [
              0.7777777777777778,
              "#fb9f3a"
             ],
             [
              0.8888888888888888,
              "#fdca26"
             ],
             [
              1,
              "#f0f921"
             ]
            ],
            "type": "contour"
           }
          ],
          "contourcarpet": [
           {
            "colorbar": {
             "outlinewidth": 0,
             "ticks": ""
            },
            "type": "contourcarpet"
           }
          ],
          "heatmap": [
           {
            "colorbar": {
             "outlinewidth": 0,
             "ticks": ""
            },
            "colorscale": [
             [
              0,
              "#0d0887"
             ],
             [
              0.1111111111111111,
              "#46039f"
             ],
             [
              0.2222222222222222,
              "#7201a8"
             ],
             [
              0.3333333333333333,
              "#9c179e"
             ],
             [
              0.4444444444444444,
              "#bd3786"
             ],
             [
              0.5555555555555556,
              "#d8576b"
             ],
             [
              0.6666666666666666,
              "#ed7953"
             ],
             [
              0.7777777777777778,
              "#fb9f3a"
             ],
             [
              0.8888888888888888,
              "#fdca26"
             ],
             [
              1,
              "#f0f921"
             ]
            ],
            "type": "heatmap"
           }
          ],
          "heatmapgl": [
           {
            "colorbar": {
             "outlinewidth": 0,
             "ticks": ""
            },
            "colorscale": [
             [
              0,
              "#0d0887"
             ],
             [
              0.1111111111111111,
              "#46039f"
             ],
             [
              0.2222222222222222,
              "#7201a8"
             ],
             [
              0.3333333333333333,
              "#9c179e"
             ],
             [
              0.4444444444444444,
              "#bd3786"
             ],
             [
              0.5555555555555556,
              "#d8576b"
             ],
             [
              0.6666666666666666,
              "#ed7953"
             ],
             [
              0.7777777777777778,
              "#fb9f3a"
             ],
             [
              0.8888888888888888,
              "#fdca26"
             ],
             [
              1,
              "#f0f921"
             ]
            ],
            "type": "heatmapgl"
           }
          ],
          "histogram": [
           {
            "marker": {
             "pattern": {
              "fillmode": "overlay",
              "size": 10,
              "solidity": 0.2
             }
            },
            "type": "histogram"
           }
          ],
          "histogram2d": [
           {
            "colorbar": {
             "outlinewidth": 0,
             "ticks": ""
            },
            "colorscale": [
             [
              0,
              "#0d0887"
             ],
             [
              0.1111111111111111,
              "#46039f"
             ],
             [
              0.2222222222222222,
              "#7201a8"
             ],
             [
              0.3333333333333333,
              "#9c179e"
             ],
             [
              0.4444444444444444,
              "#bd3786"
             ],
             [
              0.5555555555555556,
              "#d8576b"
             ],
             [
              0.6666666666666666,
              "#ed7953"
             ],
             [
              0.7777777777777778,
              "#fb9f3a"
             ],
             [
              0.8888888888888888,
              "#fdca26"
             ],
             [
              1,
              "#f0f921"
             ]
            ],
            "type": "histogram2d"
           }
          ],
          "histogram2dcontour": [
           {
            "colorbar": {
             "outlinewidth": 0,
             "ticks": ""
            },
            "colorscale": [
             [
              0,
              "#0d0887"
             ],
             [
              0.1111111111111111,
              "#46039f"
             ],
             [
              0.2222222222222222,
              "#7201a8"
             ],
             [
              0.3333333333333333,
              "#9c179e"
             ],
             [
              0.4444444444444444,
              "#bd3786"
             ],
             [
              0.5555555555555556,
              "#d8576b"
             ],
             [
              0.6666666666666666,
              "#ed7953"
             ],
             [
              0.7777777777777778,
              "#fb9f3a"
             ],
             [
              0.8888888888888888,
              "#fdca26"
             ],
             [
              1,
              "#f0f921"
             ]
            ],
            "type": "histogram2dcontour"
           }
          ],
          "mesh3d": [
           {
            "colorbar": {
             "outlinewidth": 0,
             "ticks": ""
            },
            "type": "mesh3d"
           }
          ],
          "parcoords": [
           {
            "line": {
             "colorbar": {
              "outlinewidth": 0,
              "ticks": ""
             }
            },
            "type": "parcoords"
           }
          ],
          "pie": [
           {
            "automargin": true,
            "type": "pie"
           }
          ],
          "scatter": [
           {
            "fillpattern": {
             "fillmode": "overlay",
             "size": 10,
             "solidity": 0.2
            },
            "type": "scatter"
           }
          ],
          "scatter3d": [
           {
            "line": {
             "colorbar": {
              "outlinewidth": 0,
              "ticks": ""
             }
            },
            "marker": {
             "colorbar": {
              "outlinewidth": 0,
              "ticks": ""
             }
            },
            "type": "scatter3d"
           }
          ],
          "scattercarpet": [
           {
            "marker": {
             "colorbar": {
              "outlinewidth": 0,
              "ticks": ""
             }
            },
            "type": "scattercarpet"
           }
          ],
          "scattergeo": [
           {
            "marker": {
             "colorbar": {
              "outlinewidth": 0,
              "ticks": ""
             }
            },
            "type": "scattergeo"
           }
          ],
          "scattergl": [
           {
            "marker": {
             "colorbar": {
              "outlinewidth": 0,
              "ticks": ""
             }
            },
            "type": "scattergl"
           }
          ],
          "scattermapbox": [
           {
            "marker": {
             "colorbar": {
              "outlinewidth": 0,
              "ticks": ""
             }
            },
            "type": "scattermapbox"
           }
          ],
          "scatterpolar": [
           {
            "marker": {
             "colorbar": {
              "outlinewidth": 0,
              "ticks": ""
             }
            },
            "type": "scatterpolar"
           }
          ],
          "scatterpolargl": [
           {
            "marker": {
             "colorbar": {
              "outlinewidth": 0,
              "ticks": ""
             }
            },
            "type": "scatterpolargl"
           }
          ],
          "scatterternary": [
           {
            "marker": {
             "colorbar": {
              "outlinewidth": 0,
              "ticks": ""
             }
            },
            "type": "scatterternary"
           }
          ],
          "surface": [
           {
            "colorbar": {
             "outlinewidth": 0,
             "ticks": ""
            },
            "colorscale": [
             [
              0,
              "#0d0887"
             ],
             [
              0.1111111111111111,
              "#46039f"
             ],
             [
              0.2222222222222222,
              "#7201a8"
             ],
             [
              0.3333333333333333,
              "#9c179e"
             ],
             [
              0.4444444444444444,
              "#bd3786"
             ],
             [
              0.5555555555555556,
              "#d8576b"
             ],
             [
              0.6666666666666666,
              "#ed7953"
             ],
             [
              0.7777777777777778,
              "#fb9f3a"
             ],
             [
              0.8888888888888888,
              "#fdca26"
             ],
             [
              1,
              "#f0f921"
             ]
            ],
            "type": "surface"
           }
          ],
          "table": [
           {
            "cells": {
             "fill": {
              "color": "#EBF0F8"
             },
             "line": {
              "color": "white"
             }
            },
            "header": {
             "fill": {
              "color": "#C8D4E3"
             },
             "line": {
              "color": "white"
             }
            },
            "type": "table"
           }
          ]
         },
         "layout": {
          "annotationdefaults": {
           "arrowcolor": "#2a3f5f",
           "arrowhead": 0,
           "arrowwidth": 1
          },
          "autotypenumbers": "strict",
          "coloraxis": {
           "colorbar": {
            "outlinewidth": 0,
            "ticks": ""
           }
          },
          "colorscale": {
           "diverging": [
            [
             0,
             "#8e0152"
            ],
            [
             0.1,
             "#c51b7d"
            ],
            [
             0.2,
             "#de77ae"
            ],
            [
             0.3,
             "#f1b6da"
            ],
            [
             0.4,
             "#fde0ef"
            ],
            [
             0.5,
             "#f7f7f7"
            ],
            [
             0.6,
             "#e6f5d0"
            ],
            [
             0.7,
             "#b8e186"
            ],
            [
             0.8,
             "#7fbc41"
            ],
            [
             0.9,
             "#4d9221"
            ],
            [
             1,
             "#276419"
            ]
           ],
           "sequential": [
            [
             0,
             "#0d0887"
            ],
            [
             0.1111111111111111,
             "#46039f"
            ],
            [
             0.2222222222222222,
             "#7201a8"
            ],
            [
             0.3333333333333333,
             "#9c179e"
            ],
            [
             0.4444444444444444,
             "#bd3786"
            ],
            [
             0.5555555555555556,
             "#d8576b"
            ],
            [
             0.6666666666666666,
             "#ed7953"
            ],
            [
             0.7777777777777778,
             "#fb9f3a"
            ],
            [
             0.8888888888888888,
             "#fdca26"
            ],
            [
             1,
             "#f0f921"
            ]
           ],
           "sequentialminus": [
            [
             0,
             "#0d0887"
            ],
            [
             0.1111111111111111,
             "#46039f"
            ],
            [
             0.2222222222222222,
             "#7201a8"
            ],
            [
             0.3333333333333333,
             "#9c179e"
            ],
            [
             0.4444444444444444,
             "#bd3786"
            ],
            [
             0.5555555555555556,
             "#d8576b"
            ],
            [
             0.6666666666666666,
             "#ed7953"
            ],
            [
             0.7777777777777778,
             "#fb9f3a"
            ],
            [
             0.8888888888888888,
             "#fdca26"
            ],
            [
             1,
             "#f0f921"
            ]
           ]
          },
          "colorway": [
           "#636efa",
           "#EF553B",
           "#00cc96",
           "#ab63fa",
           "#FFA15A",
           "#19d3f3",
           "#FF6692",
           "#B6E880",
           "#FF97FF",
           "#FECB52"
          ],
          "font": {
           "color": "#2a3f5f"
          },
          "geo": {
           "bgcolor": "white",
           "lakecolor": "white",
           "landcolor": "white",
           "showlakes": true,
           "showland": true,
           "subunitcolor": "#C8D4E3"
          },
          "hoverlabel": {
           "align": "left"
          },
          "hovermode": "closest",
          "mapbox": {
           "style": "light"
          },
          "paper_bgcolor": "white",
          "plot_bgcolor": "white",
          "polar": {
           "angularaxis": {
            "gridcolor": "#EBF0F8",
            "linecolor": "#EBF0F8",
            "ticks": ""
           },
           "bgcolor": "white",
           "radialaxis": {
            "gridcolor": "#EBF0F8",
            "linecolor": "#EBF0F8",
            "ticks": ""
           }
          },
          "scene": {
           "xaxis": {
            "backgroundcolor": "white",
            "gridcolor": "#DFE8F3",
            "gridwidth": 2,
            "linecolor": "#EBF0F8",
            "showbackground": true,
            "ticks": "",
            "zerolinecolor": "#EBF0F8"
           },
           "yaxis": {
            "backgroundcolor": "white",
            "gridcolor": "#DFE8F3",
            "gridwidth": 2,
            "linecolor": "#EBF0F8",
            "showbackground": true,
            "ticks": "",
            "zerolinecolor": "#EBF0F8"
           },
           "zaxis": {
            "backgroundcolor": "white",
            "gridcolor": "#DFE8F3",
            "gridwidth": 2,
            "linecolor": "#EBF0F8",
            "showbackground": true,
            "ticks": "",
            "zerolinecolor": "#EBF0F8"
           }
          },
          "shapedefaults": {
           "line": {
            "color": "#2a3f5f"
           }
          },
          "ternary": {
           "aaxis": {
            "gridcolor": "#DFE8F3",
            "linecolor": "#A2B1C6",
            "ticks": ""
           },
           "baxis": {
            "gridcolor": "#DFE8F3",
            "linecolor": "#A2B1C6",
            "ticks": ""
           },
           "bgcolor": "white",
           "caxis": {
            "gridcolor": "#DFE8F3",
            "linecolor": "#A2B1C6",
            "ticks": ""
           }
          },
          "title": {
           "x": 0.05
          },
          "xaxis": {
           "automargin": true,
           "gridcolor": "#EBF0F8",
           "linecolor": "#EBF0F8",
           "ticks": "",
           "title": {
            "standoff": 15
           },
           "zerolinecolor": "#EBF0F8",
           "zerolinewidth": 2
          },
          "yaxis": {
           "automargin": true,
           "gridcolor": "#EBF0F8",
           "linecolor": "#EBF0F8",
           "ticks": "",
           "title": {
            "standoff": 15
           },
           "zerolinecolor": "#EBF0F8",
           "zerolinewidth": 2
          }
         }
        },
        "updatemenus": [
         {
          "buttons": [
           {
            "args": [
             null,
             {
              "frame": {
               "duration": 500,
               "redraw": true
              },
              "fromcurrent": true,
              "transition": {
               "duration": 300
              }
             }
            ],
            "label": "Play",
            "method": "animate"
           }
          ],
          "direction": "left",
          "pad": {
           "r": 10,
           "t": 87
          },
          "showactive": false,
          "type": "buttons",
          "x": 0.1,
          "xanchor": "right",
          "y": 0,
          "yanchor": "top"
         }
        ],
        "xaxis": {
         "visible": false
        },
        "yaxis": {
         "visible": false
        }
       }
      }
     },
     "metadata": {},
     "output_type": "display_data"
    }
   ],
   "source": [
    "chain.plot_trajectory(t)"
   ]
  },
  {
   "cell_type": "code",
   "execution_count": 7,
   "metadata": {},
   "outputs": [
    {
     "data": {
      "image/png": "[encoded data removed]",
      "text/plain": [
       "<Figure size 640x480 with 1 Axes>"
      ]
     },
     "metadata": {},
     "output_type": "display_data"
    }
   ],
   "source": [
    "chain.plot()"
   ]
  },
  {
   "cell_type": "markdown",
   "metadata": {},
   "source": [
    "### Явное решение"
   ]
  },
  {
   "cell_type": "code",
   "execution_count": null,
   "metadata": {},
   "outputs": [],
   "source": [
    "t = chain.generate_trajectory(1000000)\n",
    "\n",
    "# ༼ つ ◕_◕ ༽つ\n"
   ]
  },
  {
   "cell_type": "code",
   "execution_count": null,
   "metadata": {},
   "outputs": [],
   "source": [
    "chain.transition_matrix"
   ]
  },
  {
   "cell_type": "markdown",
   "metadata": {},
   "source": [
    "## MA(1) Процесс\n",
    "\n",
    "**MA(1) (Модель скользящего среднего первого порядка)** — это тип временного ряда, где текущее значение ряда выражается как линейная комбинация белого шума и его предыдущего значения. MA(1) процесс моделирует зависимость текущего значения от предыдущего шума.\n",
    "\n",
    "Формально, MA(1) процесс можно записать как:\n",
    "\n",
    "$$\n",
    "X_t = \\mu + \\varepsilon_t + \\theta \\varepsilon_{t-1}\n",
    "$$\n",
    "\n",
    "где:\n",
    "\n",
    "- $ X_t $ — текущее значение временного ряда.\n",
    "- $ \\mu $ — среднее значение процесса.\n",
    "- $ \\varepsilon_t $ — белый шум (случайная ошибка) в момент времени $ t $, с нулевым средним и постоянной дисперсией.\n",
    "- $ \\theta $ — коэффициент, определяющий влияние предыдущего шума.\n",
    "- $ \\varepsilon_{t-1} $ — белый шум в предыдущий момент времени $ t-1 $."
   ]
  },
  {
   "cell_type": "code",
   "execution_count": null,
   "metadata": {},
   "outputs": [],
   "source": [
    "from tqdm import trange\n",
    "\n",
    "import numpy as np\n",
    "import networkx as nx\n",
    "import matplotlib.pyplot as plt\n",
    "import plotly.graph_objects as go\n",
    "\n",
    "\n",
    "class MA1:\n",
    "\n",
    "    def __init__(self, theta: float, mu:float=0, sigma:float=0):\n",
    "\n",
    "        \"\"\"\n",
    "         Initializes MA(1) process\n",
    "\n",
    "         Args:\n",
    "\n",
    "         nodes (list[int]): \n",
    "        \"\"\"\n",
    "\n",
    "        assert sigma > 0\n",
    "\n",
    "        self.mu = mu\n",
    "        self.sigma = sigma\n",
    "        self.theta = theta\n",
    "\n",
    "        \n",
    "    def generate_trajectory(self, length: int, eps_0: float=0) -> np.ndarray:\n",
    "\n",
    "        \"\"\"\n",
    "        Generates trajectory of MA(1) process\n",
    "\n",
    "        Args:\n",
    "\n",
    "            length (int): Length of output trajectory\n",
    "\n",
    "        Returns:\n",
    "            np.ndarray -- Trajectory of chain nodes\n",
    "        \"\"\"\n",
    "        \n",
    "        # ༼ つ ◕_◕ ༽つ\n",
    "\n",
    "        return np.array(trajectory).ravel()\n",
    "    \n",
    "\n",
    "    def plot_trajectory(self, trajectory: np.ndarray):\n",
    "        \"\"\"\n",
    "        Plots the trajectory of the MA(1) process using Plotly.\n",
    "\n",
    "        Args:\n",
    "            trajectory (np.ndarray): The trajectory of the MA(1) process to plot.\n",
    "        \"\"\"\n",
    "        fig = go.Figure()\n",
    "\n",
    "        fig.add_trace(go.Scatter(\n",
    "            x=list(range(len(trajectory))),\n",
    "            y=trajectory,\n",
    "            mode='lines+markers',\n",
    "            name='MA(1) Trajectory'\n",
    "        ))\n",
    "\n",
    "        fig.update_layout(\n",
    "            title='MA(1) Process Trajectory',\n",
    "            xaxis_title='Time',\n",
    "            yaxis_title='Value',\n",
    "            template='plotly_dark'  # Optional: Use any template you like\n",
    "        )\n",
    "\n",
    "        fig.show()\n",
    "\n",
    "\n"
   ]
  },
  {
   "cell_type": "code",
   "execution_count": null,
   "metadata": {},
   "outputs": [],
   "source": [
    "ma = MA1(0.5, 5, 1)"
   ]
  },
  {
   "cell_type": "code",
   "execution_count": null,
   "metadata": {},
   "outputs": [],
   "source": [
    "t = ma.generate_trajectory(200)"
   ]
  },
  {
   "cell_type": "code",
   "execution_count": null,
   "metadata": {},
   "outputs": [],
   "source": [
    "ma.plot_trajectory(t)"
   ]
  },
  {
   "cell_type": "code",
   "execution_count": null,
   "metadata": {},
   "outputs": [],
   "source": []
  }
 ],
 "metadata": {
  "kernelspec": {
   "display_name": "venv",
   "language": "python",
   "name": "python3"
  },
  "language_info": {
   "codemirror_mode": {
    "name": "ipython",
    "version": 3
   },
   "file_extension": ".py",
   "mimetype": "text/x-python",
   "name": "python",
   "nbconvert_exporter": "python",
   "pygments_lexer": "ipython3",
   "version": "3.10.11"
  }
 },
 "nbformat": 4,
 "nbformat_minor": 2
}
