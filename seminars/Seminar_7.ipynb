{
  "nbformat": 4,
  "nbformat_minor": 0,
  "metadata": {
    "colab": {
      "provenance": [],
      "toc_visible": true
    },
    "kernelspec": {
      "name": "python3",
      "display_name": "Python 3"
    },
    "language_info": {
      "name": "python"
    }
  },
  "cells": [
    {
      "cell_type": "code",
      "source": [
        "import matplotlib.pyplot as plt\n",
        "import numpy as np\n",
        "import pandas as pd\n",
        "np.random.seed(100)\n",
        "\n",
        "import scipy as sp\n",
        "from scipy.stats import t\n",
        "\n",
        "import statsmodels.stats.diagnostic as smd # Диагностика моделей\n",
        "import statsmodels.formula.api as smf # Модели\n",
        "import statsmodels.stats.api as sms # Тесты\n",
        "import statsmodels.stats.stattools as smst # ещё тесты\n",
        "\n",
        "import unicodedata"
      ],
      "metadata": {
        "id": "BxASkyEWHbOz"
      },
      "execution_count": 51,
      "outputs": []
    },
    {
      "cell_type": "markdown",
      "source": [
        "# Предположения Гауссова-Маркова и свойства оценки наименьших квадратов\n"
      ],
      "metadata": {
        "id": "IZ4Jo0NKvG4b"
      }
    },
    {
      "cell_type": "markdown",
      "source": [
        "1. Модель корректна: все признаки, влияющие на Y учтены;\n",
        "2. X детерминирована и колонки линейно независимы;\n",
        "3. $\\varepsilon_i$ независимы в совокупности и одинаково распределены, не зависят от наблюдений $X_i$, имеют нулевое матожидание и одинаковую дисперсию $σ$\n",
        "\n",
        "\n",
        "\n",
        "> Тогда оценка наименьших квадратов в является несмещённой и эффективной в классе всех несмещённых оценок BLUE(Best Linear Unbiased Estimate)\n",
        "\n"
      ],
      "metadata": {
        "id": "PF7B82HyvF-l"
      }
    },
    {
      "cell_type": "markdown",
      "source": [
        "## Задача 1: **F-test и логарифмирование**\n",
        "Тестируем гипотезу,что $\\beta_1+\\beta_2 = 1$\n",
        "\n",
        "\n",
        "Пример прологарифмированорованная функция выпуска Коба Дугласа, где\n",
        "тестируем гипотезу что коэффициенты суммируются в единицу.\n",
        "\n",
        "Функция выпуска Коба Дугласа— производственная функция (или функция полезности), отражающая зависимость объёма производства от создающих его факторов производства — затрат труда\n",
        "$L$ и капитала $K$."
      ],
      "metadata": {
        "id": "cu_RGE7dOwHg"
      }
    },
    {
      "cell_type": "markdown",
      "source": [
        "Данные: Капитал $K$ и Труд $L$\n",
        "\n",
        "Модель: $Y =\\gamma K^{\\alpha} L^{\\lambda} $\n",
        "\n",
        "Хотим оценить $\\alpha$ and $\\gamma $\n",
        "По идее чтобы построить линеую модель нужно взять логарифм от левой и правой части\n",
        "Хотим проверить гипотезу, что функция производительности гомогенная, то есть Y  увеоичивается пропорционально увеличению K и L вместе:\n",
        "\n",
        "Проверяем гипотезу: $\\alpha+\\lambda = 1$"
      ],
      "metadata": {
        "id": "sI4PkGsmMc4K"
      }
    },
    {
      "cell_type": "markdown",
      "source": [
        "## Решение Задача 1:"
      ],
      "metadata": {
        "id": "KJOKGW0h42Ax"
      }
    },
    {
      "cell_type": "markdown",
      "source": [
        "Сгенерим для удобства данные по формуле"
      ],
      "metadata": {
        "id": "UERN999c1Abs"
      }
    },
    {
      "cell_type": "code",
      "source": [
        "np.random.seed(100)\n",
        "K = np.linspace(10,60,1000)+np.random.randint(-5, 5)\n",
        "L = np.linspace(100,600,1000)+np.random.randint(-20, 20)\n",
        "true_alpha = 0.4\n",
        "true_gamma = 4\n",
        "Y = true_gamma * K**(true_alpha)* L**(1-true_alpha)+np.random.randn(len(K))*0.1"
      ],
      "metadata": {
        "id": "O_YRc3ENpebP"
      },
      "execution_count": 4,
      "outputs": []
    },
    {
      "cell_type": "markdown",
      "source": [
        "Чтобы применить линейную регрессию для модели Кобба-Дугласа нужно взять логарифм от левой и правой части\n",
        "\n",
        "$ln(Y) = ln(\\gamma) + \\alpha ln(K) +\\lambda ln(L)$"
      ],
      "metadata": {
        "id": "v9sP_jzT1FcZ"
      }
    },
    {
      "cell_type": "markdown",
      "source": [
        "В модели регрессии используем\n",
        "\n",
        "Параметры\n",
        "регресионной модели\n",
        "$y = \\beta_0 +\\beta_1 x_1 +\\beta_2 x_2$\n",
        "\n",
        "Где, Таргет  $y = ln(Y)$, $x_1 = ln(K)$,$x_2 = ln(L)$\n"
      ],
      "metadata": {
        "id": "UtXHk9GD2fGF"
      }
    },
    {
      "cell_type": "markdown",
      "source": [
        "$ X = \\begin{bmatrix}\n",
        "1 & ln(K_1) & ln(L_1)\\\\\n",
        "1 & ln(K_2) & ln(L_2) \\\\\n",
        "⋯ &⋯  & ⋯ \\\\\n",
        "1 & ln(K_n) & ln(L_n)\n",
        "\\end{bmatrix}$\n",
        "\n",
        "Тогда $\\beta_{UR} = (X^{T} X)^{-1} X^{T} y $\n",
        "\n",
        "Теперь c  помощью F-test протестируем гипотезу, что $ \\beta_1+\\beta_2 = 1$\n",
        "\n",
        "Построем регрессию с органичением, где $ \\beta_2= 1-\\beta_1 $\n",
        "Тогда наша линейная регрессия с ограничениями будет выглядеть так:\n",
        "\n",
        "$y = \\beta_0 +\\beta_1 x_1 +(1-\\beta_1)x_2 $ то есть\n",
        "\n",
        "$y - x_2 = \\beta_0 +\\beta_1 (x_1-x_2) $\n",
        "\n",
        "Тогда новая формула для коэффициента линейной регрессии с ограничениями будет\n",
        "$ X_R = \\begin{bmatrix}\n",
        "1 & ln(K_1) - ln(L_1)\\\\\n",
        "1 & ln(K_2) - ln(L_2) \\\\\n",
        "⋯ &⋯   \\\\\n",
        "1 & ln(K_n) - ln(L_n)\n",
        "\\end{bmatrix}$ и\n",
        "$\\beta_{r} = (X_R^{T} X_R)^{-1} X_R^{T}(y -ln(L)) $"
      ],
      "metadata": {
        "id": "F-3Z055w30YH"
      }
    },
    {
      "cell_type": "markdown",
      "source": [
        "Посчитаем $F_{st}$ статистику, где\n",
        "количество переменных $p = 2$,  количество ограничений $r = 1$  и количество наблюдений $n = 100$\n",
        "$RSS_{R} = \\| y-ln(L)- X_R\\beta_{r} \\|^{2}$\n",
        "$$F_{st} = \\frac{(\\| y-ln(L)- X_R\\beta_{r} \\|^{2} - \\| y - X \\beta_{UR} \\|^{2})/r}{\\| y - X \\beta_{UR}\\|^{2}/(n - p)} =\\frac{(RSS_{R} - RSS_{UR})/r}{ RSS_{UR}/(n-p)}  \\sim F(r,n-p)$$"
      ],
      "metadata": {
        "id": "GqieeCcG6vdV"
      }
    },
    {
      "cell_type": "markdown",
      "source": [
        "План\n",
        "fit regression:\n",
        "\n",
        "fit constrained regression:\n",
        "\n",
        "calculate f-statitics and compare with general test from statmodels\n"
      ],
      "metadata": {
        "id": "2NujaRat4VMf"
      }
    },
    {
      "cell_type": "code",
      "source": [
        "#Write your class of linear regression with t test and F-test:\n",
        "\n",
        "class LinearRegression():\n",
        "  def __init__(self, regularize = 0):\n",
        "    self.regularize = 0\n",
        "\n",
        "  def fit(self, X, y):\n",
        "    '''\n",
        "    X vector of shape(n_observations, n_features)\n",
        "    y vector of shape  (n_observations, 1)\n",
        "    returns beta of shape n_features\n",
        "    '''\n",
        "    self.n_observations = X.shape[0]\n",
        "    self.n_features =  X.shape[1]\n",
        "    assert X.shape[0] == len(y)\n",
        "\n",
        "    self.X = X\n",
        "    self.y = y\n",
        "    beta  = np.linalg.inv(X.T@X)@X.T@y\n",
        "\n",
        "    self.beta = beta\n",
        "\n",
        "    return beta\n",
        "\n",
        "  def RSS(self, X, y):\n",
        "    return np.sum((y - X@self.beta)**2)\n",
        "\n",
        "  def predict(self, X):\n",
        "    return X@self.beta\n",
        "\n",
        "\n",
        "  def standard_deviation_beta(self, kth_beta = 0):\n",
        "\n",
        "      sigma_hat = self.RSS(self.X, self.y)/(self.n_observations - self.n_features)\n",
        "      X_X_inv = np.linalg.inv(self.X.T@self.X)\n",
        "\n",
        "      return np.sqrt(sigma_hat*X_X_inv[kth_beta, kth_beta])"
      ],
      "metadata": {
        "id": "MywHsCf2nPoZ"
      },
      "execution_count": 5,
      "outputs": []
    },
    {
      "cell_type": "code",
      "source": [
        "#unconstraineed regression:\n",
        "lin_reg_uncostrained = LinearRegression()\n",
        "X = np.stack([np.ones_like(K), np.log(K), np.log(L)]).T\n",
        "print(X.shape)\n",
        "y = np.log(Y)\n",
        "lin_reg_uncostrained.fit(X, y)\n",
        "RSS_UR = lin_reg_uncostrained.RSS(X,y)\n",
        "\n",
        "print(\"coeffs unconstrained\",lin_reg_uncostrained.beta)\n",
        "#constrained regression:\n",
        "lin_reg_costrained = LinearRegression()\n",
        "X = np.stack([np.ones(len(K)), np.log(K) - np.log(L)]).T\n",
        "y = np.log(Y) - np.log(L)\n",
        "lin_reg_costrained.fit(X, y)\n",
        "RSS_R = lin_reg_costrained.RSS(X, y)\n",
        "print(\"coeffs constrained\",lin_reg_costrained.beta)\n",
        "\n",
        "n = len(K)\n",
        "p = 2\n",
        "r = 1\n",
        "F_st = (RSS_R-RSS_UR)*(n-p)/(RSS_UR*r)\n",
        "\n",
        "print(\"F statistics : \", round(F_st, 3))\n",
        "F_cdf = sp.stats.f.cdf(F_st, dfn = r , dfd = n-p, loc=0, scale=1)\n",
        "p_value = round(2*min(1-F_cdf, F_cdf), 3)\n",
        "print(\"p-value\", p_value)\n",
        "\n"
      ],
      "metadata": {
        "colab": {
          "base_uri": "https://localhost:8080/"
        },
        "id": "MchbvWWN9282",
        "outputId": "ea498bdb-67cb-428a-b179-60d1a43a68f6"
      },
      "execution_count": 6,
      "outputs": [
        {
          "output_type": "stream",
          "name": "stdout",
          "text": [
            "(1000, 3)\n",
            "coeffs unconstrained [1.38318571 0.39825974 0.60160934]\n",
            "coeffs constrained [1.38549645 0.39964336]\n",
            "F statistics :  2.681\n",
            "p-value 0.204\n"
          ]
        }
      ]
    },
    {
      "cell_type": "markdown",
      "source": [
        "Не можем отвергать нулевую гипотезу о том, что коэффиценты $ \\beta_1+\\beta_2 = 1$ при критическом уровне 5%."
      ],
      "metadata": {
        "id": "viKnc2yZFg1V"
      }
    },
    {
      "cell_type": "markdown",
      "source": [
        "Сравним с настоящим значением $\\gamma$ и $\\alpha$"
      ],
      "metadata": {
        "id": "iT9Yvn6FFXNw"
      }
    },
    {
      "cell_type": "code",
      "source": [
        "print(\"Настоящее значение логарифма константы\", np.log(true_gamma))\n",
        "print(\"Настоящее значение alpha\", true_alpha)\n",
        "print(\"Настоящее значение gamma\", 1-true_alpha)"
      ],
      "metadata": {
        "id": "p-90YiuoKV-t",
        "colab": {
          "base_uri": "https://localhost:8080/"
        },
        "outputId": "d5e807ff-e48d-4ed7-cb98-bb334b6459e0"
      },
      "execution_count": 7,
      "outputs": [
        {
          "output_type": "stream",
          "name": "stdout",
          "text": [
            "Настоящее значение логарифма константы 1.3862943611198906\n",
            "Настоящее значение alpha 0.4\n",
            "Настоящее значение gamma 0.6\n"
          ]
        }
      ]
    },
    {
      "cell_type": "markdown",
      "source": [
        "# Задача 2: Дамми-переменные, несмещенность и состоятельность оценки (опционально)\n",
        "\n"
      ],
      "metadata": {
        "id": "9NsEhlsdKR8S"
      }
    },
    {
      "cell_type": "markdown",
      "source": [
        "Есть случайная выборка ${(Y_i, W_i, X_i)}^n_{i=1}$, полученная с помощью симуляций:\n",
        "\n",
        "$W_i \\sim  Bernoulli(\\pi)$\n",
        "\n",
        "$X_i|W_i \\sim N(0, \\Sigma_X)$\n",
        "\n",
        "$Y_i = \\alpha+\\beta X_i+\\tau W_i+\\gamma X_i W_i+\\epsilon$, где\n",
        "$\\epsilon \\sim N(0, \\sigma^2 )$\n",
        "$\\epsilon$ не зависит от $X_i$ и $W_i$."
      ],
      "metadata": {
        "id": "Y432dY_hMeem"
      }
    },
    {
      "cell_type": "markdown",
      "source": [
        "где $X_i$ – p-мерный вектор, а $Σ_X$ его ковариационная матрица, $W_i$ – бинарная переменная и\n",
        "$Y_i$ – переменная интереса.\n",
        "Обратите внимание, что по условию $W_i$ и  $X_i$ независимы.\n",
        "Наша цель - оценить $τ_0$. Вы рассматриваете две разных МНК оценки τ .\n",
        "\n",
        "\n",
        " А)  Пусть $\\hat τ^{sim}$ - МНК оценка параметра $τ_0$ в регрессии:\n",
        "$Y = \\alpha +\\tau W_i +u_i$\n",
        "\n",
        "Б)   Пусть $\\hat τ^{comp}$ - МНК оценка параметра $τ_0$ в регрессии:\n",
        "  $Y = \\alpha +\\tau W_i+\\beta X_i +u_i$"
      ],
      "metadata": {
        "id": "n6tzsrk-blkR"
      }
    },
    {
      "cell_type": "markdown",
      "source": [
        "Проверить несмещенность оценок  $\\hat τ^{sim}$ и $\\hat τ^{comp}$ для $\\tau_0$"
      ],
      "metadata": {
        "id": "-eN7pB7oBF0M"
      }
    },
    {
      "cell_type": "markdown",
      "source": [
        "**Симуляция**"
      ],
      "metadata": {
        "id": "jlBWfVhTushI"
      }
    },
    {
      "cell_type": "code",
      "source": [
        "n = 10000\n",
        "pi = 0.3\n",
        "\n",
        "# generate W\n",
        "W = np.random.binomial(2, p = pi, size = n)\n",
        "\n",
        "# generate X\n",
        "p = 4\n",
        "Sigma_X = np.eye(p)\n",
        "X = np.random.multivariate_normal(mean = np.zeros(p),cov =Sigma_X, size = n )\n",
        "print('shape of X', X.shape)\n",
        "\n",
        "# generate Y real\n",
        "alpha = 1\n",
        "beta  = np.ones(p)\n",
        "sigma = 4\n",
        "tau = 7\n",
        "gamma = 3 * np.ones(p)\n",
        "Y = alpha + X@beta + tau*W + (X@gamma)*W + np.random.normal(scale = sigma, size =(n))\n",
        "print('shape of Y', Y.shape)\n",
        "\n",
        "#calc regression for tau_simple\n",
        "reg_simple = LinearRegression()\n",
        "X_simple = np.stack([np.ones_like(W), W]).T\n",
        "\n",
        "coeffs = reg_simple.fit(X_simple,Y)\n",
        "print(\"оценка\", unicodedata.lookup(\"GREEK SMALL LETTER TAU\"),\"simple\", coeffs[1])\n",
        "print( unicodedata.lookup(\"GREEK SMALL LETTER SIGMA\"), \"(\",  unicodedata.lookup(\"GREEK SMALL LETTER TAU\"), \")\", \"simple\", reg_simple.standard_deviation_beta(kth_beta=1))\n",
        "\n",
        "#calc regression for tau_com\n",
        "reg_complex = LinearRegression()\n",
        "X_complex = np.concatenate([X_simple, X],axis= 1)\n",
        "coeffs = reg_complex.fit(X_complex,Y)\n",
        "reg_complex.standard_deviation_beta(kth_beta=1)\n",
        "print(\"оценка\", unicodedata.lookup(\"GREEK SMALL LETTER TAU\"),\"complex\",coeffs[1])\n",
        "print(unicodedata.lookup(\"GREEK SMALL LETTER SIGMA\"), \"(\",  unicodedata.lookup(\"GREEK SMALL LETTER TAU\"), \")\", \"complex\",  reg_complex.standard_deviation_beta(kth_beta=1))"
      ],
      "metadata": {
        "colab": {
          "base_uri": "https://localhost:8080/"
        },
        "id": "3oWPh3BDbkwV",
        "outputId": "5599cbbb-03ca-47d4-943e-01dd625457bc"
      },
      "execution_count": 8,
      "outputs": [
        {
          "output_type": "stream",
          "name": "stdout",
          "text": [
            "shape of X (10000, 4)\n",
            "shape of Y (10000,)\n",
            "оценка τ simple 7.163639306393984\n",
            "σ ( τ ) simple 0.12202151483558474\n",
            "оценка τ complex 7.093061523826352\n",
            "σ ( τ ) complex 0.08576807298265135\n"
          ]
        }
      ]
    },
    {
      "cell_type": "markdown",
      "source": [
        "## А) Решение.  Проверка несмещенности:\n",
        "1.  Посчитаем оценку $\\hat τ^{sim}$:\n",
        "\n",
        "  $\\hat τ^{sim} = \\frac{\\sum_i(Y_i - \\bar Y_i)(W_i - \\bar W_i)}{\\sum_i(W_i - \\bar W_i)^{2}}$\n",
        "\n",
        "  Давайте посчитаем матожидание этой оценки, расписав $Y_i = \\alpha_0+\\beta_0^{T}X_i+\\tau_0 W_i+\\gamma_0X_i W_i+\\epsilon_i$\n",
        "\n",
        "  $$E(\\hat τ^{sim}) = E(E(\\frac{\\sum_i(\\alpha_0+\\beta_0^{T}X_i+\\tau_0 W_i+\\gamma_0 X_i W_i+\\epsilon - \\bar Y_i)(W_i - \\bar W_i)}{\\sum_i(W_i - \\bar W_i)^{2}}|W)) $$\n",
        "  $$=   E [ \\frac{\\sum_i \\beta_0^{T} E[(X_i - \\bar X)(W_i - \\bar W_i)|W ]}{\\sum_i(W_i - \\bar W)^{2}} + \\tau_0 \\frac{\\sum_i  E[(W_i - \\bar W)(W_i - \\bar W)|W]}{\\sum_i(W_i - \\bar W)^{2}} + \\frac{\\sum_i E[( \\gamma_0^{T} X_i W_i - \\bar \\gamma_0^{T} \\bar {XW})(W_i - \\bar W)|W ]}{\\sum_i(W_i - \\bar W_i)^{2}} +  E[\\frac{E[(\\epsilon_i - \\bar \\epsilon)(W_i - \\bar W_i)|W ]}{\\sum_i(W_i - \\bar W)^{2}}  ] $$\n",
        "\n",
        "  Так как $\\epsilon$ не зависит от $X_i$ и $W_i$.\n",
        "  $E[(\\epsilon_i - \\bar \\epsilon)(W_i - \\bar W_i)|W ] = 0$\n",
        "\n",
        "  И так как $E(X|W) = 0$\n",
        "\n",
        "  То, $E(\\hat τ^{sim}) = \\tau_0$ значит оценка несмещена.\n",
        "\n",
        "2.   Посчитаем оценку $\\hat τ^{com}$:\n",
        "Для  оценки МНК имеет следующую форму:\n",
        "$$\n",
        "\\hat{\\tau}^{com}:=\\tau_0+\\gamma_0^T \\frac{\\sum_{i=1}^n X_i W_i\\left(W_i-\\hat{W}_i\\right)}{\\sum_{i=1}^n\\left(W_i-\\hat{W}_i\\right)^2}+\\frac{\\sum_{i=1}^n \\varepsilon_i\\left(W_i-\\hat{W}_i\\right)}{\\sum_{i=1}^n\\left(W_i-\\hat{W}_i\\right)^2}\n",
        "$$\n",
        "где $\\hat{W}_i$ проекция   $W_i$ на линейную оболочку $1, X_i$. Условное матожидание  имеет следующую форму:\n",
        "$$\n",
        "\\mathbb{E}\\left[\\hat{\\tau} \\mid\\left\\{W_i, X_i\\right\\}\\right]=\\tau_0+\\gamma_0^T \\frac{\\sum_{i=1}^n X_i W_i\\left(W_i-\\hat{W}_i\\right)}{\\sum_{i=1}^n\\left(W_i-\\hat{W}_i\\right)^2}\n",
        "$$\n",
        "В общем случае вторая часть (неусловного) матожиданияравно нулю и поэтому оценка может быть смещенной\n"
      ],
      "metadata": {
        "id": "u1WwB8gJvhLe"
      }
    },
    {
      "cell_type": "markdown",
      "source": [
        "## Б) Решение. Проверка состоятельности\n",
        "\n",
        "Что означет состоятельность для $\\hat τ^{sim}$?\n",
        "\n",
        "$\\hat τ^{sim} = \\frac{\\sum_i(Y_i - \\bar Y_i)(W_i - \\bar W_i)}{\\sum_i(W_i - \\bar W_i)^{2}} \\rightarrow_p \\tau$\n",
        "\n",
        " используя Закон Больших Чисел (LLN) и  [теорему о непрерывном отображении(continuous mapping theorem)](https://en.wikipedia.org/wiki/Continuous_mapping_theorem), мы получаем  (так как $X_i$ и $\\epsilon_i$ имеют нулевое матожидание  и независимы от $W_i$ ):\n",
        "$$\n",
        "\\begin{array}{l}\n",
        "\\frac{\\sum_{i=1} X_i\\left(W_i-\\bar{W}\\right)}{\\sum_{i=1}^n\\left(W_i-\\bar{W}\\right)^2} \\rightarrow_p 0 \\\\\n",
        "\\frac{\\sum_{i=1} X_i W_i\\left(W_i-\\bar{W}\\right)}{\\sum_{i=1}^n\\left(W_i-\\bar{W}\\right)^2} \\rightarrow_p 0 \\\\\n",
        "\\frac{\\sum_{i=1} \\varepsilon_i\\left(W_i-\\bar{W}\\right)}{\\sum_{i=1}^n\\left(W_i-\\bar{W}\\right)^2} \\rightarrow_p 0\n",
        "\\end{array}\n",
        "$$\n",
        "\n",
        ".\n",
        "\n",
        "Для второй оценки мы имеем следующее (следует из Закона Больших Чисел (LLN), теоремы о непрерывном отображении\n",
        "и того факта, что коэффициенты проекции OLS сходятся к их популяционным аналогам)\n",
        "\n",
        "\n",
        "где $\\tilde{W_i}$ - популяционные аналоги $\\hat W_\n",
        "i$. Поскольку $W_i$\n",
        "не зависит от $X_i,$ мы имеем, что $\\tilde{W_i}= π.$\n",
        "Затем согласованность следует по той же логике, что и для первой оценки.\n",
        "\n",
        "$$\n",
        "\\hat{\\tau}^{com}:=\\tau_0+\\gamma_0^T \\frac{\\sum_{i=1}^n X_i W_i\\left(W_i-\\hat{W}_i\\right)}{\\sum_{i=1}^n\\left(W_i-\\hat{W}_i\\right)^2}+\\frac{\\sum_{i=1}^n \\varepsilon_i\\left(W_i-\\hat{W}_i\\right)}{\\sum_{i=1}^n\\left(W_i-\\hat{W}_i\\right)^2}  =\\tau_0+\\gamma_0^T \\frac{\\frac{1}{n}\\sum_{i=1}^n X_i W_i\\left(W_i-\\tilde{W}_i\\right)}{\\pi(1-\\pi)}+\\frac{\\frac{1}{n}\\sum_{i=1}^n \\varepsilon_i\\left(W_i-\\tilde{W}_i\\right)}{\\pi(1-\\pi)} +O(\\sqrt(\\frac{1}{n}))=\n",
        "$$\n",
        "\n",
        "Потому, что используя Закона Больших Чисел (LLN) и теорему о непрерывном отображении(continuous mapping theorem)\n",
        "* $\\frac{\\frac{1}{n}\\sum_{i=1}^n \\varepsilon_i\\left(W_i-\\tilde{W}_i + \\tilde{W}_i -\\hat{W}_i\\right)}{\\pi(1-\\pi)} \\rightarrow_p 0+ 0$ Так как $\\epsilon$ не зависит от $X_i$ и $W_i$., а следовательно и от проекции $W_i$ на $1, X_i$\n",
        "\n",
        "* $\\gamma_0^T \\frac{\\frac{1}{n}\\sum_{i=1}^n X_i W_i\\left(W_i-\\hat{W}_i\\right)}{\\pi(1-\\pi)}  = \\gamma_0^T \\frac{\\frac{1}{n}\\sum_{i=1}^n X_i W_i\\left(W_i-\\tilde{W}_i+\\tilde{W}_i -\\hat{W}_i \\right)}{\\pi(1-\\pi)}  \\rightarrow_p 0 + \\gamma_0^T $\n",
        "\n",
        "* * $\\frac{\\frac{1}{n}\\sum_{i=1}^n X_i W_i\\left(\\tilde{W}_i -\\hat{W}_i \\right)}{\\pi(1-\\pi)} =0+O(\\sqrt(\\frac{1}{n})) $"
      ],
      "metadata": {
        "id": "aePRNabC4RZq"
      }
    },
    {
      "cell_type": "code",
      "source": [],
      "metadata": {
        "id": "ph2koW0Gvg3y"
      },
      "execution_count": 8,
      "outputs": []
    },
    {
      "cell_type": "code",
      "source": [],
      "metadata": {
        "id": "f76H7T_Vuzq9"
      },
      "execution_count": 8,
      "outputs": []
    },
    {
      "cell_type": "code",
      "source": [],
      "metadata": {
        "id": "qCsnkbZmKRtZ"
      },
      "execution_count": 8,
      "outputs": []
    },
    {
      "cell_type": "markdown",
      "source": [
        "# Пример гетероскедастичности"
      ],
      "metadata": {
        "id": "TJopYmsc8NRC"
      }
    },
    {
      "cell_type": "code",
      "execution_count": 9,
      "metadata": {
        "id": "p98VeeWC8I5b"
      },
      "outputs": [],
      "source": [
        "x = np.linspace(0,5,80)\n",
        "\n",
        "y1 = 4 + 2*x +np.random.normal(scale = x,size=x.shape)\n",
        "y2 =  4 + 2*x +np.random.normal(size=x.shape)"
      ]
    },
    {
      "cell_type": "code",
      "source": [
        "plt.figure(figsize = (10,10))\n",
        "fig,axes = plt.subplots(ncols=  2)\n",
        "axes[0].scatter(x, y1)\n",
        "axes[0].set_xlabel(\"X\")\n",
        "axes[0].set_ylabel(\"y\")\n",
        "axes[0].set_title(\"With heteroscedasticity\")\n",
        "\n",
        "\n",
        "axes[1].scatter(x, y2)\n",
        "axes[1].set_xlabel(\"X\")\n",
        "axes[1].set_ylabel(\"y\")\n",
        "axes[1].set_title(\"With no scale\")\n"
      ],
      "metadata": {
        "colab": {
          "base_uri": "https://localhost:8080/",
          "height": 507
        },
        "id": "qzeCnSCc_Bvb",
        "outputId": "2b9a681e-e214-4597-8076-58bd231a7d3c"
      },
      "execution_count": 10,
      "outputs": [
        {
          "output_type": "execute_result",
          "data": {
            "text/plain": [
              "Text(0.5, 1.0, 'With no scale')"
            ]
          },
          "metadata": {},
          "execution_count": 10
        },
        {
          "output_type": "display_data",
          "data": {
            "text/plain": [
              "<Figure size 1000x1000 with 0 Axes>"
            ]
          },
          "metadata": {}
        },
        {
          "output_type": "display_data",
          "data": {
            "text/plain": [
              "<Figure size 640x480 with 2 Axes>"
            ],
            "image/png": "[encoded data removed]"
          },
          "metadata": {}
        }
      ]
    },
    {
      "cell_type": "markdown",
      "source": [
        "Видно диспресия растет вместе с изменением x"
      ],
      "metadata": {
        "id": "s1pwHWCFHiNU"
      }
    },
    {
      "cell_type": "markdown",
      "source": [
        "**Последствия гетероскедастичности**\n",
        "\n",
        "Если предположение об одинаковых дисперсиях ошибок не\n",
        "выполняется, то\n",
        "* стандартные ошибки коэффициентов регрессии вычисляются\n",
        "по неверным формулам\n",
        "* t – тесты для проверки гипотез о конкретных значениях\n",
        "коэффициентов не дают правильных результатов\n",
        "* F – тесты для проверки гипотез о линейных ограничениях на\n",
        "коэффициенты регрессии не дают правильных результатов\n",
        "* Оценки МНК коэффициентов регрессии больше не являются\n",
        "BEST, теряется эффективность оценок ."
      ],
      "metadata": {
        "id": "Fl1H5TFbNd9m"
      }
    },
    {
      "cell_type": "markdown",
      "source": [
        "# Задача 3: Борьба с Гетероскедастичностью"
      ],
      "metadata": {
        "id": "dqjhcU6_KlIg"
      }
    },
    {
      "cell_type": "markdown",
      "source": [
        "Рассмотрим линейную регрессионную модель\n",
        "\n",
        "$$y_i = 10+2x_i+\\varepsilon_i$$\n",
        "\n",
        "$$x_i \\sim N(40, 4)$$\n",
        "\n",
        "$$\\varepsilon_i \\sim N(0,x_i^2)$$"
      ],
      "metadata": {
        "id": "sSw9O17yLMlA"
      }
    },
    {
      "cell_type": "markdown",
      "source": [
        "Сгенерируем выборку размера $n=50$. Оценим модель с помощью МНК."
      ],
      "metadata": {
        "id": "1ojdriXWLQy4"
      }
    },
    {
      "cell_type": "code",
      "source": [
        "x = np.random.normal(loc=40.0, scale=2.0, size=50)\n",
        "eps = np.random.normal(loc=0.0, scale=x, size=50)\n",
        "y = 10+2*x+eps\n",
        "\n",
        "plt.figure(figsize=(12, 10))\n",
        "plt.scatter(x, y, label='Истинные точки')\n",
        "plt.plot(x, y-eps, c='g', label='Регрессия')\n",
        "plt.legend()\n",
        "plt.show()"
      ],
      "metadata": {
        "colab": {
          "base_uri": "https://localhost:8080/",
          "height": 835
        },
        "id": "kumvhhlFLaHI",
        "outputId": "9d47b767-4003-4b37-afe5-084686594f70"
      },
      "execution_count": 11,
      "outputs": [
        {
          "output_type": "display_data",
          "data": {
            "text/plain": [
              "<Figure size 1200x1000 with 1 Axes>"
            ],
            "image/png": "[encoded data removed]"
          },
          "metadata": {}
        }
      ]
    },
    {
      "cell_type": "code",
      "source": [
        "data = pd.DataFrame(np.vstack([x, y]).T, columns=['x', 'y'])\n",
        "data.head()\n",
        "model = smf.ols(data=data, formula='y ~ x').fit()\n",
        "\n",
        "model.summary()"
      ],
      "metadata": {
        "colab": {
          "base_uri": "https://localhost:8080/",
          "height": 436
        },
        "id": "SDDq8M8RL1b7",
        "outputId": "fa950bb6-6b87-4c74-eaec-4ec26a695b81"
      },
      "execution_count": 12,
      "outputs": [
        {
          "output_type": "execute_result",
          "data": {
            "text/plain": [
              "<class 'statsmodels.iolib.summary.Summary'>\n",
              "\"\"\"\n",
              "                            OLS Regression Results                            \n",
              "==============================================================================\n",
              "Dep. Variable:                      y   R-squared:                       0.014\n",
              "Model:                            OLS   Adj. R-squared:                 -0.007\n",
              "Method:                 Least Squares   F-statistic:                    0.6577\n",
              "Date:                Fri, 20 Oct 2023   Prob (F-statistic):              0.421\n",
              "Time:                        12:02:05   Log-Likelihood:                -258.14\n",
              "No. Observations:                  50   AIC:                             520.3\n",
              "Df Residuals:                      48   BIC:                             524.1\n",
              "Df Model:                           1                                         \n",
              "Covariance Type:            nonrobust                                         \n",
              "==============================================================================\n",
              "                 coef    std err          t      P>|t|      [0.025      0.975]\n",
              "------------------------------------------------------------------------------\n",
              "Intercept    217.6901    151.290      1.439      0.157     -86.498     521.878\n",
              "x             -3.0549      3.767     -0.811      0.421     -10.629       4.519\n",
              "==============================================================================\n",
              "Omnibus:                        0.431   Durbin-Watson:                   1.743\n",
              "Prob(Omnibus):                  0.806   Jarque-Bera (JB):                0.589\n",
              "Skew:                           0.114   Prob(JB):                        0.745\n",
              "Kurtosis:                       2.520   Cond. No.                         997.\n",
              "==============================================================================\n",
              "\n",
              "Notes:\n",
              "[1] Standard Errors assume that the covariance matrix of the errors is correctly specified.\n",
              "\"\"\""
            ],
            "text/html": [
              "<table class=\"simpletable\">\n",
              "<caption>OLS Regression Results</caption>\n",
              "<tr>\n",
              "  <th>Dep. Variable:</th>            <td>y</td>        <th>  R-squared:         </th> <td>   0.014</td>\n",
              "</tr>\n",
              "<tr>\n",
              "  <th>Model:</th>                   <td>OLS</td>       <th>  Adj. R-squared:    </th> <td>  -0.007</td>\n",
              "</tr>\n",
              "<tr>\n",
              "  <th>Method:</th>             <td>Least Squares</td>  <th>  F-statistic:       </th> <td>  0.6577</td>\n",
              "</tr>\n",
              "<tr>\n",
              "  <th>Date:</th>             <td>Fri, 20 Oct 2023</td> <th>  Prob (F-statistic):</th>  <td> 0.421</td> \n",
              "</tr>\n",
              "<tr>\n",
              "  <th>Time:</th>                 <td>12:02:05</td>     <th>  Log-Likelihood:    </th> <td> -258.14</td>\n",
              "</tr>\n",
              "<tr>\n",
              "  <th>No. Observations:</th>      <td>    50</td>      <th>  AIC:               </th> <td>   520.3</td>\n",
              "</tr>\n",
              "<tr>\n",
              "  <th>Df Residuals:</th>          <td>    48</td>      <th>  BIC:               </th> <td>   524.1</td>\n",
              "</tr>\n",
              "<tr>\n",
              "  <th>Df Model:</th>              <td>     1</td>      <th>                     </th>     <td> </td>   \n",
              "</tr>\n",
              "<tr>\n",
              "  <th>Covariance Type:</th>      <td>nonrobust</td>    <th>                     </th>     <td> </td>   \n",
              "</tr>\n",
              "</table>\n",
              "<table class=\"simpletable\">\n",
              "<tr>\n",
              "      <td></td>         <th>coef</th>     <th>std err</th>      <th>t</th>      <th>P>|t|</th>  <th>[0.025</th>    <th>0.975]</th>  \n",
              "</tr>\n",
              "<tr>\n",
              "  <th>Intercept</th> <td>  217.6901</td> <td>  151.290</td> <td>    1.439</td> <td> 0.157</td> <td>  -86.498</td> <td>  521.878</td>\n",
              "</tr>\n",
              "<tr>\n",
              "  <th>x</th>         <td>   -3.0549</td> <td>    3.767</td> <td>   -0.811</td> <td> 0.421</td> <td>  -10.629</td> <td>    4.519</td>\n",
              "</tr>\n",
              "</table>\n",
              "<table class=\"simpletable\">\n",
              "<tr>\n",
              "  <th>Omnibus:</th>       <td> 0.431</td> <th>  Durbin-Watson:     </th> <td>   1.743</td>\n",
              "</tr>\n",
              "<tr>\n",
              "  <th>Prob(Omnibus):</th> <td> 0.806</td> <th>  Jarque-Bera (JB):  </th> <td>   0.589</td>\n",
              "</tr>\n",
              "<tr>\n",
              "  <th>Skew:</th>          <td> 0.114</td> <th>  Prob(JB):          </th> <td>   0.745</td>\n",
              "</tr>\n",
              "<tr>\n",
              "  <th>Kurtosis:</th>      <td> 2.520</td> <th>  Cond. No.          </th> <td>    997.</td>\n",
              "</tr>\n",
              "</table><br/><br/>Notes:<br/>[1] Standard Errors assume that the covariance matrix of the errors is correctly specified."
            ],
            "text/latex": "\\begin{center}\n\\begin{tabular}{lclc}\n\\toprule\n\\textbf{Dep. Variable:}    &        y         & \\textbf{  R-squared:         } &     0.014   \\\\\n\\textbf{Model:}            &       OLS        & \\textbf{  Adj. R-squared:    } &    -0.007   \\\\\n\\textbf{Method:}           &  Least Squares   & \\textbf{  F-statistic:       } &    0.6577   \\\\\n\\textbf{Date:}             & Fri, 20 Oct 2023 & \\textbf{  Prob (F-statistic):} &    0.421    \\\\\n\\textbf{Time:}             &     12:02:05     & \\textbf{  Log-Likelihood:    } &   -258.14   \\\\\n\\textbf{No. Observations:} &          50      & \\textbf{  AIC:               } &     520.3   \\\\\n\\textbf{Df Residuals:}     &          48      & \\textbf{  BIC:               } &     524.1   \\\\\n\\textbf{Df Model:}         &           1      & \\textbf{                     } &             \\\\\n\\textbf{Covariance Type:}  &    nonrobust     & \\textbf{                     } &             \\\\\n\\bottomrule\n\\end{tabular}\n\\begin{tabular}{lcccccc}\n                   & \\textbf{coef} & \\textbf{std err} & \\textbf{t} & \\textbf{P$> |$t$|$} & \\textbf{[0.025} & \\textbf{0.975]}  \\\\\n\\midrule\n\\textbf{Intercept} &     217.6901  &      151.290     &     1.439  &         0.157        &      -86.498    &      521.878     \\\\\n\\textbf{x}         &      -3.0549  &        3.767     &    -0.811  &         0.421        &      -10.629    &        4.519     \\\\\n\\bottomrule\n\\end{tabular}\n\\begin{tabular}{lclc}\n\\textbf{Omnibus:}       &  0.431 & \\textbf{  Durbin-Watson:     } &    1.743  \\\\\n\\textbf{Prob(Omnibus):} &  0.806 & \\textbf{  Jarque-Bera (JB):  } &    0.589  \\\\\n\\textbf{Skew:}          &  0.114 & \\textbf{  Prob(JB):          } &    0.745  \\\\\n\\textbf{Kurtosis:}      &  2.520 & \\textbf{  Cond. No.          } &     997.  \\\\\n\\bottomrule\n\\end{tabular}\n%\\caption{OLS Regression Results}\n\\end{center}\n\nNotes: \\newline\n [1] Standard Errors assume that the covariance matrix of the errors is correctly specified."
          },
          "metadata": {},
          "execution_count": 12
        }
      ]
    },
    {
      "cell_type": "markdown",
      "source": [
        "Гипотезы о незначимости для константы и регрессора не отвергаются на любом разумном уровне значимости"
      ],
      "metadata": {
        "id": "UYCyM2VAMXlY"
      }
    },
    {
      "cell_type": "markdown",
      "source": [
        "### Тест Голдьфельда-Квандта"
      ],
      "metadata": {
        "id": "h0XHdRhuIH5Q"
      }
    },
    {
      "cell_type": "markdown",
      "source": [
        "Проведём тест **Голдфельда-Квандта** на гетероскедастичность:\n",
        "$$H_0: ∀ i: \\sigma^2_i = \\sigma^2$$\n",
        "$$H_1: ∃ i, j: \\sigma_i != \\sigma_j$$"
      ],
      "metadata": {
        "id": "sn4lrw_nMxwf"
      }
    },
    {
      "cell_type": "markdown",
      "source": [
        "Для проведения теста Голдфелда – Квандта все наблюдения\n",
        "упорядочиваются по Хj и делятся на 3 части. Если выборка\n",
        "небольшая, то выделяют приблизительно 3/8 части всех\n",
        "наблюдений для первой и третьей части и приблизительно 1/4\n",
        "в середине.\n",
        "\n",
        "Мы будем использовать тест из statmodels:"
      ],
      "metadata": {
        "id": "PUjxggiiOZF2"
      }
    },
    {
      "cell_type": "markdown",
      "source": [
        "Описание алгоритма Голдфелда – Квандта:\n",
        "\n",
        "* Упорядочиваем все наблюдения по модулю подозрительной переменной.\n",
        "\n",
        "* Делим все наблюдения на три группы (если наблюдений достаточно много, то\n",
        "приблизительно на трети). Удобно, если в первой и третьей группах количество\n",
        "наблюдений одинаково.\n",
        "\n",
        "* Наблюдениями средней группы пренебрегаем, а по первым n1 и последним n2наблюдениям оцениваем отдельные регрессии.\n",
        "\n",
        "* Используя суммы квадратов остатков (RSS) в оцененных регрессиях,\n",
        "рассчитываем тестовую статистику по формуле в первой и третий группе\n",
        "\n",
        "* Сравниваем полученное значение F – статистики с критическим (при выбранном\n",
        "уровне значимости).\n",
        "\n",
        "* Если значение F – статистики превышает критическое, нулевая гипотеза о\n",
        "гомоскедастичности отвергается.\n"
      ],
      "metadata": {
        "id": "xWA30JYgO98W"
      }
    },
    {
      "cell_type": "code",
      "source": [
        "sms.het_goldfeldquandt(y=model.model.endog, x=model.model.exog, alternative='increasing')"
      ],
      "metadata": {
        "colab": {
          "base_uri": "https://localhost:8080/"
        },
        "id": "H0oXGaAsM3o4",
        "outputId": "ca7a4232-fbfd-4753-b195-632b6918729f"
      },
      "execution_count": 13,
      "outputs": [
        {
          "output_type": "execute_result",
          "data": {
            "text/plain": [
              "(2.0519699248318606, 0.0457676094843301, 'increasing')"
            ]
          },
          "metadata": {},
          "execution_count": 13
        }
      ]
    },
    {
      "cell_type": "markdown",
      "source": [
        "Гипотеза об отсутствии гетероскедастичности в модели не отвергается на любом общепринятом уровне значимости в соответствии с проведённым тестом Голдфельда-Куандта. Гетероскедастичность не выявлена"
      ],
      "metadata": {
        "id": "912W0Vu4Opef"
      }
    },
    {
      "cell_type": "markdown",
      "source": [
        "### Тест Бреуша-Пагана"
      ],
      "metadata": {
        "id": "3UfxFwnmjs2I"
      }
    },
    {
      "cell_type": "markdown",
      "source": [
        "1. МНК-оценка коэффициентов и остатков модели\n",
        "2. Подсчёт статистики $g_i=\\frac{\\hat{ɛ}_i^2}{\\hat{\\sigma}^2}$\n",
        "3. МНК-оценка регрессии типа $g_i=\\gamma Z_{i}+\\eta_i$, где $Z$ - признаки, выбранные для оценки гетероскедастичности (обычно $Z=X$, но Z также может быть подмножеством Х или ещё как-либо модифицированным)\n",
        "4. Посчитать статистику $LM=0.5(ESS_{auxilary})\\sim \\chi^2(shape(Z))$, где $ESS=\\sum (\\hat{g_i}-\\overline{g})^2$"
      ],
      "metadata": {
        "id": "ze-ywWreK69o"
      }
    },
    {
      "cell_type": "markdown",
      "source": [
        "В statsmodels вывод следующий:\n",
        "1. Значение LM статистики\n",
        "2. Значение p-value для LM\n",
        "3. Значение F статистики (значимость регрессии на остатки, H_0 - модель не значима в целом)\n",
        "4. Значение p-value для F"
      ],
      "metadata": {
        "id": "Xh_mchBTNU3U"
      }
    },
    {
      "cell_type": "code",
      "source": [
        "sms.het_breuschpagan(model.resid, model.model.exog)"
      ],
      "metadata": {
        "colab": {
          "base_uri": "https://localhost:8080/"
        },
        "id": "yoVk2-w9jvjw",
        "outputId": "0ddcd149-142c-4864-965b-25b0903383e0"
      },
      "execution_count": 14,
      "outputs": [
        {
          "output_type": "execute_result",
          "data": {
            "text/plain": [
              "(1.078663728006507,\n",
              " 0.29899668156576475,\n",
              " 1.0583492375688257,\n",
              " 0.3087482893769748)"
            ]
          },
          "metadata": {},
          "execution_count": 14
        }
      ]
    },
    {
      "cell_type": "markdown",
      "source": [
        "Тест Бреуша-Пагана на гетероскедастичность не отвергает гипотезу об отсутствии гетероскедастичности в остатках на уровне значимости 0.1"
      ],
      "metadata": {
        "id": "q9S7yPaojzF4"
      }
    },
    {
      "cell_type": "markdown",
      "source": [
        "WLS weighted least squares:"
      ],
      "metadata": {
        "id": "anfADhrPj5yw"
      }
    },
    {
      "cell_type": "code",
      "source": [
        "y_weighted = y/x\n",
        "const_weighted = 1/x\n",
        "x_weighted = x/x\n",
        "data = pd.DataFrame(np.vstack([const_weighted, y_weighted]).T, columns=['const_weighted', 'y_weighted'])\n",
        "data.head()"
      ],
      "metadata": {
        "colab": {
          "base_uri": "https://localhost:8080/",
          "height": 206
        },
        "id": "dfWZsrxAj-jo",
        "outputId": "309905c8-7d9c-42f0-9315-1779279e87c3"
      },
      "execution_count": 15,
      "outputs": [
        {
          "output_type": "execute_result",
          "data": {
            "text/plain": [
              "   const_weighted  y_weighted\n",
              "0        0.025125    1.673684\n",
              "1        0.024182    3.104597\n",
              "2        0.025267    1.991724\n",
              "3        0.024671    1.303368\n",
              "4        0.024569    1.923632"
            ],
            "text/html": [
              "\n",
              "  <div id=\"df-d3f944dd-d255-445e-9a49-7d81ad94b3a5\" class=\"colab-df-container\">\n",
              "    <div>\n",
              "<style scoped>\n",
              "    .dataframe tbody tr th:only-of-type {\n",
              "        vertical-align: middle;\n",
              "    }\n",
              "\n",
              "    .dataframe tbody tr th {\n",
              "        vertical-align: top;\n",
              "    }\n",
              "\n",
              "    .dataframe thead th {\n",
              "        text-align: right;\n",
              "    }\n",
              "</style>\n",
              "<table border=\"1\" class=\"dataframe\">\n",
              "  <thead>\n",
              "    <tr style=\"text-align: right;\">\n",
              "      <th></th>\n",
              "      <th>const_weighted</th>\n",
              "      <th>y_weighted</th>\n",
              "    </tr>\n",
              "  </thead>\n",
              "  <tbody>\n",
              "    <tr>\n",
              "      <th>0</th>\n",
              "      <td>0.025125</td>\n",
              "      <td>1.673684</td>\n",
              "    </tr>\n",
              "    <tr>\n",
              "      <th>1</th>\n",
              "      <td>0.024182</td>\n",
              "      <td>3.104597</td>\n",
              "    </tr>\n",
              "    <tr>\n",
              "      <th>2</th>\n",
              "      <td>0.025267</td>\n",
              "      <td>1.991724</td>\n",
              "    </tr>\n",
              "    <tr>\n",
              "      <th>3</th>\n",
              "      <td>0.024671</td>\n",
              "      <td>1.303368</td>\n",
              "    </tr>\n",
              "    <tr>\n",
              "      <th>4</th>\n",
              "      <td>0.024569</td>\n",
              "      <td>1.923632</td>\n",
              "    </tr>\n",
              "  </tbody>\n",
              "</table>\n",
              "</div>\n",
              "    <div class=\"colab-df-buttons\">\n",
              "\n",
              "  <div class=\"colab-df-container\">\n",
              "    <button class=\"colab-df-convert\" onclick=\"convertToInteractive('df-d3f944dd-d255-445e-9a49-7d81ad94b3a5')\"\n",
              "            title=\"Convert this dataframe to an interactive table.\"\n",
              "            style=\"display:none;\">\n",
              "\n",
              "  <svg xmlns=\"http://www.w3.org/2000/svg\" height=\"24px\" viewBox=\"0 -960 960 960\">\n",
              "    <path d=\"M120-120v-720h720v720H120Zm60-500h600v-160H180v160Zm220 220h160v-160H400v160Zm0 220h160v-160H400v160ZM180-400h160v-160H180v160Zm440 0h160v-160H620v160ZM180-180h160v-160H180v160Zm440 0h160v-160H620v160Z\"/>\n",
              "  </svg>\n",
              "    </button>\n",
              "\n",
              "  <style>\n",
              "    .colab-df-container {\n",
              "      display:flex;\n",
              "      gap: 12px;\n",
              "    }\n",
              "\n",
              "    .colab-df-convert {\n",
              "      background-color: #E8F0FE;\n",
              "      border: none;\n",
              "      border-radius: 50%;\n",
              "      cursor: pointer;\n",
              "      display: none;\n",
              "      fill: #1967D2;\n",
              "      height: 32px;\n",
              "      padding: 0 0 0 0;\n",
              "      width: 32px;\n",
              "    }\n",
              "\n",
              "    .colab-df-convert:hover {\n",
              "      background-color: #E2EBFA;\n",
              "      box-shadow: 0px 1px 2px rgba(60, 64, 67, 0.3), 0px 1px 3px 1px rgba(60, 64, 67, 0.15);\n",
              "      fill: #174EA6;\n",
              "    }\n",
              "\n",
              "    .colab-df-buttons div {\n",
              "      margin-bottom: 4px;\n",
              "    }\n",
              "\n",
              "    [theme=dark] .colab-df-convert {\n",
              "      background-color: #3B4455;\n",
              "      fill: #D2E3FC;\n",
              "    }\n",
              "\n",
              "    [theme=dark] .colab-df-convert:hover {\n",
              "      background-color: #434B5C;\n",
              "      box-shadow: 0px 1px 3px 1px rgba(0, 0, 0, 0.15);\n",
              "      filter: drop-shadow(0px 1px 2px rgba(0, 0, 0, 0.3));\n",
              "      fill: #FFFFFF;\n",
              "    }\n",
              "  </style>\n",
              "\n",
              "    <script>\n",
              "      const buttonEl =\n",
              "        document.querySelector('#df-d3f944dd-d255-445e-9a49-7d81ad94b3a5 button.colab-df-convert');\n",
              "      buttonEl.style.display =\n",
              "        google.colab.kernel.accessAllowed ? 'block' : 'none';\n",
              "\n",
              "      async function convertToInteractive(key) {\n",
              "        const element = document.querySelector('#df-d3f944dd-d255-445e-9a49-7d81ad94b3a5');\n",
              "        const dataTable =\n",
              "          await google.colab.kernel.invokeFunction('convertToInteractive',\n",
              "                                                    [key], {});\n",
              "        if (!dataTable) return;\n",
              "\n",
              "        const docLinkHtml = 'Like what you see? Visit the ' +\n",
              "          '<a target=\"_blank\" href=https://colab.research.google.com/notebooks/data_table.ipynb>data table notebook</a>'\n",
              "          + ' to learn more about interactive tables.';\n",
              "        element.innerHTML = '';\n",
              "        dataTable['output_type'] = 'display_data';\n",
              "        await google.colab.output.renderOutput(dataTable, element);\n",
              "        const docLink = document.createElement('div');\n",
              "        docLink.innerHTML = docLinkHtml;\n",
              "        element.appendChild(docLink);\n",
              "      }\n",
              "    </script>\n",
              "  </div>\n",
              "\n",
              "\n",
              "<div id=\"df-b588bb76-d31e-4929-83bc-b026f60f3188\">\n",
              "  <button class=\"colab-df-quickchart\" onclick=\"quickchart('df-b588bb76-d31e-4929-83bc-b026f60f3188')\"\n",
              "            title=\"Suggest charts.\"\n",
              "            style=\"display:none;\">\n",
              "\n",
              "<svg xmlns=\"http://www.w3.org/2000/svg\" height=\"24px\"viewBox=\"0 0 24 24\"\n",
              "     width=\"24px\">\n",
              "    <g>\n",
              "        <path d=\"M19 3H5c-1.1 0-2 .9-2 2v14c0 1.1.9 2 2 2h14c1.1 0 2-.9 2-2V5c0-1.1-.9-2-2-2zM9 17H7v-7h2v7zm4 0h-2V7h2v10zm4 0h-2v-4h2v4z\"/>\n",
              "    </g>\n",
              "</svg>\n",
              "  </button>\n",
              "\n",
              "<style>\n",
              "  .colab-df-quickchart {\n",
              "      --bg-color: #E8F0FE;\n",
              "      --fill-color: #1967D2;\n",
              "      --hover-bg-color: #E2EBFA;\n",
              "      --hover-fill-color: #174EA6;\n",
              "      --disabled-fill-color: #AAA;\n",
              "      --disabled-bg-color: #DDD;\n",
              "  }\n",
              "\n",
              "  [theme=dark] .colab-df-quickchart {\n",
              "      --bg-color: #3B4455;\n",
              "      --fill-color: #D2E3FC;\n",
              "      --hover-bg-color: #434B5C;\n",
              "      --hover-fill-color: #FFFFFF;\n",
              "      --disabled-bg-color: #3B4455;\n",
              "      --disabled-fill-color: #666;\n",
              "  }\n",
              "\n",
              "  .colab-df-quickchart {\n",
              "    background-color: var(--bg-color);\n",
              "    border: none;\n",
              "    border-radius: 50%;\n",
              "    cursor: pointer;\n",
              "    display: none;\n",
              "    fill: var(--fill-color);\n",
              "    height: 32px;\n",
              "    padding: 0;\n",
              "    width: 32px;\n",
              "  }\n",
              "\n",
              "  .colab-df-quickchart:hover {\n",
              "    background-color: var(--hover-bg-color);\n",
              "    box-shadow: 0 1px 2px rgba(60, 64, 67, 0.3), 0 1px 3px 1px rgba(60, 64, 67, 0.15);\n",
              "    fill: var(--button-hover-fill-color);\n",
              "  }\n",
              "\n",
              "  .colab-df-quickchart-complete:disabled,\n",
              "  .colab-df-quickchart-complete:disabled:hover {\n",
              "    background-color: var(--disabled-bg-color);\n",
              "    fill: var(--disabled-fill-color);\n",
              "    box-shadow: none;\n",
              "  }\n",
              "\n",
              "  .colab-df-spinner {\n",
              "    border: 2px solid var(--fill-color);\n",
              "    border-color: transparent;\n",
              "    border-bottom-color: var(--fill-color);\n",
              "    animation:\n",
              "      spin 1s steps(1) infinite;\n",
              "  }\n",
              "\n",
              "  @keyframes spin {\n",
              "    0% {\n",
              "      border-color: transparent;\n",
              "      border-bottom-color: var(--fill-color);\n",
              "      border-left-color: var(--fill-color);\n",
              "    }\n",
              "    20% {\n",
              "      border-color: transparent;\n",
              "      border-left-color: var(--fill-color);\n",
              "      border-top-color: var(--fill-color);\n",
              "    }\n",
              "    30% {\n",
              "      border-color: transparent;\n",
              "      border-left-color: var(--fill-color);\n",
              "      border-top-color: var(--fill-color);\n",
              "      border-right-color: var(--fill-color);\n",
              "    }\n",
              "    40% {\n",
              "      border-color: transparent;\n",
              "      border-right-color: var(--fill-color);\n",
              "      border-top-color: var(--fill-color);\n",
              "    }\n",
              "    60% {\n",
              "      border-color: transparent;\n",
              "      border-right-color: var(--fill-color);\n",
              "    }\n",
              "    80% {\n",
              "      border-color: transparent;\n",
              "      border-right-color: var(--fill-color);\n",
              "      border-bottom-color: var(--fill-color);\n",
              "    }\n",
              "    90% {\n",
              "      border-color: transparent;\n",
              "      border-bottom-color: var(--fill-color);\n",
              "    }\n",
              "  }\n",
              "</style>\n",
              "\n",
              "  <script>\n",
              "    async function quickchart(key) {\n",
              "      const quickchartButtonEl =\n",
              "        document.querySelector('#' + key + ' button');\n",
              "      quickchartButtonEl.disabled = true;  // To prevent multiple clicks.\n",
              "      quickchartButtonEl.classList.add('colab-df-spinner');\n",
              "      try {\n",
              "        const charts = await google.colab.kernel.invokeFunction(\n",
              "            'suggestCharts', [key], {});\n",
              "      } catch (error) {\n",
              "        console.error('Error during call to suggestCharts:', error);\n",
              "      }\n",
              "      quickchartButtonEl.classList.remove('colab-df-spinner');\n",
              "      quickchartButtonEl.classList.add('colab-df-quickchart-complete');\n",
              "    }\n",
              "    (() => {\n",
              "      let quickchartButtonEl =\n",
              "        document.querySelector('#df-b588bb76-d31e-4929-83bc-b026f60f3188 button');\n",
              "      quickchartButtonEl.style.display =\n",
              "        google.colab.kernel.accessAllowed ? 'block' : 'none';\n",
              "    })();\n",
              "  </script>\n",
              "</div>\n",
              "    </div>\n",
              "  </div>\n"
            ]
          },
          "metadata": {},
          "execution_count": 15
        }
      ]
    },
    {
      "cell_type": "code",
      "source": [
        "plt.figure(figsize=(16, 12))\n",
        "plt.scatter(const_weighted, y_weighted, label='Истинные точки')\n",
        "plt.plot(const_weighted, y_weighted-eps/x, c='g', label='Регрессия')\n",
        "plt.legend()\n",
        "plt.show()"
      ],
      "metadata": {
        "colab": {
          "base_uri": "https://localhost:8080/",
          "height": 984
        },
        "id": "7-HPNWXmkHLw",
        "outputId": "5607219f-41ea-4d97-c845-1f824e136e81"
      },
      "execution_count": 16,
      "outputs": [
        {
          "output_type": "display_data",
          "data": {
            "text/plain": [
              "<Figure size 1600x1200 with 1 Axes>"
            ],
            "image/png": "[encoded data removed]"
          },
          "metadata": {}
        }
      ]
    },
    {
      "cell_type": "markdown",
      "source": [
        "Визуально при взвешивании наблюдений изменился лишь угол наклона для независимой переменной, ну и в конце выборки значения стали чуть ближе к линии"
      ],
      "metadata": {
        "id": "RWfybdjrkOyI"
      }
    },
    {
      "cell_type": "code",
      "source": [
        "model2 = smf.wls(data=data, formula='y_weighted ~ const_weighted').fit()\n",
        "model2.summary()"
      ],
      "metadata": {
        "colab": {
          "base_uri": "https://localhost:8080/",
          "height": 436
        },
        "id": "0lqQH5euj2T5",
        "outputId": "7b478ded-505d-47f7-f42c-bef9a3359b73"
      },
      "execution_count": 17,
      "outputs": [
        {
          "output_type": "execute_result",
          "data": {
            "text/plain": [
              "<class 'statsmodels.iolib.summary.Summary'>\n",
              "\"\"\"\n",
              "                            WLS Regression Results                            \n",
              "==============================================================================\n",
              "Dep. Variable:             y_weighted   R-squared:                       0.043\n",
              "Model:                            WLS   Adj. R-squared:                  0.023\n",
              "Method:                 Least Squares   F-statistic:                     2.159\n",
              "Date:                Fri, 20 Oct 2023   Prob (F-statistic):              0.148\n",
              "Time:                        12:02:05   Log-Likelihood:                -73.273\n",
              "No. Observations:                  50   AIC:                             150.5\n",
              "Df Residuals:                      48   BIC:                             154.4\n",
              "Df Model:                           1                                         \n",
              "Covariance Type:            nonrobust                                         \n",
              "==================================================================================\n",
              "                     coef    std err          t      P>|t|      [0.025      0.975]\n",
              "----------------------------------------------------------------------------------\n",
              "Intercept         -3.0394      3.690     -0.824      0.414     -10.459       4.380\n",
              "const_weighted   217.0677    147.715      1.470      0.148     -79.932     514.068\n",
              "==============================================================================\n",
              "Omnibus:                        0.344   Durbin-Watson:                   1.733\n",
              "Prob(Omnibus):                  0.842   Jarque-Bera (JB):                0.517\n",
              "Skew:                           0.132   Prob(JB):                        0.772\n",
              "Kurtosis:                       2.578   Cond. No.                         977.\n",
              "==============================================================================\n",
              "\n",
              "Notes:\n",
              "[1] Standard Errors assume that the covariance matrix of the errors is correctly specified.\n",
              "\"\"\""
            ],
            "text/html": [
              "<table class=\"simpletable\">\n",
              "<caption>WLS Regression Results</caption>\n",
              "<tr>\n",
              "  <th>Dep. Variable:</th>       <td>y_weighted</td>    <th>  R-squared:         </th> <td>   0.043</td>\n",
              "</tr>\n",
              "<tr>\n",
              "  <th>Model:</th>                   <td>WLS</td>       <th>  Adj. R-squared:    </th> <td>   0.023</td>\n",
              "</tr>\n",
              "<tr>\n",
              "  <th>Method:</th>             <td>Least Squares</td>  <th>  F-statistic:       </th> <td>   2.159</td>\n",
              "</tr>\n",
              "<tr>\n",
              "  <th>Date:</th>             <td>Fri, 20 Oct 2023</td> <th>  Prob (F-statistic):</th>  <td> 0.148</td> \n",
              "</tr>\n",
              "<tr>\n",
              "  <th>Time:</th>                 <td>12:02:05</td>     <th>  Log-Likelihood:    </th> <td> -73.273</td>\n",
              "</tr>\n",
              "<tr>\n",
              "  <th>No. Observations:</th>      <td>    50</td>      <th>  AIC:               </th> <td>   150.5</td>\n",
              "</tr>\n",
              "<tr>\n",
              "  <th>Df Residuals:</th>          <td>    48</td>      <th>  BIC:               </th> <td>   154.4</td>\n",
              "</tr>\n",
              "<tr>\n",
              "  <th>Df Model:</th>              <td>     1</td>      <th>                     </th>     <td> </td>   \n",
              "</tr>\n",
              "<tr>\n",
              "  <th>Covariance Type:</th>      <td>nonrobust</td>    <th>                     </th>     <td> </td>   \n",
              "</tr>\n",
              "</table>\n",
              "<table class=\"simpletable\">\n",
              "<tr>\n",
              "         <td></td>           <th>coef</th>     <th>std err</th>      <th>t</th>      <th>P>|t|</th>  <th>[0.025</th>    <th>0.975]</th>  \n",
              "</tr>\n",
              "<tr>\n",
              "  <th>Intercept</th>      <td>   -3.0394</td> <td>    3.690</td> <td>   -0.824</td> <td> 0.414</td> <td>  -10.459</td> <td>    4.380</td>\n",
              "</tr>\n",
              "<tr>\n",
              "  <th>const_weighted</th> <td>  217.0677</td> <td>  147.715</td> <td>    1.470</td> <td> 0.148</td> <td>  -79.932</td> <td>  514.068</td>\n",
              "</tr>\n",
              "</table>\n",
              "<table class=\"simpletable\">\n",
              "<tr>\n",
              "  <th>Omnibus:</th>       <td> 0.344</td> <th>  Durbin-Watson:     </th> <td>   1.733</td>\n",
              "</tr>\n",
              "<tr>\n",
              "  <th>Prob(Omnibus):</th> <td> 0.842</td> <th>  Jarque-Bera (JB):  </th> <td>   0.517</td>\n",
              "</tr>\n",
              "<tr>\n",
              "  <th>Skew:</th>          <td> 0.132</td> <th>  Prob(JB):          </th> <td>   0.772</td>\n",
              "</tr>\n",
              "<tr>\n",
              "  <th>Kurtosis:</th>      <td> 2.578</td> <th>  Cond. No.          </th> <td>    977.</td>\n",
              "</tr>\n",
              "</table><br/><br/>Notes:<br/>[1] Standard Errors assume that the covariance matrix of the errors is correctly specified."
            ],
            "text/latex": "\\begin{center}\n\\begin{tabular}{lclc}\n\\toprule\n\\textbf{Dep. Variable:}    &   y\\_weighted    & \\textbf{  R-squared:         } &     0.043   \\\\\n\\textbf{Model:}            &       WLS        & \\textbf{  Adj. R-squared:    } &     0.023   \\\\\n\\textbf{Method:}           &  Least Squares   & \\textbf{  F-statistic:       } &     2.159   \\\\\n\\textbf{Date:}             & Fri, 20 Oct 2023 & \\textbf{  Prob (F-statistic):} &    0.148    \\\\\n\\textbf{Time:}             &     12:02:05     & \\textbf{  Log-Likelihood:    } &   -73.273   \\\\\n\\textbf{No. Observations:} &          50      & \\textbf{  AIC:               } &     150.5   \\\\\n\\textbf{Df Residuals:}     &          48      & \\textbf{  BIC:               } &     154.4   \\\\\n\\textbf{Df Model:}         &           1      & \\textbf{                     } &             \\\\\n\\textbf{Covariance Type:}  &    nonrobust     & \\textbf{                     } &             \\\\\n\\bottomrule\n\\end{tabular}\n\\begin{tabular}{lcccccc}\n                         & \\textbf{coef} & \\textbf{std err} & \\textbf{t} & \\textbf{P$> |$t$|$} & \\textbf{[0.025} & \\textbf{0.975]}  \\\\\n\\midrule\n\\textbf{Intercept}       &      -3.0394  &        3.690     &    -0.824  &         0.414        &      -10.459    &        4.380     \\\\\n\\textbf{const\\_weighted} &     217.0677  &      147.715     &     1.470  &         0.148        &      -79.932    &      514.068     \\\\\n\\bottomrule\n\\end{tabular}\n\\begin{tabular}{lclc}\n\\textbf{Omnibus:}       &  0.344 & \\textbf{  Durbin-Watson:     } &    1.733  \\\\\n\\textbf{Prob(Omnibus):} &  0.842 & \\textbf{  Jarque-Bera (JB):  } &    0.517  \\\\\n\\textbf{Skew:}          &  0.132 & \\textbf{  Prob(JB):          } &    0.772  \\\\\n\\textbf{Kurtosis:}      &  2.578 & \\textbf{  Cond. No.          } &     977.  \\\\\n\\bottomrule\n\\end{tabular}\n%\\caption{WLS Regression Results}\n\\end{center}\n\nNotes: \\newline\n [1] Standard Errors assume that the covariance matrix of the errors is correctly specified."
          },
          "metadata": {},
          "execution_count": 17
        }
      ]
    },
    {
      "cell_type": "markdown",
      "source": [
        "Hetteroscedasticity consistent estimators"
      ],
      "metadata": {
        "id": "lcCVmR5skY0I"
      }
    },
    {
      "cell_type": "code",
      "source": [
        "model2.HC0_se"
      ],
      "metadata": {
        "id": "A3smZgR4kYLP",
        "colab": {
          "base_uri": "https://localhost:8080/"
        },
        "outputId": "15b1d6cf-ad0f-4d5e-b48b-38f2008ebde8"
      },
      "execution_count": 18,
      "outputs": [
        {
          "output_type": "execute_result",
          "data": {
            "text/plain": [
              "Intercept           3.331191\n",
              "const_weighted    132.597599\n",
              "dtype: float64"
            ]
          },
          "metadata": {},
          "execution_count": 18
        }
      ]
    },
    {
      "cell_type": "markdown",
      "source": [
        "По итогам выполнения данного пункта можно сделать вывод о том, что для выборки большего размера гетероскедастичность в остатках лучше идентифицируема, при этом стандартные ошибки оценок коэффициентов, устойчивых к гетероскедастичности, почти не отличаются от исходных стандартных ошибок модели. Это означает, что при увеличении выборки корректировка на гетероскедастичность через взвешивание наблюдений обладает бОльшим смыслом. Для проверки данного тезиса выведем статистику теста Бреуша-Пагана для взвешенной модели:"
      ],
      "metadata": {
        "id": "sgHRH5afk3Rg"
      }
    },
    {
      "cell_type": "code",
      "source": [
        "sms.het_breuschpagan(model2.resid, model2.model.exog)"
      ],
      "metadata": {
        "id": "_KN_5ME2k2sQ",
        "colab": {
          "base_uri": "https://localhost:8080/"
        },
        "outputId": "93ee806d-05df-4e71-b670-5deb1367f65c"
      },
      "execution_count": 19,
      "outputs": [
        {
          "output_type": "execute_result",
          "data": {
            "text/plain": [
              "(0.40945373228491455,\n",
              " 0.5222468995402814,\n",
              " 0.39632108595002813,\n",
              " 0.5319805396359075)"
            ]
          },
          "metadata": {},
          "execution_count": 19
        }
      ]
    },
    {
      "cell_type": "markdown",
      "source": [
        "Действительно, гетероскедастичности больше нет, модель обладает статистически эффективными оценками (хоть при этом и её качество стало околонулевым)"
      ],
      "metadata": {
        "id": "lSIQwA-4k7zw"
      }
    },
    {
      "cell_type": "markdown",
      "source": [
        "Оценим стандартные ошибки коэффициентов, устойчивые к гетероскедастичности, при помощи какой-нибудь из схем HC. Поменялось ли что-нибудь?\n"
      ],
      "metadata": {
        "id": "pibjrbaMlHPw"
      }
    },
    {
      "cell_type": "markdown",
      "source": [
        "Воспользуемся способом, изученным на семинаре: исправим только доверительные инетрвалы для параметров модели, оцениваемой при помощи МНК,так, чтобы они были устойчивы к гетероскедастичности. Тогда\n",
        "\n",
        "$$\n",
        "\\hat{\\mathrm{Var}}(\\hat{\\beta}_{OLS})_{HC} = (X'X)^{-1}X'\\hat{\\mathrm{Var}}(u)_{HC}X(X'X)^{-1}.\n",
        "$$"
      ],
      "metadata": {
        "id": "brv5qXr9lNxg"
      }
    },
    {
      "cell_type": "markdown",
      "source": [
        "В качестве $\\hat{\\mathrm{Var}}(u)_{HC_0}$ возьмём диагональную матрицу от квадратов оценённых остатков исходной модели - $\\mathrm{diag}(\\hat{u}^2_1, \\ldots, \\hat{u}^2_n)$"
      ],
      "metadata": {
        "id": "MwA04hrIKy1u"
      }
    },
    {
      "cell_type": "code",
      "source": [
        "model.cov_params()"
      ],
      "metadata": {
        "id": "TFq66bwZlfMo",
        "colab": {
          "base_uri": "https://localhost:8080/",
          "height": 112
        },
        "outputId": "661c2da1-dba1-4817-a197-0a8390f005f7"
      },
      "execution_count": 20,
      "outputs": [
        {
          "output_type": "execute_result",
          "data": {
            "text/plain": [
              "              Intercept           x\n",
              "Intercept  22888.551614 -569.414901\n",
              "x           -569.414901   14.188806"
            ],
            "text/html": [
              "\n",
              "  <div id=\"df-7d4befbd-2d49-41b1-8974-10c0a09e1836\" class=\"colab-df-container\">\n",
              "    <div>\n",
              "<style scoped>\n",
              "    .dataframe tbody tr th:only-of-type {\n",
              "        vertical-align: middle;\n",
              "    }\n",
              "\n",
              "    .dataframe tbody tr th {\n",
              "        vertical-align: top;\n",
              "    }\n",
              "\n",
              "    .dataframe thead th {\n",
              "        text-align: right;\n",
              "    }\n",
              "</style>\n",
              "<table border=\"1\" class=\"dataframe\">\n",
              "  <thead>\n",
              "    <tr style=\"text-align: right;\">\n",
              "      <th></th>\n",
              "      <th>Intercept</th>\n",
              "      <th>x</th>\n",
              "    </tr>\n",
              "  </thead>\n",
              "  <tbody>\n",
              "    <tr>\n",
              "      <th>Intercept</th>\n",
              "      <td>22888.551614</td>\n",
              "      <td>-569.414901</td>\n",
              "    </tr>\n",
              "    <tr>\n",
              "      <th>x</th>\n",
              "      <td>-569.414901</td>\n",
              "      <td>14.188806</td>\n",
              "    </tr>\n",
              "  </tbody>\n",
              "</table>\n",
              "</div>\n",
              "    <div class=\"colab-df-buttons\">\n",
              "\n",
              "  <div class=\"colab-df-container\">\n",
              "    <button class=\"colab-df-convert\" onclick=\"convertToInteractive('df-7d4befbd-2d49-41b1-8974-10c0a09e1836')\"\n",
              "            title=\"Convert this dataframe to an interactive table.\"\n",
              "            style=\"display:none;\">\n",
              "\n",
              "  <svg xmlns=\"http://www.w3.org/2000/svg\" height=\"24px\" viewBox=\"0 -960 960 960\">\n",
              "    <path d=\"M120-120v-720h720v720H120Zm60-500h600v-160H180v160Zm220 220h160v-160H400v160Zm0 220h160v-160H400v160ZM180-400h160v-160H180v160Zm440 0h160v-160H620v160ZM180-180h160v-160H180v160Zm440 0h160v-160H620v160Z\"/>\n",
              "  </svg>\n",
              "    </button>\n",
              "\n",
              "  <style>\n",
              "    .colab-df-container {\n",
              "      display:flex;\n",
              "      gap: 12px;\n",
              "    }\n",
              "\n",
              "    .colab-df-convert {\n",
              "      background-color: #E8F0FE;\n",
              "      border: none;\n",
              "      border-radius: 50%;\n",
              "      cursor: pointer;\n",
              "      display: none;\n",
              "      fill: #1967D2;\n",
              "      height: 32px;\n",
              "      padding: 0 0 0 0;\n",
              "      width: 32px;\n",
              "    }\n",
              "\n",
              "    .colab-df-convert:hover {\n",
              "      background-color: #E2EBFA;\n",
              "      box-shadow: 0px 1px 2px rgba(60, 64, 67, 0.3), 0px 1px 3px 1px rgba(60, 64, 67, 0.15);\n",
              "      fill: #174EA6;\n",
              "    }\n",
              "\n",
              "    .colab-df-buttons div {\n",
              "      margin-bottom: 4px;\n",
              "    }\n",
              "\n",
              "    [theme=dark] .colab-df-convert {\n",
              "      background-color: #3B4455;\n",
              "      fill: #D2E3FC;\n",
              "    }\n",
              "\n",
              "    [theme=dark] .colab-df-convert:hover {\n",
              "      background-color: #434B5C;\n",
              "      box-shadow: 0px 1px 3px 1px rgba(0, 0, 0, 0.15);\n",
              "      filter: drop-shadow(0px 1px 2px rgba(0, 0, 0, 0.3));\n",
              "      fill: #FFFFFF;\n",
              "    }\n",
              "  </style>\n",
              "\n",
              "    <script>\n",
              "      const buttonEl =\n",
              "        document.querySelector('#df-7d4befbd-2d49-41b1-8974-10c0a09e1836 button.colab-df-convert');\n",
              "      buttonEl.style.display =\n",
              "        google.colab.kernel.accessAllowed ? 'block' : 'none';\n",
              "\n",
              "      async function convertToInteractive(key) {\n",
              "        const element = document.querySelector('#df-7d4befbd-2d49-41b1-8974-10c0a09e1836');\n",
              "        const dataTable =\n",
              "          await google.colab.kernel.invokeFunction('convertToInteractive',\n",
              "                                                    [key], {});\n",
              "        if (!dataTable) return;\n",
              "\n",
              "        const docLinkHtml = 'Like what you see? Visit the ' +\n",
              "          '<a target=\"_blank\" href=https://colab.research.google.com/notebooks/data_table.ipynb>data table notebook</a>'\n",
              "          + ' to learn more about interactive tables.';\n",
              "        element.innerHTML = '';\n",
              "        dataTable['output_type'] = 'display_data';\n",
              "        await google.colab.output.renderOutput(dataTable, element);\n",
              "        const docLink = document.createElement('div');\n",
              "        docLink.innerHTML = docLinkHtml;\n",
              "        element.appendChild(docLink);\n",
              "      }\n",
              "    </script>\n",
              "  </div>\n",
              "\n",
              "\n",
              "<div id=\"df-18bb53a5-53b4-4e44-bf9b-7b9945e69b94\">\n",
              "  <button class=\"colab-df-quickchart\" onclick=\"quickchart('df-18bb53a5-53b4-4e44-bf9b-7b9945e69b94')\"\n",
              "            title=\"Suggest charts.\"\n",
              "            style=\"display:none;\">\n",
              "\n",
              "<svg xmlns=\"http://www.w3.org/2000/svg\" height=\"24px\"viewBox=\"0 0 24 24\"\n",
              "     width=\"24px\">\n",
              "    <g>\n",
              "        <path d=\"M19 3H5c-1.1 0-2 .9-2 2v14c0 1.1.9 2 2 2h14c1.1 0 2-.9 2-2V5c0-1.1-.9-2-2-2zM9 17H7v-7h2v7zm4 0h-2V7h2v10zm4 0h-2v-4h2v4z\"/>\n",
              "    </g>\n",
              "</svg>\n",
              "  </button>\n",
              "\n",
              "<style>\n",
              "  .colab-df-quickchart {\n",
              "      --bg-color: #E8F0FE;\n",
              "      --fill-color: #1967D2;\n",
              "      --hover-bg-color: #E2EBFA;\n",
              "      --hover-fill-color: #174EA6;\n",
              "      --disabled-fill-color: #AAA;\n",
              "      --disabled-bg-color: #DDD;\n",
              "  }\n",
              "\n",
              "  [theme=dark] .colab-df-quickchart {\n",
              "      --bg-color: #3B4455;\n",
              "      --fill-color: #D2E3FC;\n",
              "      --hover-bg-color: #434B5C;\n",
              "      --hover-fill-color: #FFFFFF;\n",
              "      --disabled-bg-color: #3B4455;\n",
              "      --disabled-fill-color: #666;\n",
              "  }\n",
              "\n",
              "  .colab-df-quickchart {\n",
              "    background-color: var(--bg-color);\n",
              "    border: none;\n",
              "    border-radius: 50%;\n",
              "    cursor: pointer;\n",
              "    display: none;\n",
              "    fill: var(--fill-color);\n",
              "    height: 32px;\n",
              "    padding: 0;\n",
              "    width: 32px;\n",
              "  }\n",
              "\n",
              "  .colab-df-quickchart:hover {\n",
              "    background-color: var(--hover-bg-color);\n",
              "    box-shadow: 0 1px 2px rgba(60, 64, 67, 0.3), 0 1px 3px 1px rgba(60, 64, 67, 0.15);\n",
              "    fill: var(--button-hover-fill-color);\n",
              "  }\n",
              "\n",
              "  .colab-df-quickchart-complete:disabled,\n",
              "  .colab-df-quickchart-complete:disabled:hover {\n",
              "    background-color: var(--disabled-bg-color);\n",
              "    fill: var(--disabled-fill-color);\n",
              "    box-shadow: none;\n",
              "  }\n",
              "\n",
              "  .colab-df-spinner {\n",
              "    border: 2px solid var(--fill-color);\n",
              "    border-color: transparent;\n",
              "    border-bottom-color: var(--fill-color);\n",
              "    animation:\n",
              "      spin 1s steps(1) infinite;\n",
              "  }\n",
              "\n",
              "  @keyframes spin {\n",
              "    0% {\n",
              "      border-color: transparent;\n",
              "      border-bottom-color: var(--fill-color);\n",
              "      border-left-color: var(--fill-color);\n",
              "    }\n",
              "    20% {\n",
              "      border-color: transparent;\n",
              "      border-left-color: var(--fill-color);\n",
              "      border-top-color: var(--fill-color);\n",
              "    }\n",
              "    30% {\n",
              "      border-color: transparent;\n",
              "      border-left-color: var(--fill-color);\n",
              "      border-top-color: var(--fill-color);\n",
              "      border-right-color: var(--fill-color);\n",
              "    }\n",
              "    40% {\n",
              "      border-color: transparent;\n",
              "      border-right-color: var(--fill-color);\n",
              "      border-top-color: var(--fill-color);\n",
              "    }\n",
              "    60% {\n",
              "      border-color: transparent;\n",
              "      border-right-color: var(--fill-color);\n",
              "    }\n",
              "    80% {\n",
              "      border-color: transparent;\n",
              "      border-right-color: var(--fill-color);\n",
              "      border-bottom-color: var(--fill-color);\n",
              "    }\n",
              "    90% {\n",
              "      border-color: transparent;\n",
              "      border-bottom-color: var(--fill-color);\n",
              "    }\n",
              "  }\n",
              "</style>\n",
              "\n",
              "  <script>\n",
              "    async function quickchart(key) {\n",
              "      const quickchartButtonEl =\n",
              "        document.querySelector('#' + key + ' button');\n",
              "      quickchartButtonEl.disabled = true;  // To prevent multiple clicks.\n",
              "      quickchartButtonEl.classList.add('colab-df-spinner');\n",
              "      try {\n",
              "        const charts = await google.colab.kernel.invokeFunction(\n",
              "            'suggestCharts', [key], {});\n",
              "      } catch (error) {\n",
              "        console.error('Error during call to suggestCharts:', error);\n",
              "      }\n",
              "      quickchartButtonEl.classList.remove('colab-df-spinner');\n",
              "      quickchartButtonEl.classList.add('colab-df-quickchart-complete');\n",
              "    }\n",
              "    (() => {\n",
              "      let quickchartButtonEl =\n",
              "        document.querySelector('#df-18bb53a5-53b4-4e44-bf9b-7b9945e69b94 button');\n",
              "      quickchartButtonEl.style.display =\n",
              "        google.colab.kernel.accessAllowed ? 'block' : 'none';\n",
              "    })();\n",
              "  </script>\n",
              "</div>\n",
              "    </div>\n",
              "  </div>\n"
            ]
          },
          "metadata": {},
          "execution_count": 20
        }
      ]
    },
    {
      "cell_type": "code",
      "source": [
        "var_u = np.diag(np.power(model.resid, 2))\n",
        "var_u.shape"
      ],
      "metadata": {
        "colab": {
          "base_uri": "https://localhost:8080/"
        },
        "id": "4s6balXslTPY",
        "outputId": "596901ea-5ac2-45ab-af7b-a423c4440e69"
      },
      "execution_count": 21,
      "outputs": [
        {
          "output_type": "execute_result",
          "data": {
            "text/plain": [
              "(50, 50)"
            ]
          },
          "metadata": {},
          "execution_count": 21
        }
      ]
    },
    {
      "cell_type": "code",
      "source": [
        "exog = model.model.exog\n",
        "Var_HC = np.linalg.inv(exog.T @ exog) @ exog.T @ var_u @ exog @ np.linalg.inv(exog.T @ exog)\n",
        "df_var_hc = pd.DataFrame(Var_HC, columns = model.model.exog_names, index = model.model.exog_names)\n",
        "df_var_hc"
      ],
      "metadata": {
        "colab": {
          "base_uri": "https://localhost:8080/",
          "height": 112
        },
        "id": "ghoS72-rlW4I",
        "outputId": "a553bf34-4adb-483d-8553-21f687fde853"
      },
      "execution_count": 22,
      "outputs": [
        {
          "output_type": "execute_result",
          "data": {
            "text/plain": [
              "              Intercept          x\n",
              "Intercept  20098.536229 -503.92384\n",
              "x           -503.923840   12.65641"
            ],
            "text/html": [
              "\n",
              "  <div id=\"df-cb66e459-24c1-4421-9b03-f58296bb18ce\" class=\"colab-df-container\">\n",
              "    <div>\n",
              "<style scoped>\n",
              "    .dataframe tbody tr th:only-of-type {\n",
              "        vertical-align: middle;\n",
              "    }\n",
              "\n",
              "    .dataframe tbody tr th {\n",
              "        vertical-align: top;\n",
              "    }\n",
              "\n",
              "    .dataframe thead th {\n",
              "        text-align: right;\n",
              "    }\n",
              "</style>\n",
              "<table border=\"1\" class=\"dataframe\">\n",
              "  <thead>\n",
              "    <tr style=\"text-align: right;\">\n",
              "      <th></th>\n",
              "      <th>Intercept</th>\n",
              "      <th>x</th>\n",
              "    </tr>\n",
              "  </thead>\n",
              "  <tbody>\n",
              "    <tr>\n",
              "      <th>Intercept</th>\n",
              "      <td>20098.536229</td>\n",
              "      <td>-503.92384</td>\n",
              "    </tr>\n",
              "    <tr>\n",
              "      <th>x</th>\n",
              "      <td>-503.923840</td>\n",
              "      <td>12.65641</td>\n",
              "    </tr>\n",
              "  </tbody>\n",
              "</table>\n",
              "</div>\n",
              "    <div class=\"colab-df-buttons\">\n",
              "\n",
              "  <div class=\"colab-df-container\">\n",
              "    <button class=\"colab-df-convert\" onclick=\"convertToInteractive('df-cb66e459-24c1-4421-9b03-f58296bb18ce')\"\n",
              "            title=\"Convert this dataframe to an interactive table.\"\n",
              "            style=\"display:none;\">\n",
              "\n",
              "  <svg xmlns=\"http://www.w3.org/2000/svg\" height=\"24px\" viewBox=\"0 -960 960 960\">\n",
              "    <path d=\"M120-120v-720h720v720H120Zm60-500h600v-160H180v160Zm220 220h160v-160H400v160Zm0 220h160v-160H400v160ZM180-400h160v-160H180v160Zm440 0h160v-160H620v160ZM180-180h160v-160H180v160Zm440 0h160v-160H620v160Z\"/>\n",
              "  </svg>\n",
              "    </button>\n",
              "\n",
              "  <style>\n",
              "    .colab-df-container {\n",
              "      display:flex;\n",
              "      gap: 12px;\n",
              "    }\n",
              "\n",
              "    .colab-df-convert {\n",
              "      background-color: #E8F0FE;\n",
              "      border: none;\n",
              "      border-radius: 50%;\n",
              "      cursor: pointer;\n",
              "      display: none;\n",
              "      fill: #1967D2;\n",
              "      height: 32px;\n",
              "      padding: 0 0 0 0;\n",
              "      width: 32px;\n",
              "    }\n",
              "\n",
              "    .colab-df-convert:hover {\n",
              "      background-color: #E2EBFA;\n",
              "      box-shadow: 0px 1px 2px rgba(60, 64, 67, 0.3), 0px 1px 3px 1px rgba(60, 64, 67, 0.15);\n",
              "      fill: #174EA6;\n",
              "    }\n",
              "\n",
              "    .colab-df-buttons div {\n",
              "      margin-bottom: 4px;\n",
              "    }\n",
              "\n",
              "    [theme=dark] .colab-df-convert {\n",
              "      background-color: #3B4455;\n",
              "      fill: #D2E3FC;\n",
              "    }\n",
              "\n",
              "    [theme=dark] .colab-df-convert:hover {\n",
              "      background-color: #434B5C;\n",
              "      box-shadow: 0px 1px 3px 1px rgba(0, 0, 0, 0.15);\n",
              "      filter: drop-shadow(0px 1px 2px rgba(0, 0, 0, 0.3));\n",
              "      fill: #FFFFFF;\n",
              "    }\n",
              "  </style>\n",
              "\n",
              "    <script>\n",
              "      const buttonEl =\n",
              "        document.querySelector('#df-cb66e459-24c1-4421-9b03-f58296bb18ce button.colab-df-convert');\n",
              "      buttonEl.style.display =\n",
              "        google.colab.kernel.accessAllowed ? 'block' : 'none';\n",
              "\n",
              "      async function convertToInteractive(key) {\n",
              "        const element = document.querySelector('#df-cb66e459-24c1-4421-9b03-f58296bb18ce');\n",
              "        const dataTable =\n",
              "          await google.colab.kernel.invokeFunction('convertToInteractive',\n",
              "                                                    [key], {});\n",
              "        if (!dataTable) return;\n",
              "\n",
              "        const docLinkHtml = 'Like what you see? Visit the ' +\n",
              "          '<a target=\"_blank\" href=https://colab.research.google.com/notebooks/data_table.ipynb>data table notebook</a>'\n",
              "          + ' to learn more about interactive tables.';\n",
              "        element.innerHTML = '';\n",
              "        dataTable['output_type'] = 'display_data';\n",
              "        await google.colab.output.renderOutput(dataTable, element);\n",
              "        const docLink = document.createElement('div');\n",
              "        docLink.innerHTML = docLinkHtml;\n",
              "        element.appendChild(docLink);\n",
              "      }\n",
              "    </script>\n",
              "  </div>\n",
              "\n",
              "\n",
              "<div id=\"df-b4a2c250-a34b-4b10-9f79-59d2118c2dca\">\n",
              "  <button class=\"colab-df-quickchart\" onclick=\"quickchart('df-b4a2c250-a34b-4b10-9f79-59d2118c2dca')\"\n",
              "            title=\"Suggest charts.\"\n",
              "            style=\"display:none;\">\n",
              "\n",
              "<svg xmlns=\"http://www.w3.org/2000/svg\" height=\"24px\"viewBox=\"0 0 24 24\"\n",
              "     width=\"24px\">\n",
              "    <g>\n",
              "        <path d=\"M19 3H5c-1.1 0-2 .9-2 2v14c0 1.1.9 2 2 2h14c1.1 0 2-.9 2-2V5c0-1.1-.9-2-2-2zM9 17H7v-7h2v7zm4 0h-2V7h2v10zm4 0h-2v-4h2v4z\"/>\n",
              "    </g>\n",
              "</svg>\n",
              "  </button>\n",
              "\n",
              "<style>\n",
              "  .colab-df-quickchart {\n",
              "      --bg-color: #E8F0FE;\n",
              "      --fill-color: #1967D2;\n",
              "      --hover-bg-color: #E2EBFA;\n",
              "      --hover-fill-color: #174EA6;\n",
              "      --disabled-fill-color: #AAA;\n",
              "      --disabled-bg-color: #DDD;\n",
              "  }\n",
              "\n",
              "  [theme=dark] .colab-df-quickchart {\n",
              "      --bg-color: #3B4455;\n",
              "      --fill-color: #D2E3FC;\n",
              "      --hover-bg-color: #434B5C;\n",
              "      --hover-fill-color: #FFFFFF;\n",
              "      --disabled-bg-color: #3B4455;\n",
              "      --disabled-fill-color: #666;\n",
              "  }\n",
              "\n",
              "  .colab-df-quickchart {\n",
              "    background-color: var(--bg-color);\n",
              "    border: none;\n",
              "    border-radius: 50%;\n",
              "    cursor: pointer;\n",
              "    display: none;\n",
              "    fill: var(--fill-color);\n",
              "    height: 32px;\n",
              "    padding: 0;\n",
              "    width: 32px;\n",
              "  }\n",
              "\n",
              "  .colab-df-quickchart:hover {\n",
              "    background-color: var(--hover-bg-color);\n",
              "    box-shadow: 0 1px 2px rgba(60, 64, 67, 0.3), 0 1px 3px 1px rgba(60, 64, 67, 0.15);\n",
              "    fill: var(--button-hover-fill-color);\n",
              "  }\n",
              "\n",
              "  .colab-df-quickchart-complete:disabled,\n",
              "  .colab-df-quickchart-complete:disabled:hover {\n",
              "    background-color: var(--disabled-bg-color);\n",
              "    fill: var(--disabled-fill-color);\n",
              "    box-shadow: none;\n",
              "  }\n",
              "\n",
              "  .colab-df-spinner {\n",
              "    border: 2px solid var(--fill-color);\n",
              "    border-color: transparent;\n",
              "    border-bottom-color: var(--fill-color);\n",
              "    animation:\n",
              "      spin 1s steps(1) infinite;\n",
              "  }\n",
              "\n",
              "  @keyframes spin {\n",
              "    0% {\n",
              "      border-color: transparent;\n",
              "      border-bottom-color: var(--fill-color);\n",
              "      border-left-color: var(--fill-color);\n",
              "    }\n",
              "    20% {\n",
              "      border-color: transparent;\n",
              "      border-left-color: var(--fill-color);\n",
              "      border-top-color: var(--fill-color);\n",
              "    }\n",
              "    30% {\n",
              "      border-color: transparent;\n",
              "      border-left-color: var(--fill-color);\n",
              "      border-top-color: var(--fill-color);\n",
              "      border-right-color: var(--fill-color);\n",
              "    }\n",
              "    40% {\n",
              "      border-color: transparent;\n",
              "      border-right-color: var(--fill-color);\n",
              "      border-top-color: var(--fill-color);\n",
              "    }\n",
              "    60% {\n",
              "      border-color: transparent;\n",
              "      border-right-color: var(--fill-color);\n",
              "    }\n",
              "    80% {\n",
              "      border-color: transparent;\n",
              "      border-right-color: var(--fill-color);\n",
              "      border-bottom-color: var(--fill-color);\n",
              "    }\n",
              "    90% {\n",
              "      border-color: transparent;\n",
              "      border-bottom-color: var(--fill-color);\n",
              "    }\n",
              "  }\n",
              "</style>\n",
              "\n",
              "  <script>\n",
              "    async function quickchart(key) {\n",
              "      const quickchartButtonEl =\n",
              "        document.querySelector('#' + key + ' button');\n",
              "      quickchartButtonEl.disabled = true;  // To prevent multiple clicks.\n",
              "      quickchartButtonEl.classList.add('colab-df-spinner');\n",
              "      try {\n",
              "        const charts = await google.colab.kernel.invokeFunction(\n",
              "            'suggestCharts', [key], {});\n",
              "      } catch (error) {\n",
              "        console.error('Error during call to suggestCharts:', error);\n",
              "      }\n",
              "      quickchartButtonEl.classList.remove('colab-df-spinner');\n",
              "      quickchartButtonEl.classList.add('colab-df-quickchart-complete');\n",
              "    }\n",
              "    (() => {\n",
              "      let quickchartButtonEl =\n",
              "        document.querySelector('#df-b4a2c250-a34b-4b10-9f79-59d2118c2dca button');\n",
              "      quickchartButtonEl.style.display =\n",
              "        google.colab.kernel.accessAllowed ? 'block' : 'none';\n",
              "    })();\n",
              "  </script>\n",
              "</div>\n",
              "    </div>\n",
              "  </div>\n"
            ]
          },
          "metadata": {},
          "execution_count": 22
        }
      ]
    },
    {
      "cell_type": "code",
      "source": [
        "model.cov_params()"
      ],
      "metadata": {
        "colab": {
          "base_uri": "https://localhost:8080/",
          "height": 112
        },
        "id": "P12De6XvlZdI",
        "outputId": "e9193803-6c88-419c-ce6b-ef5e1fa6ec3e"
      },
      "execution_count": 23,
      "outputs": [
        {
          "output_type": "execute_result",
          "data": {
            "text/plain": [
              "              Intercept           x\n",
              "Intercept  22888.551614 -569.414901\n",
              "x           -569.414901   14.188806"
            ],
            "text/html": [
              "\n",
              "  <div id=\"df-1f5c8821-f42f-4946-bb94-7f4e236b366b\" class=\"colab-df-container\">\n",
              "    <div>\n",
              "<style scoped>\n",
              "    .dataframe tbody tr th:only-of-type {\n",
              "        vertical-align: middle;\n",
              "    }\n",
              "\n",
              "    .dataframe tbody tr th {\n",
              "        vertical-align: top;\n",
              "    }\n",
              "\n",
              "    .dataframe thead th {\n",
              "        text-align: right;\n",
              "    }\n",
              "</style>\n",
              "<table border=\"1\" class=\"dataframe\">\n",
              "  <thead>\n",
              "    <tr style=\"text-align: right;\">\n",
              "      <th></th>\n",
              "      <th>Intercept</th>\n",
              "      <th>x</th>\n",
              "    </tr>\n",
              "  </thead>\n",
              "  <tbody>\n",
              "    <tr>\n",
              "      <th>Intercept</th>\n",
              "      <td>22888.551614</td>\n",
              "      <td>-569.414901</td>\n",
              "    </tr>\n",
              "    <tr>\n",
              "      <th>x</th>\n",
              "      <td>-569.414901</td>\n",
              "      <td>14.188806</td>\n",
              "    </tr>\n",
              "  </tbody>\n",
              "</table>\n",
              "</div>\n",
              "    <div class=\"colab-df-buttons\">\n",
              "\n",
              "  <div class=\"colab-df-container\">\n",
              "    <button class=\"colab-df-convert\" onclick=\"convertToInteractive('df-1f5c8821-f42f-4946-bb94-7f4e236b366b')\"\n",
              "            title=\"Convert this dataframe to an interactive table.\"\n",
              "            style=\"display:none;\">\n",
              "\n",
              "  <svg xmlns=\"http://www.w3.org/2000/svg\" height=\"24px\" viewBox=\"0 -960 960 960\">\n",
              "    <path d=\"M120-120v-720h720v720H120Zm60-500h600v-160H180v160Zm220 220h160v-160H400v160Zm0 220h160v-160H400v160ZM180-400h160v-160H180v160Zm440 0h160v-160H620v160ZM180-180h160v-160H180v160Zm440 0h160v-160H620v160Z\"/>\n",
              "  </svg>\n",
              "    </button>\n",
              "\n",
              "  <style>\n",
              "    .colab-df-container {\n",
              "      display:flex;\n",
              "      gap: 12px;\n",
              "    }\n",
              "\n",
              "    .colab-df-convert {\n",
              "      background-color: #E8F0FE;\n",
              "      border: none;\n",
              "      border-radius: 50%;\n",
              "      cursor: pointer;\n",
              "      display: none;\n",
              "      fill: #1967D2;\n",
              "      height: 32px;\n",
              "      padding: 0 0 0 0;\n",
              "      width: 32px;\n",
              "    }\n",
              "\n",
              "    .colab-df-convert:hover {\n",
              "      background-color: #E2EBFA;\n",
              "      box-shadow: 0px 1px 2px rgba(60, 64, 67, 0.3), 0px 1px 3px 1px rgba(60, 64, 67, 0.15);\n",
              "      fill: #174EA6;\n",
              "    }\n",
              "\n",
              "    .colab-df-buttons div {\n",
              "      margin-bottom: 4px;\n",
              "    }\n",
              "\n",
              "    [theme=dark] .colab-df-convert {\n",
              "      background-color: #3B4455;\n",
              "      fill: #D2E3FC;\n",
              "    }\n",
              "\n",
              "    [theme=dark] .colab-df-convert:hover {\n",
              "      background-color: #434B5C;\n",
              "      box-shadow: 0px 1px 3px 1px rgba(0, 0, 0, 0.15);\n",
              "      filter: drop-shadow(0px 1px 2px rgba(0, 0, 0, 0.3));\n",
              "      fill: #FFFFFF;\n",
              "    }\n",
              "  </style>\n",
              "\n",
              "    <script>\n",
              "      const buttonEl =\n",
              "        document.querySelector('#df-1f5c8821-f42f-4946-bb94-7f4e236b366b button.colab-df-convert');\n",
              "      buttonEl.style.display =\n",
              "        google.colab.kernel.accessAllowed ? 'block' : 'none';\n",
              "\n",
              "      async function convertToInteractive(key) {\n",
              "        const element = document.querySelector('#df-1f5c8821-f42f-4946-bb94-7f4e236b366b');\n",
              "        const dataTable =\n",
              "          await google.colab.kernel.invokeFunction('convertToInteractive',\n",
              "                                                    [key], {});\n",
              "        if (!dataTable) return;\n",
              "\n",
              "        const docLinkHtml = 'Like what you see? Visit the ' +\n",
              "          '<a target=\"_blank\" href=https://colab.research.google.com/notebooks/data_table.ipynb>data table notebook</a>'\n",
              "          + ' to learn more about interactive tables.';\n",
              "        element.innerHTML = '';\n",
              "        dataTable['output_type'] = 'display_data';\n",
              "        await google.colab.output.renderOutput(dataTable, element);\n",
              "        const docLink = document.createElement('div');\n",
              "        docLink.innerHTML = docLinkHtml;\n",
              "        element.appendChild(docLink);\n",
              "      }\n",
              "    </script>\n",
              "  </div>\n",
              "\n",
              "\n",
              "<div id=\"df-02d96492-68ff-4804-8fe1-a0ab02e844d1\">\n",
              "  <button class=\"colab-df-quickchart\" onclick=\"quickchart('df-02d96492-68ff-4804-8fe1-a0ab02e844d1')\"\n",
              "            title=\"Suggest charts.\"\n",
              "            style=\"display:none;\">\n",
              "\n",
              "<svg xmlns=\"http://www.w3.org/2000/svg\" height=\"24px\"viewBox=\"0 0 24 24\"\n",
              "     width=\"24px\">\n",
              "    <g>\n",
              "        <path d=\"M19 3H5c-1.1 0-2 .9-2 2v14c0 1.1.9 2 2 2h14c1.1 0 2-.9 2-2V5c0-1.1-.9-2-2-2zM9 17H7v-7h2v7zm4 0h-2V7h2v10zm4 0h-2v-4h2v4z\"/>\n",
              "    </g>\n",
              "</svg>\n",
              "  </button>\n",
              "\n",
              "<style>\n",
              "  .colab-df-quickchart {\n",
              "      --bg-color: #E8F0FE;\n",
              "      --fill-color: #1967D2;\n",
              "      --hover-bg-color: #E2EBFA;\n",
              "      --hover-fill-color: #174EA6;\n",
              "      --disabled-fill-color: #AAA;\n",
              "      --disabled-bg-color: #DDD;\n",
              "  }\n",
              "\n",
              "  [theme=dark] .colab-df-quickchart {\n",
              "      --bg-color: #3B4455;\n",
              "      --fill-color: #D2E3FC;\n",
              "      --hover-bg-color: #434B5C;\n",
              "      --hover-fill-color: #FFFFFF;\n",
              "      --disabled-bg-color: #3B4455;\n",
              "      --disabled-fill-color: #666;\n",
              "  }\n",
              "\n",
              "  .colab-df-quickchart {\n",
              "    background-color: var(--bg-color);\n",
              "    border: none;\n",
              "    border-radius: 50%;\n",
              "    cursor: pointer;\n",
              "    display: none;\n",
              "    fill: var(--fill-color);\n",
              "    height: 32px;\n",
              "    padding: 0;\n",
              "    width: 32px;\n",
              "  }\n",
              "\n",
              "  .colab-df-quickchart:hover {\n",
              "    background-color: var(--hover-bg-color);\n",
              "    box-shadow: 0 1px 2px rgba(60, 64, 67, 0.3), 0 1px 3px 1px rgba(60, 64, 67, 0.15);\n",
              "    fill: var(--button-hover-fill-color);\n",
              "  }\n",
              "\n",
              "  .colab-df-quickchart-complete:disabled,\n",
              "  .colab-df-quickchart-complete:disabled:hover {\n",
              "    background-color: var(--disabled-bg-color);\n",
              "    fill: var(--disabled-fill-color);\n",
              "    box-shadow: none;\n",
              "  }\n",
              "\n",
              "  .colab-df-spinner {\n",
              "    border: 2px solid var(--fill-color);\n",
              "    border-color: transparent;\n",
              "    border-bottom-color: var(--fill-color);\n",
              "    animation:\n",
              "      spin 1s steps(1) infinite;\n",
              "  }\n",
              "\n",
              "  @keyframes spin {\n",
              "    0% {\n",
              "      border-color: transparent;\n",
              "      border-bottom-color: var(--fill-color);\n",
              "      border-left-color: var(--fill-color);\n",
              "    }\n",
              "    20% {\n",
              "      border-color: transparent;\n",
              "      border-left-color: var(--fill-color);\n",
              "      border-top-color: var(--fill-color);\n",
              "    }\n",
              "    30% {\n",
              "      border-color: transparent;\n",
              "      border-left-color: var(--fill-color);\n",
              "      border-top-color: var(--fill-color);\n",
              "      border-right-color: var(--fill-color);\n",
              "    }\n",
              "    40% {\n",
              "      border-color: transparent;\n",
              "      border-right-color: var(--fill-color);\n",
              "      border-top-color: var(--fill-color);\n",
              "    }\n",
              "    60% {\n",
              "      border-color: transparent;\n",
              "      border-right-color: var(--fill-color);\n",
              "    }\n",
              "    80% {\n",
              "      border-color: transparent;\n",
              "      border-right-color: var(--fill-color);\n",
              "      border-bottom-color: var(--fill-color);\n",
              "    }\n",
              "    90% {\n",
              "      border-color: transparent;\n",
              "      border-bottom-color: var(--fill-color);\n",
              "    }\n",
              "  }\n",
              "</style>\n",
              "\n",
              "  <script>\n",
              "    async function quickchart(key) {\n",
              "      const quickchartButtonEl =\n",
              "        document.querySelector('#' + key + ' button');\n",
              "      quickchartButtonEl.disabled = true;  // To prevent multiple clicks.\n",
              "      quickchartButtonEl.classList.add('colab-df-spinner');\n",
              "      try {\n",
              "        const charts = await google.colab.kernel.invokeFunction(\n",
              "            'suggestCharts', [key], {});\n",
              "      } catch (error) {\n",
              "        console.error('Error during call to suggestCharts:', error);\n",
              "      }\n",
              "      quickchartButtonEl.classList.remove('colab-df-spinner');\n",
              "      quickchartButtonEl.classList.add('colab-df-quickchart-complete');\n",
              "    }\n",
              "    (() => {\n",
              "      let quickchartButtonEl =\n",
              "        document.querySelector('#df-02d96492-68ff-4804-8fe1-a0ab02e844d1 button');\n",
              "      quickchartButtonEl.style.display =\n",
              "        google.colab.kernel.accessAllowed ? 'block' : 'none';\n",
              "    })();\n",
              "  </script>\n",
              "</div>\n",
              "    </div>\n",
              "  </div>\n"
            ]
          },
          "metadata": {},
          "execution_count": 23
        }
      ]
    },
    {
      "cell_type": "markdown",
      "source": [
        "Видим, что стандартная ошибка коэффициента для коснтанты уменьшилась примерно на 0.05 по сравнению с исходной моделью, тогда как все остальные коэффициенты незначительно увеличились, покажем изменения наглядно:"
      ],
      "metadata": {
        "id": "zV317BA9Kyzl"
      }
    },
    {
      "cell_type": "code",
      "source": [
        "df_var_hc / model.cov_params()"
      ],
      "metadata": {
        "colab": {
          "base_uri": "https://localhost:8080/",
          "height": 112
        },
        "id": "HfTD6Tmblk44",
        "outputId": "f4031384-fd49-4127-8f67-ebb2ea73ed85"
      },
      "execution_count": 24,
      "outputs": [
        {
          "output_type": "execute_result",
          "data": {
            "text/plain": [
              "           Intercept         x\n",
              "Intercept   0.878104  0.884985\n",
              "x           0.884985  0.892000"
            ],
            "text/html": [
              "\n",
              "  <div id=\"df-d32beac9-c324-48ce-aa98-b3f0095cc57c\" class=\"colab-df-container\">\n",
              "    <div>\n",
              "<style scoped>\n",
              "    .dataframe tbody tr th:only-of-type {\n",
              "        vertical-align: middle;\n",
              "    }\n",
              "\n",
              "    .dataframe tbody tr th {\n",
              "        vertical-align: top;\n",
              "    }\n",
              "\n",
              "    .dataframe thead th {\n",
              "        text-align: right;\n",
              "    }\n",
              "</style>\n",
              "<table border=\"1\" class=\"dataframe\">\n",
              "  <thead>\n",
              "    <tr style=\"text-align: right;\">\n",
              "      <th></th>\n",
              "      <th>Intercept</th>\n",
              "      <th>x</th>\n",
              "    </tr>\n",
              "  </thead>\n",
              "  <tbody>\n",
              "    <tr>\n",
              "      <th>Intercept</th>\n",
              "      <td>0.878104</td>\n",
              "      <td>0.884985</td>\n",
              "    </tr>\n",
              "    <tr>\n",
              "      <th>x</th>\n",
              "      <td>0.884985</td>\n",
              "      <td>0.892000</td>\n",
              "    </tr>\n",
              "  </tbody>\n",
              "</table>\n",
              "</div>\n",
              "    <div class=\"colab-df-buttons\">\n",
              "\n",
              "  <div class=\"colab-df-container\">\n",
              "    <button class=\"colab-df-convert\" onclick=\"convertToInteractive('df-d32beac9-c324-48ce-aa98-b3f0095cc57c')\"\n",
              "            title=\"Convert this dataframe to an interactive table.\"\n",
              "            style=\"display:none;\">\n",
              "\n",
              "  <svg xmlns=\"http://www.w3.org/2000/svg\" height=\"24px\" viewBox=\"0 -960 960 960\">\n",
              "    <path d=\"M120-120v-720h720v720H120Zm60-500h600v-160H180v160Zm220 220h160v-160H400v160Zm0 220h160v-160H400v160ZM180-400h160v-160H180v160Zm440 0h160v-160H620v160ZM180-180h160v-160H180v160Zm440 0h160v-160H620v160Z\"/>\n",
              "  </svg>\n",
              "    </button>\n",
              "\n",
              "  <style>\n",
              "    .colab-df-container {\n",
              "      display:flex;\n",
              "      gap: 12px;\n",
              "    }\n",
              "\n",
              "    .colab-df-convert {\n",
              "      background-color: #E8F0FE;\n",
              "      border: none;\n",
              "      border-radius: 50%;\n",
              "      cursor: pointer;\n",
              "      display: none;\n",
              "      fill: #1967D2;\n",
              "      height: 32px;\n",
              "      padding: 0 0 0 0;\n",
              "      width: 32px;\n",
              "    }\n",
              "\n",
              "    .colab-df-convert:hover {\n",
              "      background-color: #E2EBFA;\n",
              "      box-shadow: 0px 1px 2px rgba(60, 64, 67, 0.3), 0px 1px 3px 1px rgba(60, 64, 67, 0.15);\n",
              "      fill: #174EA6;\n",
              "    }\n",
              "\n",
              "    .colab-df-buttons div {\n",
              "      margin-bottom: 4px;\n",
              "    }\n",
              "\n",
              "    [theme=dark] .colab-df-convert {\n",
              "      background-color: #3B4455;\n",
              "      fill: #D2E3FC;\n",
              "    }\n",
              "\n",
              "    [theme=dark] .colab-df-convert:hover {\n",
              "      background-color: #434B5C;\n",
              "      box-shadow: 0px 1px 3px 1px rgba(0, 0, 0, 0.15);\n",
              "      filter: drop-shadow(0px 1px 2px rgba(0, 0, 0, 0.3));\n",
              "      fill: #FFFFFF;\n",
              "    }\n",
              "  </style>\n",
              "\n",
              "    <script>\n",
              "      const buttonEl =\n",
              "        document.querySelector('#df-d32beac9-c324-48ce-aa98-b3f0095cc57c button.colab-df-convert');\n",
              "      buttonEl.style.display =\n",
              "        google.colab.kernel.accessAllowed ? 'block' : 'none';\n",
              "\n",
              "      async function convertToInteractive(key) {\n",
              "        const element = document.querySelector('#df-d32beac9-c324-48ce-aa98-b3f0095cc57c');\n",
              "        const dataTable =\n",
              "          await google.colab.kernel.invokeFunction('convertToInteractive',\n",
              "                                                    [key], {});\n",
              "        if (!dataTable) return;\n",
              "\n",
              "        const docLinkHtml = 'Like what you see? Visit the ' +\n",
              "          '<a target=\"_blank\" href=https://colab.research.google.com/notebooks/data_table.ipynb>data table notebook</a>'\n",
              "          + ' to learn more about interactive tables.';\n",
              "        element.innerHTML = '';\n",
              "        dataTable['output_type'] = 'display_data';\n",
              "        await google.colab.output.renderOutput(dataTable, element);\n",
              "        const docLink = document.createElement('div');\n",
              "        docLink.innerHTML = docLinkHtml;\n",
              "        element.appendChild(docLink);\n",
              "      }\n",
              "    </script>\n",
              "  </div>\n",
              "\n",
              "\n",
              "<div id=\"df-1318bd55-bd8b-4e56-9729-1b16978b4bef\">\n",
              "  <button class=\"colab-df-quickchart\" onclick=\"quickchart('df-1318bd55-bd8b-4e56-9729-1b16978b4bef')\"\n",
              "            title=\"Suggest charts.\"\n",
              "            style=\"display:none;\">\n",
              "\n",
              "<svg xmlns=\"http://www.w3.org/2000/svg\" height=\"24px\"viewBox=\"0 0 24 24\"\n",
              "     width=\"24px\">\n",
              "    <g>\n",
              "        <path d=\"M19 3H5c-1.1 0-2 .9-2 2v14c0 1.1.9 2 2 2h14c1.1 0 2-.9 2-2V5c0-1.1-.9-2-2-2zM9 17H7v-7h2v7zm4 0h-2V7h2v10zm4 0h-2v-4h2v4z\"/>\n",
              "    </g>\n",
              "</svg>\n",
              "  </button>\n",
              "\n",
              "<style>\n",
              "  .colab-df-quickchart {\n",
              "      --bg-color: #E8F0FE;\n",
              "      --fill-color: #1967D2;\n",
              "      --hover-bg-color: #E2EBFA;\n",
              "      --hover-fill-color: #174EA6;\n",
              "      --disabled-fill-color: #AAA;\n",
              "      --disabled-bg-color: #DDD;\n",
              "  }\n",
              "\n",
              "  [theme=dark] .colab-df-quickchart {\n",
              "      --bg-color: #3B4455;\n",
              "      --fill-color: #D2E3FC;\n",
              "      --hover-bg-color: #434B5C;\n",
              "      --hover-fill-color: #FFFFFF;\n",
              "      --disabled-bg-color: #3B4455;\n",
              "      --disabled-fill-color: #666;\n",
              "  }\n",
              "\n",
              "  .colab-df-quickchart {\n",
              "    background-color: var(--bg-color);\n",
              "    border: none;\n",
              "    border-radius: 50%;\n",
              "    cursor: pointer;\n",
              "    display: none;\n",
              "    fill: var(--fill-color);\n",
              "    height: 32px;\n",
              "    padding: 0;\n",
              "    width: 32px;\n",
              "  }\n",
              "\n",
              "  .colab-df-quickchart:hover {\n",
              "    background-color: var(--hover-bg-color);\n",
              "    box-shadow: 0 1px 2px rgba(60, 64, 67, 0.3), 0 1px 3px 1px rgba(60, 64, 67, 0.15);\n",
              "    fill: var(--button-hover-fill-color);\n",
              "  }\n",
              "\n",
              "  .colab-df-quickchart-complete:disabled,\n",
              "  .colab-df-quickchart-complete:disabled:hover {\n",
              "    background-color: var(--disabled-bg-color);\n",
              "    fill: var(--disabled-fill-color);\n",
              "    box-shadow: none;\n",
              "  }\n",
              "\n",
              "  .colab-df-spinner {\n",
              "    border: 2px solid var(--fill-color);\n",
              "    border-color: transparent;\n",
              "    border-bottom-color: var(--fill-color);\n",
              "    animation:\n",
              "      spin 1s steps(1) infinite;\n",
              "  }\n",
              "\n",
              "  @keyframes spin {\n",
              "    0% {\n",
              "      border-color: transparent;\n",
              "      border-bottom-color: var(--fill-color);\n",
              "      border-left-color: var(--fill-color);\n",
              "    }\n",
              "    20% {\n",
              "      border-color: transparent;\n",
              "      border-left-color: var(--fill-color);\n",
              "      border-top-color: var(--fill-color);\n",
              "    }\n",
              "    30% {\n",
              "      border-color: transparent;\n",
              "      border-left-color: var(--fill-color);\n",
              "      border-top-color: var(--fill-color);\n",
              "      border-right-color: var(--fill-color);\n",
              "    }\n",
              "    40% {\n",
              "      border-color: transparent;\n",
              "      border-right-color: var(--fill-color);\n",
              "      border-top-color: var(--fill-color);\n",
              "    }\n",
              "    60% {\n",
              "      border-color: transparent;\n",
              "      border-right-color: var(--fill-color);\n",
              "    }\n",
              "    80% {\n",
              "      border-color: transparent;\n",
              "      border-right-color: var(--fill-color);\n",
              "      border-bottom-color: var(--fill-color);\n",
              "    }\n",
              "    90% {\n",
              "      border-color: transparent;\n",
              "      border-bottom-color: var(--fill-color);\n",
              "    }\n",
              "  }\n",
              "</style>\n",
              "\n",
              "  <script>\n",
              "    async function quickchart(key) {\n",
              "      const quickchartButtonEl =\n",
              "        document.querySelector('#' + key + ' button');\n",
              "      quickchartButtonEl.disabled = true;  // To prevent multiple clicks.\n",
              "      quickchartButtonEl.classList.add('colab-df-spinner');\n",
              "      try {\n",
              "        const charts = await google.colab.kernel.invokeFunction(\n",
              "            'suggestCharts', [key], {});\n",
              "      } catch (error) {\n",
              "        console.error('Error during call to suggestCharts:', error);\n",
              "      }\n",
              "      quickchartButtonEl.classList.remove('colab-df-spinner');\n",
              "      quickchartButtonEl.classList.add('colab-df-quickchart-complete');\n",
              "    }\n",
              "    (() => {\n",
              "      let quickchartButtonEl =\n",
              "        document.querySelector('#df-1318bd55-bd8b-4e56-9729-1b16978b4bef button');\n",
              "      quickchartButtonEl.style.display =\n",
              "        google.colab.kernel.accessAllowed ? 'block' : 'none';\n",
              "    })();\n",
              "  </script>\n",
              "</div>\n",
              "    </div>\n",
              "  </div>\n"
            ]
          },
          "metadata": {},
          "execution_count": 24
        }
      ]
    },
    {
      "cell_type": "markdown",
      "source": [
        "##Выводы"
      ],
      "metadata": {
        "id": "MX1X38sylwsQ"
      }
    },
    {
      "cell_type": "code",
      "source": [
        "model.pvalues.astype(np.float16)"
      ],
      "metadata": {
        "id": "l-46ngvyl2kx",
        "colab": {
          "base_uri": "https://localhost:8080/"
        },
        "outputId": "0aba3b12-8fb2-42c6-8b1c-236d0fa4813d"
      },
      "execution_count": 25,
      "outputs": [
        {
          "output_type": "execute_result",
          "data": {
            "text/plain": [
              "Intercept    0.156616\n",
              "x            0.421387\n",
              "dtype: float16"
            ]
          },
          "metadata": {},
          "execution_count": 25
        }
      ]
    },
    {
      "cell_type": "code",
      "source": [
        "model2.pvalues.astype(np.float16)"
      ],
      "metadata": {
        "id": "b7YZkJj4l3SJ",
        "colab": {
          "base_uri": "https://localhost:8080/"
        },
        "outputId": "573e136d-890c-4540-88a6-0ad48adaaf99"
      },
      "execution_count": 26,
      "outputs": [
        {
          "output_type": "execute_result",
          "data": {
            "text/plain": [
              "Intercept         0.414307\n",
              "const_weighted    0.148193\n",
              "dtype: float16"
            ]
          },
          "metadata": {},
          "execution_count": 26
        }
      ]
    },
    {
      "cell_type": "markdown",
      "source": [
        "Видим, что для исходного и взвешенного Х в МНК и ДВМНК моделях гипотеза о незначимости коэффициента при независимой переменной не отвергается на любом разумном уровне значимости. Это говорит о том, что Х  не оказывает существенного влияния на У, которое получилось идентифицировать в рамках моделирования регрессии. И на графиках выше для выборки размером 10000 наблюдений это очевидно, поскольку угол наклона линии регрессии находится на уровне нуля.\n",
        "\n",
        "В свою очередь, для исходной и взвешенной константы в МНК и ДВМНК гипотеза о незначимости коэффициента при константе не отвергается на уровне значимости как минимум 15%. Это означает, что точка пересечения линии регрессии с осью ОУ может лежать как выше оси ОХ, так и ниже её, то есть усреднённый результат зависимой переменной варьируется достаточно сильно, чтобы уверенно распознать значимое отличие от 0. Ну что ж, бывает, при этом с учётом столь большого значения ошибок модели это достаточно очевидный результат"
      ],
      "metadata": {
        "id": "d08yWkO9l4yB"
      }
    },
    {
      "cell_type": "markdown",
      "source": [
        "# Задача 4: проверка гауссовости\n",
        "\n",
        "* $H_0: ɛ \\sim N(0, \\sigma^2)$\n",
        "* $H_1: иначе$"
      ],
      "metadata": {
        "id": "eBUUKtjpWpr9"
      }
    },
    {
      "cell_type": "code",
      "source": [
        "x = np.linspace(0,5,1000)\n",
        "\n",
        "y1 = 4 + x +np.random.normal(size=x.shape)\n",
        "y2 =  4 + x +np.random.exponential(size=x.shape)\n",
        "\n",
        "plt.figure(figsize = (10,10))\n",
        "fig,axes = plt.subplots(ncols=  2)\n",
        "axes[0].scatter(x, y1)\n",
        "axes[0].set_xlabel(\"X\")\n",
        "axes[0].set_ylabel(\"y\")\n",
        "axes[0].set_title(\"Normal residuals\")\n",
        "\n",
        "\n",
        "axes[1].scatter(x, y2)\n",
        "axes[1].set_xlabel(\"X\")\n",
        "axes[1].set_ylabel(\"y\")\n",
        "axes[1].set_title(\"Exponential residuals\")"
      ],
      "metadata": {
        "colab": {
          "base_uri": "https://localhost:8080/",
          "height": 507
        },
        "id": "9xomekucYI1z",
        "outputId": "af618399-d49f-4811-9c89-1d9d9c19a463"
      },
      "execution_count": 27,
      "outputs": [
        {
          "output_type": "execute_result",
          "data": {
            "text/plain": [
              "Text(0.5, 1.0, 'Exponential residuals')"
            ]
          },
          "metadata": {},
          "execution_count": 27
        },
        {
          "output_type": "display_data",
          "data": {
            "text/plain": [
              "<Figure size 1000x1000 with 0 Axes>"
            ]
          },
          "metadata": {}
        },
        {
          "output_type": "display_data",
          "data": {
            "text/plain": [
              "<Figure size 640x480 with 2 Axes>"
            ],
            "image/png": "[encoded data removed]"
          },
          "metadata": {}
        }
      ]
    },
    {
      "cell_type": "code",
      "source": [
        "data = pd.DataFrame(np.vstack([x, y2]).T, columns=['x', 'y'])\n",
        "data.head()\n",
        "model = smf.ols(data=data, formula='y ~ x').fit()\n",
        "\n",
        "model.summary()"
      ],
      "metadata": {
        "colab": {
          "base_uri": "https://localhost:8080/",
          "height": 436
        },
        "id": "bPiHO0iQYrts",
        "outputId": "bae9e399-cc32-4e6b-ac4f-debd291e9110"
      },
      "execution_count": 28,
      "outputs": [
        {
          "output_type": "execute_result",
          "data": {
            "text/plain": [
              "<class 'statsmodels.iolib.summary.Summary'>\n",
              "\"\"\"\n",
              "                            OLS Regression Results                            \n",
              "==============================================================================\n",
              "Dep. Variable:                      y   R-squared:                       0.639\n",
              "Model:                            OLS   Adj. R-squared:                  0.639\n",
              "Method:                 Least Squares   F-statistic:                     1768.\n",
              "Date:                Fri, 20 Oct 2023   Prob (F-statistic):          3.55e-223\n",
              "Time:                        12:02:06   Log-Likelihood:                -1496.2\n",
              "No. Observations:                1000   AIC:                             2996.\n",
              "Df Residuals:                     998   BIC:                             3006.\n",
              "Df Model:                           1                                         \n",
              "Covariance Type:            nonrobust                                         \n",
              "==============================================================================\n",
              "                 coef    std err          t      P>|t|      [0.025      0.975]\n",
              "------------------------------------------------------------------------------\n",
              "Intercept      5.0372      0.068     73.706      0.000       4.903       5.171\n",
              "x              0.9953      0.024     42.052      0.000       0.949       1.042\n",
              "==============================================================================\n",
              "Omnibus:                      477.973   Durbin-Watson:                   2.070\n",
              "Prob(Omnibus):                  0.000   Jarque-Bera (JB):             2795.572\n",
              "Skew:                           2.159   Prob(JB):                         0.00\n",
              "Kurtosis:                       9.960   Cond. No.                         6.30\n",
              "==============================================================================\n",
              "\n",
              "Notes:\n",
              "[1] Standard Errors assume that the covariance matrix of the errors is correctly specified.\n",
              "\"\"\""
            ],
            "text/html": [
              "<table class=\"simpletable\">\n",
              "<caption>OLS Regression Results</caption>\n",
              "<tr>\n",
              "  <th>Dep. Variable:</th>            <td>y</td>        <th>  R-squared:         </th> <td>   0.639</td> \n",
              "</tr>\n",
              "<tr>\n",
              "  <th>Model:</th>                   <td>OLS</td>       <th>  Adj. R-squared:    </th> <td>   0.639</td> \n",
              "</tr>\n",
              "<tr>\n",
              "  <th>Method:</th>             <td>Least Squares</td>  <th>  F-statistic:       </th> <td>   1768.</td> \n",
              "</tr>\n",
              "<tr>\n",
              "  <th>Date:</th>             <td>Fri, 20 Oct 2023</td> <th>  Prob (F-statistic):</th> <td>3.55e-223</td>\n",
              "</tr>\n",
              "<tr>\n",
              "  <th>Time:</th>                 <td>12:02:06</td>     <th>  Log-Likelihood:    </th> <td> -1496.2</td> \n",
              "</tr>\n",
              "<tr>\n",
              "  <th>No. Observations:</th>      <td>  1000</td>      <th>  AIC:               </th> <td>   2996.</td> \n",
              "</tr>\n",
              "<tr>\n",
              "  <th>Df Residuals:</th>          <td>   998</td>      <th>  BIC:               </th> <td>   3006.</td> \n",
              "</tr>\n",
              "<tr>\n",
              "  <th>Df Model:</th>              <td>     1</td>      <th>                     </th>     <td> </td>    \n",
              "</tr>\n",
              "<tr>\n",
              "  <th>Covariance Type:</th>      <td>nonrobust</td>    <th>                     </th>     <td> </td>    \n",
              "</tr>\n",
              "</table>\n",
              "<table class=\"simpletable\">\n",
              "<tr>\n",
              "      <td></td>         <th>coef</th>     <th>std err</th>      <th>t</th>      <th>P>|t|</th>  <th>[0.025</th>    <th>0.975]</th>  \n",
              "</tr>\n",
              "<tr>\n",
              "  <th>Intercept</th> <td>    5.0372</td> <td>    0.068</td> <td>   73.706</td> <td> 0.000</td> <td>    4.903</td> <td>    5.171</td>\n",
              "</tr>\n",
              "<tr>\n",
              "  <th>x</th>         <td>    0.9953</td> <td>    0.024</td> <td>   42.052</td> <td> 0.000</td> <td>    0.949</td> <td>    1.042</td>\n",
              "</tr>\n",
              "</table>\n",
              "<table class=\"simpletable\">\n",
              "<tr>\n",
              "  <th>Omnibus:</th>       <td>477.973</td> <th>  Durbin-Watson:     </th> <td>   2.070</td>\n",
              "</tr>\n",
              "<tr>\n",
              "  <th>Prob(Omnibus):</th> <td> 0.000</td>  <th>  Jarque-Bera (JB):  </th> <td>2795.572</td>\n",
              "</tr>\n",
              "<tr>\n",
              "  <th>Skew:</th>          <td> 2.159</td>  <th>  Prob(JB):          </th> <td>    0.00</td>\n",
              "</tr>\n",
              "<tr>\n",
              "  <th>Kurtosis:</th>      <td> 9.960</td>  <th>  Cond. No.          </th> <td>    6.30</td>\n",
              "</tr>\n",
              "</table><br/><br/>Notes:<br/>[1] Standard Errors assume that the covariance matrix of the errors is correctly specified."
            ],
            "text/latex": "\\begin{center}\n\\begin{tabular}{lclc}\n\\toprule\n\\textbf{Dep. Variable:}    &        y         & \\textbf{  R-squared:         } &     0.639   \\\\\n\\textbf{Model:}            &       OLS        & \\textbf{  Adj. R-squared:    } &     0.639   \\\\\n\\textbf{Method:}           &  Least Squares   & \\textbf{  F-statistic:       } &     1768.   \\\\\n\\textbf{Date:}             & Fri, 20 Oct 2023 & \\textbf{  Prob (F-statistic):} & 3.55e-223   \\\\\n\\textbf{Time:}             &     12:02:06     & \\textbf{  Log-Likelihood:    } &   -1496.2   \\\\\n\\textbf{No. Observations:} &        1000      & \\textbf{  AIC:               } &     2996.   \\\\\n\\textbf{Df Residuals:}     &         998      & \\textbf{  BIC:               } &     3006.   \\\\\n\\textbf{Df Model:}         &           1      & \\textbf{                     } &             \\\\\n\\textbf{Covariance Type:}  &    nonrobust     & \\textbf{                     } &             \\\\\n\\bottomrule\n\\end{tabular}\n\\begin{tabular}{lcccccc}\n                   & \\textbf{coef} & \\textbf{std err} & \\textbf{t} & \\textbf{P$> |$t$|$} & \\textbf{[0.025} & \\textbf{0.975]}  \\\\\n\\midrule\n\\textbf{Intercept} &       5.0372  &        0.068     &    73.706  &         0.000        &        4.903    &        5.171     \\\\\n\\textbf{x}         &       0.9953  &        0.024     &    42.052  &         0.000        &        0.949    &        1.042     \\\\\n\\bottomrule\n\\end{tabular}\n\\begin{tabular}{lclc}\n\\textbf{Omnibus:}       & 477.973 & \\textbf{  Durbin-Watson:     } &    2.070  \\\\\n\\textbf{Prob(Omnibus):} &   0.000 & \\textbf{  Jarque-Bera (JB):  } & 2795.572  \\\\\n\\textbf{Skew:}          &   2.159 & \\textbf{  Prob(JB):          } &     0.00  \\\\\n\\textbf{Kurtosis:}      &   9.960 & \\textbf{  Cond. No.          } &     6.30  \\\\\n\\bottomrule\n\\end{tabular}\n%\\caption{OLS Regression Results}\n\\end{center}\n\nNotes: \\newline\n [1] Standard Errors assume that the covariance matrix of the errors is correctly specified."
          },
          "metadata": {},
          "execution_count": 28
        }
      ]
    },
    {
      "cell_type": "code",
      "source": [
        "res = model.resid\n",
        "counts, bins = np.histogram(res, bins=20, density=True)\n",
        "\n",
        "plt.figure(figsize = (10,10))\n",
        "plt.title('Гистограмма распределения остатков')\n",
        "plt.hist(bins[:-1], bins, weights=counts)\n",
        "plt.show()"
      ],
      "metadata": {
        "colab": {
          "base_uri": "https://localhost:8080/",
          "height": 853
        },
        "id": "no_fTT0fZMlj",
        "outputId": "5ca9abbd-62cb-4a2f-e08b-8bf390f86971"
      },
      "execution_count": 29,
      "outputs": [
        {
          "output_type": "display_data",
          "data": {
            "text/plain": [
              "<Figure size 1000x1000 with 1 Axes>"
            ],
            "image/png": "[encoded data removed]"
          },
          "metadata": {}
        }
      ]
    },
    {
      "cell_type": "markdown",
      "source": [
        "## Критерий Колмогорова"
      ],
      "metadata": {
        "id": "6elIyvV1W9lU"
      }
    },
    {
      "cell_type": "code",
      "source": [
        "smd.kstest_normal(res)"
      ],
      "metadata": {
        "colab": {
          "base_uri": "https://localhost:8080/"
        },
        "id": "EcX6ikVWa6C5",
        "outputId": "17859d47-3b58-4ba2-e559-0edda62f9d53"
      },
      "execution_count": 30,
      "outputs": [
        {
          "output_type": "execute_result",
          "data": {
            "text/plain": [
              "(0.16978046562840166, 0.0009999999999998899)"
            ]
          },
          "metadata": {},
          "execution_count": 30
        }
      ]
    },
    {
      "cell_type": "markdown",
      "source": [
        "* Значение статистики Колмогорва-Смирнова\n",
        "* p-value\n",
        "\n",
        "Видим, что гипотеза о нормальности остатков отвергается на любом разумном уровне значимости"
      ],
      "metadata": {
        "id": "61b8RIUebBgI"
      }
    },
    {
      "cell_type": "markdown",
      "source": [
        "## Критерий Андерсона-Дарлинга"
      ],
      "metadata": {
        "id": "Vpo_n-u9YE0l"
      }
    },
    {
      "cell_type": "code",
      "source": [
        "smd.normal_ad(res)"
      ],
      "metadata": {
        "id": "M0edLr8abbQ3"
      },
      "execution_count": null,
      "outputs": []
    },
    {
      "cell_type": "markdown",
      "source": [
        "* Значение статистики Андерсона-Дарлинга\n",
        "* p-value гипотезы о нормальности остатков\n",
        "\n",
        "Отвергается"
      ],
      "metadata": {
        "id": "eMXaCPPFbhVZ"
      }
    },
    {
      "cell_type": "markdown",
      "source": [
        "## Критерии Жарке-Бера и Omnibus"
      ],
      "metadata": {
        "id": "F80Vv5I3byWw"
      }
    },
    {
      "cell_type": "code",
      "source": [
        "model.summary()"
      ],
      "metadata": {
        "id": "h-9AW0VKb_-i"
      },
      "execution_count": null,
      "outputs": []
    },
    {
      "cell_type": "markdown",
      "source": [
        "* В последних 4 строчках видим статистику и p-value для тестова Jarque-Bera & Omnibus, в которых видно, что гипотеза о нормальности распределения остатков также отвергается"
      ],
      "metadata": {
        "id": "LgYbD0h1cDOu"
      }
    },
    {
      "cell_type": "markdown",
      "source": [
        "## Проверка мощности тестов"
      ],
      "metadata": {
        "id": "_oKElN5xLO3q"
      }
    },
    {
      "cell_type": "code",
      "source": [
        "list(range(25, 100, 25))+list(range(100, 1000, 200))"
      ],
      "metadata": {
        "colab": {
          "base_uri": "https://localhost:8080/"
        },
        "id": "YBGSoEntM-sq",
        "outputId": "32991996-783d-4d3b-a4bf-6339077e0dde"
      },
      "execution_count": 59,
      "outputs": [
        {
          "output_type": "execute_result",
          "data": {
            "text/plain": [
              "[25, 50, 75, 100, 300, 500, 700, 900]"
            ]
          },
          "metadata": {},
          "execution_count": 59
        }
      ]
    },
    {
      "cell_type": "code",
      "source": [
        "def check_power(max_sample_size=1000,\n",
        "                num_samples = 1000,\n",
        "                alpha = 0.05,\n",
        "                errors_type='exponential'):\n",
        "  portion_of_accepted_ks = dict()\n",
        "  portion_of_accepted_ad = dict()\n",
        "  portion_of_accepted_jb = dict()\n",
        "  portion_of_accepted_om = dict()\n",
        "  # итерируемся по размеру выборки\n",
        "  if max_sample_size>100:\n",
        "    sample_sizes = list(range(20, 100, 20))+list(range(100, max_sample_size, 200))\n",
        "  else:\n",
        "    sample_size =  list(range(20, max_sample_size, 10))\n",
        "  for n in range(25, max_sample_size, 25):\n",
        "    portion_of_accepted_ks[n] = 0\n",
        "    portion_of_accepted_ad[n] = 0\n",
        "    portion_of_accepted_jb[n] = 0\n",
        "    portion_of_accepted_om[n] = 0\n",
        "\n",
        "    # итерируемся по разным выборкам\n",
        "    for i in range(num_samples):\n",
        "      x = np.linspace(0,5,n)\n",
        "      np.random.seed(n*i)\n",
        "\n",
        "      # генерим y\n",
        "      if errors_type == 'exponential':\n",
        "        y =  4 + x +np.random.exponential(size=x.shape)\n",
        "      elif errors_type == 'normal':\n",
        "        y =  4 + x +np.random.normal(size=x.shape)\n",
        "\n",
        "      data = pd.DataFrame(np.vstack([x, y]).T, columns=['x', 'y'])\n",
        "      model = smf.ols(data=data, formula='y ~ x').fit()\n",
        "\n",
        "      # выбираем тест\n",
        "      p_values = [smd.kstest_normal(model.resid)[1], smd.normal_ad(model.resid)[1], smst.jarque_bera(model.resid)[1], smst.omni_normtest(model.resid)[1]]\n",
        "\n",
        "      # обновляем значение доли принятых тестов\n",
        "      if p_values[0]>alpha:\n",
        "        portion_of_accepted_ks[n] += 1/num_samples\n",
        "      if p_values[1]>alpha:\n",
        "        portion_of_accepted_ad[n] += 1/num_samples\n",
        "      if p_values[2]>alpha:\n",
        "        portion_of_accepted_jb[n] += 1/num_samples\n",
        "      if p_values[3]>alpha:\n",
        "        portion_of_accepted_om[n] += 1/num_samples\n",
        "\n",
        "  return portion_of_accepted_ks, portion_of_accepted_ad, portion_of_accepted_jb, portion_of_accepted_om"
      ],
      "metadata": {
        "id": "njpvfbTzrRkk"
      },
      "execution_count": 63,
      "outputs": []
    },
    {
      "cell_type": "code",
      "source": [
        "import warnings\n",
        "warnings.filterwarnings(\"ignore\")\n",
        "\n",
        "ks_exp, ad_exp, jb_exp, om_exp = check_power()\n",
        "ks_norm, ad_norm, jb_norm, om_norm = check_power(errors_type='normal')"
      ],
      "metadata": {
        "id": "uJTY-OxdLXQ6"
      },
      "execution_count": 64,
      "outputs": []
    },
    {
      "cell_type": "code",
      "source": [
        "plt.figure(figsize=(12, 8))\n",
        "plt.plot(ks_exp.keys(), ks_exp.values(), label='Kolmogorov')\n",
        "plt.plot(ad_exp.keys(), ad_exp.values(), label='Anderson-Darling')\n",
        "plt.plot(jb_exp.keys(), jb_exp.values(), label='Jarque-Bera')\n",
        "plt.plot(om_exp.keys(), om_exp.values(), label='Omnibus')\n",
        "\n",
        "plt.legend()\n",
        "plt.title('Доля принятых гипотез (из 1000) относительно размера выборки в случае экспоненциально распределённых остатков')\n",
        "plt.grid()\n",
        "plt.xlabel('Размер выборки')\n",
        "plt.ylabel('Доля принятых гипотез')\n",
        "plt.show()"
      ],
      "metadata": {
        "colab": {
          "base_uri": "https://localhost:8080/",
          "height": 718
        },
        "id": "LiKUb-ZOBsFJ",
        "outputId": "f61078aa-05ed-4a68-df7b-2175436860e2"
      },
      "execution_count": 65,
      "outputs": [
        {
          "output_type": "display_data",
          "data": {
            "text/plain": [
              "<Figure size 1200x800 with 1 Axes>"
            ],
            "image/png": "[encoded data removed]"
          },
          "metadata": {}
        }
      ]
    },
    {
      "cell_type": "code",
      "source": [
        "plt.figure(figsize=(12, 8))\n",
        "plt.plot(ks_norm.keys(), ks_norm.values(), label='Kolmogorov')\n",
        "plt.plot(ad_norm.keys(), ad_norm.values(), label='Anderson-Darling')\n",
        "plt.plot(jb_norm.keys(), jb_norm.values(), label='Jarque-Bera')\n",
        "plt.plot(om_norm.keys(), om_norm.values(), label='Omnibus')\n",
        "\n",
        "plt.legend()\n",
        "plt.title('Доля принятых гипотез (из 1000) относительно размера выборки в случае нормально распределённых остатков')\n",
        "plt.grid()\n",
        "plt.xlabel('Размер выборки')\n",
        "plt.ylabel('Доля принятых гипотез')\n",
        "plt.show()"
      ],
      "metadata": {
        "colab": {
          "base_uri": "https://localhost:8080/",
          "height": 718
        },
        "id": "uL8bGtJOMZxK",
        "outputId": "353785f9-1532-4886-862e-cc3777ec376a"
      },
      "execution_count": 67,
      "outputs": [
        {
          "output_type": "display_data",
          "data": {
            "text/plain": [
              "<Figure size 1200x800 with 1 Axes>"
            ],
            "image/png": "[encoded data removed]"
          },
          "metadata": {}
        }
      ]
    },
    {
      "cell_type": "markdown",
      "source": [
        "## Как можно побороть негауссовость остатков?"
      ],
      "metadata": {
        "id": "h7Hsui9WcNgy"
      }
    },
    {
      "cell_type": "code",
      "source": [
        "import statsmodels.api as sm\n",
        "X = sm.add_constant(x)\n",
        "model = sm.GLM(exog=X, endog=y2, family=sm.families.Gamma()).fit()\n",
        "\n",
        "model.summary()"
      ],
      "metadata": {
        "id": "9MmVP3Pde3lm"
      },
      "execution_count": null,
      "outputs": []
    },
    {
      "cell_type": "code",
      "source": [
        "res = model.resid_response\n",
        "counts, bins = np.histogram(res, bins=20, density=True)\n",
        "\n",
        "plt.figure(figsize = (10,10))\n",
        "plt.title('Гистограмма распределения остатков')\n",
        "plt.hist(bins[:-1], bins, weights=counts)\n",
        "plt.show()"
      ],
      "metadata": {
        "id": "NlOifOcphXGz"
      },
      "execution_count": null,
      "outputs": []
    },
    {
      "cell_type": "markdown",
      "source": [
        "# Задача 5 FWL: (Frisch–Waugh–Lovell theorem) (опционально)\n",
        "https://en.wikipedia.org/wiki/Frisch%E2%80%93Waugh%E2%80%93Lovell_theorem"
      ],
      "metadata": {
        "id": "6JsHm97XigaV"
      }
    },
    {
      "cell_type": "markdown",
      "source": [
        "\n",
        "\n",
        "Сравним два подхода к линейной регрессии:\n",
        "Модель зависимаемая от двух переменных u и x.\n",
        "1.    $y = \\beta_0+\\beta_u u+\\beta_x x+\\epsilon$\n",
        "Посчитаем $\\hat{se}(\\beta_u)$\n",
        "2. После получения оценки на парметры $\\beta_u , \\beta_x$ с  помощью МНК,\n",
        "посчитаем остаток как $r_x = y - \\beta_x x$ и теперь оценим модель линейной регрессии:\n",
        "\n",
        "  $r_x = \\alpha_0+\\alpha_u u +\\varepsilon$\n",
        "\n",
        "\n",
        "\n",
        "*   Отличаются ли оценки параметров $\\beta_u$  и $\\alpha_u$?\n",
        "\n",
        "*  Чем отличаются оценки стандарных отклонения этих параметров: $\\hat{se}(\\beta_u)$ и $\\hat{se}(\\alpha_u)$?"
      ],
      "metadata": {
        "id": "3e2CMZeticao"
      }
    },
    {
      "cell_type": "markdown",
      "source": [
        "Appendix"
      ],
      "metadata": {
        "id": "I6UXkgWH21U1"
      }
    },
    {
      "cell_type": "markdown",
      "source": [
        "Решение про нахождение оценок для $\\beta_u$  и $\\alpha_u$\n",
        "\n",
        "\n",
        "Пусть\n",
        "$ X = \\begin{bmatrix}\n",
        "1 & u_1 & x_1\\\\\n",
        "1 & u_2 & x_2 \\\\\n",
        "⋯ &⋯  & ⋯ \\\\\n",
        "1 & u_n & x_n\n",
        "\\end{bmatrix}$\n",
        "\n",
        "Пусть $V= \\begin{bmatrix}\n",
        "1 & u_1 & x_1\\\\\n",
        "1 & u_2 & x_2 \\\\\n",
        "⋯ &⋯  & ⋯ \\\\\n",
        "1 & u_n & x_n\n",
        "\\end{bmatrix} \\begin{bmatrix}\n",
        "1 & 0 \\\\\n",
        "0 & 1 \\\\\n",
        "0 & 0\n",
        "\\end{bmatrix} = X[:,: 2]$. берем первые два столбца матрицы X\n",
        "\n",
        "Тогда\n",
        "\n",
        "$\\beta = (X^{T}X)^{-1}X^{T}y$\n",
        "\n",
        "$$\n",
        "r=y-\\hat{\\beta}_x x=y-X\\left[\\begin{array}{c}\n",
        "0 \\\\\n",
        "0 \\\\\n",
        "\\hat{\\beta}_x\n",
        "\\end{array}\\right] .\n",
        "$$\n",
        "Предположим коэффициентов, тогда:\n",
        "$$\n",
        "\\begin{array}{l}\n",
        "\\beta_u=\\alpha_u \\Longleftrightarrow\\left(\\left(X^T X\\right)^{-1} X^T y\\right)[1]=\\left(\\left(V^T V\\right)^{-1} V^T r\\right)[1] \\\\\n",
        "\\Longleftrightarrow\\left(\\left(X^T X\\right)^{-1} X^T y\\right)^{T}\\left[\\begin{array}{c}\n",
        "0 \\\\\n",
        "1 \\\\\n",
        "0\n",
        "\\end{array}\\right]=\\left(\\left(X^T X\\right)[: 2,: 2]^{-1} X[:,: 2]^T\\left(y-X\\left[\\begin{array}{c}\n",
        "0 \\\\\n",
        "0 \\\\\n",
        "\\hat{\\beta}_x\n",
        "\\end{array}\\right]\\right)\\right)^{T}\\left[\\begin{array}{c}\n",
        "0 \\\\\n",
        "1\n",
        "\\end{array}\\right],\n",
        "\\end{array}\n",
        "$$\n",
        "что следует из\n",
        "$$\n",
        "\\left(\\left(X^T X\\right)^{-1} X^T y\\right)[: 2]=\\left(X^T X\\right)[: 2,: 2]^{-1} X[:,: 2]^T\\left(y-X\\left[\\begin{array}{c}\n",
        "0 \\\\\n",
        "0 \\\\\n",
        "\\left(\\left(X^T X\\right)^{-1} X^T y\\right)[2]\n",
        "\\end{array}\\right]\\right),\n",
        "$$\n",
        "что эквивалентно\n",
        "$$\n",
        "\\left(\\left(X^T X\\right)^{-1} X^T y\\right)[: 2]=\\left(X^T X\\right)[: 2,: 2]^{-1}\\left(X^T\\left(y-X\\left[\\begin{array}{c}\n",
        "0 \\\\\n",
        "0 \\\\\n",
        "\\left(\\left(X^T X\\right)^{-1} X^T y\\right)[2]\n",
        "\\end{array}\\right]\\right)\\right)[: 2],\n",
        "$$\n",
        "что эквивалентно\n",
        "$$\n",
        "\\left(\\left(X^T X\\right)^{-1} X^T y\\right)[: 2]=\\left(X^T X\\right)[: 2,: 2]^{-1}\\left(X^T y-X^T X\\left[\\begin{array}{c}\n",
        "0 \\\\\n",
        "0 \\\\\n",
        "\\left(\\left(X^T X\\right)^{-1} X^T y\\right)[2]\n",
        "\\end{array}\\right]\\right)[: 2],\n",
        "$$\n",
        "что следует из (for $\\Sigma=X^T X$ and $b=X^T y$ )\n",
        "$$\n",
        "\\left(\\Sigma^{-1} b\\right)[: 2]=\\Sigma[: 2,: 2]^{-1}\\left(b-\\Sigma\\left[\\begin{array}{c}\n",
        "0 \\\\\n",
        "0 \\\\\n",
        "\\left(\\Sigma^{-1} b\\right)[2]\n",
        "\\end{array}\\right]\\right)[: 2]\n",
        "$$\n",
        "что следует из (for $c=\\Sigma^{-1} b$ )\n",
        "$$\n",
        "c[: 2]=\\Sigma[: 2,: 2]^{-1}\\left(\\Sigma c-\\Sigma\\left[\\begin{array}{c}\n",
        "0 \\\\\n",
        "0 \\\\\n",
        "c[2]\n",
        "\\end{array}\\right]\\right)[: 2]\n",
        "$$\n",
        "что следует из\n",
        "$$\n",
        "\\Sigma[: 2,: 2] c[: 2]=\\left(\\Sigma c-\\Sigma\\left[\\begin{array}{c}\n",
        "0 \\\\\n",
        "0 \\\\\n",
        "c[2]\n",
        "\\end{array}\\right]\\right)[: 2],\n",
        "$$\n",
        "что видно из\n",
        "$$\n",
        "\\Sigma[:,: 2] c[: 2]=\\Sigma c-\\Sigma\\left[\\begin{array}{c}\n",
        "0 \\\\\n",
        "0 \\\\\n",
        "c\n",
        "\\end{array}\\right]\n",
        "$$\n",
        "Ч. Т. Д."
      ],
      "metadata": {
        "id": "sGjyXez-iW6r"
      }
    },
    {
      "cell_type": "markdown",
      "source": [
        "Найдем оценки на дисперсию оценок:"
      ],
      "metadata": {
        "id": "IQcFZnYGiTvZ"
      }
    },
    {
      "cell_type": "markdown",
      "source": [
        "Решение задачи FWL:\n",
        "Пусть\n",
        "$ X = \\begin{bmatrix}\n",
        "1 & u_1 & x_1\\\\\n",
        "1 & u_2 & x_2 \\\\\n",
        "⋯ &⋯  & ⋯ \\\\\n",
        "1 & u_n & x_n\n",
        "\\end{bmatrix}$\n",
        "\n",
        "Пусть $V=X[:,: 2]$. берем первые два столбца матрицы X\n",
        "$$\n",
        "\\begin{array}{c}\n",
        "\\hat{\\operatorname{Var}}_{\\text {class }}(\\hat{\\beta})=\\frac{\\sum\\left(y_i-\\hat{y}_i\\right)^2}{n-3}\\left(X^T X\\right)^{-1}=\\frac{\\left\\|y-X\\left(X^T X\\right)^{-1} X^T y\\right\\|_F^2}{n-3}\\left(X^T X\\right)^{-1} \\\\\n",
        "\\hat{\\operatorname{Var}}_{\\text {class }}(\\hat{\\gamma})=\\frac{\\sum\\left(r_i-\\hat{r}_i\\right)^2}{n-2}\\left(V^T V\\right)^{-1}=\\frac{\\left\\|r-Y\\left(V^T V\\right)^{-1} V^T r\\right\\|_F^2}{n-2}\\left(V^T V\\right)^{-1} \\\\\n",
        "\\frac{\\operatorname{se}_{\\text {class }}\\left(\\hat{\\beta}_w\\right)}{\\operatorname{se}_{\\text {class }}\\left(\\hat{\\gamma}_w\\right)}=\\frac{\\sqrt{\\operatorname{Var}_{\\text {class }}(\\hat{\\beta})[1,1]}}{\\sqrt{\\operatorname{Var}_{\\text {class }}(\\hat{\\gamma})[1,1]}}=\\sqrt{\\frac{n-2}{n-3} \\cdot \\frac{\\left\\|\\left(I-X\\left(X^T X\\right)^{-1} X^T\\right) y\\right\\|_F^2\\left(X^T X\\right)^{-1}[1,1]}{\\left\\|\\left(I-V\\left(V^T V\\right)^{-1} V^T\\right) r\\right\\|_F^2\\left(V^T V\\right)^{-1}[1,1]}}\n",
        "\\end{array}\n",
        "$$\n",
        "Ответ:\n",
        "$$\n",
        "\\sqrt{\\frac{n-2}{n-3} \\cdot \\frac{\\left(\\left\\|\\left(I-X\\left(X^T X\\right)^{-1} X^T\\right) y\\right\\|_F^2\\left(X^T X\\right)^{-1}\\right)_{2,2}}{\\left(\\left\\|\\left(I-V\\left(V^T V\\right)^{-1} V^T\\right) r\\right\\|_F^2\\left(V^T V\\right)^{-1}\\right)_{2,2}}}\n",
        "$$"
      ],
      "metadata": {
        "id": "PsIGvbIhiRCV"
      }
    },
    {
      "cell_type": "markdown",
      "source": [],
      "metadata": {
        "id": "PfxErJr4B1un"
      }
    }
  ]
}