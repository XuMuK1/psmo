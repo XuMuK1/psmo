{
  "nbformat": 4,
  "nbformat_minor": 0,
  "metadata": {
    "colab": {
      "provenance": [],
      "collapsed_sections": [
        "cu_RGE7dOwHg"
      ]
    },
    "kernelspec": {
      "name": "python3",
      "display_name": "Python 3"
    },
    "language_info": {
      "name": "python"
    }
  },
  "cells": [
    {
      "cell_type": "markdown",
      "source": [
        "Что такое линейная регрессия?\n",
        "модель\n",
        "$y=β_0+\\beta_1 X+ϵ$\n",
        "\n",
        "\n"
      ],
      "metadata": {
        "id": "R_bdocUAKMIA"
      }
    },
    {
      "cell_type": "markdown",
      "source": [
        "В векторном виде:\n",
        "$\\beta =(X^{T}X)^{-1}X^{T}Y$\n",
        "(формула линейной проекции)\n"
      ],
      "metadata": {
        "id": "_oONtR8iK65r"
      }
    },
    {
      "cell_type": "markdown",
      "source": [
        "**Reminder**\n",
        "\n",
        "Повторение формул производных по вектору  $a$ - константа, $x$ - переменная, $A$ - константная матрица\n",
        "\n",
        "\n",
        "1.   $\\frac{\\partial a^{T}x}{\\partial x} = \\frac{\\partial x^{T}a}{\\partial x} = a$\n",
        "2.   $\\frac{\\partial x^{T}Ax}{\\partial x} = (A^{T}+A)x$\n",
        "\n",
        "3.    $\\frac{\\partial Ax^{T}a}{\\partial x} = A^{T}a $\n",
        "\n",
        "4.    $\\frac{\\partial a^{T}xA^{T}}{\\partial x} = aA^{T} $\n",
        "\n",
        "$\\frac{\\partial \\sum_{i=1}^{n} \\sum_{j=1}^{n}A_{ij}x_j a_i}{\\partial x_k} =  \n",
        "\\sum_{i=1}A_{ik} a_i  $\n",
        "\n",
        "\n",
        "As $Ax = \\sum_{j=1}A_{ij} x_j$\n",
        "\n",
        "\n",
        "\n",
        "\n",
        "\n",
        "\n",
        "\n",
        "\n",
        "\n",
        "\n"
      ],
      "metadata": {
        "id": "Y1RVXJUqLU3n"
      }
    },
    {
      "cell_type": "markdown",
      "source": [
        "## МНК\n",
        "Мы выводим  формулу для регрессии минимизируя сумму квадратов:\n",
        "\n",
        "\n",
        "\n"
      ],
      "metadata": {
        "id": "9rC8FQ6TPM3F"
      }
    },
    {
      "cell_type": "markdown",
      "source": [
        "Простенькая задачка на МНК:\n",
        "###Задача 0 Регрессия на константу:)\n",
        "Аня и Настя утверждают, что лектор опоздал на 10 минут. Таня считает, что лектор опоздал на 3\n",
        "минуты. С помощью МНК оцените, на сколько опоздал лектор."
      ],
      "metadata": {
        "id": "hXMQxh2QTL6q"
      }
    },
    {
      "cell_type": "markdown",
      "source": [
        "Решение:\n",
        "$SSE = \\sum_{i}(y_i -\\alpha)^{2} = 2(10-α)^{2}+ (3-α)^{2} → min$\n",
        "Возьмем производную по $\\alpha$ и приравняем к нулю:\n",
        "\n",
        "$\\frac{∂ SSE}{∂ \\alpha} = -4(10-α)-2(3-α) = 0$\n",
        "Отсюда\n",
        "$α = \\frac{20+3}{3}$"
      ],
      "metadata": {
        "id": "b2ssn-jNf07p"
      }
    },
    {
      "cell_type": "markdown",
      "source": [
        "### В виде суммы:\n",
        "Минимизируем сумму квадратов остатков:\n",
        "$n$ количество наблюдений:\n",
        "$\\sum_{i=1}^{n}(y_{i}-\\beta_0 -\\beta_1 x_{i})^{2}$\n",
        "\n",
        "FOC условия первого порядка:\n",
        "$\\frac{\\partial \\sum_{i=1}^{n}(y_{i}-\\beta_0 -\\beta_1 x_{i})^{2}}{\\partial \\beta_0}  = \\sum_{i=1}^{n} -2 (y_{i}-\\beta_0 -\\beta_1 x_{i}) = 0$\n",
        "\n",
        "\n",
        "$\\frac{\\partial \\sum_{i=1}^{n}(y_{i}-\\beta_0 -\\beta_1 x_{i})^{2}}{\\partial \\beta_2}  = \\sum_{i=1}^{n} -2 (y_{i}-\\beta_0 -\\beta_1 x_{i}) x_{i} = 0$\n",
        "\n",
        "\n",
        "Из певрого получаем, что, $\\bar y  = \\frac{\\sum_{i=1}^{n} y_{i}}{n} = \\beta_0 + \\beta_1 \\frac{\\sum_{i=1}^{n} x_{i} }{n} $\n",
        "\n",
        "\n",
        "Из второго получаем, что, $\\beta_1 = \\frac{\\sum_{i=1}^{n}(y_{i} - \\bar y)x_{i}} {\\sum_{i=1}^{n}(x_{i} - \\bar x) x_{i}}  $\n"
      ],
      "metadata": {
        "id": "g5-dec9rZoZg"
      }
    },
    {
      "cell_type": "markdown",
      "source": [
        "### Векторная форма:\n",
        "Где $Y\\in R^{n}$\n",
        "$\\|Y- X \\beta\\|_{2}^{2} = (Y- X \\beta)^{T}(Y- X \\beta) → min$\n",
        "\n",
        "\n",
        "По условию первого порядка, для $\\beta$:\n",
        "$\\frac{\\partial (Y- X \\beta)^{T}(Y- X \\beta)}{\\partial \\beta} =\\frac{\\partial (Y^{T}Y+  \\beta^{T} X^{T} X \\beta- \\beta^{T}X^{T} Y- Y^{T}X \\beta )}{\\partial \\beta} = 2 X^{T} X \\beta  - 2 X^{T} Y  $.\n",
        "\n",
        " А $YY^{T}$ не зависит от $\\beta$.\n",
        "\n",
        "Отсюда $\\beta = (X^{T} X)^{-1} X^{T} Y $"
      ],
      "metadata": {
        "id": "hiEw2IuEZLLn"
      }
    },
    {
      "cell_type": "markdown",
      "source": [
        "##Модель линейной регрессии с константой"
      ],
      "metadata": {
        "id": "xYvKBodxZzKp"
      }
    },
    {
      "cell_type": "markdown",
      "source": [
        "\n",
        "\n",
        "\n",
        "$y=β_1+\\beta_2 X+ϵ$\n",
        "Покажем, что TSS = RSS+ESS\n",
        "\n",
        "\n",
        "$TSS = \\sum_{i=1}^{n}(y_{i}-\\bar y)^{2} = \\| Y-\\bar Y\\|^{2}$\n",
        "\n",
        "Сумма квадратов остатков:\n",
        "(residual sum of squares)\n",
        "$RSS =  \\sum_{i=1}^{n}(y_{i}-\\beta_1 - \\beta_{2} x_i)^{2}  =  \\| Y-\\bar Y\\|^{2}$\n",
        "\n",
        "\n",
        "$ESS = \\sum_{i=1}^{n} (\\beta_1 + \\beta_{2} x_i - \\bar y)^{2}$\n",
        "\n",
        "Выразим TSS:\n",
        "\n",
        "$TSS = \\sum_{i=1}^{n}(y_{i}-\\bar y + (\\beta_1 + \\beta_{2} x_i)-(\\beta_1 +\\beta_{2} x_i))^{2} = \\sum_{i=1}^{n} (y_{i} - \\beta_1 - \\beta_{2} x_i)^{2} + (\\beta_1 + \\beta_{2} x_i - \\bar y)^{2} + 2(y_{i} - \\beta_1 - \\beta_{2} x_i)(\\beta_1 + \\beta_{2} x_i - \\bar y)$\n",
        "\n",
        ".\n",
        "\n",
        "Так как\n",
        " $\\bar y  = \\frac{\\sum_{i=1}^{n} y_{i}}{n} = \\beta_1 + \\beta_2 \\frac{\\sum_{i=1}^{n} x_{i} }{n} =  \\beta_1 + \\beta_2 \\bar x $\n",
        "\n",
        "$TSS = \\sum_{i=1}^{n} [(y_{i} - \\beta_1 - \\beta_2 x_i)^{2} + (\\beta_1 + \\beta_{2} x_i - \\bar y )^{2} + 2(y_{i} - \\beta_1 - \\beta x_i)(\\beta_1 + \\beta_2 x_i - \\beta_1 + \\beta_2 \\bar x)] $\n",
        "\n",
        "\n",
        "\n",
        "$ \\sum_{i=1}^{n} (y_{i} - \\beta_1 - \\beta_2 x_i)(\\beta_1 + \\beta_2 x_i - \\beta_1 + \\beta_2 \\bar x) =   \\beta_2 \\sum_{i=1}^{n} (y_{i} - \\beta_1 - \\beta_2 x_i)( x_i - \\bar x) =  -\\bar x \\beta_2 \\sum_{i=1}^{n} (y_{i} - \\beta_1 - \\beta_2 x_i) + \\sum_{i=1}^{n} (y_{i} - \\beta_1 - \\beta_2 x_i)( x_i) = 0$\n",
        "\n",
        "Из приравнивания производной по $\\beta_1$ к нулю: $\\sum_{i=1}^{n} (y_{i} - \\beta_1 - \\beta_2 x_i) =0.$\n",
        "\n",
        "Из приравнивания производной по $\\beta_2$ к нулю:  $\\sum_{i=1}^{n} (y_{i} - \\beta_1 - \\beta_2 x_i)( x_i) = 0 $\n",
        "\n",
        "Поэтому для линейной регресии с константой,\n",
        "\n",
        "$TSS = \\sum_{i=1}^{n} [(y_{i} - \\beta_1 - \\beta_2 x_i)^{2} + (\\beta_1 + \\beta_{2} x_i - \\bar y )^{2} + 2(y_{i} - \\beta_1 - \\beta x_i)(\\beta_1 + \\beta_2 x_i - \\beta_1 + \\beta_2 \\bar x)]  =  RSS+ESS$\n",
        "\n",
        "\n",
        "\n",
        "\n",
        "\n",
        "\n",
        " $R^{2} = 1-  \\frac{RSS}{TSS}$"
      ],
      "metadata": {
        "id": "rjwE9iUOK1UQ"
      }
    },
    {
      "cell_type": "markdown",
      "source": [
        "Геометрическая интепретация аналог теоремы Пифагора TSS = ESS+RSS\n",
        "\n",
        "Покажите на картинке TSS, ESS, RSS, R2\n",
        ", sCorr(ˆy, y), sCov(ˆy, y)\n",
        "\n",
        "![Screen Shot 2023-10-06 at 21.14.22.png](data:image/png;base64,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)"
      ],
      "metadata": {
        "id": "L4JrREj4M6L9"
      }
    },
    {
      "cell_type": "markdown",
      "source": [
        "## Задача 1:\n",
        "## Всегда ли TSS = ESS+RSS?\n",
        "\n",
        "Это не так для случая линейнной регрессии без константы:\n",
        "$y=\\beta_1 x+ϵ$"
      ],
      "metadata": {
        "id": "Z-KAO7dLO62M"
      }
    },
    {
      "cell_type": "markdown",
      "source": [
        "## Решение"
      ],
      "metadata": {
        "id": "yBINXM-caD4a"
      }
    },
    {
      "cell_type": "markdown",
      "source": [
        "\n",
        "Из условий первого порядка:\n",
        "$\\frac{\\partial \\sum_{i=1}^{n}(y_i- \\beta_1 x_i)^{2}}{\\partial \\beta_1} = -2 \\sum_{i=1}^{n}(y_i- \\beta_1 x_i) x_i = 0$.\n",
        "\n",
        "Отсюда,  $\\beta_1 = \\frac{\\sum_{i=1}^{n} y_i x_i }{\\sum_{i=1}^{n} x_i^{2} }$\n",
        "\n",
        "\n",
        "$TSS = \\sum_{i=1}^{n}(y_{i}-\\bar y)^{2} $\n",
        "\n",
        "$RSS =  \\sum_{i=1}^{n}(y_{i}- \\beta_{1} x_i)^{2}  $\n",
        "\n",
        "\n",
        "$ESS = \\sum_{i=1}^{n} (\\beta_{1} x_i - \\bar y)^{2}$\n",
        "\n",
        ".\n",
        "\n",
        "$TSS = \\sum_{i=1}^{n}(y_{i}-\\bar y +\\beta_{1} x_i-\\beta_{1} x_i)^{2} = \\sum_{i=1}^{n} [(y_{i}  - \\beta_{1} x_i)^{2} + ( \\beta_{1} x_i - \\bar y)^{2} + 2(y_{i} - \\beta_{1} x_i)( \\beta_{1} x_i - \\bar y)] = RSS+ESS+\\beta_{1}\\sum_{i=1}^{n} 2 (y_{i} - \\beta_{1} x_i)(x_i) - 2\\bar y  \\sum_{i=1}^{n}  \\beta_{1}(y_{i} - \\beta_{1} x_i)$\n",
        "\n",
        "Получаем, что $TSS =RSS+ESS + 0 - 2\\bar y \\beta_{1} \\sum_{i=1}^{n}  (y_{i} - \\beta_{1} x_i)$\n",
        "\n",
        "\n",
        "\n",
        "$\\sum_{i=1}^{n}  \\beta_{1}(y_{i} - \\beta_{1} x_i ) $может не равняться нулю.\n",
        "\n",
        "\n",
        "В этом случае,\n",
        "$TSS \\neq RSS+ESS$"
      ],
      "metadata": {
        "id": "A7tnLyzdlDC8"
      }
    },
    {
      "cell_type": "markdown",
      "source": [
        "Напишем свой класс линейной регрессии"
      ],
      "metadata": {
        "id": "vZB1gr4plJOG"
      }
    },
    {
      "cell_type": "code",
      "source": [
        "#Write your class of linear regression with t test and F-test:\n",
        "import scipy as sp\n",
        "import numpy as np\n",
        "from scipy.stats import t\n",
        "\n",
        "class LinearRegression():\n",
        "  def __init__(self, regularize = 0):\n",
        "    self.regularize = 0\n",
        "\n",
        "  def fit(self, X, y):\n",
        "    '''\n",
        "    X vector of shape(n_observations, n_features)\n",
        "    y vector of shape  (n_observations, 1)\n",
        "    returns beta of shape n_features\n",
        "    '''\n",
        "    self.n_observations = X.shape[0]\n",
        "    self.n_features =  X.shape[1]\n",
        "    assert X.shape[0] == len(y)\n",
        "\n",
        "    self.X = np.array(X)\n",
        "    self.y = np.array(y)\n",
        "    self.beta  = np.linalg.inv(self.X.T@self.X)@self.X.T@self.y\n",
        "    return self.beta\n",
        "\n",
        "  def RSS(self):\n",
        "    return np.sum((self.y - self.X@self.beta)**2)\n",
        "\n",
        "  def predict(self, X):\n",
        "\n",
        "    return X@self.beta\n",
        "\n",
        "  def standard_deviation_beta(self):\n",
        "\n",
        "      sigma_hat = self.RSS()/(self.n_observations - self.n_features)\n",
        "      return sigma_hat * np.linalg.inv(self.X.T@self.X)\n",
        "\n",
        "  def t_test_siginificance(self, alpha_critical):\n",
        "    '''\n",
        "    alpha_critical is prob to reject H_o\n",
        "    '''\n",
        "    betas_info ={}\n",
        "    for k in range(self.n_features):\n",
        "      t_st_beta_k = self.beta[k]/(np.sqrt(self.standard_deviation_beta()[k, k]))\n",
        "      t_cdf = t.cdf(t_st_beta_k, df = self.n_observations - self.n_features )\n",
        "\n",
        "      if alpha_critical / 2 < t_cdf < 1 - alpha_critical / 2:\n",
        "        is_significant = False\n",
        "        #print(f\"fail to reject H_0 that coeffiecint of {k} feature is eqaul to 0 at level {alpha_critical}\",\"non significant\")\n",
        "\n",
        "      else:\n",
        "        is_significant = True\n",
        "        #print(f\"reject H_0 that coeffiecint of {k} feature is eqaul to 0 at level {alpha_critical}\", \"significant\")\n",
        "      betas_info[k] = {\"t statistics\":round(t_st_beta_k, 3),\n",
        "                       \"p_value\": round(2*min(1-t_cdf, t_cdf), 3),\n",
        "                       \"is_significant\":is_significant}\n",
        "    return betas_info\n",
        "\n",
        "  def R_squared(self):\n",
        "    return 1 - self.RSS() / np.sum((self.y-np.mean(self.y))**2)"
      ],
      "metadata": {
        "id": "sfoZU6_tNUFc"
      },
      "execution_count": null,
      "outputs": []
    },
    {
      "cell_type": "markdown",
      "source": [
        "Посчитаем дисперсию оценки параметра:\n",
        "По теор модели $y =  \\beta^{*}  + ϵ $\n",
        "$Var( ϵ ) = \\sigma^{2}$ по предпосылке об гомоскедастичности\n",
        "$Var(\\beta) = Var((XX^{T})^{-1}X^{T}y) = Var(XX^{T})^{-1}X^{T} (X \\beta^{*} + ϵ) = Var(XX^{T})^{-1}X^{T} X ϵ) =  $\n",
        "$\\beta^{*}$ константа"
      ],
      "metadata": {
        "id": "uJ6ewHUfZO8A"
      }
    },
    {
      "cell_type": "markdown",
      "source": [
        "Тестируем гипотезы t-test:\n",
        "\n",
        "\n",
        "Значимость коэффициента в линейной регрессии\n",
        "\n",
        "$\\hat \\beta =(X^{T}X)^{-1}X^{T}Y = (X^{T}X)^{-1}X^{T}(X\\beta +ϵ) \\sim N(\\beta,covmatrix = (X^{T}X)^{-1} )$\n",
        "\n",
        "$covmatrix(\\beta) = E((X^{T}X)^{-1}X^{T}Y - \\beta)((X^{T}X)^{-1}X^{T}Y - \\beta)^{T} $\n",
        "\n",
        "В предположении нормально распредленных остатков $ɛ$ и $E \\varepsilon \\varepsilon^{T} = I$:\n",
        "\n",
        "$ E(X^{T}X)^{-1}X^{T} ϵ)((X^{T}X)^{-1}X^{T} ϵ)^{T} =  (X^{T}X)^{-1}X^{T}E \\epsilon ϵ^{T} X(X^{T}X)^{-1} = (X^{T}X)^{-1}$  \n"
      ],
      "metadata": {
        "id": "HNTA_O7Sr9Q9"
      }
    },
    {
      "cell_type": "markdown",
      "source": [
        "\n",
        "$t_{st} =  \\frac{\\hat \\beta_1 - \\beta_1}{\\hat {SE(\\beta_1)}} $"
      ],
      "metadata": {
        "id": "8Ehzya8IBnBE"
      }
    },
    {
      "cell_type": "markdown",
      "source": [
        "\n",
        "Задача 2.1 Проверим гипотезу с помощью t-test что $\\beta_2 = 0$:\n",
        "В statsmodels\n"
      ],
      "metadata": {
        "id": "MeJCxeTYQpe5"
      }
    },
    {
      "cell_type": "code",
      "source": [
        "import numpy as np\n",
        "import statsmodels.api as sm\n",
        "data = sm.datasets.longley.load()\n",
        "data.exog = sm.add_constant(data.exog)\n",
        "results = sm.OLS(data.endog, data.exog).fit()\n",
        "results.tvalues"
      ],
      "metadata": {
        "id": "h77Cvak3Qw0u",
        "colab": {
          "base_uri": "https://localhost:8080/"
        },
        "outputId": "0b6a9c47-4996-4ee1-c9a2-957a5a86bf19"
      },
      "execution_count": null,
      "outputs": [
        {
          "output_type": "execute_result",
          "data": {
            "text/plain": [
              "const     -3.910803\n",
              "GNPDEFL    0.177376\n",
              "GNP       -1.069516\n",
              "UNEMP     -4.136427\n",
              "ARMED     -4.821985\n",
              "POP       -0.226051\n",
              "YEAR       4.015890\n",
              "dtype: float64"
            ]
          },
          "metadata": {},
          "execution_count": 45
        }
      ]
    },
    {
      "cell_type": "code",
      "source": [
        "lin_reg1= LinearRegression()\n",
        "lin_reg1.fit(X =data.exog,y = data.endog)\n",
        "lin_reg1.t_test_siginificance(alpha_critical =0.05)"
      ],
      "metadata": {
        "id": "_s6KHt69vrAN",
        "colab": {
          "base_uri": "https://localhost:8080/"
        },
        "outputId": "95bc86d5-b7dc-4c2b-a605-7f12892fba01"
      },
      "execution_count": null,
      "outputs": [
        {
          "output_type": "execute_result",
          "data": {
            "text/plain": [
              "{0: {'t statistics': -3.911, 'p_value': 0.004, 'is_significant': True},\n",
              " 1: {'t statistics': 0.177, 'p_value': 0.863, 'is_significant': False},\n",
              " 2: {'t statistics': -1.07, 'p_value': 0.313, 'is_significant': False},\n",
              " 3: {'t statistics': -4.136, 'p_value': 0.003, 'is_significant': True},\n",
              " 4: {'t statistics': -4.822, 'p_value': 0.001, 'is_significant': True},\n",
              " 5: {'t statistics': -0.226, 'p_value': 0.826, 'is_significant': False},\n",
              " 6: {'t statistics': 4.016, 'p_value': 0.003, 'is_significant': True}}"
            ]
          },
          "metadata": {},
          "execution_count": 52
        }
      ]
    },
    {
      "cell_type": "code",
      "source": [
        "display(results.summary())"
      ],
      "metadata": {
        "colab": {
          "base_uri": "https://localhost:8080/",
          "height": 625
        },
        "id": "V5kFNvyA_9Hp",
        "outputId": "26bd28c8-d863-4711-d953-bc39fbdb2d6a"
      },
      "execution_count": null,
      "outputs": [
        {
          "output_type": "stream",
          "name": "stderr",
          "text": [
            "/usr/local/lib/python3.10/dist-packages/scipy/stats/_stats_py.py:1806: UserWarning: kurtosistest only valid for n>=20 ... continuing anyway, n=16\n",
            "  warnings.warn(\"kurtosistest only valid for n>=20 ... continuing \"\n"
          ]
        },
        {
          "output_type": "display_data",
          "data": {
            "text/plain": [
              "<class 'statsmodels.iolib.summary.Summary'>\n",
              "\"\"\"\n",
              "                            OLS Regression Results                            \n",
              "==============================================================================\n",
              "Dep. Variable:                 TOTEMP   R-squared:                       0.995\n",
              "Model:                            OLS   Adj. R-squared:                  0.992\n",
              "Method:                 Least Squares   F-statistic:                     330.3\n",
              "Date:                Thu, 12 Oct 2023   Prob (F-statistic):           4.98e-10\n",
              "Time:                        22:28:26   Log-Likelihood:                -109.62\n",
              "No. Observations:                  16   AIC:                             233.2\n",
              "Df Residuals:                       9   BIC:                             238.6\n",
              "Df Model:                           6                                         \n",
              "Covariance Type:            nonrobust                                         \n",
              "==============================================================================\n",
              "                 coef    std err          t      P>|t|      [0.025      0.975]\n",
              "------------------------------------------------------------------------------\n",
              "const      -3.482e+06    8.9e+05     -3.911      0.004    -5.5e+06   -1.47e+06\n",
              "GNPDEFL       15.0619     84.915      0.177      0.863    -177.029     207.153\n",
              "GNP           -0.0358      0.033     -1.070      0.313      -0.112       0.040\n",
              "UNEMP         -2.0202      0.488     -4.136      0.003      -3.125      -0.915\n",
              "ARMED         -1.0332      0.214     -4.822      0.001      -1.518      -0.549\n",
              "POP           -0.0511      0.226     -0.226      0.826      -0.563       0.460\n",
              "YEAR        1829.1515    455.478      4.016      0.003     798.788    2859.515\n",
              "==============================================================================\n",
              "Omnibus:                        0.749   Durbin-Watson:                   2.559\n",
              "Prob(Omnibus):                  0.688   Jarque-Bera (JB):                0.684\n",
              "Skew:                           0.420   Prob(JB):                        0.710\n",
              "Kurtosis:                       2.434   Cond. No.                     4.86e+09\n",
              "==============================================================================\n",
              "\n",
              "Notes:\n",
              "[1] Standard Errors assume that the covariance matrix of the errors is correctly specified.\n",
              "[2] The condition number is large, 4.86e+09. This might indicate that there are\n",
              "strong multicollinearity or other numerical problems.\n",
              "\"\"\""
            ],
            "text/html": [
              "<table class=\"simpletable\">\n",
              "<caption>OLS Regression Results</caption>\n",
              "<tr>\n",
              "  <th>Dep. Variable:</th>         <td>TOTEMP</td>      <th>  R-squared:         </th> <td>   0.995</td>\n",
              "</tr>\n",
              "<tr>\n",
              "  <th>Model:</th>                   <td>OLS</td>       <th>  Adj. R-squared:    </th> <td>   0.992</td>\n",
              "</tr>\n",
              "<tr>\n",
              "  <th>Method:</th>             <td>Least Squares</td>  <th>  F-statistic:       </th> <td>   330.3</td>\n",
              "</tr>\n",
              "<tr>\n",
              "  <th>Date:</th>             <td>Thu, 12 Oct 2023</td> <th>  Prob (F-statistic):</th> <td>4.98e-10</td>\n",
              "</tr>\n",
              "<tr>\n",
              "  <th>Time:</th>                 <td>22:28:26</td>     <th>  Log-Likelihood:    </th> <td> -109.62</td>\n",
              "</tr>\n",
              "<tr>\n",
              "  <th>No. Observations:</th>      <td>    16</td>      <th>  AIC:               </th> <td>   233.2</td>\n",
              "</tr>\n",
              "<tr>\n",
              "  <th>Df Residuals:</th>          <td>     9</td>      <th>  BIC:               </th> <td>   238.6</td>\n",
              "</tr>\n",
              "<tr>\n",
              "  <th>Df Model:</th>              <td>     6</td>      <th>                     </th>     <td> </td>   \n",
              "</tr>\n",
              "<tr>\n",
              "  <th>Covariance Type:</th>      <td>nonrobust</td>    <th>                     </th>     <td> </td>   \n",
              "</tr>\n",
              "</table>\n",
              "<table class=\"simpletable\">\n",
              "<tr>\n",
              "     <td></td>        <th>coef</th>     <th>std err</th>      <th>t</th>      <th>P>|t|</th>  <th>[0.025</th>    <th>0.975]</th>  \n",
              "</tr>\n",
              "<tr>\n",
              "  <th>const</th>   <td>-3.482e+06</td> <td>  8.9e+05</td> <td>   -3.911</td> <td> 0.004</td> <td> -5.5e+06</td> <td>-1.47e+06</td>\n",
              "</tr>\n",
              "<tr>\n",
              "  <th>GNPDEFL</th> <td>   15.0619</td> <td>   84.915</td> <td>    0.177</td> <td> 0.863</td> <td> -177.029</td> <td>  207.153</td>\n",
              "</tr>\n",
              "<tr>\n",
              "  <th>GNP</th>     <td>   -0.0358</td> <td>    0.033</td> <td>   -1.070</td> <td> 0.313</td> <td>   -0.112</td> <td>    0.040</td>\n",
              "</tr>\n",
              "<tr>\n",
              "  <th>UNEMP</th>   <td>   -2.0202</td> <td>    0.488</td> <td>   -4.136</td> <td> 0.003</td> <td>   -3.125</td> <td>   -0.915</td>\n",
              "</tr>\n",
              "<tr>\n",
              "  <th>ARMED</th>   <td>   -1.0332</td> <td>    0.214</td> <td>   -4.822</td> <td> 0.001</td> <td>   -1.518</td> <td>   -0.549</td>\n",
              "</tr>\n",
              "<tr>\n",
              "  <th>POP</th>     <td>   -0.0511</td> <td>    0.226</td> <td>   -0.226</td> <td> 0.826</td> <td>   -0.563</td> <td>    0.460</td>\n",
              "</tr>\n",
              "<tr>\n",
              "  <th>YEAR</th>    <td> 1829.1515</td> <td>  455.478</td> <td>    4.016</td> <td> 0.003</td> <td>  798.788</td> <td> 2859.515</td>\n",
              "</tr>\n",
              "</table>\n",
              "<table class=\"simpletable\">\n",
              "<tr>\n",
              "  <th>Omnibus:</th>       <td> 0.749</td> <th>  Durbin-Watson:     </th> <td>   2.559</td>\n",
              "</tr>\n",
              "<tr>\n",
              "  <th>Prob(Omnibus):</th> <td> 0.688</td> <th>  Jarque-Bera (JB):  </th> <td>   0.684</td>\n",
              "</tr>\n",
              "<tr>\n",
              "  <th>Skew:</th>          <td> 0.420</td> <th>  Prob(JB):          </th> <td>   0.710</td>\n",
              "</tr>\n",
              "<tr>\n",
              "  <th>Kurtosis:</th>      <td> 2.434</td> <th>  Cond. No.          </th> <td>4.86e+09</td>\n",
              "</tr>\n",
              "</table><br/><br/>Notes:<br/>[1] Standard Errors assume that the covariance matrix of the errors is correctly specified.<br/>[2] The condition number is large, 4.86e+09. This might indicate that there are<br/>strong multicollinearity or other numerical problems."
            ],
            "text/latex": "\\begin{center}\n\\begin{tabular}{lclc}\n\\toprule\n\\textbf{Dep. Variable:}    &      TOTEMP      & \\textbf{  R-squared:         } &     0.995   \\\\\n\\textbf{Model:}            &       OLS        & \\textbf{  Adj. R-squared:    } &     0.992   \\\\\n\\textbf{Method:}           &  Least Squares   & \\textbf{  F-statistic:       } &     330.3   \\\\\n\\textbf{Date:}             & Thu, 12 Oct 2023 & \\textbf{  Prob (F-statistic):} &  4.98e-10   \\\\\n\\textbf{Time:}             &     22:28:26     & \\textbf{  Log-Likelihood:    } &   -109.62   \\\\\n\\textbf{No. Observations:} &          16      & \\textbf{  AIC:               } &     233.2   \\\\\n\\textbf{Df Residuals:}     &           9      & \\textbf{  BIC:               } &     238.6   \\\\\n\\textbf{Df Model:}         &           6      & \\textbf{                     } &             \\\\\n\\textbf{Covariance Type:}  &    nonrobust     & \\textbf{                     } &             \\\\\n\\bottomrule\n\\end{tabular}\n\\begin{tabular}{lcccccc}\n                 & \\textbf{coef} & \\textbf{std err} & \\textbf{t} & \\textbf{P$> |$t$|$} & \\textbf{[0.025} & \\textbf{0.975]}  \\\\\n\\midrule\n\\textbf{const}   &   -3.482e+06  &      8.9e+05     &    -3.911  &         0.004        &     -5.5e+06    &    -1.47e+06     \\\\\n\\textbf{GNPDEFL} &      15.0619  &       84.915     &     0.177  &         0.863        &     -177.029    &      207.153     \\\\\n\\textbf{GNP}     &      -0.0358  &        0.033     &    -1.070  &         0.313        &       -0.112    &        0.040     \\\\\n\\textbf{UNEMP}   &      -2.0202  &        0.488     &    -4.136  &         0.003        &       -3.125    &       -0.915     \\\\\n\\textbf{ARMED}   &      -1.0332  &        0.214     &    -4.822  &         0.001        &       -1.518    &       -0.549     \\\\\n\\textbf{POP}     &      -0.0511  &        0.226     &    -0.226  &         0.826        &       -0.563    &        0.460     \\\\\n\\textbf{YEAR}    &    1829.1515  &      455.478     &     4.016  &         0.003        &      798.788    &     2859.515     \\\\\n\\bottomrule\n\\end{tabular}\n\\begin{tabular}{lclc}\n\\textbf{Omnibus:}       &  0.749 & \\textbf{  Durbin-Watson:     } &    2.559  \\\\\n\\textbf{Prob(Omnibus):} &  0.688 & \\textbf{  Jarque-Bera (JB):  } &    0.684  \\\\\n\\textbf{Skew:}          &  0.420 & \\textbf{  Prob(JB):          } &    0.710  \\\\\n\\textbf{Kurtosis:}      &  2.434 & \\textbf{  Cond. No.          } & 4.86e+09  \\\\\n\\bottomrule\n\\end{tabular}\n%\\caption{OLS Regression Results}\n\\end{center}\n\nNotes: \\newline\n [1] Standard Errors assume that the covariance matrix of the errors is correctly specified. \\newline\n [2] The condition number is large, 4.86e+09. This might indicate that there are \\newline\n strong multicollinearity or other numerical problems."
          },
          "metadata": {}
        }
      ]
    },
    {
      "cell_type": "markdown",
      "source": [
        "## F-test:\n",
        "\n",
        "Линейные ограничения:\n",
        "* p - количество переменных в линейной регрессии (размерность вектора $\\beta$)\n",
        "* r -количество линейных ограничений (ранг матрицы ограничений $A$)\n",
        "\n",
        "* $H_0: A \\beta = c$\n",
        "* $H_1: A \\beta \\neq c$\n",
        "\n",
        "\n",
        "* $\\beta_{R}$ это оценка линейной ресгрессии с ограничениями:\n",
        "$\\beta_{R} = argmin_{\\beta: A \\beta = c }\\| Y - X \\beta \\|$\n",
        "\n",
        "* $\\beta_{UR}$ это оценка линейной ресгрессии без ограничений: $\\beta_{UR} = argmin_{\\beta}\\| Y - X \\beta \\|$\n",
        "\n",
        "* $$F_{st} = \\frac{(\\| Y - X \\beta_{R} \\|^{2} - \\| Y - X \\beta_{UR} \\|^{2})/r}{\\| Y - X \\beta_{UR}\\|^{2}/(n - p)} =\\frac{(RSS_{R} - RSS_{UR})/r}{ RSS_{UR}/(n-p)}  \\sim F(r,n-p)$$\n",
        "\n",
        "Подумайте, почему $\\| Y - X \\beta_{R} \\| - \\| Y - X \\beta_{UR} \\| = RSS_{R} - RSS_{UR} ≥ 0$?\n"
      ],
      "metadata": {
        "id": "6SpSVt_FRm_V"
      }
    },
    {
      "cell_type": "markdown",
      "source": [
        "## Задача 2: **F-test и логарифмирование**\n",
        "Тестируем гипотезу,что $\\beta_1+\\beta_2 = 1$\n",
        "\n",
        "\n",
        "Пример прологарифмированорованная функция выпуска Коба Дугласа, где\n",
        "тестируем гипотезу что коэффициенты суммируются в единицу."
      ],
      "metadata": {
        "id": "cu_RGE7dOwHg"
      }
    },
    {
      "cell_type": "markdown",
      "source": [
        "* Данные: Капитал K и Труд L\n",
        "\n",
        "* Модель: $Y =\\gamma K^{\\alpha} L^{\\lambda} $\n",
        "\n",
        "Хотим оценить $\\gamma $, $\\alpha$, $\\lambda $\n",
        "\n",
        "Чтобы построить линейную модель, нужно взять логарифм от левой и правой части модельного уравнения.\n",
        "\n",
        "Хотим проверить гипотезу, что функция производительности гомогенная, то есть Y  увеличивается пропорционально увеличению K и L.\n",
        "\n",
        "Проверяем гипотезу: $\\alpha+\\lambda = 1$"
      ],
      "metadata": {
        "id": "sI4PkGsmMc4K"
      }
    },
    {
      "cell_type": "markdown",
      "source": [
        "## Решение Задача 2:"
      ],
      "metadata": {
        "id": "KJOKGW0h42Ax"
      }
    },
    {
      "cell_type": "markdown",
      "source": [
        "Сгенерим для удобства данные по формуле"
      ],
      "metadata": {
        "id": "UERN999c1Abs"
      }
    },
    {
      "cell_type": "code",
      "source": [
        "import numpy as np\n",
        "K = np.linspace(10,60,1000)+np.random.randint(-5, 5)\n",
        "L = np.linspace(100,600,1000)+np.random.randint(-20, 20)\n",
        "true_alpha = 0.4\n",
        "true_gamma = 4\n",
        "Y = true_gamma * K**(true_alpha)* L**(1-true_alpha)+np.random.randn(len(K))"
      ],
      "metadata": {
        "id": "O_YRc3ENpebP"
      },
      "execution_count": null,
      "outputs": []
    },
    {
      "cell_type": "markdown",
      "source": [
        "Чтобы применить линейную регрессию для модели Кобба-Дугласа, нужно взять логарифм от левой и правой части\n",
        "\n",
        "$ln(Y) = ln(\\gamma) + \\alpha ln(K) +\\lambda ln(L)$"
      ],
      "metadata": {
        "id": "v9sP_jzT1FcZ"
      }
    },
    {
      "cell_type": "markdown",
      "source": [
        "$y = \\beta_0 +\\beta_1 x_1 +\\beta_2 x_2$\n",
        "\n",
        "Где  $y = ln(Y)$, $x_1 = ln(K)$,$x_2 = ln(L)$\n"
      ],
      "metadata": {
        "id": "UtXHk9GD2fGF"
      }
    },
    {
      "cell_type": "markdown",
      "source": [
        "$ X = \\begin{bmatrix}\n",
        "1 & ln(K_1) & ln(L_1)\\\\\n",
        "1 & ln(K_2) & ln(L_2) \\\\\n",
        "⋯ &⋯  & ⋯ \\\\\n",
        "1 & ln(K_n) & ln(L_n)\n",
        "\\end{bmatrix}$\n",
        "\n",
        "Тогда $\\beta_{UR} = (X^{T} X)^{-1} X^{T} y $\n",
        "\n",
        "Теперь c  помощью F-test протестируем гипотезу, что $ \\beta_1+\\beta_2 = 1$\n",
        "\n",
        "Построим регрессию с органичением, где $ \\beta_2= 1-\\beta_1 $\n",
        "Тогда наша линейная регрессия с ограничениями будет выглядеть так:\n",
        "\n",
        "$y = \\beta_0 +\\beta_1 x_1 +(1-\\beta_1)x_2 $ то есть\n",
        "\n",
        "$y - x_2 = \\beta_0 +\\beta_1 (x_1-x_2) $\n",
        "\n",
        "Тогда новая формула для коэффициента линейной регрессии с ограничениями будет иметь следующий вид:\n",
        "\n",
        "$ X_R = \\begin{bmatrix}\n",
        "1 & ln(K_1) - ln(L_1)\\\\\n",
        "1 & ln(K_2) - ln(L_2) \\\\\n",
        "⋯ &⋯   \\\\\n",
        "1 & ln(K_n) - ln(L_n)\n",
        "\\end{bmatrix}$\n",
        "\n",
        "и\n",
        "$\\beta_{r} = (X_R^{T} X_R)^{-1} X_R^{T}(y -ln(L)) $"
      ],
      "metadata": {
        "id": "F-3Z055w30YH"
      }
    },
    {
      "cell_type": "markdown",
      "source": [
        "Посчитаем $F_{st}$ статистику, где\n",
        "количество переменных $p = 2$,  количество ограничений $r = 1$  и количество наблюдений $n = 100$\n",
        "$RSS_{R} = \\| y-ln(L)- X_R\\beta_{r} \\|^{2}$\n",
        "$$F_{st} = \\frac{(\\| y-ln(L)- X_R\\beta_{r} \\|^{2} - \\| y - X \\beta_{UR} \\|^{2})/r}{\\| y - X \\beta_{UR}\\|^{2}/(n - p)} =\\frac{(RSS_{R} - RSS_{UR})/r}{ RSS_{UR}/(n-p)}  \\sim F(r,n-p)$$"
      ],
      "metadata": {
        "id": "GqieeCcG6vdV"
      }
    },
    {
      "cell_type": "markdown",
      "source": [
        "План:\n",
        "1. Оценить исходную регрессию\n",
        "\n",
        "2. Оценить регрессию с ограничениями\n",
        "3. Посчитать наблюдаемое значение F-статистики и сравнить с результатом из statsmodels (не получилось)\n"
      ],
      "metadata": {
        "id": "2NujaRat4VMf"
      }
    },
    {
      "cell_type": "code",
      "source": [
        "#unconstrained regression:\n",
        "lin_reg_uncostrained = LinearRegression()\n",
        "X = np.stack([np.ones_like(K), np.log(K), np.log(L)]).T\n",
        "print(X.shape)\n",
        "y = np.log(Y)\n",
        "lin_reg_uncostrained.fit(X, y)\n",
        "RSS_UR = lin_reg_uncostrained.RSS()\n",
        "\n",
        "print(\"coeffs unconstrained\",lin_reg_uncostrained.beta)\n",
        "#constrained regression:\n",
        "lin_reg_costrained = LinearRegression()\n",
        "X_r = np.stack([np.ones(len(K)), np.log(K) - np.log(L)]).T\n",
        "y_r = np.log(Y) - np.log(L)\n",
        "lin_reg_costrained.fit(X_r, y_r)\n",
        "RSS_R = lin_reg_costrained.RSS()\n",
        "print(\"coeffs constrained\",lin_reg_costrained.beta)\n",
        "\n",
        "n = len(K)\n",
        "p = 2\n",
        "r = 1\n",
        "F_st = (RSS_R-RSS_UR)*(n-p)/(RSS_UR*r)\n",
        "\n",
        "print(\"F statistics : \", F_st)\n",
        "p_value = 1-sp.stats.f.cdf(F_st, dfn = r , dfd = n-p, loc=0, scale=1)\n",
        "print(\"p-value\", p_value)\n",
        "\n"
      ],
      "metadata": {
        "colab": {
          "base_uri": "https://localhost:8080/"
        },
        "id": "MchbvWWN9282",
        "outputId": "4c159524-5052-4a24-c5c2-883cedbafc32"
      },
      "execution_count": null,
      "outputs": [
        {
          "output_type": "stream",
          "name": "stdout",
          "text": [
            "(1000, 3)\n",
            "coeffs unconstrained [1.42713842 0.41088831 0.58674637]\n",
            "coeffs constrained [1.39270976 0.40257422]\n",
            "F statistics :  12.00444258970631\n",
            "p-value 0.0005533072083476753\n"
          ]
        }
      ]
    },
    {
      "cell_type": "markdown",
      "source": [
        "Не можем отвергать нулевую гипотезу о том, что коэффиценты $ \\beta_1+\\beta_2 = 1$"
      ],
      "metadata": {
        "id": "viKnc2yZFg1V"
      }
    },
    {
      "cell_type": "markdown",
      "source": [
        "Сравним с настоящим значением $\\gamma$ и $\\alpha$"
      ],
      "metadata": {
        "id": "iT9Yvn6FFXNw"
      }
    },
    {
      "cell_type": "code",
      "source": [
        "print(\"Настоящее значение логарифма константы\", np.log(true_gamma))\n",
        "print(\"Настоящее значение alpha\", true_alpha)"
      ],
      "metadata": {
        "id": "p-90YiuoKV-t",
        "colab": {
          "base_uri": "https://localhost:8080/"
        },
        "outputId": "a30fd94f-b98c-49c5-d659-0cd65f49adbf"
      },
      "execution_count": null,
      "outputs": [
        {
          "output_type": "stream",
          "name": "stdout",
          "text": [
            "Настоящее значение логарифма константы 1.3862943611198906\n",
            "Настоящее значение alpha 0.4\n"
          ]
        }
      ]
    },
    {
      "cell_type": "markdown",
      "source": [
        "## Linear regression in sklearn and statmodels пример"
      ],
      "metadata": {
        "id": "9KJYj3gWOw2S"
      }
    },
    {
      "cell_type": "code",
      "source": [
        "import sklearn\n",
        "import matplotlib.pyplot as plt\n",
        "import numpy as np\n",
        "\n",
        "from sklearn.datasets import load_diabetes\n",
        "from sklearn.linear_model import LinearRegression\n",
        "from sklearn.metrics import mean_squared_error, r2_score\n",
        "\n",
        "# Load the diabetes dataset\n",
        "diabetes_X, diabetes_y = load_diabetes(return_X_y=True)\n",
        "\n",
        "# Use only one feature\n",
        "diabetes_X = diabetes_X[:, np.newaxis, 2]\n",
        "\n",
        "# Split the data into training/testing sets\n",
        "diabetes_X_train = diabetes_X[:-100]\n",
        "diabetes_X_test = diabetes_X[-100:]\n",
        "\n",
        "# Split the targets into training/testing sets\n",
        "diabetes_y_train = diabetes_y[:-100]\n",
        "diabetes_y_test = diabetes_y[-100:]\n",
        "\n",
        "# Create linear regression object\n",
        "regr = LinearRegression(fit_intercept = True,)\n",
        "\n",
        "# Train the model using the training sets\n",
        "regr.fit(diabetes_X_train, diabetes_y_train)\n",
        "\n",
        "# Make predictions using the testing set\n",
        "diabetes_y_pred = regr.predict(diabetes_X_test)\n",
        "\n",
        "# The coefficients\n",
        "print(\"Coefficients: \\n\", regr.coef_)\n",
        "# The mean squared error\n",
        "print(\"Mean squared error: %.2f\" % mean_squared_error(diabetes_y_test, diabetes_y_pred))\n",
        "# The coefficient of determination: 1 is perfect prediction\n",
        "print(\"Coefficient of determination: %.2f\" % r2_score(diabetes_y_test, diabetes_y_pred))\n",
        "\n",
        "# Plot outputs\n",
        "plt.scatter(diabetes_X_test, diabetes_y_test, color=\"black\", label='y_real')\n",
        "plt.plot(diabetes_X_test, diabetes_y_pred, color=\"blue\", linewidth=3, label='y_pred')\n",
        "plt.plot(diabetes_X_test, np.full((len(diabetes_X_test), 1), diabetes_y_test.mean()),\n",
        "         color='green', linewidth=3, label='y_mean')\n",
        "\n",
        "plt.legend()\n",
        "plt.grid()\n",
        "plt.xticks()\n",
        "plt.yticks()\n",
        "\n",
        "plt.show()"
      ],
      "metadata": {
        "colab": {
          "base_uri": "https://localhost:8080/",
          "height": 499
        },
        "id": "mvZL4enwOs5q",
        "outputId": "6001a515-3f8a-4b21-8e81-288d32cf0a98"
      },
      "execution_count": null,
      "outputs": [
        {
          "output_type": "stream",
          "name": "stdout",
          "text": [
            "Coefficients: \n",
            " [953.3606272]\n",
            "Mean squared error: 3752.77\n",
            "Coefficient of determination: 0.38\n"
          ]
        },
        {
          "output_type": "display_data",
          "data": {
            "text/plain": [
              "<Figure size 640x480 with 1 Axes>"
            ],
            "image/png": "[encoded data removed]"
          },
          "metadata": {}
        }
      ]
    },
    {
      "cell_type": "markdown",
      "source": [
        "Тут уже есть встроенные функции подсчета r2_score и mean_squared_error."
      ],
      "metadata": {
        "id": "xE95xmv1hsJt"
      }
    },
    {
      "cell_type": "markdown",
      "source": [
        "Где на этом графике остатки?"
      ],
      "metadata": {
        "id": "KHa_w8UFhaYF"
      }
    },
    {
      "cell_type": "markdown",
      "source": [
        "Пример из statmodels"
      ],
      "metadata": {
        "id": "CZfz2AAnvRNT"
      }
    },
    {
      "cell_type": "markdown",
      "source": [
        "In statmodels\n",
        "https://www.statsmodels.org/dev/generated/statsmodels.regression.linear_model.OLS.html"
      ],
      "metadata": {
        "id": "dHp-RP_59kRz"
      }
    },
    {
      "cell_type": "markdown",
      "source": [
        "Как на доход влияет уровень образования:"
      ],
      "metadata": {
        "id": "MfWzzf6ghPBX"
      }
    },
    {
      "cell_type": "code",
      "source": [
        "import statsmodels.api as sm\n",
        "import numpy as np\n",
        "duncan_prestige = sm.datasets.get_rdataset(\"Duncan\", \"carData\")\n",
        "Y = duncan_prestige.data['income']\n",
        "X = duncan_prestige.data['education']\n",
        "X = sm.add_constant(X)\n",
        "model = sm.OLS(Y,X)\n",
        "results = model.fit()\n",
        "results.summary()\n"
      ],
      "metadata": {
        "colab": {
          "base_uri": "https://localhost:8080/",
          "height": 434
        },
        "id": "kDtaLKDv8Nga",
        "outputId": "5b7a0d3b-48fc-4af9-85ba-18b17c4c0366"
      },
      "execution_count": null,
      "outputs": [
        {
          "output_type": "execute_result",
          "data": {
            "text/plain": [
              "<class 'statsmodels.iolib.summary.Summary'>\n",
              "\"\"\"\n",
              "                            OLS Regression Results                            \n",
              "==============================================================================\n",
              "Dep. Variable:                 income   R-squared:                       0.525\n",
              "Model:                            OLS   Adj. R-squared:                  0.514\n",
              "Method:                 Least Squares   F-statistic:                     47.51\n",
              "Date:                Thu, 12 Oct 2023   Prob (F-statistic):           1.84e-08\n",
              "Time:                        23:29:25   Log-Likelihood:                -190.42\n",
              "No. Observations:                  45   AIC:                             384.8\n",
              "Df Residuals:                      43   BIC:                             388.5\n",
              "Df Model:                           1                                         \n",
              "Covariance Type:            nonrobust                                         \n",
              "==============================================================================\n",
              "                 coef    std err          t      P>|t|      [0.025      0.975]\n",
              "------------------------------------------------------------------------------\n",
              "const         10.6035      5.198      2.040      0.048       0.120      21.087\n",
              "education      0.5949      0.086      6.893      0.000       0.421       0.769\n",
              "==============================================================================\n",
              "Omnibus:                        9.841   Durbin-Watson:                   1.736\n",
              "Prob(Omnibus):                  0.007   Jarque-Bera (JB):               10.609\n",
              "Skew:                           0.776   Prob(JB):                      0.00497\n",
              "Kurtosis:                       4.802   Cond. No.                         123.\n",
              "==============================================================================\n",
              "\n",
              "Notes:\n",
              "[1] Standard Errors assume that the covariance matrix of the errors is correctly specified.\n",
              "\"\"\""
            ],
            "text/html": [
              "<table class=\"simpletable\">\n",
              "<caption>OLS Regression Results</caption>\n",
              "<tr>\n",
              "  <th>Dep. Variable:</th>         <td>income</td>      <th>  R-squared:         </th> <td>   0.525</td>\n",
              "</tr>\n",
              "<tr>\n",
              "  <th>Model:</th>                   <td>OLS</td>       <th>  Adj. R-squared:    </th> <td>   0.514</td>\n",
              "</tr>\n",
              "<tr>\n",
              "  <th>Method:</th>             <td>Least Squares</td>  <th>  F-statistic:       </th> <td>   47.51</td>\n",
              "</tr>\n",
              "<tr>\n",
              "  <th>Date:</th>             <td>Thu, 12 Oct 2023</td> <th>  Prob (F-statistic):</th> <td>1.84e-08</td>\n",
              "</tr>\n",
              "<tr>\n",
              "  <th>Time:</th>                 <td>23:29:25</td>     <th>  Log-Likelihood:    </th> <td> -190.42</td>\n",
              "</tr>\n",
              "<tr>\n",
              "  <th>No. Observations:</th>      <td>    45</td>      <th>  AIC:               </th> <td>   384.8</td>\n",
              "</tr>\n",
              "<tr>\n",
              "  <th>Df Residuals:</th>          <td>    43</td>      <th>  BIC:               </th> <td>   388.5</td>\n",
              "</tr>\n",
              "<tr>\n",
              "  <th>Df Model:</th>              <td>     1</td>      <th>                     </th>     <td> </td>   \n",
              "</tr>\n",
              "<tr>\n",
              "  <th>Covariance Type:</th>      <td>nonrobust</td>    <th>                     </th>     <td> </td>   \n",
              "</tr>\n",
              "</table>\n",
              "<table class=\"simpletable\">\n",
              "<tr>\n",
              "      <td></td>         <th>coef</th>     <th>std err</th>      <th>t</th>      <th>P>|t|</th>  <th>[0.025</th>    <th>0.975]</th>  \n",
              "</tr>\n",
              "<tr>\n",
              "  <th>const</th>     <td>   10.6035</td> <td>    5.198</td> <td>    2.040</td> <td> 0.048</td> <td>    0.120</td> <td>   21.087</td>\n",
              "</tr>\n",
              "<tr>\n",
              "  <th>education</th> <td>    0.5949</td> <td>    0.086</td> <td>    6.893</td> <td> 0.000</td> <td>    0.421</td> <td>    0.769</td>\n",
              "</tr>\n",
              "</table>\n",
              "<table class=\"simpletable\">\n",
              "<tr>\n",
              "  <th>Omnibus:</th>       <td> 9.841</td> <th>  Durbin-Watson:     </th> <td>   1.736</td>\n",
              "</tr>\n",
              "<tr>\n",
              "  <th>Prob(Omnibus):</th> <td> 0.007</td> <th>  Jarque-Bera (JB):  </th> <td>  10.609</td>\n",
              "</tr>\n",
              "<tr>\n",
              "  <th>Skew:</th>          <td> 0.776</td> <th>  Prob(JB):          </th> <td> 0.00497</td>\n",
              "</tr>\n",
              "<tr>\n",
              "  <th>Kurtosis:</th>      <td> 4.802</td> <th>  Cond. No.          </th> <td>    123.</td>\n",
              "</tr>\n",
              "</table><br/><br/>Notes:<br/>[1] Standard Errors assume that the covariance matrix of the errors is correctly specified."
            ],
            "text/latex": "\\begin{center}\n\\begin{tabular}{lclc}\n\\toprule\n\\textbf{Dep. Variable:}    &      income      & \\textbf{  R-squared:         } &     0.525   \\\\\n\\textbf{Model:}            &       OLS        & \\textbf{  Adj. R-squared:    } &     0.514   \\\\\n\\textbf{Method:}           &  Least Squares   & \\textbf{  F-statistic:       } &     47.51   \\\\\n\\textbf{Date:}             & Thu, 12 Oct 2023 & \\textbf{  Prob (F-statistic):} &  1.84e-08   \\\\\n\\textbf{Time:}             &     23:29:25     & \\textbf{  Log-Likelihood:    } &   -190.42   \\\\\n\\textbf{No. Observations:} &          45      & \\textbf{  AIC:               } &     384.8   \\\\\n\\textbf{Df Residuals:}     &          43      & \\textbf{  BIC:               } &     388.5   \\\\\n\\textbf{Df Model:}         &           1      & \\textbf{                     } &             \\\\\n\\textbf{Covariance Type:}  &    nonrobust     & \\textbf{                     } &             \\\\\n\\bottomrule\n\\end{tabular}\n\\begin{tabular}{lcccccc}\n                   & \\textbf{coef} & \\textbf{std err} & \\textbf{t} & \\textbf{P$> |$t$|$} & \\textbf{[0.025} & \\textbf{0.975]}  \\\\\n\\midrule\n\\textbf{const}     &      10.6035  &        5.198     &     2.040  &         0.048        &        0.120    &       21.087     \\\\\n\\textbf{education} &       0.5949  &        0.086     &     6.893  &         0.000        &        0.421    &        0.769     \\\\\n\\bottomrule\n\\end{tabular}\n\\begin{tabular}{lclc}\n\\textbf{Omnibus:}       &  9.841 & \\textbf{  Durbin-Watson:     } &    1.736  \\\\\n\\textbf{Prob(Omnibus):} &  0.007 & \\textbf{  Jarque-Bera (JB):  } &   10.609  \\\\\n\\textbf{Skew:}          &  0.776 & \\textbf{  Prob(JB):          } &  0.00497  \\\\\n\\textbf{Kurtosis:}      &  4.802 & \\textbf{  Cond. No.          } &     123.  \\\\\n\\bottomrule\n\\end{tabular}\n%\\caption{OLS Regression Results}\n\\end{center}\n\nNotes: \\newline\n [1] Standard Errors assume that the covariance matrix of the errors is correctly specified."
          },
          "metadata": {},
          "execution_count": 93
        }
      ]
    }
  ]
}