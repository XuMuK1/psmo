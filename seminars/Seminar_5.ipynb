{
  "nbformat": 4,
  "nbformat_minor": 0,
  "metadata": {
    "colab": {
      "provenance": [],
      "collapsed_sections": [
        "4Zw8w08fYo9Y",
        "lqHguph0Yft8",
        "xHxtaKFhS_sM",
        "f6MXdPo_IxqE",
        "8B4Ub3c2NwG2",
        "EnUb-YDKmEzC",
        "48VknVHCXZoN"
      ]
    },
    "kernelspec": {
      "name": "python3",
      "display_name": "Python 3"
    },
    "language_info": {
      "name": "python"
    }
  },
  "cells": [
    {
      "cell_type": "markdown",
      "source": [
        "# Проверка гипотез и доверительные интервалы"
      ],
      "metadata": {
        "id": "fNXqKgEGz1b7"
      }
    },
    {
      "cell_type": "markdown",
      "source": [
        "### Тестирование гипотез\n",
        "$H_0$ нулевая гипотеза против альтернативной\n",
        "\n",
        "![](https://github.com/SchattenGenie/hse-stats-course-2019/blob/master/seminar-notes/03_tests/stat_errors.png)\n",
        "\n",
        "В статистике различаются два вида ошибок:\n",
        "  * $\\alpha$ - ошибка первого рода -- когда мы отвергаем гипотезу, а она верна;\n",
        "  * $\\beta$ - ошибка второго рода -- когда мы __не__ отвергаем гипотезу, а она не верна.\n",
        "    (т.е. неверно приняли приняли нулевую гипотезу)\n",
        "  \n",
        "  \n",
        "![](https://openlab-flowers.inria.fr/uploads/default/original/2X/7/703b9d4e3037b266e8fc6b20e020eb84d4405a80.png)\n",
        "\n",
        "\n",
        "$$p\\mathrm{-value} = 1 - \\int\\limits_{-\\infty}^{t_{\\alpha}} p_{H_0}(t) dt$$\n",
        "\n"
      ],
      "metadata": {
        "id": "49mDtWhoK2HO"
      }
    },
    {
      "cell_type": "markdown",
      "source": [
        "Статистический тест:\n",
        "\n",
        "\n",
        "При n стремящейся к бесконечности по Центральной предельной теореме можно получить, что:\n",
        "\n",
        "$\\frac{\\bar X -\\mu}{\\sigma/\\sqrt{n}} \\sim 𝒩(0,1)$\n",
        "\n",
        "Отсюда, при известной $\\sigma$, можно получить доверительный интервал на $\\mu$:\n",
        "\n",
        "Так как  $P(\\frac{\\bar X -\\mu}{\\sigma/\\sqrt{n}} \\leq k)=\\Phi_{𝒩(0,1)}(k)$,\n",
        "с вероятностью $\\alpha$  $\\mu$ будет лежать в (1- $\\alpha$)% интервале:\n",
        " $$ -z_{\\frac{\\alpha}{2}} \\leq \\frac{\\bar X -\\mu}{\\sigma/\\sqrt{n}} \\leq z_{\\frac{\\alpha}{2}}$$\n",
        "\n",
        " Откуда  $ \\bar X- \\frac{\\sigma}{\\sqrt{n}} z_{\\frac{\\alpha}{2}}  \\leq \\mu \\leq   \\bar X+ \\frac{\\sigma}{\\sqrt{n}} z_{\\frac{\\alpha}{2}}$\n",
        "\n",
        "или составить статистический тест на $\\mu$:\n",
        "\n",
        "$H_0: \\mu = \\mu_0$\n",
        "\n",
        "\n",
        "$P(\\frac{\\bar X -\\mu_0}{\\sigma/\\sqrt{n}} \\leq x)=\\Phi_{𝒩(0,1)}(x)$\n",
        "\n",
        "Посчитав $\\Phi_{𝒩(0,1)}(\\frac{\\bar X -\\mu_0}{\\sigma/\\sqrt{n}} )$, мы смотрим насколько экстремально получить такие данные при нулевой гипотезе.\n",
        "\n"
      ],
      "metadata": {
        "id": "2QMoTQ3ANxOo"
      }
    },
    {
      "cell_type": "markdown",
      "source": [
        "##Задача 0: равенство средних\n",
        " Доверительный интервал и как связано с проверкой гипотез\n",
        "\n"
      ],
      "metadata": {
        "id": "4Zw8w08fYo9Y"
      }
    },
    {
      "cell_type": "markdown",
      "source": [
        "\n",
        "На заводе работают три станка типа А и два станка типа В. Еженедельные затраты на ремонт машин типа А обычно распределяются со средним значением $\\mu_1$ и отклонением $\\sigma$. Еженедельные затраты на ремонт машин типа В также распределяются нормально, но со средним значением $\\mu_{2}$ и отклонением $\\sigma$?.  Если вам\n",
        "дана случайная выборка, $X_1 = 100,X_2 = 120, X_3 =\n",
        "95$ по затратам на машины типа А и независимой\n",
        "случайной выборке $Y_1 = 120, Y_2 = 180$ по затратам на машины типа\n",
        "B.\n",
        "\n",
        "\n",
        "\n",
        " Рассчитайте 95%-ный доверительный интервал для разницы стоимости ремонта в неделю, $\\mu_1 - \\mu_2$.\n",
        "\n",
        "\n",
        " Проверьте гипотезу с уровнем значимости 95%,что  ожидаемой стоимость ремонта в неделю, $\\mu_1 - \\mu_2$ равна 0."
      ],
      "metadata": {
        "id": "_ZLHfbyCj-ZX"
      }
    },
    {
      "cell_type": "markdown",
      "source": [
        "### Решение Задачи 0:"
      ],
      "metadata": {
        "id": "lqHguph0Yft8"
      }
    },
    {
      "cell_type": "markdown",
      "source": [
        "Составим статистику.\n",
        "\n",
        "Исходя из того, что\n",
        "затраты на ремонт машин распределены нормально\n",
        "$X_i \\sim  𝒩(\\mu_1,\\sigma^{2})$\n",
        "\n",
        "$ Y_i \\sim  𝒩(\\mu_2,\\sigma^{2})$\n",
        "\n",
        "\n",
        "Отсюда\n",
        "$(\\frac{ \\bar X - \\mu_1}{\\sigma/\\sqrt{3}})\\sim 𝒩(0,1)$ и\n",
        "$(\\frac{\\bar Y - \\mu_2}{\\sigma/\\sqrt{2}}) \\sim 𝒩(0,1)$\n",
        "\n",
        "\n",
        "$(\\frac{ \\bar X - \\mu_1}{\\sigma/\\sqrt{3}}) \\frac{1}{\\sqrt{3}}- (\\frac{\\bar Y - \\mu_2}{\\sigma/\\sqrt{2}}) \\frac{1}{\\sqrt{2}}    = \\frac{ \\bar X -  \\mu_1  - \\bar Y + \\mu_2} {\\sigma}\\sim   𝒩(0,\\sqrt{\\frac{1}{3}+\\frac{1}{2}})$\n",
        "\n",
        "\n",
        "Unknown $\\sigma$\n",
        "\n",
        "По лемме Фишера:\n",
        "$\\frac{(n_x-1)s_x^{2}}{\\sigma^{2}}\\sim χ^{2}(n_x-1)$\n",
        "$\\frac{(n_y-1)s_y^{2}}{\\sigma^{2}}\\sim χ^{2}(n_y-1)$\n",
        "\n",
        "Thus, $\\frac{(n_x-1)s_x^{2}+(n_y-1)s_y^{2}}{\\sigma^{2}} \\sim χ^{2}(n_x+n_y-2) $\n",
        "\n",
        "По определению распределения Стьюдента\n",
        "$\\frac{\\bar X - \\mu_1  - \\bar Y + \\mu_2 }{\\sqrt{\\frac{(n_x-1)s_x^{2} + (n_y-1)s_y^{2}}{n_y+n_x-2}}\\sqrt{\\frac{1}{n_x}+ \\frac{1}{n_y}}} \\sim \\frac{N(0,1)}{\\sqrt{χ^{2}(n_x+n_y-2)}} \\sim t(n_x+n_y-2)$\n",
        "\n",
        "Интервал:\n",
        "\n",
        "CI: $\\bar X - \\bar Y ± t_{\\frac{\\alpha}{2}}(n_x+n_y-2) \\sqrt{\\frac{(n_x-1)s_x^{2} + (n_y-1)s_y^{2}}{n_y+n_x-2}}\\sqrt{\\frac{1}{n_x}+ \\frac{1}{n_y}}$"
      ],
      "metadata": {
        "id": "ZSJjusUuY0Xa"
      }
    },
    {
      "cell_type": "code",
      "source": [
        "import numpy as np\n",
        "from scipy.stats import t\n",
        "X = np.array([120,100, 95])\n",
        "Y = np.array([120, 140])\n",
        "n_x = len(X)\n",
        "n_y = len(Y)\n",
        "X_bar = np.mean(X)\n",
        "Y_bar = np.mean(Y)\n",
        "s_X = np.std(X)\n",
        "s_Y = np.std(Y)\n",
        "t_quantile = t.isf(df = n_x+ n_y-2, q = 0.0025)\n",
        "t_lower = (X_bar - Y_bar) - t_quantile*np.sqrt(((n_x-1)*(s_X**2) + (n_y-1)*(s_Y**2))*(n_x+n_y)/ (n_x*n_y*(n_x+n_y - 2)))\n",
        "t_upper = (X_bar - Y_bar) + t_quantile*np.sqrt(((n_x-1)*(s_X**2) + (n_y-1)*(s_Y**2))*(n_x+n_y)/ (n_x*n_y*(n_x+n_y - 2)))\n",
        "print(\"CI 95% :\", t_lower , t_upper )\n"
      ],
      "metadata": {
        "colab": {
          "base_uri": "https://localhost:8080/"
        },
        "id": "gso83yB89N0D",
        "outputId": "ff3128b6-15d3-4093-c545-476d44043a5f"
      },
      "execution_count": null,
      "outputs": [
        {
          "output_type": "stream",
          "name": "stdout",
          "text": [
            "CI 95% : -96.7195907550775 46.719590755077505\n"
          ]
        }
      ]
    },
    {
      "cell_type": "markdown",
      "source": [
        "Так как ноль входит в интервал, не можем отвергать нулевую гипотезу с уровнем значимости 5%."
      ],
      "metadata": {
        "id": "JCEoCJi_KuW_"
      }
    },
    {
      "cell_type": "markdown",
      "source": [
        "## Мотивационные вопросы"
      ],
      "metadata": {
        "id": "xHxtaKFhS_sM"
      }
    },
    {
      "cell_type": "markdown",
      "source": [
        "Зачем нужны доверительные интервалы? Как их можно применить в машинном обучении?\n",
        "\n",
        "Вместо точечныз оценок как интервалы уверенности, можно несколько интервалов строить для разного уровня значимости."
      ],
      "metadata": {
        "id": "9bNLIcOMTAnE"
      }
    },
    {
      "cell_type": "markdown",
      "source": [
        "### Доверительные интервалы\n",
        "\n",
        "Точечные оценки, которые мы обсуждали ранее (выборочные средние, ММП-оценки,...) работают так:\n",
        "$$\n",
        "\\text{выборка} \\mapsto T, \\text{число}.\n",
        "$$\n",
        "Это хорошо, но при этом мы не можем, например, понять, насколько оценка устойчивая, то есть, не получится ли так, что мы получим другую выборку из того же распределения и оценка станет совсем другой. Иными словами не ясно, насколько мы уверенно можем заявить, что истинный параметр действительно близко к полученному значению.\n",
        "\n",
        "Доверительные интервалы -- это следующая ступень. Теперь вместо точечной оценки мы хотим интервал, который с заданной вероятностью включал бы в себя истинный оцениваемый параметр:\n",
        "$$\n",
        "\\text{выборка} \\mapsto L,R.\n",
        "$$\n",
        "\n",
        "Пока очень общо, формализуем такой подход. Пусть нам дана выборка $X_1,..,X_n$, зададим произвольное $\\alpha \\in (0,1)$. Доверительным интервалом уровня $1-\\alpha$ для истинного параметра $\\theta$ мы будем называть интервал со случайными(!!!) концами $L,R$ такой, что\n",
        "1. $L,R$ -- статистики (по-другому, оценки) и при этом c вероятностью $1$ граница $ L < R$;\n",
        "2. Вероятность накрытия интервалом истинного значения параметра $\\theta$ равна\n",
        "$$\n",
        "\\mathbb{P}(L< \\theta <R) = 1-\\alpha.\n",
        "$$\n",
        "\n",
        "А тестирование гипотез - это насколько правдоподобны наши данные нашей гипотезе"
      ],
      "metadata": {
        "id": "Ad7VOudXobDH"
      }
    },
    {
      "cell_type": "markdown",
      "source": [
        "## Задача 1 (Жизненная проверка гипотез)"
      ],
      "metadata": {
        "id": "f6MXdPo_IxqE"
      }
    },
    {
      "cell_type": "markdown",
      "source": [
        "В кофейне Арбуз после начала нового сезона решили попробовать открыть продажу пирожных. По итогам месяца посчитали, что было продано $250$ бисквитных с орехами, $100$ бисквитных с заварным кремом и $450$ стаканов орешков со сгущёнкой. Известно, что все проданные пирожные были проданы отдельно, так как оказалось, что клиенты покупали их вместе с напитком и не хотели брать второе пирожное.\n",
        "\n",
        "* Постройте ММП-оценку для вероятности выбора клиентом каждого из пирожных;\n",
        "* Постройте асимптотический доверительный интервал для вероятности продажи пирожного с орехами или заварным кремом;\n",
        "* Проверьте гипотезу о том, что клиент покупает орешки со сгущёнкой с вероятностью $0.5$ на уровне значимости $\\alpha=0.05$, используя центральную предельную теорему.\n"
      ],
      "metadata": {
        "id": "ECquQRLPJrRu"
      }
    },
    {
      "cell_type": "markdown",
      "source": [
        "### Решение"
      ],
      "metadata": {
        "id": "GUTRajKqty09"
      }
    },
    {
      "cell_type": "markdown",
      "source": [
        "ММП-оценку можно построить разными способами, например, можно выписать функцию правдоподобия, взять логарифм и промаксимизировать. В данном случае мы можем предложить вероятностную модель с дискретным распределением: пусть клиент покупает бисквитное пирожное с орехами с вероятностью $p_1$, бисквитное с кремом с вероятностью $p_2$, а орешки со сгущёнкой уходят с вероятностью $1-p_1-p_2$. Логарифмическая функция правдоподобия в данном случае будет иметь вид\n",
        "$\n",
        "l(p_1,p_2) = 250\\ln p_1 + 100 \\ln p_2 + 450 \\ln(1-p_1-p_2).\n",
        "$\n",
        "\n",
        "Попробуем промаксимизировать её, приравняв производные к нулю; решая, получим\n",
        "$\\hat{p}_1= 5/16,~ \\hat{p}_2=1/8,~ 1-\\hat{p}_1-\\hat{p}_2 = 9/16.\n",
        "$\n"
      ],
      "metadata": {
        "id": "LgIBWDEqxtX-"
      }
    },
    {
      "cell_type": "markdown",
      "source": [
        "Теперь рассмотрим второй вопрос. Говоря ``асимптотический'', мы имеем в виду, что в качестве одного из вариантов можно задействовать центральную предельную теорему. Классическая версия говорит, что если случайные величины $X_1,..,X_n,..$ независимы и одинаково распределены с конечным матожиданием $\\mu$ и дисперсией $\\sigma^2$, то при $n \\to \\infty$\n",
        "$\\frac{\\sqrt{n}(\\overline{X}_n - \\mu)}{\\sigma} \\to^d \\mathcal{N}(0,1),$\n",
        "\n",
        "где $\\overline{X}_n:=\\frac{1}{n}\\sum_{i=1}^n X_i$ -- выборочное среденее. В нашем случае мы можем применить теорему Слуцкого,  помощью которой можно заменить настоящую дисперсию на выборочную  $\\hat{\\sigma}^2$ и получить тот же результат. Таким образом, имея достаточно большую выборку мы можем утверждать, что распределение статистики выше недалеко от $\\mathcal{N}(0,1)$ и в качестве доверительного интервала мы можем использовать квантили $z_\\alpha$ стандартного нормального распределения с нужным уровнем $\\alpha$. В нашем случае в качестве $X$ нам нужно взять случайную величину с рапределением $Ber(p_1+p_2)$ и, соответственно, $\\overline{X}_n= \\hat{p}_1+\\hat{p}_2$. Получаем, что\n",
        "\n",
        "$P({z_{\\alpha/2} \\leq \\frac{ \\sqrt{n}(\\hat{p}_1+\\hat{p}_2 - p_1-p_2) }{ \\hat{\\sigma} } \\leq z_{1-\\alpha/2}}) \\approx 1-\\alpha,$\n",
        "в итоге\n",
        "\n",
        "$P\\left(-\\frac{\\hat{\\sigma}}{\\sqrt{n}}z_{1-\\alpha/2} + \\hat{p}_1+\\hat{p}_2 \\leq    p_1+p_2  \\leq  \\hat{p}_1+\\hat{p}_2 +\\frac{\\hat{\\sigma}}{\\sqrt{n}} z_{1-\\alpha/2} \\right) \\approx 1-\\alpha.$"
      ],
      "metadata": {
        "id": "7dakPl4djVCl"
      }
    },
    {
      "cell_type": "markdown",
      "source": [
        "\n",
        "Наконец, мы можем использовать этот доверительный интервал для проверки гипотезы на уровне значимости $\\alpha$ (вероятность отвергнуть верную гипотезу!). Проверяем гипотезу $H_0: p_1+p_2=0.5$ против альтернативы $H_1: p_1+p_2 \\neq 0.5$. Для теста используем статистику\n",
        "\n",
        "$\n",
        "T= \\frac{ \\sqrt{n}(\\hat{p}_1+\\hat{p}_2 - p_1-p_2) }{ \\sigma },\n",
        "$\n",
        "\n",
        "про которую у нас есть классическая центральная предельная теорема, утверждающая, что при верной гипотезе $T$ близка к гауссовской случайной величине при большой выборке. Заметьте, что $p_1+p_2=0.5$ задано гипотезой, а значит, и $\\sigma = \\sqrt{(p_1+p_2)(1-p_1-p_2)}=0.5$. Если статистика на нашей выборке не попадает в доверительный интервал уровня $1-\\alpha$ (как выше), то гипотеза отвергается; иначе тест не может её отвергнуть.\n",
        "\n",
        "В данном случае значение статистики $\\hat{T}=2\\sqrt{800}(7/16 - 0.5)=-5\\sqrt{2}/2\\approx -3.54$ и это точно меньше квантили $z_{\\alpha/2}=-1.96$. Таким образом, гипотеза отвергается."
      ],
      "metadata": {
        "id": "z3T3OEVAkTR0"
      }
    },
    {
      "cell_type": "markdown",
      "source": [
        "### Про p-value\n",
        "\n",
        "На практике в силу доступности компьютера обычно не сверяются с квантилями по таблице, как это делали в середине прошлого века. Вместо этого для данной выборки считают так называемый p-value.\n",
        "\n",
        "Можно заметить, что если мы будем задавать $\\alpha$ очень малым (тем самым панически боясь отвергнуть гипотезу), то доверительная область будет расширяться (и в конце концов при $\\alpha=0$ мы придём к тому, что доверительная область -- вся прямая и мы не отвергаем гипотезу никогда). С другой стороны, увеличивая уровень значимости $\\alpha$, мы разрешаем допустить ошибку при отвержении с большей вероятностью (тем самым агрессивно желая отвергнуть гипотезу) и доверительная область будет уменьшаться (в экстремальном случае $\\alpha=1$ мы отвергнем гипотезу в любом случае, кроме (а вдруг, но с вероятностью 0) случая $\\hat{T}=0$).  Естественно, что если мы зафиксируем значение статистики $\\hat{T}$ (при уже заданной выборке оно вычисляется) и будем менять только $\\alpha$, будет какой-то пороговый уровень $\\alpha_{pv}$, при котором происходит переход от доверия гипотезе к её отвержению. Это и есть p-value -- максимальный уровень значимости $\\alpha_{pv}$, при котором гипотеза не отвергается (либо, что то же, минимальный, при котором она отвергнется).\n",
        "\n",
        "Так, смотря на посчитанный один раз p-value, можно для любого заданного уровня значимости сказать сразу: отвергаем гипотезу или нет. Тем не менее, очень полезно понимать, как этот инструментарий работает с точки зрения общей науки, так как для подсчёта $p-value$, который вводится не очень очевидно на первый взгляд, ужё гарантированно придётся задействовать компьютер."
      ],
      "metadata": {
        "id": "MMLd12J6kET0"
      }
    },
    {
      "cell_type": "markdown",
      "source": [
        "## Задача 2 (Равенство дисперсий многомерного нормального распределения)"
      ],
      "metadata": {
        "id": "8B4Ub3c2NwG2"
      }
    },
    {
      "cell_type": "markdown",
      "source": [
        "Пусть даны $X_1,..,X_{15}$, независимые и одинаково распределённые случайные вектора в $R^{10}$ из распределения $\\mathcal{N}(0, \\sigma^2 I)$. Постройте критерий для проверки гипотезы $\\sigma^2=\\sigma_0^2$ против альтернативы $\\sigma^2 > \\sigma_0^2$."
      ],
      "metadata": {
        "id": "AwTt6hDM3q1f"
      }
    },
    {
      "cell_type": "markdown",
      "source": [
        "### Решение"
      ],
      "metadata": {
        "id": "e8XFTvqrnrTF"
      }
    },
    {
      "cell_type": "markdown",
      "source": [
        "Это один из естественных примеров, когда нужен односторонний критерий. \\\\\n",
        "\n",
        "Величины $X_1,..,X_{15}$ -- независимые гауссовские вектора. Более того, координаты векторов некоррелированы, так как ковариационная матрица диагональна. Если мы запишем матрицу\n",
        "$(X_{i,j}) = \\begin{bmatrix} X_1 \\vert & .. & \\vert X_{15}\\end{bmatrix},$\n",
        "то её ячейки будут независимы в совокупности и распределены по $\\mathcal{N}(0,\\sigma^2)$.\n",
        "\n",
        "Как нам известно, сумма квадратов координат $k$-мерного нормального вектора из $\\mathcal{N}(0,I)$ имеет распределение хи-квадрат с $k$ степенями свободы ( $\\chi^2(k)$, это одно из определений распределения хи-квадрат). Так,\n",
        "\n",
        "$T=\\sum_{i=1}^{10}\\sum_{j=1}^{15} \\frac{X_{i,j}^2}{\\sigma^2} \\sim \\chi^2 (150).$\n",
        "\n",
        "Для проверки гипотезы можем использовать следующий способ. Проверяем гипотезу $H_0: \\sigma^2=\\sigma_0^2$ против альтернативы $H_1: \\sigma^2 > \\sigma_0^2$. Зная, что статистика $T$ при верной гипотезы будет иметь распределение как выше и посчитав по данной выборке $\\hat{T}$, мы отвергаем гипотезу при $\\hat{T}>\\lambda_{1-\\alpha}$, где $\\lambda_{1-\\alpha}$ -- квантиль распределения $\\chi^2(150)$ уровня $1-\\alpha$.\n",
        "\n",
        "Почему именно так? Вероятность получить значения больше $\\lambda_{1-\\alpha}$ (и, значит, отвергнуть верную гипотезу!) в предположении того, что гипотеза верна, как раз равна $\\alpha$, уровню значимости.\n",
        "\n"
      ],
      "metadata": {
        "id": "72BGJxSm6gwE"
      }
    },
    {
      "cell_type": "markdown",
      "source": [
        "## Задача 3 (Гипотеза об однородности)\n",
        "\n",
        "$\\chi^2$-тест об однородности гипотеза\n",
        "\n",
        "\n",
        "\n"
      ],
      "metadata": {
        "id": "EnUb-YDKmEzC"
      }
    },
    {
      "cell_type": "markdown",
      "source": [
        "### Постановка задачи\n",
        "\n",
        "|  . | Мужчин | Женщин  | Всего  |\n",
        "|---|---|---|---|\n",
        "| Контрольная группа  | 8  |  7 |  15 |\n",
        "| Инсульт  |  14 |  1 |  15 |\n",
        "|  Всего  |  22 | 8  | 30  |\n",
        "\n",
        "Мы тестируем гипотезу:\n",
        "\n",
        "$$\\mathbb{H}_0:~~\\textrm{Пропорции мужчин и женщин в каждой группе равны(независимы от пола)}$$  $$~~\\mathrm{vs}~~$$  $$\\mathbb{H}_1: ~~ \\textrm{не равны}$$\n",
        "\n",
        "Тест считает все возможные способы разбросать 30 наблюдений по таблице 2 x 2 с такими же суммами по строкам и столбцам и с такими же пропорциями, как в таблице выше."
      ],
      "metadata": {
        "id": "_O8vOyjPogyW"
      }
    },
    {
      "cell_type": "code",
      "source": [
        "import numpy as np\n",
        "\n",
        "con_m, con_f = 8, 7\n",
        "str_m, str_f = 14, 1\n",
        "\n",
        "design_matrix = np.array([[con_m, con_f], [str_m, str_f]])"
      ],
      "metadata": {
        "id": "vxRQiY6KpK5_"
      },
      "execution_count": null,
      "outputs": []
    },
    {
      "cell_type": "markdown",
      "source": [
        "### $\\chi^2$-тест\n",
        "\n",
        "$$\\chi^2 = \\sum\\limits_{i,j} \\frac{(E_{ij} - O_{ij})^2}{E_{ij}},$$\n",
        "\n",
        "где $O_{ij}$ - число в ячейке $ij$, $E_{ij}$ - математическое ожидание числа наблюдений при нулевой гипотезе."
      ],
      "metadata": {
        "id": "ca-oRFW4om2G"
      }
    },
    {
      "cell_type": "markdown",
      "source": [
        "Тест из scipy.stats"
      ],
      "metadata": {
        "id": "1EnD7n5io5TE"
      }
    },
    {
      "cell_type": "code",
      "source": [
        "from scipy.stats import chi2_contingency\n",
        "\n",
        "chi2, p, dof, ex = chi2_contingency(design_matrix, correction=False)\n",
        "\n",
        "print('Chi2 test: {:.4f}'.format(chi2))\n",
        "print('Chi2 test p-value: {:.4f}'.format(p))"
      ],
      "metadata": {
        "colab": {
          "base_uri": "https://localhost:8080/"
        },
        "id": "zBwWGhB-o_a_",
        "outputId": "1cb26861-839b-476f-e5a7-d81ecf31457d"
      },
      "execution_count": null,
      "outputs": [
        {
          "output_type": "stream",
          "name": "stdout",
          "text": [
            "Chi2 test: 6.1364\n",
            "Chi2 test p-value: 0.0132\n"
          ]
        }
      ]
    },
    {
      "cell_type": "markdown",
      "source": [
        "$\\chi^2$-тест своими руками"
      ],
      "metadata": {
        "id": "EgxWCDOcpyyB"
      }
    },
    {
      "cell_type": "code",
      "source": [
        "E = (np.outer(design_matrix.sum(axis=1), design_matrix.sum(axis=0)) / 30)\n",
        "print(E)\n",
        "chi2_test = ((np.abs(E - design_matrix))**2 / E).sum()\n",
        "print(\"Хи-квадрат:\", chi2_test)\n",
        "\n",
        "from scipy.stats import chi2\n",
        "print(\"p-value:\", 1 - chi2.cdf(((np.abs(E - design_matrix))**2 / E).sum(), df=1))\n"
      ],
      "metadata": {
        "colab": {
          "base_uri": "https://localhost:8080/"
        },
        "id": "cp-otH5spafk",
        "outputId": "f1d08b8a-77a2-494b-9735-884af72b4346"
      },
      "execution_count": null,
      "outputs": [
        {
          "output_type": "stream",
          "name": "stdout",
          "text": [
            "[[11.  4.]\n",
            " [11.  4.]]\n",
            "Хи-квадрат: 6.136363636363637\n",
            "p-value: 0.013242937567462088\n"
          ]
        }
      ]
    },
    {
      "cell_type": "markdown",
      "source": [
        "## Задача 4 (Тест Колмогорова Смирнова)"
      ],
      "metadata": {
        "id": "48VknVHCXZoN"
      }
    },
    {
      "cell_type": "markdown",
      "source": [
        "На лекции упоминалось, что для ответа на вопрос \"Пришли ли две выборки из одного и того же распределения?\" нам может помочь критерий Колмогорова-Смирнова. Давайте разберёмся с ним чуть поподробнее\n",
        "\n",
        "Пусть даны две несвязанных выборки $X_1,..,X_n$ и $Y_1,..,Y_m$, независимые в совокупности внутри и между собой и каждая из распределений $F$ и $G$ соответственно. Если мы сразу попробовали бы поставить гипотезу и альтернативу, вероятно, они бы выглядели так:\n",
        "\n",
        "$$\n",
        "H_0: \\forall x ~F(x)=G(x)$$\n",
        "$$~H_A: \\exists x ~F(x) \\neq G(x).\n",
        "$$\n",
        "\n",
        "Чтобы проверить такую гипотезу с помощью теста Колмогорова-Смирнова, нам необходимо построить эмпирическую функцию распределения обеих выборок и вычислить следующую статистику:\n",
        "\n",
        "$$d\t   =    \tmax[abs[{F_{n}(X)-G_{m}(X)}]]$$\n",
        "\n",
        "Чтобы узнать, как считается p-value для такой гипотезы, можно обратиться к следующей литературе\n",
        "* [Вопрос на stackexchange](https://stats.stackexchange.com/questions/149595/ks-test-how-is-the-p-value-calculated)\n",
        "* [Статья, где выводится ответ](http://www.jstatsoft.org/v08/i18/paper?ev=pub_ext_btn_xdl)"
      ],
      "metadata": {
        "id": "nipeEbyfXcNh"
      }
    },
    {
      "cell_type": "markdown",
      "source": [
        "Допустим, у нас есть следующие 2 выборки:\n",
        "\n",
        "```\n",
        "X : 1, 2, 2.5, 3, 4, 4.5, 9.5, 18, 22, 23\n",
        "Y : 5, 6, 7, 8, 9, 10, 10, 19, 20, 21, 22\n",
        "```\n",
        "\n",
        "Тогда совокупная эмпирическая функция распределения для выборок будет выглядеть следующим образом:\n",
        "```    \n",
        "   1.0 2.0 2.5 3.0 4.0 4.5 5.0 6.0 7.0 8.0 9.0 9.5 10. 18. 19. 20. 21. 22. 23.\n",
        "Fx 0.1 0.2 0.3 0.4 0.5 0.6 0.6 0.6 0.6 0.6 0.6 0.7 0.7 0.8 0.8 0.8 0.8 0.9 1.0\n",
        "Fy 0.0 0.0 0.0 0.0 0.0 0.0 0.1 .19 .28 .37 .46 .46 .64 .64 .73 .82 .91 1.0 1.0\n",
        "\n",
        "```\n",
        "\n",
        "Методом пристального взгляда видим, что максимальная разница между функциями распределения достигается в точке 4.5 и составляет 0.6. Уже интуитивно понятно, что столь большое различие в функциях распределения в определённой точке вряд ли позволит нам не отвергнуть гипотезу об однородности этих распределений.\n",
        "\n",
        "Посчитаем критическое значение статистики для 95% доверительного интервала:\n",
        "\n",
        "$$d(0.05) = 1.36\\sqrt{1/n + 1/m} = 1.36\\sqrt{1/11 + 1/10} =  0.594$$\n",
        "\n",
        "Видим, что наблюдаемое значение статистики 0.6 больше критического значения для двухсторонней гипотезы, поэтому гипотеза об однородности действительно отвергается."
      ],
      "metadata": {
        "id": "UkTC6YsVTKXL"
      }
    },
    {
      "cell_type": "code",
      "source": [
        "import numpy as np\n",
        "from scipy import stats\n",
        "\n",
        "X = np.array([1, 2, 2.5, 3, 4, 4.5, 9.5, 18, 22, 23])\n",
        "Y = np.array([5, 6, 7, 8, 9, 10, 10, 19, 20, 21, 22])\n",
        "stats.ks_2samp(X, Y)"
      ],
      "metadata": {
        "colab": {
          "base_uri": "https://localhost:8080/"
        },
        "id": "0IF6OUU1XXLh",
        "outputId": "8e78b59c-184c-475c-9718-d2e4ce75cac7"
      },
      "execution_count": null,
      "outputs": [
        {
          "output_type": "execute_result",
          "data": {
            "text/plain": [
              "KstestResult(statistic=0.6, pvalue=0.033936651583710405, statistic_location=4.5, statistic_sign=1)"
            ]
          },
          "metadata": {},
          "execution_count": 17
        }
      ]
    },
    {
      "cell_type": "code",
      "source": [
        "sum(X<=stats.ks_2samp(X, Y).statistic_location)/len(X)"
      ],
      "metadata": {
        "colab": {
          "base_uri": "https://localhost:8080/"
        },
        "id": "t-tnZKD1aD39",
        "outputId": "565a8cb2-ca81-4408-8853-a8c22ebece71"
      },
      "execution_count": null,
      "outputs": [
        {
          "output_type": "execute_result",
          "data": {
            "text/plain": [
              "0.6"
            ]
          },
          "metadata": {},
          "execution_count": 10
        }
      ]
    },
    {
      "cell_type": "code",
      "source": [
        "import matplotlib.pyplot as plt\n",
        "import seaborn as sns\n",
        "\n",
        "plt.figure(figsize=(15, 8))\n",
        "ax_X = sns.ecdfplot(X, label='X')\n",
        "ax_Y = sns.ecdfplot(Y, label='Y')\n",
        "\n",
        "try:\n",
        "  critical_y = sum(Y<=stats.ks_2samp(X, Y).statistic_location)/len(Y)\n",
        "except:\n",
        "  critical_y = 0\n",
        "\n",
        "try:\n",
        "  critical_x = sum(X<=stats.ks_2samp(X, Y).statistic_location)/len(X)\n",
        "except:\n",
        "  critical_x = 0\n",
        "\n",
        "plt.vlines(stats.ks_2samp(X, Y).statistic_location,\n",
        "           ymin=min(critical_y, critical_x),\n",
        "           ymax=max(critical_y, critical_x),\n",
        "           color='g', label='d_observed', linewidth=5)\n",
        "plt.grid()\n",
        "plt.legend()\n",
        "plt.show()"
      ],
      "metadata": {
        "colab": {
          "base_uri": "https://localhost:8080/",
          "height": 682
        },
        "id": "Hp99kPRDXu7c",
        "outputId": "0fdd2a1a-a816-44b5-b33e-84b68390e378"
      },
      "execution_count": null,
      "outputs": [
        {
          "output_type": "display_data",
          "data": {
            "text/plain": [
              "<Figure size 1500x800 with 1 Axes>"
            ],
            "image/png": "[encoded data removed]"
          },
          "metadata": {}
        }
      ]
    },
    {
      "cell_type": "markdown",
      "source": [
        "### Небольшое интро в расстояние Вассерштейна\n",
        "\n",
        "* [Вики](https://en.wikipedia.org/wiki/Wasserstein_metric)\n",
        "* [Пример расчёта](https://www.fabriziomusacchio.com/blog/2023-07-24-wasserstein_distance_cdf_approximation/)"
      ],
      "metadata": {
        "id": "mxiibnsribeM"
      }
    },
    {
      "cell_type": "code",
      "source": [
        "import matplotlib.pyplot as plt\n",
        "import seaborn  as sns"
      ],
      "metadata": {
        "id": "ZfrmS4faFoxg"
      },
      "execution_count": null,
      "outputs": []
    },
    {
      "cell_type": "code",
      "source": [
        "plt.figure(figsize=(15, 8))\n",
        "ax = sns.ecdfplot(X, label='X')\n",
        "ax = sns.ecdfplot(Y, label='Y')\n",
        "\n",
        "plt.vlines(stats.ks_2samp(X, Y).statistic_location,\n",
        "           ymin=min(critical_y, critical_x),\n",
        "           ymax=max(critical_y, critical_x),\n",
        "           color='g', label='d_observed', linewidth=5)\n",
        "\n",
        "x1 = ax.lines[0].get_xydata()[:,0]\n",
        "y1 = ax.lines[0].get_xydata()[:,1]\n",
        "x2 = ax.lines[1].get_xydata()[:,0]\n",
        "y2 = ax.lines[1].get_xydata()[:,1]\n",
        "ax.fill_between(x1,y1, color=\"blue\", alpha=0.4)\n",
        "ax.fill_between(x2,y2, color=\"orange\", alpha=0.4)\n",
        "\n",
        "plt.grid()\n",
        "plt.legend()\n",
        "plt.show()"
      ],
      "metadata": {
        "colab": {
          "base_uri": "https://localhost:8080/",
          "height": 682
        },
        "id": "pH6ggh45h2rO",
        "outputId": "c4108ce2-0e21-4926-a041-de4ff3c0eae7"
      },
      "execution_count": null,
      "outputs": [
        {
          "output_type": "display_data",
          "data": {
            "text/plain": [
              "<Figure size 1500x800 with 1 Axes>"
            ],
            "image/png": "[encoded data removed]"
          },
          "metadata": {}
        }
      ]
    },
    {
      "cell_type": "code",
      "source": [
        "from scipy.stats import wasserstein_distance\n",
        "wasserstein_distance(X, Y)/max(np.hstack([X, Y]))"
      ],
      "metadata": {
        "colab": {
          "base_uri": "https://localhost:8080/"
        },
        "id": "OqWIPwrEcS_b",
        "outputId": "a98c7500-b083-4df1-955d-3c3a58ec0103"
      },
      "execution_count": null,
      "outputs": [
        {
          "output_type": "execute_result",
          "data": {
            "text/plain": [
              "0.17213438735177863"
            ]
          },
          "metadata": {},
          "execution_count": 21
        }
      ]
    },
    {
      "cell_type": "markdown",
      "source": [
        "### Применение критерия Колмогорова-Смирнова в задаче бинарной классификации"
      ],
      "metadata": {
        "id": "OeCoJefHi2oc"
      }
    },
    {
      "cell_type": "code",
      "source": [
        "from sklearn.datasets import make_classification\n",
        "from sklearn.model_selection import train_test_split\n",
        "from sklearn.linear_model import LogisticRegression\n",
        "from sklearn.metrics import roc_curve, auc\n",
        "\n",
        "X, y = make_classification(random_state=0, n_samples=1000, class_sep=0.1)\n",
        "X_train, X_test, y_train, y_test = train_test_split(X, y, random_state=0)\n",
        "\n",
        "clf = LogisticRegression().fit(X_train, y_train)\n",
        "y_pred = clf.predict_proba(X_test)\n",
        "y_pred_pos = y_pred[:, 1][y_test==1]\n",
        "y_pred_neg = y_pred[:, 1][y_test==0]\n",
        "\n",
        "ks_stat = stats.ks_2samp(y_pred_pos, y_pred_neg)\n",
        "\n",
        "plt.figure(figsize=(15, 8))\n",
        "ax_X = sns.ecdfplot(y_pred_pos, label='Y=1')\n",
        "ax_Y = sns.ecdfplot(y_pred_neg, label='Y=0')\n",
        "\n",
        "try:\n",
        "  critical_y = sum(y_pred_pos<=ks_stat.statistic_location)/len(y_pred_pos)\n",
        "except:\n",
        "  critical_y = 0\n",
        "\n",
        "try:\n",
        "  critical_x = sum(y_pred_neg<=ks_stat.statistic_location)/len(y_pred_neg)\n",
        "except:\n",
        "  critical_x = 0\n",
        "\n",
        "plt.vlines(ks_stat.statistic_location,\n",
        "           ymin=min(critical_y, critical_x),\n",
        "           ymax=max(critical_y, critical_x),\n",
        "           color='g', label='d_observed='+str(round(ks_stat.statistic, 2)), linewidth=5)\n",
        "plt.grid()\n",
        "plt.legend()\n",
        "plt.show()"
      ],
      "metadata": {
        "colab": {
          "base_uri": "https://localhost:8080/",
          "height": 682
        },
        "id": "IoeKUV-cjfac",
        "outputId": "cfdae342-07e5-4ef5-add3-7f6fdc8df58e"
      },
      "execution_count": null,
      "outputs": [
        {
          "output_type": "display_data",
          "data": {
            "text/plain": [
              "<Figure size 1500x800 with 1 Axes>"
            ],
            "image/png": "[encoded data removed]"
          },
          "metadata": {}
        }
      ]
    },
    {
      "cell_type": "markdown",
      "source": [
        "How case with more separable classes\n",
        "\n",
        "class_sep default=1.0\n",
        "The factor multiplying the hypercube size. Larger values spread out the clusters/classes and make the classification task easier."
      ],
      "metadata": {
        "id": "XXKnBRecmENK"
      }
    },
    {
      "cell_type": "code",
      "source": [
        "X, y = make_classification(random_state=0, n_samples=1000, class_sep=1)\n",
        "X_train, X_test, y_train, y_test = train_test_split(X, y, random_state=0)\n",
        "\n",
        "clf = LogisticRegression().fit(X_train, y_train)\n",
        "y_pred = clf.predict_proba(X_test)\n",
        "y_pred_pos = y_pred[:, 1][y_test==1]\n",
        "y_pred_neg = y_pred[:, 1][y_test==0]\n",
        "\n",
        "ks_stat = stats.ks_2samp(y_pred_pos, y_pred_neg)\n",
        "\n",
        "plt.figure(figsize=(15, 8))\n",
        "ax_X = sns.ecdfplot(y_pred_pos, label='Y=1')\n",
        "ax_Y = sns.ecdfplot(y_pred_neg, label='Y=0')\n",
        "\n",
        "try:\n",
        "  critical_y = sum(y_pred_pos<=ks_stat.statistic_location)/len(y_pred_pos)\n",
        "except:\n",
        "  critical_y = 0\n",
        "\n",
        "try:\n",
        "  critical_x = sum(y_pred_neg<=ks_stat.statistic_location)/len(y_pred_neg)\n",
        "except:\n",
        "  critical_x = 0\n",
        "\n",
        "plt.vlines(ks_stat.statistic_location,\n",
        "           ymin=min(critical_y, critical_x),\n",
        "           ymax=max(critical_y, critical_x),\n",
        "           color='g', label='d_observed='+str(round(ks_stat.statistic, 2)), linewidth=5)\n",
        "plt.grid()\n",
        "plt.legend()\n",
        "plt.show()"
      ],
      "metadata": {
        "colab": {
          "base_uri": "https://localhost:8080/",
          "height": 682
        },
        "id": "_F67gozep3K8",
        "outputId": "38aae9de-bc60-49d5-80b4-cbffc6223f29"
      },
      "execution_count": null,
      "outputs": [
        {
          "output_type": "display_data",
          "data": {
            "text/plain": [
              "<Figure size 1500x800 with 1 Axes>"
            ],
            "image/png": "[encoded data removed]"
          },
          "metadata": {}
        }
      ]
    },
    {
      "cell_type": "markdown",
      "source": [
        "We see that distibution for class 0 and class 1 are more different that is shown by KS test as classes more separable"
      ],
      "metadata": {
        "id": "ebvkfxDhmeds"
      }
    },
    {
      "cell_type": "code",
      "source": [],
      "metadata": {
        "id": "jz_eUTZHmsED"
      },
      "execution_count": null,
      "outputs": []
    }
  ]
}