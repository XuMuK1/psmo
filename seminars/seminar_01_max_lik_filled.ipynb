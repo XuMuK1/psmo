{
 "cells": [
  {
   "cell_type": "markdown",
   "metadata": {},
   "source": [
    "# Метод максимального правдоподобия"
   ]
  },
  {
   "cell_type": "markdown",
   "metadata": {},
   "source": [
    "## Оценка одномерной выборки"
   ]
  },
  {
   "cell_type": "code",
   "execution_count": 2,
   "metadata": {},
   "outputs": [],
   "source": [
    "import numpy as np \n",
    "\n",
    "size = 10000 # Number of observations\n",
    "mu = 3 # Mean\n",
    "sigma = 2 # Standard deviation \n",
    "sample = np.random.normal(loc=mu, scale=sigma, size=size)"
   ]
  },
  {
   "cell_type": "markdown",
   "metadata": {},
   "source": [
    "### Явное решение"
   ]
  },
  {
   "cell_type": "code",
   "execution_count": 3,
   "metadata": {},
   "outputs": [
    {
     "name": "stdout",
     "output_type": "stream",
     "text": [
      "Estimated mu: 3.0313289904137104\n",
      "Estimated sigma: 1.9824510872015\n"
     ]
    }
   ],
   "source": [
    "mu_hat = sample.mean()\n",
    "sigma_hat = np.sqrt(\n",
    "        np.sum(\n",
    "            (sample - sample.mean())**2\n",
    "        ) \n",
    "        / size\n",
    "    )\n",
    "\n",
    "print(f\"Estimated mu: {mu_hat}\")\n",
    "print(f\"Estimated sigma: {sigma_hat}\")"
   ]
  },
  {
   "cell_type": "markdown",
   "metadata": {},
   "source": [
    "### Численное решение"
   ]
  },
  {
   "cell_type": "code",
   "execution_count": 4,
   "metadata": {},
   "outputs": [],
   "source": [
    "    \n",
    "def log_likelihood_factory(sample: np.ndarray):\n",
    "\n",
    "    def log_likelihood(params):\n",
    "        mu, sigma = params\n",
    "\n",
    "        n = len(sample)\n",
    "\n",
    "        lik =   - 0.5 * n * np.log(2 * np.pi) \\\n",
    "                - 0.5 * n * np.log(sigma ** 2) \\\n",
    "                - (0.5 / sigma **2) * np.sum(\n",
    "                (sample - mu)**2\n",
    "            ) \n",
    "        \n",
    "        # For maximization\n",
    "        return  - lik\n",
    "    \n",
    "    return log_likelihood\n",
    "\n",
    "\n",
    "def log_likelihood_grad_factory(sample: np.ndarray):\n",
    "\n",
    "    def log_likelihood_grad(params):\n",
    "        mu, sigma = params\n",
    "\n",
    "        n = len(sample)\n",
    "\n",
    "        mu_part =  (1 / sigma **2) * (np.sum(sample) - n * mu)\n",
    "        sigma_part =  (0.5 / sigma **2) \\\n",
    "                        *  ((1 / sigma **2) *np.sum((sample - mu)**2) - n)\n",
    "        \n",
    "        # For maximization\n",
    "        return - np.array([mu_part, sigma_part])\n",
    "    \n",
    "    return log_likelihood_grad"
   ]
  },
  {
   "cell_type": "code",
   "execution_count": 5,
   "metadata": {},
   "outputs": [],
   "source": [
    "from scipy.optimize import minimize\n",
    "\n",
    "x0 = np.random.uniform(size=2)\n",
    "res = minimize(\n",
    "    log_likelihood_factory(sample), \n",
    "    x0,\n",
    "    jac=log_likelihood_grad_factory(sample)\n",
    ")"
   ]
  },
  {
   "cell_type": "code",
   "execution_count": 6,
   "metadata": {},
   "outputs": [
    {
     "data": {
      "text/plain": [
       "  message: Optimization terminated successfully.\n",
       "  success: True\n",
       "   status: 0\n",
       "      fun: 21032.725351454577\n",
       "        x: [ 3.031e+00  1.982e+00]\n",
       "      nit: 19\n",
       "      jac: [ 4.699e-08 -4.372e-07]\n",
       " hess_inv: [[ 3.930e-04  7.185e-07]\n",
       "            [ 7.185e-07  7.659e-04]]\n",
       "     nfev: 24\n",
       "     njev: 24"
      ]
     },
     "execution_count": 6,
     "metadata": {},
     "output_type": "execute_result"
    }
   ],
   "source": [
    "res"
   ]
  },
  {
   "cell_type": "markdown",
   "metadata": {},
   "source": [
    "## Марковская цепь\n",
    "\n",
    "**Марковская цепь** — это математическая модель стохастического процесса, в которой вероятность перехода в следующее состояние зависит только от текущего состояния и не зависит от предыдущих состояний. Такая характеристика называется *свойством Маркова* или свойством отсутствия памяти.\n",
    "\n",
    "Формально, последовательность случайных переменных $( X_1, X_2, \\ldots, X_n )$ образует Марковскую цепь, если выполняется следующее условие:\n",
    "\n",
    "$$\n",
    "P(X_{n+1} = x \\mid X_1 = x_1, X_2 = x_2, \\ldots, X_n = x_n) = P(X_{n+1} = x \\mid X_n = x_n)\n",
    "$$\n",
    "\n",
    "где $ P $ обозначает вероятность, а $ X_n $ — состояние в момент времени $ n $.\n",
    "\n"
   ]
  },
  {
   "cell_type": "code",
   "execution_count": 7,
   "metadata": {},
   "outputs": [],
   "source": [
    "from tqdm import trange\n",
    "import numpy as np\n",
    "import networkx as nx\n",
    "import matplotlib.pyplot as plt\n",
    "import plotly.graph_objects as go\n",
    "\n",
    "\n",
    "class MarkovChain:\n",
    "    def __init__(self, nodes: list[int], transition_matrix: np.ndarray):\n",
    "        \"\"\"\n",
    "        Initializes a Markov chain with the given nodes and transition matrix.\n",
    "\n",
    "        Args:\n",
    "            nodes (list[int]): List of node identifiers.\n",
    "            transition_matrix (np.ndarray): Square matrix representing transition probabilities between nodes.\n",
    "        \n",
    "        Raises:\n",
    "            AssertionError: If the dimensions of the transition matrix do not match the number of nodes.\n",
    "        \"\"\"\n",
    "        assert len(nodes) == transition_matrix.shape[0]\n",
    "        assert len(nodes) == transition_matrix.shape[1]\n",
    "\n",
    "        self.nodes = nodes \n",
    "        self.transition_matrix = transition_matrix\n",
    "\n",
    "        self.graph = nx.DiGraph()\n",
    "        for node in self.nodes:\n",
    "            self.graph.add_node(node)\n",
    "\n",
    "        for i, start_node in enumerate(self.nodes):\n",
    "            for j, end_node in enumerate(self.nodes):\n",
    "                probability = self.transition_matrix[i, j]\n",
    "                if probability > 0:\n",
    "                    self.graph.add_edge(start_node, end_node, weight=probability, label=f\"{probability:.2f}\")\n",
    "\n",
    "    def generate_trajectory(self, length: int) -> np.ndarray:\n",
    "        \"\"\"\n",
    "        Generates a trajectory of the Markov chain starting from a random node.\n",
    "\n",
    "        Args:\n",
    "            length (int): Length of the desired trajectory.\n",
    "\n",
    "        Returns:\n",
    "            np.ndarray: Array representing the sequence of nodes in the trajectory.\n",
    "        \"\"\"\n",
    "        initial_node = np.random.choice(self.nodes, size=1)\n",
    "\n",
    "        cur_node = initial_node\n",
    "        trajectory = [initial_node]\n",
    "        \n",
    "        for _ in trange(length):\n",
    "            cur_probs = self.transition_matrix[cur_node, :].ravel()\n",
    "            mask = (cur_probs > 0).ravel()\n",
    "            neighbours = self.nodes[mask]\n",
    "            neighbours_probs = cur_probs[mask]\n",
    "            cur_node = np.random.choice(neighbours, size=1, p=neighbours_probs)\n",
    "\n",
    "            trajectory.append(cur_node)\n",
    "\n",
    "        return np.array(trajectory).ravel()\n",
    "\n",
    "    def plot(self):\n",
    "        \"\"\"\n",
    "        Plots the Markov chain graph with nodes and edges. The edge labels represent transition probabilities.\n",
    "        \"\"\"\n",
    "        # Position the nodes using a layout\n",
    "        pos = nx.spring_layout(self.graph)\n",
    "\n",
    "        # Draw the graph\n",
    "        nx.draw(self.graph, pos, with_labels=True, node_color='lightblue', node_size=2000, font_size=12, font_weight='bold', arrows=True, connectionstyle='arc3,rad=0.2')\n",
    "\n",
    "        # Draw edge labels (probabilities)\n",
    "        edge_labels = nx.get_edge_attributes(self.graph, 'label')\n",
    "        nx.draw_networkx_edge_labels(self.graph, pos, edge_labels=edge_labels, font_size=10)\n",
    "\n",
    "        # Show the plot\n",
    "        plt.show()\n",
    "\n",
    "    def plot_trajectory(self, trajectory: np.ndarray):\n",
    "        \"\"\"\n",
    "        Plots the trajectory of the Markov chain over time, using Plotly for animation.\n",
    "\n",
    "        Args:\n",
    "            trajectory (np.ndarray): Array representing the sequence of nodes in the trajectory.\n",
    "        \"\"\"\n",
    "        pos = nx.spring_layout(self.graph)\n",
    "        edge_x, edge_y = [], []\n",
    "        for edge in self.graph.edges():\n",
    "            x0, y0 = pos[edge[0]]\n",
    "            x1, y1 = pos[edge[1]]\n",
    "            edge_x.extend([x0, x1, None])\n",
    "            edge_y.extend([y0, y1, None])\n",
    "\n",
    "        edge_trace = go.Scatter(\n",
    "            x=edge_x, y=edge_y,\n",
    "            line=dict(width=1, color='#888'),\n",
    "            hoverinfo='none',\n",
    "            mode='lines')\n",
    "\n",
    "        node_x, node_y = zip(*[pos[n] for n in self.graph.nodes()])\n",
    "        node_trace = go.Scatter(\n",
    "            x=node_x, y=node_y,\n",
    "            mode='markers+text',\n",
    "            text=[str(node) for node in self.graph.nodes()],\n",
    "            textposition='top center',\n",
    "            hoverinfo='text',\n",
    "            marker=dict(size=20, color='lightblue'))\n",
    "\n",
    "        frames = []\n",
    "        for i in range(len(trajectory)):\n",
    "            frame_node_trace = go.Scatter(\n",
    "                x=node_x, y=node_y,\n",
    "                mode='markers+text',\n",
    "                text=[str(node) for node in self.graph.nodes()],\n",
    "                textposition='top center',\n",
    "                hoverinfo='text',\n",
    "                marker=dict(size=[30 if n == trajectory[i] else 20 for n in self.graph.nodes()],\n",
    "                            color=['red' if n == trajectory[i] else 'lightblue' for n in self.graph.nodes()]))\n",
    "            frames.append(go.Frame(data=[edge_trace, frame_node_trace]))\n",
    "\n",
    "        layout = go.Layout(\n",
    "            showlegend=False,\n",
    "            xaxis=dict(visible=False),\n",
    "            yaxis=dict(visible=False),\n",
    "            template='plotly_white',\n",
    "            updatemenus=[{\n",
    "                \"buttons\": [{\n",
    "                    \"args\": [None, {\"frame\": {\"duration\": 500, \"redraw\": True}, \n",
    "                                    \"fromcurrent\": True, \"transition\": {\"duration\": 300}}],\n",
    "                    \"label\": \"Play\",\n",
    "                    \"method\": \"animate\"}],\n",
    "                \"direction\": \"left\",\n",
    "                \"pad\": {\"r\": 10, \"t\": 87},\n",
    "                \"showactive\": False,\n",
    "                \"type\": \"buttons\",\n",
    "                \"x\": 0.1,\n",
    "                \"xanchor\": \"right\",\n",
    "                \"y\": 0,\n",
    "                \"yanchor\": \"top\"}])\n",
    "\n",
    "        fig = go.Figure(data=[edge_trace, node_trace], frames=frames, layout=layout)\n",
    "        fig.update_layout(margin=dict(l=0, r=0, t=0, b=0))\n",
    "        fig.show()\n"
   ]
  },
  {
   "cell_type": "code",
   "execution_count": 8,
   "metadata": {},
   "outputs": [],
   "source": [
    "n_nodes = 5\n",
    "\n",
    "def generate_markov_chain(n_nodes: int) -> MarkovChain:\n",
    "    \"\"\"\n",
    "    Generates a random Markov chain with a specified number of nodes.\n",
    "\n",
    "    Args:\n",
    "        n_nodes (int): The number of nodes in the Markov chain.\n",
    "\n",
    "    Returns:\n",
    "        MarkovChain: An instance of the MarkovChain class initialized with the generated nodes and transition matrix.\n",
    "\n",
    "    Notes:\n",
    "        Each node has a randomly chosen number of neighbors and transition probabilities.\n",
    "    \"\"\"\n",
    "    nodes = np.arange(n_nodes)\n",
    "    transition_matrix = np.zeros([n_nodes, n_nodes])\n",
    "\n",
    "    for node in nodes:\n",
    "        other_nodes = [x for x in nodes if x != node]\n",
    "        n_other_nodes = len(other_nodes)\n",
    "        n_neighbours = np.random.randint(1, n_other_nodes)\n",
    "        neighbours = np.random.choice(other_nodes, n_neighbours, replace=False)\n",
    "\n",
    "        logits = np.random.uniform(size=n_neighbours)\n",
    "        probs = logits / logits.sum()\n",
    "\n",
    "        # Just to fix floating point error\n",
    "        # Sum now will be 1.0 instead of 0.999999\n",
    "        probs[0] += 1 - probs.sum()\n",
    "\n",
    "        for (neighbour, prob) in zip(neighbours, probs):\n",
    "            transition_matrix[node, neighbour] = prob\n",
    "\n",
    "    return MarkovChain(nodes=nodes, transition_matrix=transition_matrix)\n"
   ]
  },
  {
   "cell_type": "code",
   "execution_count": 9,
   "metadata": {},
   "outputs": [],
   "source": [
    "chain = generate_markov_chain(5)"
   ]
  },
  {
   "cell_type": "code",
   "execution_count": 10,
   "metadata": {},
   "outputs": [
    {
     "name": "stderr",
     "output_type": "stream",
     "text": [
      "100%|██████████| 10/10 [00:00<00:00, 6840.03it/s]\n"
     ]
    }
   ],
   "source": [
    "t = chain.generate_trajectory(10)"
   ]
  },
  {
   "cell_type": "code",
   "execution_count": 11,
   "metadata": {},
   "outputs": [
    {
     "data": {
      "application/vnd.plotly.v1+json": {
       "config": {
        "plotlyServerURL": "https://plot.ly"
       },
       "data": [
        {
         "hoverinfo": "none",
         "line": {
          "color": "#888",
          "width": 1
         },
         "mode": "lines",
         "type": "scatter",
         "x": [
          0.9999999999999999,
          0.09534502823528462,
          null,
          0.9999999999999999,
          0.19966714825529133,
          null,
          0.09534502823528462,
          0.9999999999999999,
          null,
          0.09534502823528462,
          0.19966714825529133,
          null,
          0.09534502823528462,
          -0.7967374299141042,
          null,
          0.19966714825529133,
          0.09534502823528462,
          null,
          0.19966714825529133,
          -0.498274746576471,
          null,
          -0.498274746576471,
          0.09534502823528462,
          null,
          -0.498274746576471,
          -0.7967374299141042,
          null,
          -0.7967374299141042,
          0.09534502823528462,
          null
         ],
         "y": [
          0.02830682025417533,
          -0.6133439463065152,
          null,
          0.02830682025417533,
          0.1900978226483489,
          null,
          -0.6133439463065152,
          0.02830682025417533,
          null,
          -0.6133439463065152,
          0.1900978226483489,
          null,
          -0.6133439463065152,
          0.0028797866228643843,
          null,
          0.1900978226483489,
          -0.6133439463065152,
          null,
          0.1900978226483489,
          0.39205951678112677,
          null,
          0.39205951678112677,
          -0.6133439463065152,
          null,
          0.39205951678112677,
          0.0028797866228643843,
          null,
          0.0028797866228643843,
          -0.6133439463065152,
          null
         ]
        },
        {
         "hoverinfo": "text",
         "marker": {
          "color": "lightblue",
          "size": 20
         },
         "mode": "markers+text",
         "text": [
          "0",
          "1",
          "2",
          "3",
          "4"
         ],
         "textposition": "top center",
         "type": "scatter",
         "x": [
          0.9999999999999999,
          0.09534502823528462,
          0.19966714825529133,
          -0.498274746576471,
          -0.7967374299141042
         ],
         "y": [
          0.02830682025417533,
          -0.6133439463065152,
          0.1900978226483489,
          0.39205951678112677,
          0.0028797866228643843
         ]
        }
       ],
       "frames": [
        {
         "data": [
          {
           "hoverinfo": "none",
           "line": {
            "color": "#888",
            "width": 1
           },
           "mode": "lines",
           "type": "scatter",
           "x": [
            0.9999999999999999,
            0.09534502823528462,
            null,
            0.9999999999999999,
            0.19966714825529133,
            null,
            0.09534502823528462,
            0.9999999999999999,
            null,
            0.09534502823528462,
            0.19966714825529133,
            null,
            0.09534502823528462,
            -0.7967374299141042,
            null,
            0.19966714825529133,
            0.09534502823528462,
            null,
            0.19966714825529133,
            -0.498274746576471,
            null,
            -0.498274746576471,
            0.09534502823528462,
            null,
            -0.498274746576471,
            -0.7967374299141042,
            null,
            -0.7967374299141042,
            0.09534502823528462,
            null
           ],
           "y": [
            0.02830682025417533,
            -0.6133439463065152,
            null,
            0.02830682025417533,
            0.1900978226483489,
            null,
            -0.6133439463065152,
            0.02830682025417533,
            null,
            -0.6133439463065152,
            0.1900978226483489,
            null,
            -0.6133439463065152,
            0.0028797866228643843,
            null,
            0.1900978226483489,
            -0.6133439463065152,
            null,
            0.1900978226483489,
            0.39205951678112677,
            null,
            0.39205951678112677,
            -0.6133439463065152,
            null,
            0.39205951678112677,
            0.0028797866228643843,
            null,
            0.0028797866228643843,
            -0.6133439463065152,
            null
           ]
          },
          {
           "hoverinfo": "text",
           "marker": {
            "color": [
             "lightblue",
             "lightblue",
             "lightblue",
             "red",
             "lightblue"
            ],
            "size": [
             20,
             20,
             20,
             30,
             20
            ]
           },
           "mode": "markers+text",
           "text": [
            "0",
            "1",
            "2",
            "3",
            "4"
           ],
           "textposition": "top center",
           "type": "scatter",
           "x": [
            0.9999999999999999,
            0.09534502823528462,
            0.19966714825529133,
            -0.498274746576471,
            -0.7967374299141042
           ],
           "y": [
            0.02830682025417533,
            -0.6133439463065152,
            0.1900978226483489,
            0.39205951678112677,
            0.0028797866228643843
           ]
          }
         ]
        },
        {
         "data": [
          {
           "hoverinfo": "none",
           "line": {
            "color": "#888",
            "width": 1
           },
           "mode": "lines",
           "type": "scatter",
           "x": [
            0.9999999999999999,
            0.09534502823528462,
            null,
            0.9999999999999999,
            0.19966714825529133,
            null,
            0.09534502823528462,
            0.9999999999999999,
            null,
            0.09534502823528462,
            0.19966714825529133,
            null,
            0.09534502823528462,
            -0.7967374299141042,
            null,
            0.19966714825529133,
            0.09534502823528462,
            null,
            0.19966714825529133,
            -0.498274746576471,
            null,
            -0.498274746576471,
            0.09534502823528462,
            null,
            -0.498274746576471,
            -0.7967374299141042,
            null,
            -0.7967374299141042,
            0.09534502823528462,
            null
           ],
           "y": [
            0.02830682025417533,
            -0.6133439463065152,
            null,
            0.02830682025417533,
            0.1900978226483489,
            null,
            -0.6133439463065152,
            0.02830682025417533,
            null,
            -0.6133439463065152,
            0.1900978226483489,
            null,
            -0.6133439463065152,
            0.0028797866228643843,
            null,
            0.1900978226483489,
            -0.6133439463065152,
            null,
            0.1900978226483489,
            0.39205951678112677,
            null,
            0.39205951678112677,
            -0.6133439463065152,
            null,
            0.39205951678112677,
            0.0028797866228643843,
            null,
            0.0028797866228643843,
            -0.6133439463065152,
            null
           ]
          },
          {
           "hoverinfo": "text",
           "marker": {
            "color": [
             "lightblue",
             "red",
             "lightblue",
             "lightblue",
             "lightblue"
            ],
            "size": [
             20,
             30,
             20,
             20,
             20
            ]
           },
           "mode": "markers+text",
           "text": [
            "0",
            "1",
            "2",
            "3",
            "4"
           ],
           "textposition": "top center",
           "type": "scatter",
           "x": [
            0.9999999999999999,
            0.09534502823528462,
            0.19966714825529133,
            -0.498274746576471,
            -0.7967374299141042
           ],
           "y": [
            0.02830682025417533,
            -0.6133439463065152,
            0.1900978226483489,
            0.39205951678112677,
            0.0028797866228643843
           ]
          }
         ]
        },
        {
         "data": [
          {
           "hoverinfo": "none",
           "line": {
            "color": "#888",
            "width": 1
           },
           "mode": "lines",
           "type": "scatter",
           "x": [
            0.9999999999999999,
            0.09534502823528462,
            null,
            0.9999999999999999,
            0.19966714825529133,
            null,
            0.09534502823528462,
            0.9999999999999999,
            null,
            0.09534502823528462,
            0.19966714825529133,
            null,
            0.09534502823528462,
            -0.7967374299141042,
            null,
            0.19966714825529133,
            0.09534502823528462,
            null,
            0.19966714825529133,
            -0.498274746576471,
            null,
            -0.498274746576471,
            0.09534502823528462,
            null,
            -0.498274746576471,
            -0.7967374299141042,
            null,
            -0.7967374299141042,
            0.09534502823528462,
            null
           ],
           "y": [
            0.02830682025417533,
            -0.6133439463065152,
            null,
            0.02830682025417533,
            0.1900978226483489,
            null,
            -0.6133439463065152,
            0.02830682025417533,
            null,
            -0.6133439463065152,
            0.1900978226483489,
            null,
            -0.6133439463065152,
            0.0028797866228643843,
            null,
            0.1900978226483489,
            -0.6133439463065152,
            null,
            0.1900978226483489,
            0.39205951678112677,
            null,
            0.39205951678112677,
            -0.6133439463065152,
            null,
            0.39205951678112677,
            0.0028797866228643843,
            null,
            0.0028797866228643843,
            -0.6133439463065152,
            null
           ]
          },
          {
           "hoverinfo": "text",
           "marker": {
            "color": [
             "lightblue",
             "lightblue",
             "lightblue",
             "lightblue",
             "red"
            ],
            "size": [
             20,
             20,
             20,
             20,
             30
            ]
           },
           "mode": "markers+text",
           "text": [
            "0",
            "1",
            "2",
            "3",
            "4"
           ],
           "textposition": "top center",
           "type": "scatter",
           "x": [
            0.9999999999999999,
            0.09534502823528462,
            0.19966714825529133,
            -0.498274746576471,
            -0.7967374299141042
           ],
           "y": [
            0.02830682025417533,
            -0.6133439463065152,
            0.1900978226483489,
            0.39205951678112677,
            0.0028797866228643843
           ]
          }
         ]
        },
        {
         "data": [
          {
           "hoverinfo": "none",
           "line": {
            "color": "#888",
            "width": 1
           },
           "mode": "lines",
           "type": "scatter",
           "x": [
            0.9999999999999999,
            0.09534502823528462,
            null,
            0.9999999999999999,
            0.19966714825529133,
            null,
            0.09534502823528462,
            0.9999999999999999,
            null,
            0.09534502823528462,
            0.19966714825529133,
            null,
            0.09534502823528462,
            -0.7967374299141042,
            null,
            0.19966714825529133,
            0.09534502823528462,
            null,
            0.19966714825529133,
            -0.498274746576471,
            null,
            -0.498274746576471,
            0.09534502823528462,
            null,
            -0.498274746576471,
            -0.7967374299141042,
            null,
            -0.7967374299141042,
            0.09534502823528462,
            null
           ],
           "y": [
            0.02830682025417533,
            -0.6133439463065152,
            null,
            0.02830682025417533,
            0.1900978226483489,
            null,
            -0.6133439463065152,
            0.02830682025417533,
            null,
            -0.6133439463065152,
            0.1900978226483489,
            null,
            -0.6133439463065152,
            0.0028797866228643843,
            null,
            0.1900978226483489,
            -0.6133439463065152,
            null,
            0.1900978226483489,
            0.39205951678112677,
            null,
            0.39205951678112677,
            -0.6133439463065152,
            null,
            0.39205951678112677,
            0.0028797866228643843,
            null,
            0.0028797866228643843,
            -0.6133439463065152,
            null
           ]
          },
          {
           "hoverinfo": "text",
           "marker": {
            "color": [
             "lightblue",
             "red",
             "lightblue",
             "lightblue",
             "lightblue"
            ],
            "size": [
             20,
             30,
             20,
             20,
             20
            ]
           },
           "mode": "markers+text",
           "text": [
            "0",
            "1",
            "2",
            "3",
            "4"
           ],
           "textposition": "top center",
           "type": "scatter",
           "x": [
            0.9999999999999999,
            0.09534502823528462,
            0.19966714825529133,
            -0.498274746576471,
            -0.7967374299141042
           ],
           "y": [
            0.02830682025417533,
            -0.6133439463065152,
            0.1900978226483489,
            0.39205951678112677,
            0.0028797866228643843
           ]
          }
         ]
        },
        {
         "data": [
          {
           "hoverinfo": "none",
           "line": {
            "color": "#888",
            "width": 1
           },
           "mode": "lines",
           "type": "scatter",
           "x": [
            0.9999999999999999,
            0.09534502823528462,
            null,
            0.9999999999999999,
            0.19966714825529133,
            null,
            0.09534502823528462,
            0.9999999999999999,
            null,
            0.09534502823528462,
            0.19966714825529133,
            null,
            0.09534502823528462,
            -0.7967374299141042,
            null,
            0.19966714825529133,
            0.09534502823528462,
            null,
            0.19966714825529133,
            -0.498274746576471,
            null,
            -0.498274746576471,
            0.09534502823528462,
            null,
            -0.498274746576471,
            -0.7967374299141042,
            null,
            -0.7967374299141042,
            0.09534502823528462,
            null
           ],
           "y": [
            0.02830682025417533,
            -0.6133439463065152,
            null,
            0.02830682025417533,
            0.1900978226483489,
            null,
            -0.6133439463065152,
            0.02830682025417533,
            null,
            -0.6133439463065152,
            0.1900978226483489,
            null,
            -0.6133439463065152,
            0.0028797866228643843,
            null,
            0.1900978226483489,
            -0.6133439463065152,
            null,
            0.1900978226483489,
            0.39205951678112677,
            null,
            0.39205951678112677,
            -0.6133439463065152,
            null,
            0.39205951678112677,
            0.0028797866228643843,
            null,
            0.0028797866228643843,
            -0.6133439463065152,
            null
           ]
          },
          {
           "hoverinfo": "text",
           "marker": {
            "color": [
             "lightblue",
             "lightblue",
             "lightblue",
             "lightblue",
             "red"
            ],
            "size": [
             20,
             20,
             20,
             20,
             30
            ]
           },
           "mode": "markers+text",
           "text": [
            "0",
            "1",
            "2",
            "3",
            "4"
           ],
           "textposition": "top center",
           "type": "scatter",
           "x": [
            0.9999999999999999,
            0.09534502823528462,
            0.19966714825529133,
            -0.498274746576471,
            -0.7967374299141042
           ],
           "y": [
            0.02830682025417533,
            -0.6133439463065152,
            0.1900978226483489,
            0.39205951678112677,
            0.0028797866228643843
           ]
          }
         ]
        },
        {
         "data": [
          {
           "hoverinfo": "none",
           "line": {
            "color": "#888",
            "width": 1
           },
           "mode": "lines",
           "type": "scatter",
           "x": [
            0.9999999999999999,
            0.09534502823528462,
            null,
            0.9999999999999999,
            0.19966714825529133,
            null,
            0.09534502823528462,
            0.9999999999999999,
            null,
            0.09534502823528462,
            0.19966714825529133,
            null,
            0.09534502823528462,
            -0.7967374299141042,
            null,
            0.19966714825529133,
            0.09534502823528462,
            null,
            0.19966714825529133,
            -0.498274746576471,
            null,
            -0.498274746576471,
            0.09534502823528462,
            null,
            -0.498274746576471,
            -0.7967374299141042,
            null,
            -0.7967374299141042,
            0.09534502823528462,
            null
           ],
           "y": [
            0.02830682025417533,
            -0.6133439463065152,
            null,
            0.02830682025417533,
            0.1900978226483489,
            null,
            -0.6133439463065152,
            0.02830682025417533,
            null,
            -0.6133439463065152,
            0.1900978226483489,
            null,
            -0.6133439463065152,
            0.0028797866228643843,
            null,
            0.1900978226483489,
            -0.6133439463065152,
            null,
            0.1900978226483489,
            0.39205951678112677,
            null,
            0.39205951678112677,
            -0.6133439463065152,
            null,
            0.39205951678112677,
            0.0028797866228643843,
            null,
            0.0028797866228643843,
            -0.6133439463065152,
            null
           ]
          },
          {
           "hoverinfo": "text",
           "marker": {
            "color": [
             "lightblue",
             "red",
             "lightblue",
             "lightblue",
             "lightblue"
            ],
            "size": [
             20,
             30,
             20,
             20,
             20
            ]
           },
           "mode": "markers+text",
           "text": [
            "0",
            "1",
            "2",
            "3",
            "4"
           ],
           "textposition": "top center",
           "type": "scatter",
           "x": [
            0.9999999999999999,
            0.09534502823528462,
            0.19966714825529133,
            -0.498274746576471,
            -0.7967374299141042
           ],
           "y": [
            0.02830682025417533,
            -0.6133439463065152,
            0.1900978226483489,
            0.39205951678112677,
            0.0028797866228643843
           ]
          }
         ]
        },
        {
         "data": [
          {
           "hoverinfo": "none",
           "line": {
            "color": "#888",
            "width": 1
           },
           "mode": "lines",
           "type": "scatter",
           "x": [
            0.9999999999999999,
            0.09534502823528462,
            null,
            0.9999999999999999,
            0.19966714825529133,
            null,
            0.09534502823528462,
            0.9999999999999999,
            null,
            0.09534502823528462,
            0.19966714825529133,
            null,
            0.09534502823528462,
            -0.7967374299141042,
            null,
            0.19966714825529133,
            0.09534502823528462,
            null,
            0.19966714825529133,
            -0.498274746576471,
            null,
            -0.498274746576471,
            0.09534502823528462,
            null,
            -0.498274746576471,
            -0.7967374299141042,
            null,
            -0.7967374299141042,
            0.09534502823528462,
            null
           ],
           "y": [
            0.02830682025417533,
            -0.6133439463065152,
            null,
            0.02830682025417533,
            0.1900978226483489,
            null,
            -0.6133439463065152,
            0.02830682025417533,
            null,
            -0.6133439463065152,
            0.1900978226483489,
            null,
            -0.6133439463065152,
            0.0028797866228643843,
            null,
            0.1900978226483489,
            -0.6133439463065152,
            null,
            0.1900978226483489,
            0.39205951678112677,
            null,
            0.39205951678112677,
            -0.6133439463065152,
            null,
            0.39205951678112677,
            0.0028797866228643843,
            null,
            0.0028797866228643843,
            -0.6133439463065152,
            null
           ]
          },
          {
           "hoverinfo": "text",
           "marker": {
            "color": [
             "red",
             "lightblue",
             "lightblue",
             "lightblue",
             "lightblue"
            ],
            "size": [
             30,
             20,
             20,
             20,
             20
            ]
           },
           "mode": "markers+text",
           "text": [
            "0",
            "1",
            "2",
            "3",
            "4"
           ],
           "textposition": "top center",
           "type": "scatter",
           "x": [
            0.9999999999999999,
            0.09534502823528462,
            0.19966714825529133,
            -0.498274746576471,
            -0.7967374299141042
           ],
           "y": [
            0.02830682025417533,
            -0.6133439463065152,
            0.1900978226483489,
            0.39205951678112677,
            0.0028797866228643843
           ]
          }
         ]
        },
        {
         "data": [
          {
           "hoverinfo": "none",
           "line": {
            "color": "#888",
            "width": 1
           },
           "mode": "lines",
           "type": "scatter",
           "x": [
            0.9999999999999999,
            0.09534502823528462,
            null,
            0.9999999999999999,
            0.19966714825529133,
            null,
            0.09534502823528462,
            0.9999999999999999,
            null,
            0.09534502823528462,
            0.19966714825529133,
            null,
            0.09534502823528462,
            -0.7967374299141042,
            null,
            0.19966714825529133,
            0.09534502823528462,
            null,
            0.19966714825529133,
            -0.498274746576471,
            null,
            -0.498274746576471,
            0.09534502823528462,
            null,
            -0.498274746576471,
            -0.7967374299141042,
            null,
            -0.7967374299141042,
            0.09534502823528462,
            null
           ],
           "y": [
            0.02830682025417533,
            -0.6133439463065152,
            null,
            0.02830682025417533,
            0.1900978226483489,
            null,
            -0.6133439463065152,
            0.02830682025417533,
            null,
            -0.6133439463065152,
            0.1900978226483489,
            null,
            -0.6133439463065152,
            0.0028797866228643843,
            null,
            0.1900978226483489,
            -0.6133439463065152,
            null,
            0.1900978226483489,
            0.39205951678112677,
            null,
            0.39205951678112677,
            -0.6133439463065152,
            null,
            0.39205951678112677,
            0.0028797866228643843,
            null,
            0.0028797866228643843,
            -0.6133439463065152,
            null
           ]
          },
          {
           "hoverinfo": "text",
           "marker": {
            "color": [
             "lightblue",
             "lightblue",
             "red",
             "lightblue",
             "lightblue"
            ],
            "size": [
             20,
             20,
             30,
             20,
             20
            ]
           },
           "mode": "markers+text",
           "text": [
            "0",
            "1",
            "2",
            "3",
            "4"
           ],
           "textposition": "top center",
           "type": "scatter",
           "x": [
            0.9999999999999999,
            0.09534502823528462,
            0.19966714825529133,
            -0.498274746576471,
            -0.7967374299141042
           ],
           "y": [
            0.02830682025417533,
            -0.6133439463065152,
            0.1900978226483489,
            0.39205951678112677,
            0.0028797866228643843
           ]
          }
         ]
        },
        {
         "data": [
          {
           "hoverinfo": "none",
           "line": {
            "color": "#888",
            "width": 1
           },
           "mode": "lines",
           "type": "scatter",
           "x": [
            0.9999999999999999,
            0.09534502823528462,
            null,
            0.9999999999999999,
            0.19966714825529133,
            null,
            0.09534502823528462,
            0.9999999999999999,
            null,
            0.09534502823528462,
            0.19966714825529133,
            null,
            0.09534502823528462,
            -0.7967374299141042,
            null,
            0.19966714825529133,
            0.09534502823528462,
            null,
            0.19966714825529133,
            -0.498274746576471,
            null,
            -0.498274746576471,
            0.09534502823528462,
            null,
            -0.498274746576471,
            -0.7967374299141042,
            null,
            -0.7967374299141042,
            0.09534502823528462,
            null
           ],
           "y": [
            0.02830682025417533,
            -0.6133439463065152,
            null,
            0.02830682025417533,
            0.1900978226483489,
            null,
            -0.6133439463065152,
            0.02830682025417533,
            null,
            -0.6133439463065152,
            0.1900978226483489,
            null,
            -0.6133439463065152,
            0.0028797866228643843,
            null,
            0.1900978226483489,
            -0.6133439463065152,
            null,
            0.1900978226483489,
            0.39205951678112677,
            null,
            0.39205951678112677,
            -0.6133439463065152,
            null,
            0.39205951678112677,
            0.0028797866228643843,
            null,
            0.0028797866228643843,
            -0.6133439463065152,
            null
           ]
          },
          {
           "hoverinfo": "text",
           "marker": {
            "color": [
             "lightblue",
             "lightblue",
             "lightblue",
             "red",
             "lightblue"
            ],
            "size": [
             20,
             20,
             20,
             30,
             20
            ]
           },
           "mode": "markers+text",
           "text": [
            "0",
            "1",
            "2",
            "3",
            "4"
           ],
           "textposition": "top center",
           "type": "scatter",
           "x": [
            0.9999999999999999,
            0.09534502823528462,
            0.19966714825529133,
            -0.498274746576471,
            -0.7967374299141042
           ],
           "y": [
            0.02830682025417533,
            -0.6133439463065152,
            0.1900978226483489,
            0.39205951678112677,
            0.0028797866228643843
           ]
          }
         ]
        },
        {
         "data": [
          {
           "hoverinfo": "none",
           "line": {
            "color": "#888",
            "width": 1
           },
           "mode": "lines",
           "type": "scatter",
           "x": [
            0.9999999999999999,
            0.09534502823528462,
            null,
            0.9999999999999999,
            0.19966714825529133,
            null,
            0.09534502823528462,
            0.9999999999999999,
            null,
            0.09534502823528462,
            0.19966714825529133,
            null,
            0.09534502823528462,
            -0.7967374299141042,
            null,
            0.19966714825529133,
            0.09534502823528462,
            null,
            0.19966714825529133,
            -0.498274746576471,
            null,
            -0.498274746576471,
            0.09534502823528462,
            null,
            -0.498274746576471,
            -0.7967374299141042,
            null,
            -0.7967374299141042,
            0.09534502823528462,
            null
           ],
           "y": [
            0.02830682025417533,
            -0.6133439463065152,
            null,
            0.02830682025417533,
            0.1900978226483489,
            null,
            -0.6133439463065152,
            0.02830682025417533,
            null,
            -0.6133439463065152,
            0.1900978226483489,
            null,
            -0.6133439463065152,
            0.0028797866228643843,
            null,
            0.1900978226483489,
            -0.6133439463065152,
            null,
            0.1900978226483489,
            0.39205951678112677,
            null,
            0.39205951678112677,
            -0.6133439463065152,
            null,
            0.39205951678112677,
            0.0028797866228643843,
            null,
            0.0028797866228643843,
            -0.6133439463065152,
            null
           ]
          },
          {
           "hoverinfo": "text",
           "marker": {
            "color": [
             "lightblue",
             "red",
             "lightblue",
             "lightblue",
             "lightblue"
            ],
            "size": [
             20,
             30,
             20,
             20,
             20
            ]
           },
           "mode": "markers+text",
           "text": [
            "0",
            "1",
            "2",
            "3",
            "4"
           ],
           "textposition": "top center",
           "type": "scatter",
           "x": [
            0.9999999999999999,
            0.09534502823528462,
            0.19966714825529133,
            -0.498274746576471,
            -0.7967374299141042
           ],
           "y": [
            0.02830682025417533,
            -0.6133439463065152,
            0.1900978226483489,
            0.39205951678112677,
            0.0028797866228643843
           ]
          }
         ]
        },
        {
         "data": [
          {
           "hoverinfo": "none",
           "line": {
            "color": "#888",
            "width": 1
           },
           "mode": "lines",
           "type": "scatter",
           "x": [
            0.9999999999999999,
            0.09534502823528462,
            null,
            0.9999999999999999,
            0.19966714825529133,
            null,
            0.09534502823528462,
            0.9999999999999999,
            null,
            0.09534502823528462,
            0.19966714825529133,
            null,
            0.09534502823528462,
            -0.7967374299141042,
            null,
            0.19966714825529133,
            0.09534502823528462,
            null,
            0.19966714825529133,
            -0.498274746576471,
            null,
            -0.498274746576471,
            0.09534502823528462,
            null,
            -0.498274746576471,
            -0.7967374299141042,
            null,
            -0.7967374299141042,
            0.09534502823528462,
            null
           ],
           "y": [
            0.02830682025417533,
            -0.6133439463065152,
            null,
            0.02830682025417533,
            0.1900978226483489,
            null,
            -0.6133439463065152,
            0.02830682025417533,
            null,
            -0.6133439463065152,
            0.1900978226483489,
            null,
            -0.6133439463065152,
            0.0028797866228643843,
            null,
            0.1900978226483489,
            -0.6133439463065152,
            null,
            0.1900978226483489,
            0.39205951678112677,
            null,
            0.39205951678112677,
            -0.6133439463065152,
            null,
            0.39205951678112677,
            0.0028797866228643843,
            null,
            0.0028797866228643843,
            -0.6133439463065152,
            null
           ]
          },
          {
           "hoverinfo": "text",
           "marker": {
            "color": [
             "red",
             "lightblue",
             "lightblue",
             "lightblue",
             "lightblue"
            ],
            "size": [
             30,
             20,
             20,
             20,
             20
            ]
           },
           "mode": "markers+text",
           "text": [
            "0",
            "1",
            "2",
            "3",
            "4"
           ],
           "textposition": "top center",
           "type": "scatter",
           "x": [
            0.9999999999999999,
            0.09534502823528462,
            0.19966714825529133,
            -0.498274746576471,
            -0.7967374299141042
           ],
           "y": [
            0.02830682025417533,
            -0.6133439463065152,
            0.1900978226483489,
            0.39205951678112677,
            0.0028797866228643843
           ]
          }
         ]
        }
       ],
       "layout": {
        "margin": {
         "b": 0,
         "l": 0,
         "r": 0,
         "t": 0
        },
        "showlegend": false,
        "template": {
         "data": {
          "bar": [
           {
            "error_x": {
             "color": "#2a3f5f"
            },
            "error_y": {
             "color": "#2a3f5f"
            },
            "marker": {
             "line": {
              "color": "white",
              "width": 0.5
             },
             "pattern": {
              "fillmode": "overlay",
              "size": 10,
              "solidity": 0.2
             }
            },
            "type": "bar"
           }
          ],
          "barpolar": [
           {
            "marker": {
             "line": {
              "color": "white",
              "width": 0.5
             },
             "pattern": {
              "fillmode": "overlay",
              "size": 10,
              "solidity": 0.2
             }
            },
            "type": "barpolar"
           }
          ],
          "carpet": [
           {
            "aaxis": {
             "endlinecolor": "#2a3f5f",
             "gridcolor": "#C8D4E3",
             "linecolor": "#C8D4E3",
             "minorgridcolor": "#C8D4E3",
             "startlinecolor": "#2a3f5f"
            },
            "baxis": {
             "endlinecolor": "#2a3f5f",
             "gridcolor": "#C8D4E3",
             "linecolor": "#C8D4E3",
             "minorgridcolor": "#C8D4E3",
             "startlinecolor": "#2a3f5f"
            },
            "type": "carpet"
           }
          ],
          "choropleth": [
           {
            "colorbar": {
             "outlinewidth": 0,
             "ticks": ""
            },
            "type": "choropleth"
           }
          ],
          "contour": [
           {
            "colorbar": {
             "outlinewidth": 0,
             "ticks": ""
            },
            "colorscale": [
             [
              0,
              "#0d0887"
             ],
             [
              0.1111111111111111,
              "#46039f"
             ],
             [
              0.2222222222222222,
              "#7201a8"
             ],
             [
              0.3333333333333333,
              "#9c179e"
             ],
             [
              0.4444444444444444,
              "#bd3786"
             ],
             [
              0.5555555555555556,
              "#d8576b"
             ],
             [
              0.6666666666666666,
              "#ed7953"
             ],
             [
              0.7777777777777778,
              "#fb9f3a"
             ],
             [
              0.8888888888888888,
              "#fdca26"
             ],
             [
              1,
              "#f0f921"
             ]
            ],
            "type": "contour"
           }
          ],
          "contourcarpet": [
           {
            "colorbar": {
             "outlinewidth": 0,
             "ticks": ""
            },
            "type": "contourcarpet"
           }
          ],
          "heatmap": [
           {
            "colorbar": {
             "outlinewidth": 0,
             "ticks": ""
            },
            "colorscale": [
             [
              0,
              "#0d0887"
             ],
             [
              0.1111111111111111,
              "#46039f"
             ],
             [
              0.2222222222222222,
              "#7201a8"
             ],
             [
              0.3333333333333333,
              "#9c179e"
             ],
             [
              0.4444444444444444,
              "#bd3786"
             ],
             [
              0.5555555555555556,
              "#d8576b"
             ],
             [
              0.6666666666666666,
              "#ed7953"
             ],
             [
              0.7777777777777778,
              "#fb9f3a"
             ],
             [
              0.8888888888888888,
              "#fdca26"
             ],
             [
              1,
              "#f0f921"
             ]
            ],
            "type": "heatmap"
           }
          ],
          "heatmapgl": [
           {
            "colorbar": {
             "outlinewidth": 0,
             "ticks": ""
            },
            "colorscale": [
             [
              0,
              "#0d0887"
             ],
             [
              0.1111111111111111,
              "#46039f"
             ],
             [
              0.2222222222222222,
              "#7201a8"
             ],
             [
              0.3333333333333333,
              "#9c179e"
             ],
             [
              0.4444444444444444,
              "#bd3786"
             ],
             [
              0.5555555555555556,
              "#d8576b"
             ],
             [
              0.6666666666666666,
              "#ed7953"
             ],
             [
              0.7777777777777778,
              "#fb9f3a"
             ],
             [
              0.8888888888888888,
              "#fdca26"
             ],
             [
              1,
              "#f0f921"
             ]
            ],
            "type": "heatmapgl"
           }
          ],
          "histogram": [
           {
            "marker": {
             "pattern": {
              "fillmode": "overlay",
              "size": 10,
              "solidity": 0.2
             }
            },
            "type": "histogram"
           }
          ],
          "histogram2d": [
           {
            "colorbar": {
             "outlinewidth": 0,
             "ticks": ""
            },
            "colorscale": [
             [
              0,
              "#0d0887"
             ],
             [
              0.1111111111111111,
              "#46039f"
             ],
             [
              0.2222222222222222,
              "#7201a8"
             ],
             [
              0.3333333333333333,
              "#9c179e"
             ],
             [
              0.4444444444444444,
              "#bd3786"
             ],
             [
              0.5555555555555556,
              "#d8576b"
             ],
             [
              0.6666666666666666,
              "#ed7953"
             ],
             [
              0.7777777777777778,
              "#fb9f3a"
             ],
             [
              0.8888888888888888,
              "#fdca26"
             ],
             [
              1,
              "#f0f921"
             ]
            ],
            "type": "histogram2d"
           }
          ],
          "histogram2dcontour": [
           {
            "colorbar": {
             "outlinewidth": 0,
             "ticks": ""
            },
            "colorscale": [
             [
              0,
              "#0d0887"
             ],
             [
              0.1111111111111111,
              "#46039f"
             ],
             [
              0.2222222222222222,
              "#7201a8"
             ],
             [
              0.3333333333333333,
              "#9c179e"
             ],
             [
              0.4444444444444444,
              "#bd3786"
             ],
             [
              0.5555555555555556,
              "#d8576b"
             ],
             [
              0.6666666666666666,
              "#ed7953"
             ],
             [
              0.7777777777777778,
              "#fb9f3a"
             ],
             [
              0.8888888888888888,
              "#fdca26"
             ],
             [
              1,
              "#f0f921"
             ]
            ],
            "type": "histogram2dcontour"
           }
          ],
          "mesh3d": [
           {
            "colorbar": {
             "outlinewidth": 0,
             "ticks": ""
            },
            "type": "mesh3d"
           }
          ],
          "parcoords": [
           {
            "line": {
             "colorbar": {
              "outlinewidth": 0,
              "ticks": ""
             }
            },
            "type": "parcoords"
           }
          ],
          "pie": [
           {
            "automargin": true,
            "type": "pie"
           }
          ],
          "scatter": [
           {
            "fillpattern": {
             "fillmode": "overlay",
             "size": 10,
             "solidity": 0.2
            },
            "type": "scatter"
           }
          ],
          "scatter3d": [
           {
            "line": {
             "colorbar": {
              "outlinewidth": 0,
              "ticks": ""
             }
            },
            "marker": {
             "colorbar": {
              "outlinewidth": 0,
              "ticks": ""
             }
            },
            "type": "scatter3d"
           }
          ],
          "scattercarpet": [
           {
            "marker": {
             "colorbar": {
              "outlinewidth": 0,
              "ticks": ""
             }
            },
            "type": "scattercarpet"
           }
          ],
          "scattergeo": [
           {
            "marker": {
             "colorbar": {
              "outlinewidth": 0,
              "ticks": ""
             }
            },
            "type": "scattergeo"
           }
          ],
          "scattergl": [
           {
            "marker": {
             "colorbar": {
              "outlinewidth": 0,
              "ticks": ""
             }
            },
            "type": "scattergl"
           }
          ],
          "scattermapbox": [
           {
            "marker": {
             "colorbar": {
              "outlinewidth": 0,
              "ticks": ""
             }
            },
            "type": "scattermapbox"
           }
          ],
          "scatterpolar": [
           {
            "marker": {
             "colorbar": {
              "outlinewidth": 0,
              "ticks": ""
             }
            },
            "type": "scatterpolar"
           }
          ],
          "scatterpolargl": [
           {
            "marker": {
             "colorbar": {
              "outlinewidth": 0,
              "ticks": ""
             }
            },
            "type": "scatterpolargl"
           }
          ],
          "scatterternary": [
           {
            "marker": {
             "colorbar": {
              "outlinewidth": 0,
              "ticks": ""
             }
            },
            "type": "scatterternary"
           }
          ],
          "surface": [
           {
            "colorbar": {
             "outlinewidth": 0,
             "ticks": ""
            },
            "colorscale": [
             [
              0,
              "#0d0887"
             ],
             [
              0.1111111111111111,
              "#46039f"
             ],
             [
              0.2222222222222222,
              "#7201a8"
             ],
             [
              0.3333333333333333,
              "#9c179e"
             ],
             [
              0.4444444444444444,
              "#bd3786"
             ],
             [
              0.5555555555555556,
              "#d8576b"
             ],
             [
              0.6666666666666666,
              "#ed7953"
             ],
             [
              0.7777777777777778,
              "#fb9f3a"
             ],
             [
              0.8888888888888888,
              "#fdca26"
             ],
             [
              1,
              "#f0f921"
             ]
            ],
            "type": "surface"
           }
          ],
          "table": [
           {
            "cells": {
             "fill": {
              "color": "#EBF0F8"
             },
             "line": {
              "color": "white"
             }
            },
            "header": {
             "fill": {
              "color": "#C8D4E3"
             },
             "line": {
              "color": "white"
             }
            },
            "type": "table"
           }
          ]
         },
         "layout": {
          "annotationdefaults": {
           "arrowcolor": "#2a3f5f",
           "arrowhead": 0,
           "arrowwidth": 1
          },
          "autotypenumbers": "strict",
          "coloraxis": {
           "colorbar": {
            "outlinewidth": 0,
            "ticks": ""
           }
          },
          "colorscale": {
           "diverging": [
            [
             0,
             "#8e0152"
            ],
            [
             0.1,
             "#c51b7d"
            ],
            [
             0.2,
             "#de77ae"
            ],
            [
             0.3,
             "#f1b6da"
            ],
            [
             0.4,
             "#fde0ef"
            ],
            [
             0.5,
             "#f7f7f7"
            ],
            [
             0.6,
             "#e6f5d0"
            ],
            [
             0.7,
             "#b8e186"
            ],
            [
             0.8,
             "#7fbc41"
            ],
            [
             0.9,
             "#4d9221"
            ],
            [
             1,
             "#276419"
            ]
           ],
           "sequential": [
            [
             0,
             "#0d0887"
            ],
            [
             0.1111111111111111,
             "#46039f"
            ],
            [
             0.2222222222222222,
             "#7201a8"
            ],
            [
             0.3333333333333333,
             "#9c179e"
            ],
            [
             0.4444444444444444,
             "#bd3786"
            ],
            [
             0.5555555555555556,
             "#d8576b"
            ],
            [
             0.6666666666666666,
             "#ed7953"
            ],
            [
             0.7777777777777778,
             "#fb9f3a"
            ],
            [
             0.8888888888888888,
             "#fdca26"
            ],
            [
             1,
             "#f0f921"
            ]
           ],
           "sequentialminus": [
            [
             0,
             "#0d0887"
            ],
            [
             0.1111111111111111,
             "#46039f"
            ],
            [
             0.2222222222222222,
             "#7201a8"
            ],
            [
             0.3333333333333333,
             "#9c179e"
            ],
            [
             0.4444444444444444,
             "#bd3786"
            ],
            [
             0.5555555555555556,
             "#d8576b"
            ],
            [
             0.6666666666666666,
             "#ed7953"
            ],
            [
             0.7777777777777778,
             "#fb9f3a"
            ],
            [
             0.8888888888888888,
             "#fdca26"
            ],
            [
             1,
             "#f0f921"
            ]
           ]
          },
          "colorway": [
           "#636efa",
           "#EF553B",
           "#00cc96",
           "#ab63fa",
           "#FFA15A",
           "#19d3f3",
           "#FF6692",
           "#B6E880",
           "#FF97FF",
           "#FECB52"
          ],
          "font": {
           "color": "#2a3f5f"
          },
          "geo": {
           "bgcolor": "white",
           "lakecolor": "white",
           "landcolor": "white",
           "showlakes": true,
           "showland": true,
           "subunitcolor": "#C8D4E3"
          },
          "hoverlabel": {
           "align": "left"
          },
          "hovermode": "closest",
          "mapbox": {
           "style": "light"
          },
          "paper_bgcolor": "white",
          "plot_bgcolor": "white",
          "polar": {
           "angularaxis": {
            "gridcolor": "#EBF0F8",
            "linecolor": "#EBF0F8",
            "ticks": ""
           },
           "bgcolor": "white",
           "radialaxis": {
            "gridcolor": "#EBF0F8",
            "linecolor": "#EBF0F8",
            "ticks": ""
           }
          },
          "scene": {
           "xaxis": {
            "backgroundcolor": "white",
            "gridcolor": "#DFE8F3",
            "gridwidth": 2,
            "linecolor": "#EBF0F8",
            "showbackground": true,
            "ticks": "",
            "zerolinecolor": "#EBF0F8"
           },
           "yaxis": {
            "backgroundcolor": "white",
            "gridcolor": "#DFE8F3",
            "gridwidth": 2,
            "linecolor": "#EBF0F8",
            "showbackground": true,
            "ticks": "",
            "zerolinecolor": "#EBF0F8"
           },
           "zaxis": {
            "backgroundcolor": "white",
            "gridcolor": "#DFE8F3",
            "gridwidth": 2,
            "linecolor": "#EBF0F8",
            "showbackground": true,
            "ticks": "",
            "zerolinecolor": "#EBF0F8"
           }
          },
          "shapedefaults": {
           "line": {
            "color": "#2a3f5f"
           }
          },
          "ternary": {
           "aaxis": {
            "gridcolor": "#DFE8F3",
            "linecolor": "#A2B1C6",
            "ticks": ""
           },
           "baxis": {
            "gridcolor": "#DFE8F3",
            "linecolor": "#A2B1C6",
            "ticks": ""
           },
           "bgcolor": "white",
           "caxis": {
            "gridcolor": "#DFE8F3",
            "linecolor": "#A2B1C6",
            "ticks": ""
           }
          },
          "title": {
           "x": 0.05
          },
          "xaxis": {
           "automargin": true,
           "gridcolor": "#EBF0F8",
           "linecolor": "#EBF0F8",
           "ticks": "",
           "title": {
            "standoff": 15
           },
           "zerolinecolor": "#EBF0F8",
           "zerolinewidth": 2
          },
          "yaxis": {
           "automargin": true,
           "gridcolor": "#EBF0F8",
           "linecolor": "#EBF0F8",
           "ticks": "",
           "title": {
            "standoff": 15
           },
           "zerolinecolor": "#EBF0F8",
           "zerolinewidth": 2
          }
         }
        },
        "updatemenus": [
         {
          "buttons": [
           {
            "args": [
             null,
             {
              "frame": {
               "duration": 500,
               "redraw": true
              },
              "fromcurrent": true,
              "transition": {
               "duration": 300
              }
             }
            ],
            "label": "Play",
            "method": "animate"
           }
          ],
          "direction": "left",
          "pad": {
           "r": 10,
           "t": 87
          },
          "showactive": false,
          "type": "buttons",
          "x": 0.1,
          "xanchor": "right",
          "y": 0,
          "yanchor": "top"
         }
        ],
        "xaxis": {
         "visible": false
        },
        "yaxis": {
         "visible": false
        }
       }
      }
     },
     "metadata": {},
     "output_type": "display_data"
    }
   ],
   "source": [
    "chain.plot_trajectory(t)"
   ]
  },
  {
   "cell_type": "code",
   "execution_count": 241,
   "metadata": {},
   "outputs": [
    {
     "data": {
      "image/png": "[encoded data removed]",
      "text/plain": [
       "<Figure size 640x480 with 1 Axes>"
      ]
     },
     "metadata": {},
     "output_type": "display_data"
    }
   ],
   "source": [
    "chain.plot()"
   ]
  },
  {
   "cell_type": "markdown",
   "metadata": {},
   "source": [
    "### Явное решение"
   ]
  },
  {
   "cell_type": "code",
   "execution_count": 289,
   "metadata": {},
   "outputs": [
    {
     "name": "stderr",
     "output_type": "stream",
     "text": [
      "100%|██████████| 1000000/1000000 [00:18<00:00, 54334.30it/s]\n"
     ]
    },
    {
     "data": {
      "text/plain": [
       "array([[0.        , 0.48602088, 0.        , 0.51397912, 0.        ],\n",
       "       [0.        , 0.        , 0.        , 0.98468064, 0.01531936],\n",
       "       [0.32542883, 0.        , 0.        , 0.43494363, 0.23962754],\n",
       "       [0.        , 0.08961745, 0.91038255, 0.        , 0.        ],\n",
       "       [0.52129472, 0.32118288, 0.        , 0.1575224 , 0.        ]])"
      ]
     },
     "execution_count": 289,
     "metadata": {},
     "output_type": "execute_result"
    }
   ],
   "source": [
    "t = chain.generate_trajectory(1000000)\n",
    "num_states = len(chain.nodes)\n",
    "\n",
    "transition_matrix = np.zeros((num_states, num_states), dtype=int)\n",
    "\n",
    "# Use numpy's advanced indexing to count transitions\n",
    "np.add.at(transition_matrix, (t[: -1], t[1:]), 1)\n",
    "\n",
    "transition_matrix / transition_matrix.sum(axis=1)[:, None]\n"
   ]
  },
  {
   "cell_type": "code",
   "execution_count": 290,
   "metadata": {},
   "outputs": [
    {
     "data": {
      "text/plain": [
       "array([[0.        , 0.48596867, 0.        , 0.51403133, 0.        ],\n",
       "       [0.        , 0.        , 0.        , 0.98494567, 0.01505433],\n",
       "       [0.3249935 , 0.        , 0.        , 0.43504221, 0.23996429],\n",
       "       [0.        , 0.08967349, 0.91032651, 0.        , 0.        ],\n",
       "       [0.52105567, 0.32251608, 0.        , 0.15642825, 0.        ]])"
      ]
     },
     "execution_count": 290,
     "metadata": {},
     "output_type": "execute_result"
    }
   ],
   "source": [
    "chain.transition_matrix"
   ]
  },
  {
   "cell_type": "markdown",
   "metadata": {},
   "source": [
    "## MA(1) Процесс\n",
    "\n",
    "**MA(1) (Модель скользящего среднего первого порядка)** — это тип временного ряда, где текущее значение ряда выражается как линейная комбинация белого шума и его предыдущего значения. MA(1) процесс моделирует зависимость текущего значения от предыдущего шума.\n",
    "\n",
    "Формально, MA(1) процесс можно записать как:\n",
    "\n",
    "$$\n",
    "X_t = \\mu + \\varepsilon_t + \\theta \\varepsilon_{t-1}\n",
    "$$\n",
    "\n",
    "где:\n",
    "\n",
    "- $ X_t $ — текущее значение временного ряда.\n",
    "- $ \\mu $ — среднее значение процесса.\n",
    "- $ \\varepsilon_t $ — белый шум (случайная ошибка) в момент времени $ t $, с нулевым средним и постоянной дисперсией.\n",
    "- $ \\theta $ — коэффициент, определяющий влияние предыдущего шума.\n",
    "- $ \\varepsilon_{t-1} $ — белый шум в предыдущий момент времени $ t-1 $."
   ]
  },
  {
   "cell_type": "code",
   "execution_count": 9,
   "metadata": {},
   "outputs": [],
   "source": [
    "from tqdm import trange\n",
    "\n",
    "import numpy as np\n",
    "import networkx as nx\n",
    "import matplotlib.pyplot as plt\n",
    "import plotly.graph_objects as go\n",
    "\n",
    "\n",
    "class MA1:\n",
    "\n",
    "    def __init__(self, theta: float, mu:float=0, sigma:float=0):\n",
    "\n",
    "        \"\"\"\n",
    "         Initializes MA(1) process\n",
    "\n",
    "         Args:\n",
    "\n",
    "         nodes (list[int]): \n",
    "        \"\"\"\n",
    "\n",
    "        assert sigma > 0\n",
    "\n",
    "        self.mu = mu\n",
    "        self.sigma = sigma\n",
    "        self.theta = theta\n",
    "\n",
    "        \n",
    "    def generate_trajectory(self, length: int, eps_0: float=0) -> np.ndarray:\n",
    "\n",
    "        \"\"\"\n",
    "        Generates trajectory of MA(1) process\n",
    "\n",
    "        Args:\n",
    "\n",
    "            length (int): Length of output trajectory\n",
    "\n",
    "        Returns:\n",
    "            np.ndarray -- Trajectory of chain nodes\n",
    "        \"\"\"\n",
    "        \n",
    "        trajectory = []\n",
    "        prev_eps = eps_0\n",
    "        \n",
    "        for _ in  trange(length):\n",
    "\n",
    "            cur_eps = np.random.normal(0, self.sigma)\n",
    "\n",
    "            cur_x = self.mu + cur_eps + self.theta * prev_eps \n",
    "            trajectory.append(cur_x)\n",
    "\n",
    "            prev_eps = cur_eps\n",
    "\n",
    "        return np.array(trajectory).ravel()\n",
    "    \n",
    "\n",
    "    def plot_trajectory(self, trajectory: np.ndarray):\n",
    "        \"\"\"\n",
    "        Plots the trajectory of the MA(1) process using Plotly.\n",
    "\n",
    "        Args:\n",
    "            trajectory (np.ndarray): The trajectory of the MA(1) process to plot.\n",
    "        \"\"\"\n",
    "        fig = go.Figure()\n",
    "\n",
    "        fig.add_trace(go.Scatter(\n",
    "            x=list(range(len(trajectory))),\n",
    "            y=trajectory,\n",
    "            mode='lines+markers',\n",
    "            name='MA(1) Trajectory'\n",
    "        ))\n",
    "\n",
    "        fig.update_layout(\n",
    "            title='MA(1) Process Trajectory',\n",
    "            xaxis_title='Time',\n",
    "            yaxis_title='Value',\n",
    "            template='plotly_dark'  # Optional: Use any template you like\n",
    "        )\n",
    "\n",
    "        fig.show()\n",
    "\n",
    "\n"
   ]
  },
  {
   "cell_type": "code",
   "execution_count": 10,
   "metadata": {},
   "outputs": [],
   "source": [
    "ma = MA1(0.5, 5, 1)"
   ]
  },
  {
   "cell_type": "code",
   "execution_count": 11,
   "metadata": {},
   "outputs": [
    {
     "name": "stderr",
     "output_type": "stream",
     "text": [
      "100%|██████████| 200/200 [00:00<00:00, 477167.69it/s]\n"
     ]
    }
   ],
   "source": [
    "t = ma.generate_trajectory(200)"
   ]
  },
  {
   "cell_type": "code",
   "execution_count": 12,
   "metadata": {},
   "outputs": [
    {
     "data": {
      "application/vnd.plotly.v1+json": {
       "config": {
        "plotlyServerURL": "https://plot.ly"
       },
       "data": [
        {
         "mode": "lines+markers",
         "name": "MA(1) Trajectory",
         "type": "scatter",
         "x": [
          0,
          1,
          2,
          3,
          4,
          5,
          6,
          7,
          8,
          9,
          10,
          11,
          12,
          13,
          14,
          15,
          16,
          17,
          18,
          19,
          20,
          21,
          22,
          23,
          24,
          25,
          26,
          27,
          28,
          29,
          30,
          31,
          32,
          33,
          34,
          35,
          36,
          37,
          38,
          39,
          40,
          41,
          42,
          43,
          44,
          45,
          46,
          47,
          48,
          49,
          50,
          51,
          52,
          53,
          54,
          55,
          56,
          57,
          58,
          59,
          60,
          61,
          62,
          63,
          64,
          65,
          66,
          67,
          68,
          69,
          70,
          71,
          72,
          73,
          74,
          75,
          76,
          77,
          78,
          79,
          80,
          81,
          82,
          83,
          84,
          85,
          86,
          87,
          88,
          89,
          90,
          91,
          92,
          93,
          94,
          95,
          96,
          97,
          98,
          99,
          100,
          101,
          102,
          103,
          104,
          105,
          106,
          107,
          108,
          109,
          110,
          111,
          112,
          113,
          114,
          115,
          116,
          117,
          118,
          119,
          120,
          121,
          122,
          123,
          124,
          125,
          126,
          127,
          128,
          129,
          130,
          131,
          132,
          133,
          134,
          135,
          136,
          137,
          138,
          139,
          140,
          141,
          142,
          143,
          144,
          145,
          146,
          147,
          148,
          149,
          150,
          151,
          152,
          153,
          154,
          155,
          156,
          157,
          158,
          159,
          160,
          161,
          162,
          163,
          164,
          165,
          166,
          167,
          168,
          169,
          170,
          171,
          172,
          173,
          174,
          175,
          176,
          177,
          178,
          179,
          180,
          181,
          182,
          183,
          184,
          185,
          186,
          187,
          188,
          189,
          190,
          191,
          192,
          193,
          194,
          195,
          196,
          197,
          198,
          199
         ],
         "y": [
          5.528126555990886,
          5.117120040397081,
          5.751853133970256,
          6.346867458697622,
          5.101033942429892,
          4.8016519174731,
          6.877801198965099,
          6.5581197268375035,
          4.373594519166955,
          5.360666904346964,
          4.462529446423406,
          5.180810049704761,
          6.694264019102137,
          6.2500131003562664,
          5.857861437930379,
          4.153359850697022,
          5.2217975456156065,
          5.436188461812575,
          4.919443792304646,
          5.56394721730642,
          5.428248813426518,
          2.392715670256845,
          2.5498287664785506,
          4.832905672964058,
          6.70335831846167,
          3.891494603586126,
          4.443897152090658,
          5.7584051125803635,
          7.120194282487226,
          7.195900533846372,
          4.848060792975313,
          5.823476178081779,
          5.537019758511714,
          5.408302664997577,
          4.183489397469216,
          4.666524531411321,
          5.051161792297814,
          7.144759701537402,
          6.831790324100805,
          5.230375569076201,
          4.468118677034845,
          2.2837115361445424,
          4.364736289899954,
          3.0024185194011483,
          3.640319726193189,
          5.173548016543302,
          4.7456298041841,
          5.137004445185325,
          4.720992596382537,
          3.6326585655261727,
          4.8351698285135924,
          4.949990044382447,
          3.5175776434664527,
          4.39197952952933,
          4.7276445823519495,
          4.4486187002898765,
          6.387348477557958,
          5.901425326905416,
          5.526258974270881,
          4.32610420625555,
          4.55562380284791,
          4.798268070815697,
          3.655144266039084,
          3.6488398096883947,
          5.916203010307618,
          5.455745218137865,
          4.3416959596279066,
          3.8324844611339,
          3.671847538971348,
          5.9732158946486065,
          6.672265993680432,
          7.746802314779219,
          3.9333861014422746,
          5.010806347869283,
          7.156343539704425,
          8.194176732826113,
          5.440430081357629,
          4.564486330488943,
          5.277277552213288,
          4.751764110835287,
          4.889825808770542,
          4.078200837290827,
          2.9962046034688434,
          4.3064633128849055,
          5.683420112849614,
          5.500209116143455,
          5.136082841479024,
          4.6060064917635675,
          3.9208363702171054,
          3.1971157680280613,
          4.080247483484534,
          6.583674864037821,
          5.9005602839397735,
          3.8088698103986496,
          6.853236833085868,
          6.8213231992715055,
          5.474640262274963,
          4.560098190994973,
          6.792702994873392,
          7.320862984932329,
          5.38231064228305,
          4.665609084114788,
          3.0725663121409976,
          3.315303124895988,
          5.8108211920246635,
          5.3222260516580935,
          3.814754078746047,
          3.8473962665317254,
          4.202403835659079,
          5.156788570974987,
          7.480575735520365,
          4.938435508714145,
          2.967174672955778,
          4.234870882910955,
          5.423718083147152,
          4.476572616041959,
          4.222255208989164,
          3.2330435892597205,
          3.629648097584984,
          4.256705443081553,
          4.424449079890066,
          6.209270001638366,
          5.627740292622306,
          6.847405017907978,
          6.195275552655646,
          6.195440704595897,
          5.176522483744245,
          5.486049427105478,
          4.263357788463491,
          4.620745952142678,
          5.848999012337462,
          5.212690860574564,
          3.9438875596071377,
          4.22779326046436,
          1.9387975592945943,
          4.032273801262164,
          3.0271256171016674,
          3.9411451083235676,
          5.640612395580113,
          4.584690433055816,
          3.872579971737437,
          4.721174371219162,
          5.935019225580933,
          5.48555247455857,
          4.867921648929709,
          5.41520331825121,
          5.477075570256553,
          6.986859477424447,
          5.430804816480124,
          4.5208304314497925,
          4.6390339192137,
          3.763407752514973,
          4.938447099988368,
          4.364530663141772,
          5.471927755069774,
          5.471285268107949,
          6.15657803354545,
          7.3252971567096035,
          4.605818662818921,
          3.0198360960557378,
          3.7623707182851645,
          3.353483361463143,
          4.764368961846355,
          3.287922845043714,
          4.854608066785548,
          7.287621810175228,
          6.132967787468058,
          5.3949082356805755,
          7.128811702436733,
          6.521437841456829,
          3.3461773758455617,
          4.2006326616134055,
          3.30489002047503,
          4.725176509039653,
          4.472873318917987,
          3.4377987174460407,
          3.690195883473643,
          4.641946418673608,
          5.101043221177491,
          6.348870249295736,
          6.719381430198744,
          5.248159325331854,
          3.407033482910457,
          5.176999452276259,
          4.013150511746135,
          4.847352421350844,
          4.640686484128836,
          4.131287052244714,
          4.76674993580063,
          4.2099599122281575,
          5.575705404602983,
          5.575301157317862,
          4.9952243304782,
          4.920213599978396,
          5.113967719832118,
          3.663555368422744,
          4.769576501629321,
          6.023742156850605,
          6.372922213155082,
          5.440927054229803
         ]
        }
       ],
       "layout": {
        "template": {
         "data": {
          "bar": [
           {
            "error_x": {
             "color": "#f2f5fa"
            },
            "error_y": {
             "color": "#f2f5fa"
            },
            "marker": {
             "line": {
              "color": "rgb(17,17,17)",
              "width": 0.5
             },
             "pattern": {
              "fillmode": "overlay",
              "size": 10,
              "solidity": 0.2
             }
            },
            "type": "bar"
           }
          ],
          "barpolar": [
           {
            "marker": {
             "line": {
              "color": "rgb(17,17,17)",
              "width": 0.5
             },
             "pattern": {
              "fillmode": "overlay",
              "size": 10,
              "solidity": 0.2
             }
            },
            "type": "barpolar"
           }
          ],
          "carpet": [
           {
            "aaxis": {
             "endlinecolor": "#A2B1C6",
             "gridcolor": "#506784",
             "linecolor": "#506784",
             "minorgridcolor": "#506784",
             "startlinecolor": "#A2B1C6"
            },
            "baxis": {
             "endlinecolor": "#A2B1C6",
             "gridcolor": "#506784",
             "linecolor": "#506784",
             "minorgridcolor": "#506784",
             "startlinecolor": "#A2B1C6"
            },
            "type": "carpet"
           }
          ],
          "choropleth": [
           {
            "colorbar": {
             "outlinewidth": 0,
             "ticks": ""
            },
            "type": "choropleth"
           }
          ],
          "contour": [
           {
            "colorbar": {
             "outlinewidth": 0,
             "ticks": ""
            },
            "colorscale": [
             [
              0,
              "#0d0887"
             ],
             [
              0.1111111111111111,
              "#46039f"
             ],
             [
              0.2222222222222222,
              "#7201a8"
             ],
             [
              0.3333333333333333,
              "#9c179e"
             ],
             [
              0.4444444444444444,
              "#bd3786"
             ],
             [
              0.5555555555555556,
              "#d8576b"
             ],
             [
              0.6666666666666666,
              "#ed7953"
             ],
             [
              0.7777777777777778,
              "#fb9f3a"
             ],
             [
              0.8888888888888888,
              "#fdca26"
             ],
             [
              1,
              "#f0f921"
             ]
            ],
            "type": "contour"
           }
          ],
          "contourcarpet": [
           {
            "colorbar": {
             "outlinewidth": 0,
             "ticks": ""
            },
            "type": "contourcarpet"
           }
          ],
          "heatmap": [
           {
            "colorbar": {
             "outlinewidth": 0,
             "ticks": ""
            },
            "colorscale": [
             [
              0,
              "#0d0887"
             ],
             [
              0.1111111111111111,
              "#46039f"
             ],
             [
              0.2222222222222222,
              "#7201a8"
             ],
             [
              0.3333333333333333,
              "#9c179e"
             ],
             [
              0.4444444444444444,
              "#bd3786"
             ],
             [
              0.5555555555555556,
              "#d8576b"
             ],
             [
              0.6666666666666666,
              "#ed7953"
             ],
             [
              0.7777777777777778,
              "#fb9f3a"
             ],
             [
              0.8888888888888888,
              "#fdca26"
             ],
             [
              1,
              "#f0f921"
             ]
            ],
            "type": "heatmap"
           }
          ],
          "heatmapgl": [
           {
            "colorbar": {
             "outlinewidth": 0,
             "ticks": ""
            },
            "colorscale": [
             [
              0,
              "#0d0887"
             ],
             [
              0.1111111111111111,
              "#46039f"
             ],
             [
              0.2222222222222222,
              "#7201a8"
             ],
             [
              0.3333333333333333,
              "#9c179e"
             ],
             [
              0.4444444444444444,
              "#bd3786"
             ],
             [
              0.5555555555555556,
              "#d8576b"
             ],
             [
              0.6666666666666666,
              "#ed7953"
             ],
             [
              0.7777777777777778,
              "#fb9f3a"
             ],
             [
              0.8888888888888888,
              "#fdca26"
             ],
             [
              1,
              "#f0f921"
             ]
            ],
            "type": "heatmapgl"
           }
          ],
          "histogram": [
           {
            "marker": {
             "pattern": {
              "fillmode": "overlay",
              "size": 10,
              "solidity": 0.2
             }
            },
            "type": "histogram"
           }
          ],
          "histogram2d": [
           {
            "colorbar": {
             "outlinewidth": 0,
             "ticks": ""
            },
            "colorscale": [
             [
              0,
              "#0d0887"
             ],
             [
              0.1111111111111111,
              "#46039f"
             ],
             [
              0.2222222222222222,
              "#7201a8"
             ],
             [
              0.3333333333333333,
              "#9c179e"
             ],
             [
              0.4444444444444444,
              "#bd3786"
             ],
             [
              0.5555555555555556,
              "#d8576b"
             ],
             [
              0.6666666666666666,
              "#ed7953"
             ],
             [
              0.7777777777777778,
              "#fb9f3a"
             ],
             [
              0.8888888888888888,
              "#fdca26"
             ],
             [
              1,
              "#f0f921"
             ]
            ],
            "type": "histogram2d"
           }
          ],
          "histogram2dcontour": [
           {
            "colorbar": {
             "outlinewidth": 0,
             "ticks": ""
            },
            "colorscale": [
             [
              0,
              "#0d0887"
             ],
             [
              0.1111111111111111,
              "#46039f"
             ],
             [
              0.2222222222222222,
              "#7201a8"
             ],
             [
              0.3333333333333333,
              "#9c179e"
             ],
             [
              0.4444444444444444,
              "#bd3786"
             ],
             [
              0.5555555555555556,
              "#d8576b"
             ],
             [
              0.6666666666666666,
              "#ed7953"
             ],
             [
              0.7777777777777778,
              "#fb9f3a"
             ],
             [
              0.8888888888888888,
              "#fdca26"
             ],
             [
              1,
              "#f0f921"
             ]
            ],
            "type": "histogram2dcontour"
           }
          ],
          "mesh3d": [
           {
            "colorbar": {
             "outlinewidth": 0,
             "ticks": ""
            },
            "type": "mesh3d"
           }
          ],
          "parcoords": [
           {
            "line": {
             "colorbar": {
              "outlinewidth": 0,
              "ticks": ""
             }
            },
            "type": "parcoords"
           }
          ],
          "pie": [
           {
            "automargin": true,
            "type": "pie"
           }
          ],
          "scatter": [
           {
            "marker": {
             "line": {
              "color": "#283442"
             }
            },
            "type": "scatter"
           }
          ],
          "scatter3d": [
           {
            "line": {
             "colorbar": {
              "outlinewidth": 0,
              "ticks": ""
             }
            },
            "marker": {
             "colorbar": {
              "outlinewidth": 0,
              "ticks": ""
             }
            },
            "type": "scatter3d"
           }
          ],
          "scattercarpet": [
           {
            "marker": {
             "colorbar": {
              "outlinewidth": 0,
              "ticks": ""
             }
            },
            "type": "scattercarpet"
           }
          ],
          "scattergeo": [
           {
            "marker": {
             "colorbar": {
              "outlinewidth": 0,
              "ticks": ""
             }
            },
            "type": "scattergeo"
           }
          ],
          "scattergl": [
           {
            "marker": {
             "line": {
              "color": "#283442"
             }
            },
            "type": "scattergl"
           }
          ],
          "scattermapbox": [
           {
            "marker": {
             "colorbar": {
              "outlinewidth": 0,
              "ticks": ""
             }
            },
            "type": "scattermapbox"
           }
          ],
          "scatterpolar": [
           {
            "marker": {
             "colorbar": {
              "outlinewidth": 0,
              "ticks": ""
             }
            },
            "type": "scatterpolar"
           }
          ],
          "scatterpolargl": [
           {
            "marker": {
             "colorbar": {
              "outlinewidth": 0,
              "ticks": ""
             }
            },
            "type": "scatterpolargl"
           }
          ],
          "scatterternary": [
           {
            "marker": {
             "colorbar": {
              "outlinewidth": 0,
              "ticks": ""
             }
            },
            "type": "scatterternary"
           }
          ],
          "surface": [
           {
            "colorbar": {
             "outlinewidth": 0,
             "ticks": ""
            },
            "colorscale": [
             [
              0,
              "#0d0887"
             ],
             [
              0.1111111111111111,
              "#46039f"
             ],
             [
              0.2222222222222222,
              "#7201a8"
             ],
             [
              0.3333333333333333,
              "#9c179e"
             ],
             [
              0.4444444444444444,
              "#bd3786"
             ],
             [
              0.5555555555555556,
              "#d8576b"
             ],
             [
              0.6666666666666666,
              "#ed7953"
             ],
             [
              0.7777777777777778,
              "#fb9f3a"
             ],
             [
              0.8888888888888888,
              "#fdca26"
             ],
             [
              1,
              "#f0f921"
             ]
            ],
            "type": "surface"
           }
          ],
          "table": [
           {
            "cells": {
             "fill": {
              "color": "#506784"
             },
             "line": {
              "color": "rgb(17,17,17)"
             }
            },
            "header": {
             "fill": {
              "color": "#2a3f5f"
             },
             "line": {
              "color": "rgb(17,17,17)"
             }
            },
            "type": "table"
           }
          ]
         },
         "layout": {
          "annotationdefaults": {
           "arrowcolor": "#f2f5fa",
           "arrowhead": 0,
           "arrowwidth": 1
          },
          "autotypenumbers": "strict",
          "coloraxis": {
           "colorbar": {
            "outlinewidth": 0,
            "ticks": ""
           }
          },
          "colorscale": {
           "diverging": [
            [
             0,
             "#8e0152"
            ],
            [
             0.1,
             "#c51b7d"
            ],
            [
             0.2,
             "#de77ae"
            ],
            [
             0.3,
             "#f1b6da"
            ],
            [
             0.4,
             "#fde0ef"
            ],
            [
             0.5,
             "#f7f7f7"
            ],
            [
             0.6,
             "#e6f5d0"
            ],
            [
             0.7,
             "#b8e186"
            ],
            [
             0.8,
             "#7fbc41"
            ],
            [
             0.9,
             "#4d9221"
            ],
            [
             1,
             "#276419"
            ]
           ],
           "sequential": [
            [
             0,
             "#0d0887"
            ],
            [
             0.1111111111111111,
             "#46039f"
            ],
            [
             0.2222222222222222,
             "#7201a8"
            ],
            [
             0.3333333333333333,
             "#9c179e"
            ],
            [
             0.4444444444444444,
             "#bd3786"
            ],
            [
             0.5555555555555556,
             "#d8576b"
            ],
            [
             0.6666666666666666,
             "#ed7953"
            ],
            [
             0.7777777777777778,
             "#fb9f3a"
            ],
            [
             0.8888888888888888,
             "#fdca26"
            ],
            [
             1,
             "#f0f921"
            ]
           ],
           "sequentialminus": [
            [
             0,
             "#0d0887"
            ],
            [
             0.1111111111111111,
             "#46039f"
            ],
            [
             0.2222222222222222,
             "#7201a8"
            ],
            [
             0.3333333333333333,
             "#9c179e"
            ],
            [
             0.4444444444444444,
             "#bd3786"
            ],
            [
             0.5555555555555556,
             "#d8576b"
            ],
            [
             0.6666666666666666,
             "#ed7953"
            ],
            [
             0.7777777777777778,
             "#fb9f3a"
            ],
            [
             0.8888888888888888,
             "#fdca26"
            ],
            [
             1,
             "#f0f921"
            ]
           ]
          },
          "colorway": [
           "#636efa",
           "#EF553B",
           "#00cc96",
           "#ab63fa",
           "#FFA15A",
           "#19d3f3",
           "#FF6692",
           "#B6E880",
           "#FF97FF",
           "#FECB52"
          ],
          "font": {
           "color": "#f2f5fa"
          },
          "geo": {
           "bgcolor": "rgb(17,17,17)",
           "lakecolor": "rgb(17,17,17)",
           "landcolor": "rgb(17,17,17)",
           "showlakes": true,
           "showland": true,
           "subunitcolor": "#506784"
          },
          "hoverlabel": {
           "align": "left"
          },
          "hovermode": "closest",
          "mapbox": {
           "style": "dark"
          },
          "paper_bgcolor": "rgb(17,17,17)",
          "plot_bgcolor": "rgb(17,17,17)",
          "polar": {
           "angularaxis": {
            "gridcolor": "#506784",
            "linecolor": "#506784",
            "ticks": ""
           },
           "bgcolor": "rgb(17,17,17)",
           "radialaxis": {
            "gridcolor": "#506784",
            "linecolor": "#506784",
            "ticks": ""
           }
          },
          "scene": {
           "xaxis": {
            "backgroundcolor": "rgb(17,17,17)",
            "gridcolor": "#506784",
            "gridwidth": 2,
            "linecolor": "#506784",
            "showbackground": true,
            "ticks": "",
            "zerolinecolor": "#C8D4E3"
           },
           "yaxis": {
            "backgroundcolor": "rgb(17,17,17)",
            "gridcolor": "#506784",
            "gridwidth": 2,
            "linecolor": "#506784",
            "showbackground": true,
            "ticks": "",
            "zerolinecolor": "#C8D4E3"
           },
           "zaxis": {
            "backgroundcolor": "rgb(17,17,17)",
            "gridcolor": "#506784",
            "gridwidth": 2,
            "linecolor": "#506784",
            "showbackground": true,
            "ticks": "",
            "zerolinecolor": "#C8D4E3"
           }
          },
          "shapedefaults": {
           "line": {
            "color": "#f2f5fa"
           }
          },
          "sliderdefaults": {
           "bgcolor": "#C8D4E3",
           "bordercolor": "rgb(17,17,17)",
           "borderwidth": 1,
           "tickwidth": 0
          },
          "ternary": {
           "aaxis": {
            "gridcolor": "#506784",
            "linecolor": "#506784",
            "ticks": ""
           },
           "baxis": {
            "gridcolor": "#506784",
            "linecolor": "#506784",
            "ticks": ""
           },
           "bgcolor": "rgb(17,17,17)",
           "caxis": {
            "gridcolor": "#506784",
            "linecolor": "#506784",
            "ticks": ""
           }
          },
          "title": {
           "x": 0.05
          },
          "updatemenudefaults": {
           "bgcolor": "#506784",
           "borderwidth": 0
          },
          "xaxis": {
           "automargin": true,
           "gridcolor": "#283442",
           "linecolor": "#506784",
           "ticks": "",
           "title": {
            "standoff": 15
           },
           "zerolinecolor": "#283442",
           "zerolinewidth": 2
          },
          "yaxis": {
           "automargin": true,
           "gridcolor": "#283442",
           "linecolor": "#506784",
           "ticks": "",
           "title": {
            "standoff": 15
           },
           "zerolinecolor": "#283442",
           "zerolinewidth": 2
          }
         }
        },
        "title": {
         "text": "MA(1) Process Trajectory"
        },
        "xaxis": {
         "title": {
          "text": "Time"
         }
        },
        "yaxis": {
         "title": {
          "text": "Value"
         }
        }
       }
      }
     },
     "metadata": {},
     "output_type": "display_data"
    }
   ],
   "source": [
    "ma.plot_trajectory(t)"
   ]
  },
  {
   "cell_type": "code",
   "execution_count": null,
   "metadata": {},
   "outputs": [],
   "source": []
  }
 ],
 "metadata": {
  "kernelspec": {
   "display_name": "venv",
   "language": "python",
   "name": "python3"
  },
  "language_info": {
   "codemirror_mode": {
    "name": "ipython",
    "version": 3
   },
   "file_extension": ".py",
   "mimetype": "text/x-python",
   "name": "python",
   "nbconvert_exporter": "python",
   "pygments_lexer": "ipython3",
   "version": "3.10.11"
  }
 },
 "nbformat": 4,
 "nbformat_minor": 2
}
