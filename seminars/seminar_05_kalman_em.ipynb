{
 "cells": [
  {
   "cell_type": "markdown",
   "metadata": {},
   "source": [
    "# Фильтр Калмана: тайна параметров"
   ]
  },
  {
   "cell_type": "code",
   "execution_count": 27,
   "metadata": {},
   "outputs": [],
   "source": [
    "import numpy as np\n",
    "\n",
    "import matplotlib.pyplot as plt\n",
    "import scipy.interpolate as spint\n",
    "from tqdm import tqdm\n",
    "%matplotlib inline"
   ]
  },
  {
   "cell_type": "markdown",
   "metadata": {},
   "source": [
    "Мы раньше предполагали, что параметры модели в фильтре Калмана известны. То есть, в модели\n",
    "\n",
    "$$\n",
    "\\begin{align*}\n",
    "&Y_{t+1} = A Y_t + U_t,\\\\\n",
    "&X_{t} = B Y_{t} + W_t,\\\\\n",
    "\\end{align*}\n",
    "$$\n",
    "\n",
    "мы знали $A,B$, ковариационные матрицы шумов $R_x,R_y$ и стартовые параметры $Y_1 \\sim N(\\xi, \\Lambda)$. \n",
    "\n",
    "Во многих задачах это почти так. Если вы проектируете робота или (ааа)автомобиль, то вы уже знаете, какие параметры вы наблюдаете с помощью датчиков и как именно. Более того, на приборах указана погрешность, как абсолютная, так и (если есть), относительная. В финансовых задачах вы точно знаете, какие цены вы наблюдаете, но не уверены, что их может определять, поэтому матрица $B$ будет как минимум диагональная. В совокупности такие сведения нам сразу дают матрицы $B,R_x$ и нам неизвестны только параметры динамики.\n",
    "\n",
    "Есть скрытые переменные, есть скрытая динамика с неизвестными параметрами -- значит, время для ЕМ-алгоритма."
   ]
  },
  {
   "cell_type": "markdown",
   "metadata": {},
   "source": [
    "## Строим ЕМ\n",
    "\n",
    "Как мы видели из лекций, можно получить формулы для М-шага при данных $X_1,..,X_n$:\n",
    "\n",
    "$$\n",
    "формулы...\n",
    "$$\n",
    "\n",
    "Но в этих формулах есть то, что мы вычислить с ходу не можем. Но может алгоритм фильтрации Калмана! Для того, чтобы вычислить все эти матожидания, нужно\n",
    "1. Провести процедуру фильтрации (проход вперёд по времени), сохранив нужные логи,\n",
    "2. Провести процедуру сглаживания (проход назад по времени), сохранив необходимые величины.\n",
    "\n",
    "А далее дело только в том, чтобы записать аккуратно формулы, потому что дебажить их очень тяжело.\n",
    "\n",
    "### Фильтрация\n",
    "\n",
    "Фильтрация  -- это проход вперёд, в ходе которого вычисляются условные матожидания $Y_t$ и $Y_t Y_t^T$ при условии $X_1,..,X_t$\n",
    "\n",
    "$$\n",
    "\\begin{aligned}\n",
    "&\\tilde{Y}_t = A \\hat{Y}_{t-1},\\\\\n",
    "&\\tilde{P}_t = A P_{t-1}A^T + R_y,\\\\\n",
    "&K_t = \\tilde{P}_t B^T (B\\tilde{P}_tB^T + R_x)^{-1},\\\\\n",
    "&\\hat{Y}_t = \\tilde{Y}_t + K_t(X_t - B \\tilde{Y}_t)\\\\\n",
    "&P_t = \\tilde{P}_t - K_tB\\tilde{P}_t.\n",
    "\\end{aligned}\n",
    "$$\n",
    "\n",
    "Конкретнее,\n",
    "\n",
    "$$\n",
    "\\mathbb{E} \\left[ Y_t~\\vert~ X_1,..,X_t\\right] = \\hat{Y}_t, \\quad \\mathbb{E} \\left[ Y_tY_t^T ~\\vert~ X_1,..,X_t\\right] = P_t + \\hat{Y}_t\\hat{Y}_t^T.\n",
    "$$\n",
    "\n",
    "\n",
    "### Сглаживание\n",
    "\n",
    "Для того, чтобы учесть все $X$ для прогнозов всех $Y$, то есть, посчитать условные матожидания при условии всех $X_1,..,X_n$, есть процедура сглаживания. Но в отличие от случая, когда нам не нужно оценивать параметры, для ЕМ-алгоритма дополнительно  нужно посчитать $\\mathbb{E}[Y_iY_{i-1}^T \\vert X]$, для этого в конце добавилась новая итерация.\n",
    "\n",
    "На старте задаётся \n",
    "\n",
    "$$\n",
    "\\overline{Y}_n = \\hat{Y}_n, ~~ \\overline{P}_n = P_n,\n",
    "$$\n",
    "\n",
    "а также\n",
    "\n",
    "$$\n",
    "V_{n,n-1} = (I - K_nB)A P_{n-1},\n",
    "$$\n",
    "\n",
    "эта переменная будет нам помогать оценивать ковариацию $\\mathbb{E}[Y_tY_{t-1}^T \\vert X] = V_{t,t-1} + \\overline{Y}_t\\overline{Y}_{t-1}^T$.\n",
    "\n",
    "Далее следуем для $t=n-1,...,1$ шагами\n",
    "\n",
    "\n",
    "$$\n",
    "\\begin{aligned}\n",
    "&S_t = P_t A^T (\\widetilde{P}_{t+1})^{-1},\\\\\n",
    "&\\overline{Y}_t = \\hat{Y}_t + S_t(\\overline{Y}_{t+1}-\\widetilde{Y}_{t+1}),\\\\\n",
    "&\\overline{P}_t = P_t  + S_t(\\overline{P}_{t+1} - \\widetilde{P}_{t+1})S_t^T.\n",
    "\\end{aligned}\n",
    "$$\n",
    "\n",
    "если $t<n-1$, то дополнительно делаем\n",
    "\n",
    "$$\n",
    "V_{t+1,t} = P_{t+1} S_t^T + S_{t+1}(V_{t+2,t+1} - AP_{t+1})S_t^T.\n",
    "$$\n",
    "\n",
    "С чертой -- сглаженные значения и их ковариационные матрицы. Отсюда получаем искомые значения:\n",
    "\n",
    "$$\n",
    "\\mathbb{E} \\left[ Y_t~\\vert~ X_1,..,X_n\\right] = \\overline{Y}_t, \\quad \\mathbb{E} \\left[ Y_tY_t^T ~\\vert~ X_1,..,X_n\\right] = \\overline{P}_t + \\overline{Y}_t\\overline{Y}_t^T.\n",
    "$$\n",
    "\n",
    "И не забываем про ковариацию\n",
    "\n",
    "$$\n",
    "\\mathbb{E}[Y_tY_{t-1}^T \\vert X] = V_{t,t-1} + \\overline{Y}_t\\overline{Y}_{t-1}^T.\n",
    "$$"
   ]
  },
  {
   "cell_type": "markdown",
   "metadata": {},
   "source": [
    "## Модель системы и наблюдений\n",
    "\n",
    "Для экспериментов будем использовать тот же генератор."
   ]
  },
  {
   "cell_type": "code",
   "execution_count": 28,
   "metadata": {},
   "outputs": [],
   "source": [
    "from kalmanlib import LinearGaussianSignalGenerator, KalmanFilter"
   ]
  },
  {
   "cell_type": "markdown",
   "metadata": {},
   "source": [
    "Проверим старый тест, чтобы убедиться, что ничего не сломалось."
   ]
  },
  {
   "cell_type": "code",
   "execution_count": 29,
   "metadata": {},
   "outputs": [],
   "source": [
    "A = np.eye(2)\n",
    "B = np.array([[1.9999,0.31],[-0.2,1.911]])\n",
    "Ry = np.array([[2,0.00002],[0.00002,3]])*10\n",
    "Rx = np.array([[1.3,0.0002],[0.0002,3]])*10\n",
    "T=100\n",
    "\n",
    "sigGen = LinearGaussianSignalGenerator(A, B, Ry, Rx)\n",
    "\n",
    "startMean=np.array([10,5])\n",
    "startCov=np.eye(2)*0.1"
   ]
  },
  {
   "cell_type": "code",
   "execution_count": 30,
   "metadata": {},
   "outputs": [],
   "source": [
    "start = np.random.multivariate_normal(mean=startMean,cov=startCov)#np.array([10,5])\n",
    "ys, xs = sigGen.generate(T,start)"
   ]
  },
  {
   "cell_type": "code",
   "execution_count": 31,
   "metadata": {},
   "outputs": [],
   "source": [
    "filter = KalmanFilter(A, B, Ry, Rx,startMean,startCov)\n",
    "sig,errs,aprSig,aprErrs = filter.filterSignal(xs)\n",
    "smoothedSig, smoothedErrs = filter.smoothSignal(sig,errs,aprSig,aprErrs)"
   ]
  },
  {
   "cell_type": "code",
   "execution_count": null,
   "metadata": {},
   "outputs": [],
   "source": [
    "f,(ax1,ax2) = plt.subplots(1,2,figsize=(11,5))\n",
    "\n",
    "ax1.grid()\n",
    "ax1.set_title(\"Показатель номер 1\", fontsize=16)\n",
    "ax1.set_xlabel(\"t\", fontsize=14)\n",
    "ax1.plot(np.arange(T), ys[0,:])\n",
    "ax1.plot(np.arange(T), xs[0,:])\n",
    "ax1.plot(np.arange(T), sig[0,:])\n",
    "ax1.plot(np.arange(T), smoothedSig[0,:])\n",
    "ax1.fill_between(np.arange(T),smoothedSig[0,:]-1.96*np.sqrt(smoothedErrs[0,0,:]), smoothedSig[0,:]+1.96*np.sqrt(smoothedErrs[0,0,:]), alpha=0.4 )\n",
    "ax1.fill_between(np.arange(T),sig[0,:]-1.96*np.sqrt(errs[0,0,:]), sig[0,:]+1.96*np.sqrt(errs[0,0,:]), alpha=0.4 )\n",
    "\n",
    "\n",
    "ax2.grid()\n",
    "ax2.set_title(\"Показатель номер 2\", fontsize=16)\n",
    "ax2.set_xlabel(\"t\", fontsize=14)\n",
    "ax2.plot(np.arange(T), ys[1,:])\n",
    "ax2.plot(np.arange(T), xs[1,:])\n",
    "ax2.plot(np.arange(T), sig[1,:])\n",
    "ax2.plot(np.arange(T), smoothedSig[1,:])\n",
    "ax2.fill_between(np.arange(T),smoothedSig[1,:]-1.96*np.sqrt(smoothedErrs[1,1,:]), smoothedSig[1,:]+1.96*np.sqrt(smoothedErrs[1,1,:]), alpha=0.4 )\n",
    "ax2.fill_between(np.arange(T),sig[1,:]-1.96*np.sqrt(errs[1,1,:]), sig[1,:]+1.96*np.sqrt(errs[1,1,:]), alpha=0.4 )\n",
    "\n",
    "ax2.legend([\"Сигнал(Y)\",\"Измерения(X)\",\"Отфильтрованный сигнал\",\"Сглаженнный сигнал\"])\n",
    "# plt.savefig('filtered.pdf')\n",
    "plt.show()"
   ]
  },
  {
   "cell_type": "markdown",
   "metadata": {},
   "source": [
    "Как всегда, выглядит отлично!"
   ]
  },
  {
   "cell_type": "markdown",
   "metadata": {},
   "source": [
    "### Тестируем ЕМ на этом примере\n",
    "\n",
    "А как всё будет работать, если попробовать ЕМ-алгоритм? Предположим, что мы НИЧЕГО не знаем априори и всё хотим выучить."
   ]
  },
  {
   "cell_type": "code",
   "execution_count": 33,
   "metadata": {},
   "outputs": [],
   "source": [
    "A = np.eye(2)\n",
    "B = np.array([[1.9999,0.31],[-0.2,1.911]])\n",
    "Ry = np.array([[2,0.00002],[0.00002,3]])*10\n",
    "Rx = np.array([[1.3,0.0002],[0.0002,3]])*10\n",
    "T=100\n",
    "\n",
    "sigGen = LinearGaussianSignalGenerator(A, B, Ry, Rx)\n",
    "\n",
    "startMean=np.array([10,5])\n",
    "startCov=np.eye(2)*0.1\n",
    "\n",
    "start = np.random.multivariate_normal(mean=startMean,cov=startCov)#np.array([10,5])\n",
    "ys, xs = sigGen.generate(T,start)"
   ]
  },
  {
   "cell_type": "code",
   "execution_count": null,
   "metadata": {},
   "outputs": [],
   "source": [
    "startA = np.eye(2)\n",
    "startB = np.eye(2)\n",
    "startRy = np.eye(2)\n",
    "startRx = np.eye(2)\n",
    "startStartMean = np.ones([2])\n",
    "startStartCov = np.eye(2)\n",
    "filter = KalmanFilter(A=startA, B=startB, Ry=startRy, Rx=startRx, startMean=startStartMean,startCov=startStartCov)\n",
    "filter.fit(xs, Niter=200)"
   ]
  },
  {
   "cell_type": "code",
   "execution_count": 35,
   "metadata": {},
   "outputs": [],
   "source": [
    "sig,errs,aprSig,aprErrs = filter.filterSignal(xs)\n",
    "smoothedSig, smoothedErrs = filter.smoothSignal(sig,errs,aprSig,aprErrs)"
   ]
  },
  {
   "cell_type": "code",
   "execution_count": null,
   "metadata": {},
   "outputs": [],
   "source": [
    "f,(ax1,ax2) = plt.subplots(1,2,figsize=(11,5))\n",
    "\n",
    "ax1.grid()\n",
    "ax1.set_title(\"Показатель номер 1\", fontsize=16)\n",
    "ax1.set_xlabel(\"t\", fontsize=14)\n",
    "ax1.plot(np.arange(T), ys[0,:])\n",
    "ax1.plot(np.arange(T), xs[0,:])\n",
    "ax1.plot(np.arange(T), sig[0,:])\n",
    "ax1.plot(np.arange(T), smoothedSig[0,:])\n",
    "ax1.fill_between(np.arange(T),smoothedSig[0,:]-1.96*np.sqrt(smoothedErrs[0,0,:]), smoothedSig[0,:]+1.96*np.sqrt(smoothedErrs[0,0,:]), alpha=0.4 )\n",
    "ax1.fill_between(np.arange(T),sig[0,:]-1.96*np.sqrt(errs[0,0,:]), sig[0,:]+1.96*np.sqrt(errs[0,0,:]), alpha=0.4 )\n",
    "\n",
    "\n",
    "ax2.grid()\n",
    "ax2.set_title(\"Показатель номер 2\", fontsize=16)\n",
    "ax2.set_xlabel(\"t\", fontsize=14)\n",
    "ax2.plot(np.arange(T), ys[1,:])\n",
    "ax2.plot(np.arange(T), xs[1,:])\n",
    "ax2.plot(np.arange(T), sig[1,:])\n",
    "ax2.plot(np.arange(T), smoothedSig[1,:])\n",
    "ax2.fill_between(np.arange(T),smoothedSig[1,:]-1.96*np.sqrt(smoothedErrs[1,1,:]), smoothedSig[1,:]+1.96*np.sqrt(smoothedErrs[1,1,:]), alpha=0.4 )\n",
    "ax2.fill_between(np.arange(T),sig[1,:]-1.96*np.sqrt(errs[1,1,:]), sig[1,:]+1.96*np.sqrt(errs[1,1,:]), alpha=0.4 )\n",
    "\n",
    "ax2.legend([\"Сигнал(Y)\",\"Измерения(X)\",\"Отфильтрованный сигнал\",\"Сглаженнный сигнал\"])\n",
    "# plt.savefig('filtered.pdf')\n",
    "plt.show()"
   ]
  },
  {
   "cell_type": "markdown",
   "metadata": {},
   "source": [
    "Если позапускать ещё, становится понятно, что дело тут не в количестве итераций и не в точке старта (хотя если задать истинные параметры стартовыми, всё отлично). Алгоритм не ломается, проблем с обращением матриц нет, при этом мы видим, что одно из измерений почти попало в истинный сигнал.\n",
    "\n",
    "Такой алгоритм не сойдётся к одному значению, потому что с точки зрения правдоподобия есть несколько одинаковых вариантов параметров, которые дадут ту же последовательность $X$. Например, если $B$ умножить на $5$, а $A$ поделить на 5 и скорректировать ковариацонные матрицы ошибок, умножив их на подходящую константу, результат в $X$ не поменяется. Поэтому часть параметров нам придётся из задачи как-то узнать и зафиксировать, чтобы фильтр оценился. Обычно $B$ дана изначально, давайте её зафиксируем."
   ]
  },
  {
   "cell_type": "code",
   "execution_count": null,
   "metadata": {},
   "outputs": [],
   "source": [
    "filter = KalmanFilter(A=startA, B=B, Ry=startRy, Rx=startRx, startMean=startStartMean,startCov=startStartCov)\n",
    "filter.fit(xs, Niter=20, fixB=True)"
   ]
  },
  {
   "cell_type": "code",
   "execution_count": 38,
   "metadata": {},
   "outputs": [],
   "source": [
    "sig,errs,aprSig,aprErrs = filter.filterSignal(xs)\n",
    "smoothedSig, smoothedErrs = filter.smoothSignal(sig,errs,aprSig,aprErrs)"
   ]
  },
  {
   "cell_type": "code",
   "execution_count": null,
   "metadata": {},
   "outputs": [],
   "source": [
    "f,(ax1,ax2) = plt.subplots(1,2,figsize=(11,5))\n",
    "\n",
    "ax1.grid()\n",
    "ax1.set_title(\"Показатель номер 1\", fontsize=16)\n",
    "ax1.set_xlabel(\"t\", fontsize=14)\n",
    "ax1.plot(np.arange(T), ys[0,:])\n",
    "ax1.plot(np.arange(T), xs[0,:])\n",
    "ax1.plot(np.arange(T), sig[0,:])\n",
    "ax1.plot(np.arange(T), smoothedSig[0,:])\n",
    "ax1.fill_between(np.arange(T),smoothedSig[0,:]-1.96*np.sqrt(smoothedErrs[0,0,:]), smoothedSig[0,:]+1.96*np.sqrt(smoothedErrs[0,0,:]), alpha=0.4 )\n",
    "ax1.fill_between(np.arange(T),sig[0,:]-1.96*np.sqrt(errs[0,0,:]), sig[0,:]+1.96*np.sqrt(errs[0,0,:]), alpha=0.4 )\n",
    "\n",
    "\n",
    "ax2.grid()\n",
    "ax2.set_title(\"Показатель номер 2\", fontsize=16)\n",
    "ax2.set_xlabel(\"t\", fontsize=14)\n",
    "ax2.plot(np.arange(T), ys[1,:])\n",
    "ax2.plot(np.arange(T), xs[1,:])\n",
    "ax2.plot(np.arange(T), sig[1,:])\n",
    "ax2.plot(np.arange(T), smoothedSig[1,:])\n",
    "ax2.fill_between(np.arange(T),smoothedSig[1,:]-1.96*np.sqrt(smoothedErrs[1,1,:]), smoothedSig[1,:]+1.96*np.sqrt(smoothedErrs[1,1,:]), alpha=0.4 )\n",
    "ax2.fill_between(np.arange(T),sig[1,:]-1.96*np.sqrt(errs[1,1,:]), sig[1,:]+1.96*np.sqrt(errs[1,1,:]), alpha=0.4 )\n",
    "\n",
    "ax2.legend([\"Сигнал(Y)\",\"Измерения(X)\",\"Отфильтрованный сигнал\",\"Сглаженнный сигнал\"])\n",
    "# plt.savefig('filtered.pdf')\n",
    "plt.show()"
   ]
  },
  {
   "cell_type": "markdown",
   "metadata": {},
   "source": [
    "Прекрасно! Причём сходится за десяток итераций."
   ]
  },
  {
   "cell_type": "markdown",
   "metadata": {},
   "source": [
    "## Оценка скорости движения и погрешности\n",
    "\n",
    "Рассмотрим равномерно и прямолинейно движущийся велосипед.\n",
    "\n",
    "Модель мира выглядит так:\n",
    "\n",
    "$$\n",
    "Y_{t+1} = A Y_t + U_t, ~A = \\begin{bmatrix}1 & \\Delta t\\\\ 0 & 1 \\end{bmatrix}.\n",
    "$$\n",
    "\n",
    "Мир описывается положением велосипеда (первая координата) и скоростью (вторая координата).\n",
    "\n",
    "Наблюдаем мы только координату (по условному одномерному GPS):\n",
    "\n",
    "$X_{t+1} = B Y_{t+1} + V_{t+1}, ~ B = [1,0] .$\n",
    "\n",
    "Для определённости возьмём единичные матрицы в качестве дисперсий шумов, а стартовое состояние зададим с большей дисперсией.\n",
    "\n",
    "Что известно точно?\n",
    "\n",
    "* Матрица $A$, если мы знаем с каким $\\Delta t$ производятся измерения\n",
    "* Матрица $B$, если мы хорошо изучили инструкцию к прибору\n",
    "* Можно ещё зафиксировать одну компоненту шума, например, задать сразу $R_x$ единичной. Если этого не сделать, то в измерении будут складываться два разных независимых шума (из наблюдений и из латентного пространства) и точно разделить их нельзя. Это приводит к известной нам проблеме несходимости.\n"
   ]
  },
  {
   "cell_type": "code",
   "execution_count": 40,
   "metadata": {},
   "outputs": [],
   "source": [
    "deltaT = 0.1\n",
    "A = np.eye(2)\n",
    "A[0,1] = deltaT\n",
    "A[1,1] = 1\n",
    "\n",
    "B=np.array([[1,0]])\n",
    "\n",
    "Ry = np.eye(2)*2\n",
    "Rx = np.eye(1)*5\n",
    "\n",
    "T=50\n",
    "\n",
    "sigGen = LinearGaussianSignalGenerator(A, B, Ry, Rx)\n",
    "\n",
    "startMean=np.array([0,10])\n",
    "startCov=np.eye(2)*10\n",
    "\n",
    "start = np.random.multivariate_normal(mean=startMean,cov=startCov)#np.array([10,5])\n",
    "ys, xs = sigGen.generate(T,start)\n",
    "\n",
    "filter = KalmanFilter(A, B, Ry, Rx,startMean,startCov)"
   ]
  },
  {
   "cell_type": "code",
   "execution_count": null,
   "metadata": {},
   "outputs": [],
   "source": [
    "startA = A\n",
    "startB = B\n",
    "startRy = np.eye(2)\n",
    "startRx = Rx\n",
    "startStartMean = np.ones([2])\n",
    "startStartCov = np.eye(2)\n",
    "filter = KalmanFilter(A=startA, B=startB, Ry=startRy, Rx=startRx, startMean=startStartMean,startCov=startStartCov)\n",
    "filter.fit(xs, Niter=50,fixB=True,fixA=True,fixRx=True)"
   ]
  },
  {
   "cell_type": "code",
   "execution_count": 42,
   "metadata": {},
   "outputs": [],
   "source": [
    "sig,errs,aprSig,aprErrs = filter.filterSignal(xs)\n",
    "smoothedSig, smoothedErrs = filter.smoothSignal(sig,errs,aprSig,aprErrs)"
   ]
  },
  {
   "cell_type": "code",
   "execution_count": null,
   "metadata": {},
   "outputs": [],
   "source": [
    "f,(ax1,ax2) = plt.subplots(1,2,figsize=(11,4))\n",
    "\n",
    "ax1.grid()\n",
    "ax1.set_title(\"Координата\", fontsize=16)\n",
    "ax1.set_xlabel(\"t\", fontsize=14)\n",
    "ax1.plot(np.arange(T), ys[0,:])\n",
    "ax1.plot(np.arange(T), xs[0,:])\n",
    "ax1.plot(np.arange(T), sig[0,:])\n",
    "ax1.plot(np.arange(T), smoothedSig[0,:])\n",
    "ax1.fill_between(np.arange(T),smoothedSig[0,:]-1.96*np.sqrt(smoothedErrs[0,0,:]), smoothedSig[0,:]+1.96*np.sqrt(smoothedErrs[0,0,:]), alpha=0.4 )\n",
    "ax1.fill_between(np.arange(T),sig[0,:]-1.96*np.sqrt(errs[0,0,:]), sig[0,:]+1.96*np.sqrt(errs[0,0,:]), alpha=0.4 )\n",
    "ax1.legend([\"Сигнал(Y)\", \"Измерения(X)\",\"Отфильтрованный сигнал\",\"Сглаженнный сигнал\"])\n",
    "\n",
    "\n",
    "ax2.grid()\n",
    "ax2.set_title(\"Скорость\", fontsize=16)\n",
    "ax2.set_xlabel(\"t\", fontsize=14)\n",
    "ax2.plot(np.arange(T), ys[1,:])\n",
    "#ax2.plot(np.arange(T), xs[1,:])\n",
    "ax2.plot(np.arange(T), sig[1,:])\n",
    "ax2.plot(np.arange(T), smoothedSig[1,:])\n",
    "ax2.fill_between(np.arange(T),smoothedSig[1,:]-1.96*np.sqrt(smoothedErrs[1,1,:]), smoothedSig[1,:]+1.96*np.sqrt(smoothedErrs[1,1,:]), alpha=0.4 )\n",
    "ax2.fill_between(np.arange(T),sig[1,:]-1.96*np.sqrt(errs[1,1,:]), sig[1,:]+1.96*np.sqrt(errs[1,1,:]), alpha=0.4 )\n",
    "\n",
    "ax2.legend([\"Сигнал(Y)\",\"Отфильтрованный сигнал\",\"Сглаженнный сигнал\"])\n",
    "# plt.savefig('filtered.pdf')\n",
    "plt.show()"
   ]
  },
  {
   "cell_type": "markdown",
   "metadata": {},
   "source": [
    "## Полет мяча"
   ]
  },
  {
   "cell_type": "markdown",
   "metadata": {},
   "source": [
    "Сегодня мы попробуем рассмотреть задачу о движении мяча в ваккууме. По пути нам понадобятся знания из физики (на них дадим ссылки на википедию для расширения кругозора).\n",
    "\n",
    "[Рассматривать мы будем баллистику (задачу о движении снаряда / мяча).](https://en.wikipedia.org/wiki/Projectile_motion)\n",
    "\n",
    "Из нее известно, что на координатной плоскости можно описать движение при помощи уравнений:\n",
    "\n",
    "$$\n",
    "\\begin{aligned}\n",
    "y &= \\frac{g}{2}t^2 + v_{y0} t + y_0 \\\\\n",
    "x &= v_{x0} t + x_0\n",
    "\\end{aligned}\n",
    "$$\n",
    "\n",
    "где $g$ гравитационная постоянная, $t$ время, $v_{x0}$ и $v_{y0}$ начальные скорости по соответствующим осям. Если мяч бросается с ускорением $v$ под углом $\\theta$ к горизонту, то начальные скорости $v_{x0}$ и $v_{y0}$ легко вычислить:\n",
    "\n",
    "$$\n",
    "\\begin{aligned}\n",
    "v_{x0} = v \\cos{\\theta} \\\\\n",
    "v_{y0} = v \\sin{\\theta}\n",
    "\\end{aligned}\n",
    "$$\n"
   ]
  },
  {
   "cell_type": "markdown",
   "metadata": {},
   "source": [
    "Так как у нас нет мяча с датчиками, по которым мы сможем получить нужные данные, то решим проблему симуляцией полета мяча.\n",
    "\n",
    "Случайные добавки (шум) будут отвечать за зашумленность датчиков (независимо от времени).\n",
    "\n",
    "Теория нам дает описание непрерывной траектории полета мяча, а датчики передают информацию дискретно (с определенной частотой). По этой причине воспользуемся численным приближением ([методом Рунге-Кутта](https://en.wikipedia.org/wiki/Runge%E2%80%93Kutta_methods)) задачи Коши, к которой сводится задача о движении мяча по законам Ньютона.                                                              "
   ]
  },
  {
   "cell_type": "code",
   "execution_count": null,
   "metadata": {},
   "outputs": [],
   "source": [
    "!pip install filterpy"
   ]
  },
  {
   "cell_type": "code",
   "execution_count": 45,
   "metadata": {},
   "outputs": [],
   "source": [
    "import numpy as np\n",
    "import matplotlib.pyplot as plt\n",
    "from filterpy.kalman import KalmanFilter"
   ]
  },
  {
   "cell_type": "code",
   "execution_count": 46,
   "metadata": {},
   "outputs": [],
   "source": [
    "def rk4(y, x, dx, f):\n",
    "    \"\"\"computes 4th order Runge-Kutta for dy/dx.\n",
    "    y is the initial value for y\n",
    "    x is the initial value for x\n",
    "    dx is the difference in x (e.g. the time step)\n",
    "    f is a callable function (y, x) that you supply to \n",
    "      compute dy/dx for the specified values.\n",
    "    \"\"\"\n",
    "    \n",
    "    k1 = dx * f(y, x)\n",
    "    k2 = dx * f(y + 0.5*k1, x + 0.5*dx)\n",
    "    k3 = dx * f(y + 0.5*k2, x + 0.5*dx)\n",
    "    k4 = dx * f(y + k3, x + dx)\n",
    "    \n",
    "    return y + (k1 + 2*k2 + 2*k3 + k4) / 6.\n",
    "\n",
    "def fx(x,t):\n",
    "    return fx.vel\n",
    "    \n",
    "def fy(y,t):\n",
    "    return fy.vel - 9.8*t\n",
    "\n",
    "\n",
    "class BallTrajectory2D(object):\n",
    "    def __init__(self, x0, y0, velocity, \n",
    "                 theta_deg=0., \n",
    "                 g=9.8, \n",
    "                 noise=[0.0, 0.0]):\n",
    "        self.x = x0\n",
    "        self.y = y0\n",
    "        self.t = 0        \n",
    "        theta = np.radians(theta_deg)\n",
    "        fx.vel = np.cos(theta) * velocity\n",
    "        fy.vel = np.sin(theta) * velocity        \n",
    "        self.g = g\n",
    "        self.noise = noise\n",
    "        \n",
    "        \n",
    "    def step(self, dt):\n",
    "        self.x = rk4(self.x, self.t, dt, fx)\n",
    "        self.y = rk4(self.y, self.t, dt, fy)\n",
    "        self.t += dt \n",
    "        return (self.x + np.random.standard_normal()*self.noise[0], \n",
    "                self.y + np.random.standard_normal()*self.noise[1])"
   ]
  },
  {
   "cell_type": "markdown",
   "metadata": {},
   "source": [
    "\n",
    "Чтобы создать траекторию, начиная с точки (0, 15) со скоростью 100 м/с и углом 60°, мы бы написали:\n",
    "\n",
    "```python\n",
    "traj = BallTrajectory2D(x0=0, y0=15, velocity=100, theta_deg=60)\n",
    "```\n",
    "    \n",
    "Затем вызовем traj.step(t) для дискретного изображения полета мяча.\n"
   ]
  },
  {
   "cell_type": "code",
   "execution_count": null,
   "metadata": {},
   "outputs": [],
   "source": [
    "def test_ball_vacuum(noise):\n",
    "    y = 15\n",
    "    x = 0\n",
    "    ball = BallTrajectory2D(x0=x, y0=y, \n",
    "                            theta_deg=60., velocity=100., \n",
    "                            noise=noise)\n",
    "    t = 0\n",
    "    dt = 0.25\n",
    "    _, ax = plt.subplots(figsize=(7,4))\n",
    "    ax.grid()\n",
    "    ax.set_xlabel(\"X, meters (distance)\")\n",
    "    ax.set_ylabel(\"Y, meters (height)\")\n",
    "    while y >= 0:\n",
    "        x, y = ball.step(dt)\n",
    "        t += dt\n",
    "        if y >= 0:\n",
    "            ax.scatter(x, y, color='r', marker='.', s=75, alpha=0.5)\n",
    "         \n",
    "    \n",
    "    \n",
    "# test_ball_vacuum([0, 0]) # plot ideal ball position\n",
    "test_ball_vacuum([1, 1]) # plot with noise "
   ]
  },
  {
   "cell_type": "markdown",
   "metadata": {},
   "source": [
    "### Записываем в виде уравнений динамики фильтра Калмана"
   ]
  },
  {
   "cell_type": "markdown",
   "metadata": {},
   "source": [
    "Переменные состояния в механике, как правило, это координаты. В нашем случае нам необходимо задать координаты положения мяча и их изменения согласно задаче фильтра Калмана. Напомним, что переход состояний в фильтре Калмана должен вычислять текущее состояние на основе предыдущего. Мы предполагаем, что мяч движется в вакууме, поэтому скорость по оси x постоянна, а ускорение по оси y зависит только от гравитационной постоянной $g$. Мы можем дискретизировать уравнения Ньютона, используя хорошо известный [метод Эйлера](https://en.wikipedia.org/wiki/Euler_method) в терминах $\\Delta t$:\n",
    "\n",
    "$$\\begin{aligned}\n",
    "x_t &=  x_{t-1} + v_{x(t-1)} {\\Delta t} \\\\\n",
    "v_{xt} &= v_{x(t-1)} \\\\\n",
    "y_t &= y_{t-1} + v_{y(t-1)} {\\Delta t} \\\\\n",
    "v_{yt} &= -g {\\Delta t} + v_{y(t-1)} \\\\\n",
    "\\end{aligned}\n",
    "$$\n",
    "\n",
    "> Метод Эйлера интегрирует дифференциальное уравнение пошагово, предполагая, что наклон (производная) остаётся постоянной в момент времени $t$. В этом случае производная от позиции — это скорость. На каждом временном шаге $\\Delta t$ мы предполагаем постоянную скорость, вычисляем новую позицию, а затем обновляем скорость для следующего временного шага. Существуют более точные методы, такие как метод Рунге-Кутта, но так как мы обновляем состояние с измерением на каждом шаге, метод Эйлера является достаточно точным.\n",
    "\n",
    "Это подразумевает, что нам нужно включить ускорение по оси $y$ в фильтр Калмана, но не по оси $x$. Это предполагает следующий набор переменных для описания положения мяча:\n",
    "\n",
    "$$\n",
    "\\mathbf y = \n",
    "\\begin{bmatrix}\n",
    "x & \\dot x & y & \\dot y & \\ddot{y}\n",
    "\\end{bmatrix}^\\mathsf T\n",
    "$$\n",
    "\n",
    "Так как гравитация является постоянной, мы можем её рассматривать как переменную управления. Другими словами, гравитация — это сила, которая известным образом изменяет поведение системы, и она действует на протяжении всего полета мяча.\n",
    "\n",
    "Уравнение для прогноза состояния выглядит так: $\\mathbf{\\tilde y} = \\mathbf{Ay} + \\mathbf{Cu}$. $\\mathbf{Ay}$ — это известная функция описывающая полет мяча. Вектор $\\mathbf{u}$ позволяет задать управление в фильтр. Для автомобиля управлением будут, например, степень нажатия на педали газа и тормоза, положение рулевого колеса и так далее. В нашем случае для мяча управлением будет гравитация. Матрица $\\mathbf{C}$ моделирует воздействие управления на поведение системы. Для автомобиля $\\mathbf{C}$ преобразует воздействия тормоза и газа в изменение скорости, а воздействие рулевого колеса — в изменение положения и направления. Для нашей задачи отслеживания полета мяча она будет вычислять изменение скорости из-за гравитации. Поэтому набор переменных состояния будет выглядеть:\n",
    "\n",
    "$$\n",
    "\\mathbf y = \n",
    "\\begin{bmatrix}x & \\dot x & y & \\dot y \n",
    "\\end{bmatrix}^\\mathsf T\n",
    "$$"
   ]
  },
  {
   "cell_type": "markdown",
   "metadata": {},
   "source": [
    "### Описываем переход к новому состоянию мира\n",
    "\n",
    "Система уравнений описывающих полет мяча по сути задается матрицей $\\mathbf A$, которую мы умножаем на предыдущее состояние нашей системы, чтобы получить следующее состояние, или априорное $\\tilde{\\mathbf y} = \\mathbf{A\\hat{y}}$.\n",
    "\n",
    "$$\n",
    "\\begin{aligned}\n",
    "\\bar x &= (1*x) + (\\Delta t * v_x) + (0*y) + (0 * v_y) \\\\\n",
    "\\bar v_x &= (0*x) +  (1*v_x) + (0*y) + (0 * v_y) \\\\\n",
    "\\bar y &= (0*x) + (0* v_x)         + (1*y) + (\\Delta t * v_y)   \\\\\n",
    "\\bar v_y &= (0*x) +  (0*v_x) + (0*y) + (1*v_y) \n",
    "\\end{aligned}\n",
    "$$\n",
    "\n",
    "Обратите внимание, что ни один из членов не включает $g$, гравитационную постоянную. Гравитация учитывается в этой задаче как управление. В матричной форме это записывается как:\n",
    "\n",
    "$$\n",
    "\\mathbf A = \\begin{bmatrix}\n",
    "1 & \\Delta t & 0 & 0 \\\\\n",
    "0 & 1 & 0 & 0 \\\\\n",
    "0 & 0 & 1 & \\Delta t \\\\\n",
    "0 & 0 & 0 & 1\n",
    "\\end{bmatrix}\n",
    "$$"
   ]
  },
  {
   "cell_type": "markdown",
   "metadata": {},
   "source": [
    "### Опишем управление в задаче\n",
    "Управление в нашей задаче - это гравитация. Воздействие гравитации на систему вводится через слагаемое $\\mathbf{Сu}$. Так получается описать на сколько изменится $\\mathbf{\\tilde y}$ из-за гравитации. $\\mathbf{Cu}$ содержит $\\begin{bmatrix}\\Delta x_g & \\Delta \\dot{x_g} & \\Delta y_g & \\Delta \\dot{y_g}\\end{bmatrix}^\\mathsf T$.\n",
    "\n",
    "Если мы посмотрим на дискретизированные уравнения, то увидим, что гравитация влияет только на скорость по оси $y$.\n",
    "\n",
    "$$\\begin{aligned}\n",
    "x_t &=  x_{t-1} + v_{x(t-1)} {\\Delta t} \\\\\n",
    "v_{xt} &= vx_{t-1}\n",
    "\\\\\n",
    "y_t &= y_{t-1} + v_{y(t-1)} {\\Delta t}\\\\\n",
    "v_{yt} &= -g {\\Delta t} + v_{y(t-1)} \\\\\n",
    "\\end{aligned}\n",
    "$$\n",
    "\n",
    "Таким образом, мы хотим, чтобы произведение $\\mathbf{Сu}$ было равно $\\begin{bmatrix}0 & 0 & 0 & -g \\Delta t \\end{bmatrix}^\\mathsf T$. В некотором смысле неважно, как мы определим $\\mathbf{С}$ и $\\mathbf{u}$, если их произведение даёт этот результат. Например, мы могли бы определить $\\mathbf{С}=1$ и $\\mathbf{u} = \\begin{bmatrix}0 & 0 & 0 & -g \\Delta t \\end{bmatrix}^\\mathsf T$. Но это не совсем соответствует нашим определениям для $\\mathbf{С}$ и $\\mathbf{u}$, где $\\mathbf{u}$ — переменная управления, а $\\mathbf{С}$ — её функция. Управление для скорости по оси $y$ — это $-g$.\n",
    "\n",
    "$$\\mathbf{С} = \\begin{bmatrix}0&0&0&0 \\\\ 0&0&0&0 \\\\0&0&0&0 \\\\0&0&0&\\Delta t\\end{bmatrix}, \\mathbf{u} = \\begin{bmatrix}0\\\\0\\\\0\\\\-g\\end{bmatrix}$$\n",
    "\n",
    "Такое представление избыточно; $\\mathbf{u}$ в нашей задаче управление воздействует только на вертикальное движение $y$, что подразумевает:\n",
    "\n",
    "$$\n",
    "\\mathbf{С} = \\begin{bmatrix} \n",
    "0 & 0 \\\\ \n",
    "0 & 0 \\\\ \n",
    "0 & 0 \\\\ \n",
    "0 & \\Delta t \n",
    "\\end{bmatrix}, \\quad \n",
    "\\mathbf{u} = \\begin{bmatrix} \n",
    "0 \\\\ \n",
    "-g \n",
    "\\end{bmatrix}\n",
    "$$\n",
    "\n",
    "\n",
    "или\n",
    "\n",
    "$$\n",
    "\\mathbf{С} = \\begin{bmatrix} \n",
    "0 \\\\ \n",
    "0 \\\\ \n",
    "0 \\\\ \n",
    "\\Delta t \n",
    "\\end{bmatrix}, \\quad \n",
    "\\mathbf{u} = \\begin{bmatrix} \n",
    "-g \n",
    "\\end{bmatrix}\n",
    "$$"
   ]
  },
  {
   "cell_type": "markdown",
   "metadata": {},
   "source": [
    "### Опишем наблюдения (функцию измерений)\n",
    "\n",
    "В предыдущих разделах мы описали устройство \"мира\". Теперь давайте разберемся как мы его видим через призму датчиков (выборки / данных).\n",
    "Мы наблюдаем набор координат $\\mathbf x = \\mathbf{By}$. Где $B$ матрица перехода к измерениям датчиков от истинных состояний мира (движения мяча).  Мы будем предполагать, что у нас есть датчик, который предоставляет нам положение мяча в координатах (x, y), но не может измерять скорости или ускорения. Следовательно, наша функция должна быть:\n",
    "\n",
    "$$\n",
    "\\begin{bmatrix}x_x \\\\ x_y \\end{bmatrix}= \n",
    "\\begin{bmatrix}\n",
    "1 & 0 & 0 & 0 \\\\\n",
    "0 & 0 & 1 & 0\n",
    "\\end{bmatrix} \n",
    "\\begin{bmatrix}\n",
    "x \\\\\n",
    "\\dot x \\\\\n",
    "y \\\\\n",
    "\\dot y \\end{bmatrix}$$\n",
    "\n",
    "где\n",
    "\n",
    "$$\\mathbf B = \\begin{bmatrix}\n",
    "1 & 0 & 0 & 0 \\\\\n",
    "0 & 0 & 1 & 0\n",
    "\\end{bmatrix}$$"
   ]
  },
  {
   "cell_type": "markdown",
   "metadata": {},
   "source": [
    "### Матрица искаженний (зашумленности датчиков)\n",
    "\n",
    "Мы будем полагать, что ошибки независимы по осям $x$ и $y$. В данном случае мы начнём с предположения, что ошибки измерения по осям $x$ и $y$ составляют 0,5 квадратных метра. Следовательно:\n",
    "\n",
    "$$\\mathbf R_x = \\begin{bmatrix}0.5&0\\\\0&0.5\\end{bmatrix}$$"
   ]
  },
  {
   "cell_type": "markdown",
   "metadata": {},
   "source": [
    "### Матрица шума положения мяча в мире\n",
    "\n",
    "Мы предполагаем, что мяч движется в вакууме, поэтому ничто не должно мешать его полету (в противном случае пришлось бы описывать ветер, например). У нас есть 4 переменные состояния, поэтому нам нужна ковариационная матрица размером $4{\\times}4$:\n",
    "\n",
    "$$\\mathbf R_y = \\begin{bmatrix}0&0&0&0\\\\0&0&0&0\\\\0&0&0&0\\\\0&0&0&0\\end{bmatrix}$$"
   ]
  },
  {
   "cell_type": "markdown",
   "metadata": {},
   "source": [
    "### Начальные условия\n",
    "\n",
    "Вспомним, что мы вычислили начальную скорость для $x$ и $y$ с использованием тригонометрии и задали значение $\\mathbf y$ следующим образом:\n",
    "\n",
    "```python\n",
    "omega = radians(omega)\n",
    "vx = cos(omega) * v0\n",
    "vy = sin(omega) * v0\n",
    "\n",
    "f1.x = np.array([[x, vx, y, vy]]).T\n",
    "```\n",
    "    \n",
    "После выполнения всех шагов мы готовы реализовать наш фильтр и протестировать его. Сначала реализация:"
   ]
  },
  {
   "cell_type": "code",
   "execution_count": 50,
   "metadata": {},
   "outputs": [],
   "source": [
    "#Matrices\n",
    "#F = A; H = B; B = C; R = R_x; Q = R_y\n",
    "def ball_kf(x, y, omega, v0, dt, r=0.5, q=0.):\n",
    "    kf = KalmanFilter(dim_x=4, dim_z=2, dim_u=1)\n",
    "\n",
    "    kf.F = np.array([[1., dt, 0., 0.],   # x   = x0 + dx*dt  \n",
    "                     [0., 1., 0., 0.],   # dx  = dx0\n",
    "                     [0., 0., 1., dt],   # y   = y0 + dy*dt\n",
    "                     [0., 0., 0., 1.]])  # dy  = dy0\n",
    "\n",
    "    kf.H = np.array([[1., 0., 0., 0.],\n",
    "                     [0., 0., 1., 0.]])\n",
    "    \n",
    "    kf.B = np.array([[0., 0., 0., dt]]).T\n",
    "    kf.R *= r\n",
    "    kf.Q *= q\n",
    "\n",
    "    omega = np.radians(omega)\n",
    "    vx = np.cos(omega) * v0\n",
    "    vy = np.sin(omega) * v0\n",
    "    kf.x = np.array([[x, vx, y, vy]]).T\n",
    "    return kf"
   ]
  },
  {
   "cell_type": "markdown",
   "metadata": {},
   "source": [
    "Теперь мы протестируем фильтр, сгенерировав измерения для мяча с помощью симуляции мяча."
   ]
  },
  {
   "cell_type": "code",
   "execution_count": null,
   "metadata": {},
   "outputs": [],
   "source": [
    "def track_ball_vacuum(dt):\n",
    "    global kf\n",
    "    x, y = 0., 1.\n",
    "    theta = 35.  # launch angle\n",
    "    v0 = 80.\n",
    "    g = np.array([[-9.8]])  # gravitational constant\n",
    "    ball = BallTrajectory2D(x0=x, y0=y, theta_deg=theta, velocity=v0, \n",
    "                            noise=[.2, .2])\n",
    "    kf = ball_kf(x, y, theta, v0, dt)\n",
    "\n",
    "    t = 0\n",
    "    xs, ys = [], []\n",
    "    _,ax = plt.subplots(figsize=(6,4))\n",
    "    ax.grid()\n",
    "    ax.set_xlabel(\"X, meters (distance)\")\n",
    "    ax.set_ylabel(\"Y, meters (height)\")\n",
    "    while kf.x[2] > 0:\n",
    "        t += dt\n",
    "        x, y = ball.step(dt)\n",
    "        z = np.array([[x, y]]).T\n",
    "\n",
    "        kf.update(z)\n",
    "        xs.append(kf.x[0])\n",
    "        ys.append(kf.x[2])    \n",
    "        kf.predict(u=g)     \n",
    "        p1 = plt.scatter(x, y, color='r', marker='.', s=75, alpha=0.5)\n",
    "    p2, = plt.plot(xs, ys, lw=2)\n",
    "    plt.legend([p2, p1], ['Kalman filter', 'Measurements'],\n",
    "               scatterpoints=1)\n",
    "    \n",
    "track_ball_vacuum(dt=1./10)"
   ]
  },
  {
   "cell_type": "markdown",
   "metadata": {},
   "source": [
    "Мы видим, что фильтр Калмана достаточно точно отслеживает мяч. Однако, как уже объяснялось, это тривиальный пример, поскольку у нас нет шума процесса. Мы можем предсказывать траектории в вакууме с произвольной точностью; использование фильтра Калмана в этом примере — ненужное усложнение. Метод наименьших квадратов дал бы идентичные результаты."
   ]
  },
  {
   "cell_type": "markdown",
   "metadata": {},
   "source": [
    "## Отслеживание мяча в воздухе"
   ]
  },
  {
   "cell_type": "markdown",
   "metadata": {},
   "source": [
    "До этого в описании мира у нас отсутствовали помехи для движения мяча. Давайте введем атмосферу Земли. На траекторию мяча теперь влияют ветер, сопротивление воздуха и вращение мяча. Мы будем считать, что наш датчик — это камера; код, который мы не будем реализовывать, выполнит обработку изображений для обнаружения положения мяча. Это обычно называется \"blob detection\" в компьютерном зрении. Однако код обработки изображений не совершенен; в любом кадре возможно либо не обнаружить мяч, либо обнаружить ложные положения мяча. Наконец, мы не будем предполагать, что знаем начальное положение, угол или вращение мяча. Основное упрощение, которое мы делаем здесь — это двумерный мир; мы предполагаем, что мяч всегда движется ортогонально плоскости датчика камеры. В нашем случае камера нам дает только двумерные данные."
   ]
  },
  {
   "cell_type": "markdown",
   "metadata": {},
   "source": [
    "### Сопротивление воздуха"
   ]
  },
  {
   "cell_type": "markdown",
   "metadata": {},
   "source": [
    "Существуют различные подходы к этой задаче. Надёжное решение учитывает такие факторы, как шероховатость поверхности мяча (которая влияет на сопротивление нелинейно в зависимости от скорости), эффект Магнуса (вращение вызывает более высокую скорость относительно воздуха на одной стороне мяча по сравнению с противоположной, поэтому коэффициент сопротивления отличается с разных сторон), эффект подъёмной силы, влажность, плотность воздуха и так далее. В данной задаче для простоты рассматривается влияние сопротивления воздуха на не вращающийся бейсбольный мяч. Описание взято из книги Николаса Джордано и Хисао Накаиниши Computational Physics [1997].\n",
    "\n",
    "По сути этот раздел нужен только для воспроизведение относительно точной симуляции полета мяча. В реальных приложениях обычно невозможно полностью смоделировать физику реальной системы, и мы ограничиваемся некоторой моделью, которая описывает основные характеристики системы. Самой сложной задачей в этом является настройка фильтра Калмана для точной работы с реальными данными. К сожалению, хорошая работа на тестовой выборке в данном случае не гарантирует высокую точность на практике.\n",
    "\n",
    "Описание физики движения мяча в воздухе.\n",
    "\n",
    "Мяч, движущийся в воздухе, сталкивается с сопротивлением ветра. Это создаёт силу, которая изменяет траекторию полёта мяча. В работе Джордано это обозначено как:\n",
    "\n",
    "$$F_{drag} = -B_2v^2$$\n",
    "\n",
    "где $B_2$ — это коэффициент, полученный экспериментально, а $v$ — это скорость объекта. $F_{drag}$ можно разложить на компоненты по $x$ и $y$ следующим образом:\n",
    "\n",
    "$$\\begin{aligned}\n",
    "F_{drag,x} &= -B_2v v_x\\\\\n",
    "F_{drag,y} &= -B_2v v_y\n",
    "\\end{aligned}$$\n",
    "\n",
    "Если $m$ — это масса мяча, мы можем использовать $F=ma$ для вычисления ускорения как:\n",
    "\n",
    "$$\\begin{aligned} \n",
    "a_x &= -\\frac{B_2}{m}v v_x\\\\\n",
    "a_y &= -\\frac{B_2}{m}v v_y\n",
    "\\end{aligned}$$\n",
    "\n",
    "Джордано предоставляет следующую функцию для $\\frac{B_2}{m}$, которая учитывает плотность воздуха, поперечное сечение бейсбольного мяча и его шероховатость. Это приближение, основанное на испытаниях в аэродинамической трубе и нескольких упрощающих допущениях. Оно выражено в СИ: скорость измеряется в метрах в секунду, время — в секундах.\n",
    "\n",
    "$$\\frac{B_2}{m} = 0.0039 + \\frac{0.0058}{1+\\exp{[(v-35)/5]}}$$\n",
    "\n",
    "Вспомним систему полученную методом Эйлера для траектории мяча в вакууме:\n",
    "\n",
    "$$\\begin{aligned}\n",
    "x &= v_x \\Delta t \\\\\n",
    "y &= v_y \\Delta t \\\\\n",
    "v_x &= v_x \\\\\n",
    "v_y &= v_y - 9.8 \\Delta t\n",
    "\\end{aligned}\n",
    "$$\n",
    "\n",
    "Мы можем включить эту силу (ускорение) в наши уравнения, добавив $accel * \\Delta t$ в уравнения обновления скорости. Следует вычесть эту компоненту, так как сопротивление будет уменьшать скорость. Код для этого довольно прост; нам просто нужно разбить силу на компоненты $x$ и $y$.\n",
    "\n",
    "Ниже приведён код, который вычисляет поведение бейсбольного мяча в воздухе, на уровне моря, при наличии ветра. Начальная скорость 160 км/ч"
   ]
  },
  {
   "cell_type": "code",
   "execution_count": null,
   "metadata": {},
   "outputs": [],
   "source": [
    "def drag_force(velocity):\n",
    "    \"\"\" Returns the force on a baseball due to air drag at\n",
    "    the specified velocity. Units are SI\"\"\"\n",
    "\n",
    "    return velocity * (0.0039 + 0.0058 / \n",
    "            (1. + np.exp((velocity-35.)/5.)))\n",
    "\n",
    "v = 120.\n",
    "x, y = 0., 1.\n",
    "dt = .1\n",
    "theta = np.radians(35)\n",
    "\n",
    "def solve(x, y, vel, v_wind, launch_angle):\n",
    "    xs = []\n",
    "    ys = []\n",
    "    v_x = vel*np.cos(launch_angle)\n",
    "    v_y = vel*np.sin(launch_angle)\n",
    "    while y >= 0:\n",
    "        # Euler equations for x and y\n",
    "        x += v_x*dt\n",
    "        y += v_y*dt\n",
    "\n",
    "        # force due to air drag    \n",
    "        velocity = np.sqrt((v_x-v_wind)**2 + v_y**2)    \n",
    "        F = drag_force(velocity)\n",
    "\n",
    "        # euler's equations for vx and vy\n",
    "        v_x = v_x - F*(v_x-v_wind)*dt\n",
    "        v_y = v_y - 9.8*dt - F*v_y*dt\n",
    "        \n",
    "        xs.append(x)\n",
    "        ys.append(y)\n",
    "    \n",
    "    return xs, ys\n",
    "        \n",
    "_, ax = plt.subplots(figsize=(6,4))\n",
    "ax.grid()\n",
    "x, y = solve(x=0, y=1, vel=v, v_wind=0, launch_angle=theta)\n",
    "ax.scatter(x, y, color='blue', label='no wind')\n",
    "\n",
    "wind = 5\n",
    "x, y = solve(x=0, y=1, vel=v, v_wind=wind, launch_angle=theta)\n",
    "ax.scatter(x, y, color='green', marker=\"v\", \n",
    "                 label='5kmh wind')\n",
    "ax.legend(scatterpoints=1)"
   ]
  },
  {
   "cell_type": "markdown",
   "metadata": {},
   "source": [
    "Далее задача усложнится через нелинейное поведение сопротивления воздуха. В таком случае у задачи не будет аналитического решения и придется траекторию вычислять пошагово. При помощи методов Эйлера и Рунге-Кутта можно усложнить симуляцию."
   ]
  },
  {
   "cell_type": "code",
   "execution_count": 55,
   "metadata": {},
   "outputs": [],
   "source": [
    "class BaseballPath:\n",
    "    def __init__(self, x0, y0, launch_angle_deg, velocity_ms, \n",
    "                 noise=(1.0, 1.0)): \n",
    "        \"\"\" Create 2D baseball path object  \n",
    "           (x = distance from start point in ground plane, \n",
    "            y=height above ground)\n",
    "        \n",
    "        x0,y0            initial position\n",
    "        launch_angle_deg angle ball is travelling respective to \n",
    "                         ground plane\n",
    "        velocity_ms      speeed of ball in meters/second\n",
    "        noise            amount of noise to add to each position\n",
    "                         in (x, y)\n",
    "        \"\"\"\n",
    "        \n",
    "        omega = np.radians(launch_angle_deg)\n",
    "        self.v_x = velocity_ms * np.cos(omega)\n",
    "        self.v_y = velocity_ms * np.sin(omega)\n",
    "\n",
    "        self.x = x0\n",
    "        self.y = y0\n",
    "        self.noise = noise\n",
    "\n",
    "\n",
    "    def drag_force(self, velocity):\n",
    "        \"\"\" Returns the force on a baseball due to air drag at\n",
    "        the specified velocity. Units are SI\n",
    "        \"\"\"\n",
    "        B_m = 0.0039 + 0.0058 / (1. + np.exp((velocity-35.)/5.))\n",
    "        return B_m * velocity\n",
    "\n",
    "\n",
    "    def update(self, dt, vel_wind=0.):\n",
    "        \"\"\" compute the ball position based on the specified time \n",
    "        step and wind velocity. Returns (x, y) position tuple.\n",
    "        \"\"\"\n",
    "\n",
    "        # Euler equations for x and y\n",
    "        self.x += self.v_x*dt\n",
    "        self.y += self.v_y*dt\n",
    "\n",
    "        # force due to air drag\n",
    "        v_x_wind = self.v_x - vel_wind\n",
    "        v = np.sqrt(v_x_wind**2 + self.v_y**2)\n",
    "        F = self.drag_force(v)\n",
    "\n",
    "        # Euler's equations for velocity\n",
    "        self.v_x = self.v_x - F*v_x_wind*dt\n",
    "        self.v_y = self.v_y - 9.81*dt - F*self.v_y*dt\n",
    "\n",
    "        return (self.x + np.random.standard_normal()*self.noise[0], \n",
    "                self.y + np.random.standard_normal()*self.noise[1])"
   ]
  },
  {
   "cell_type": "markdown",
   "metadata": {},
   "source": [
    "Теперь мы можем протестировать фильтр Калмана на данных, созданных этой моделью."
   ]
  },
  {
   "cell_type": "code",
   "execution_count": null,
   "metadata": {},
   "outputs": [],
   "source": [
    "x, y = 0, 1.\n",
    "\n",
    "theta = 35. # launch angle\n",
    "v0 = 50.\n",
    "dt = 1/10.   # time step\n",
    "g = np.array([[-9.8]])\n",
    "\n",
    "plt.figure()\n",
    "ball = BaseballPath(x0=x, y0=y, launch_angle_deg=theta,\n",
    "                    velocity_ms=v0, noise=[.3,.3])\n",
    "f1 = ball_kf(x, y, theta, v0, dt, r=1.)\n",
    "f2 = ball_kf(x, y, theta, v0, dt, r=10.)\n",
    "t = 0\n",
    "xs, ys = [], []\n",
    "xs2, ys2 = [], []\n",
    "\n",
    "while f1.x[2] > 0:\n",
    "    t += dt\n",
    "    x, y = ball.update(dt)\n",
    "    z = np.array([[x, y]]).T\n",
    "\n",
    "    f1.update(z)\n",
    "    f2.update(z)\n",
    "    xs.append(f1.x[0])\n",
    "    ys.append(f1.x[2])\n",
    "    xs2.append(f2.x[0])\n",
    "    ys2.append(f2.x[2])    \n",
    "    f1.predict(u=g) \n",
    "    f2.predict(u=g)\n",
    "    \n",
    "    p1 = plt.scatter(x, y, color='r', marker='.', s=75, alpha=0.5)\n",
    "plt.grid()\n",
    "p2, = plt.plot(xs, ys, lw=2)\n",
    "p3, = plt.plot(xs2, ys2, lw=4)\n",
    "plt.legend([p1, p2, p3], \n",
    "           ['Measurements', 'Filter(R=0.5)', 'Filter(R=10)'],\n",
    "           loc='best', scatterpoints=1)"
   ]
  },
  {
   "cell_type": "markdown",
   "metadata": {},
   "source": [
    "Для двух различных настроек фильтра Калмана получили графики. Измерения изображены красными кружочками, фильтр Калмана с $R=0.5$ — синяя линия, а фильтр Калмана с $R=10$ — оранжевая. Эти значения $R$ выбраны лишь для демонстрации влияния погрешностей датчиков на результат, они не предполагают правильной настройки фильтра.\n",
    "\n",
    "Фильтры справляются плохо. Сначала оба фильтра хорошо отслеживают траекторию, но с течением времени оба расходятся. Это происходит потому, что модель состояния для сопротивления воздуха нелинейна, а фильтр Калмана предполагает линейность. В нашем случае линейность ускорения, которое очевидно нелинейно меняется со временем, поэтому фильтр Калмана ближе к концу траектории овершутит.\n",
    "\n",
    "Лучший способ исправить результат — это выполнить фильтрацию с использованием нелинейного фильтра Калмана. Однако, trust I am an enginner метод иногда тоже метод. Наш фильтр Калмана предполагает, что мяч находится в вакууме, и, следовательно, отсутствует шум процесса. Однако, так как мяч находится в воздухе, атмосфера оказывает на него воздействие. Мы можем рассматривать эту силу как шум процесса. Это не совсем строгое допущение; во-первых, эта сила далеко не гауссовская. Во-вторых, мы можем вычислить эту силу, поэтому просто утверждать, что «она случайная», не приведёт к оптимальному решению. Но давайте посмотрим, что произойдёт, если мы пойдём по этому пути.\n",
    "\n",
    "Следующий код реализует тот же фильтр Калмана, что и раньше, но с ненулевым шумом процесса. Я строю два примера: один с Ry=0.1 и другой с Ry=0.01."
   ]
  },
  {
   "cell_type": "code",
   "execution_count": null,
   "metadata": {},
   "outputs": [],
   "source": [
    "def plot_ball_with_q(q, r=1., noise=0.3):\n",
    "    x, y = 0., 1.\n",
    "    theta = 35. # launch angle\n",
    "    v0 = 50.\n",
    "    dt = 1/10.   # time step\n",
    "    g = np.array([[-9.8]])\n",
    "\n",
    "    ball = BaseballPath(x0=x, \n",
    "                        y0=y, \n",
    "                        launch_angle_deg=theta, \n",
    "                        velocity_ms=v0, \n",
    "                        noise=[noise,noise])\n",
    "    f1 = ball_kf(x, y, theta, v0, dt, r=r, q=q)\n",
    "    t = 0\n",
    "    xs, ys = [], []\n",
    "\n",
    "    while f1.x[2] > 0:\n",
    "        t += dt\n",
    "        x, y = ball.update(dt)\n",
    "        z = np.array([[x, y]]).T\n",
    "\n",
    "        f1.update(z)\n",
    "        xs.append(f1.x[0])\n",
    "        ys.append(f1.x[2]) \n",
    "        f1.predict(u=g) \n",
    "\n",
    "        p1 = plt.scatter(x, y, c='r', marker='.', s=75, alpha=0.5)\n",
    "\n",
    "    p2, = plt.plot(xs, ys, lw=2, color='b')\n",
    "    plt.legend([p1, p2], ['Measurements', 'Kalman filter'])\n",
    "    plt.show()\n",
    "\n",
    "plot_ball_with_q(0.01)\n",
    "plot_ball_with_q(0.1)"
   ]
  },
  {
   "cell_type": "markdown",
   "metadata": {},
   "source": [
    "Второй фильтр довольно хорошо отслеживает измерения. Кажется, что есть небольшое запаздывание, но совсем незначительное.\n",
    "\n",
    "Хороша ли эта техника? Обычно нет, но всё зависит от ситуации. Здесь нелинейность силы, действующей на мяч, довольно постоянна и регулярна. Все зависит от соотношения полезного сигнала и шума. Если в данных больше шума, то такой фильтр будет скорее всего его и отслеживать."
   ]
  },
  {
   "cell_type": "code",
   "execution_count": null,
   "metadata": {},
   "outputs": [],
   "source": [
    "plot_ball_with_q(0.01, r=3, noise=3.)\n",
    "plot_ball_with_q(0.1, r=3, noise=3.)"
   ]
  },
  {
   "cell_type": "code",
   "execution_count": null,
   "metadata": {},
   "outputs": [],
   "source": []
  }
 ],
 "metadata": {
  "anaconda-cloud": {},
  "kernelspec": {
   "display_name": "venv",
   "language": "python",
   "name": "python3"
  },
  "language_info": {
   "codemirror_mode": {
    "name": "ipython",
    "version": 3
   },
   "file_extension": ".py",
   "mimetype": "text/x-python",
   "name": "python",
   "nbconvert_exporter": "python",
   "pygments_lexer": "ipython3",
   "version": "3.10.11"
  },
  "polyglot_notebook": {
   "kernelInfo": {
    "defaultKernelName": "csharp",
    "items": [
     {
      "aliases": [],
      "name": "csharp"
     }
    ]
   }
  },
  "widgets": {
   "state": {},
   "version": "1.1.2"
  }
 },
 "nbformat": 4,
 "nbformat_minor": 2
}
