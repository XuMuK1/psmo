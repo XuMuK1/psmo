{
 "cells": [
  {
   "cell_type": "markdown",
   "id": "9f8fbd9d",
   "metadata": {},
   "source": [
    "# ДЗ 1, часть 1. Метод максимального правдоподобия"
   ]
  },
  {
   "cell_type": "markdown",
   "id": "db0ae8a5",
   "metadata": {},
   "source": [
    "## Задача 1. Вывод ЕМ-алгоритма для смеси нормальных распределений"
   ]
  },
  {
   "cell_type": "markdown",
   "id": "c7486f14",
   "metadata": {},
   "source": [
    "### Модель"
   ]
  },
  {
   "cell_type": "markdown",
   "id": "8b46e811",
   "metadata": {},
   "source": [
    "$Z_i \\overset{iid}{\\sim} Bern(q)$\n",
    "\n",
    "$X_i | Z_i \\overset{iid}{\\sim} \\mathcal{N}(\\mu_{z_i}, \\sigma^2_{z_i})$"
   ]
  },
  {
   "cell_type": "markdown",
   "id": "0488672e",
   "metadata": {},
   "source": [
    "### Параметры"
   ]
  },
  {
   "cell_type": "markdown",
   "id": "50746b44",
   "metadata": {},
   "source": [
    "*Определите, какие параметры модели вы будете оценивать.*"
   ]
  },
  {
   "cell_type": "markdown",
   "id": "120f20c3",
   "metadata": {},
   "source": [
    "### Выборка"
   ]
  },
  {
   "cell_type": "markdown",
   "id": "deb040df",
   "metadata": {},
   "source": [
    "$\\{ \\hat{X}_i \\}_{i=1}^n$"
   ]
  },
  {
   "cell_type": "markdown",
   "id": "0351bca1",
   "metadata": {},
   "source": [
    "### Правдоподобие"
   ]
  },
  {
   "cell_type": "markdown",
   "id": "fc29c72b",
   "metadata": {},
   "source": [
    "*Запишите функцию правдоподобия и ее логарифм.*"
   ]
  },
  {
   "cell_type": "markdown",
   "id": "560f83e4",
   "metadata": {},
   "source": [
    "### Инициализация алгоритма"
   ]
  },
  {
   "cell_type": "markdown",
   "id": "10e08fa0",
   "metadata": {},
   "source": [
    "*Зафиксируйте, какие параметры требуют инициализации*"
   ]
  },
  {
   "cell_type": "markdown",
   "id": "78d7fb06",
   "metadata": {},
   "source": [
    "### E-шаг"
   ]
  },
  {
   "cell_type": "markdown",
   "id": "66e4cbe3",
   "metadata": {},
   "source": [
    "*Запишите с помощью неравенства Йенсена нижнюю оценку на правдоподобие*"
   ]
  },
  {
   "cell_type": "markdown",
   "id": "2999b436",
   "metadata": {},
   "source": [
    "### М-шаг"
   ]
  },
  {
   "cell_type": "markdown",
   "id": "5ed7b203",
   "metadata": {},
   "source": [
    "*Максимизируйте нижнюю оценку на правдоподобие по параметрам модели*"
   ]
  },
  {
   "cell_type": "markdown",
   "id": "7c362f8e",
   "metadata": {},
   "source": [
    "### Интуиция EM-алгоритма"
   ]
  },
  {
   "cell_type": "markdown",
   "id": "2d77129c",
   "metadata": {},
   "source": [
    "Полезно держать в голове эту картинку, чтобы не напутать с временными индексами $\\theta_t$ в E-шаге и М-шаге"
   ]
  },
  {
   "cell_type": "code",
   "execution_count": 1,
   "id": "ac5c4980",
   "metadata": {},
   "outputs": [
    {
     "data": {
      "text/html": [
       "<img src=\"https://people.duke.edu/~ccc14/sta-663/_images/EMAlgorithm_19_0.png\" width=\"700\" height=\"500\"/>"
      ],
      "text/plain": [
       "<IPython.core.display.Image object>"
      ]
     },
     "execution_count": 1,
     "metadata": {},
     "output_type": "execute_result"
    }
   ],
   "source": [
    "from IPython.display import Image\n",
    "from IPython.core.display import HTML\n",
    "Image(url= \"https://people.duke.edu/~ccc14/sta-663/_images/EMAlgorithm_19_0.png\", width=700, height=500)"
   ]
  },
  {
   "cell_type": "markdown",
   "id": "cf091f3a",
   "metadata": {},
   "source": [
    "## Задача 2. Имплементация ЕМ-алгоритма (Катапульты)"
   ]
  },
  {
   "cell_type": "code",
   "execution_count": null,
   "id": "83ac3ab4",
   "metadata": {},
   "outputs": [],
   "source": [
    "import numpy as np\n",
    "import matplotlib.pyplot as plt\n",
    "%matplotlib inline"
   ]
  },
  {
   "cell_type": "markdown",
   "id": "35fb2a1e",
   "metadata": {},
   "source": [
    "Гай Гисборн тестирует несколько новейших катапульт, купленных на деньги шерифа Ноттингемского. Робин Гуд со своей командой несколько раз пытался попасть на полигон, но безуспешно -- охрана слишком сильная. Он хотел бы узнать больше о катапультах в распоряжении шерифа, поэтому команда наблюдала за полигоном и записывала, где падали снаряды в течениии длительного времени. Известно, что каждая катапульта тестировалась на своей мишени, которая не изменялась со временем. Показания записаны в файле catapults.pkl (pickle).\n",
    "\n",
    "Для решения задачи предлагается использовать EM-алгоритм и гауссовские смеси.\n",
    "\n",
    "* (1) Опишите ваш алгоритм и выпишите формулы для E-шага и M-шага (достаточно только ответа с пояснением обозначений). Реализуйте EM-алгоритм для оценки смеси гауссиан на плоскости (для удобства приводим шаблон кода с классом GaussianMixtureModel, см. ниже) и протестируйте его на заданной вами (с помощью того же класса) смеси гауссиан, убедитесь, что всё работает корректно. Нарисуйте график изменения критерия ЕМ-алгоритма(функция Q) в зависимости от номера шага, чтобы показать, что алгоритм сошёлся.\n",
    "* (2) Проанализируйте данные из  data1.csv, нарисуйте стартовое распределение точек. Попробуйте, позапускав EM-алгоритм с разными параметрами, понять: (а) сколько всего катапульт у Шерифа  (б) насколько точно они стреляют (в иллюстрации могут помочь нарисованные с помощью matplotlib изолинии для плотности смеси ). "
   ]
  },
  {
   "cell_type": "markdown",
   "id": "087be11d",
   "metadata": {},
   "source": [
    "### Реализация EM-алгоритма\n",
    "\n",
    "Начнём с пункта 1: нам нужно реализовать рабочий EM-алгоритм для гауссовской смеси."
   ]
  },
  {
   "cell_type": "markdown",
   "id": "f8353d77",
   "metadata": {},
   "source": [
    "*Инициализация*"
   ]
  },
  {
   "cell_type": "markdown",
   "id": "aa802095",
   "metadata": {},
   "source": [
    "*Е-шаг*"
   ]
  },
  {
   "cell_type": "markdown",
   "id": "c631ed2d",
   "metadata": {},
   "source": [
    "*М-шаг*"
   ]
  },
  {
   "cell_type": "markdown",
   "id": "b5d6413d",
   "metadata": {},
   "source": [
    "Теперь займёмся кодом. Для начала реализуем базовую модель гауссовской смеси (задание параметров и семплирование),  а затем реализуем EM."
   ]
  },
  {
   "cell_type": "code",
   "execution_count": 2,
   "id": "ea500908",
   "metadata": {},
   "outputs": [],
   "source": [
    "class GaussianMixtureModel:\n",
    "    '''\n",
    "    Implements Gaussian Mixture Model in R^d\n",
    "    '''\n",
    "\n",
    "    def __init__(self,K=1,mus=[0],sigmas=[1], pis=[1]):\n",
    "        '''\n",
    "        Input\n",
    "        int K -- number of components\n",
    "        list(float[] np.array(d)) mus -- K entries of (d,), expected values\n",
    "        list(float[][]) sigmas -- K entries of (d,d,), covariances\n",
    "        list(float) pis -- K floats, weights, positive and sump up to 1\n",
    "        '''\n",
    "        self.K=K\n",
    "        self.mus = mus\n",
    "        self.sigmas = sigmas\n",
    "        self.pis = pis\n",
    "\n",
    "\n",
    "    def sample(self, N=10):\n",
    "        '''\n",
    "        Samples N samples from the model\n",
    "        Input\n",
    "        int N -- number of samples\n",
    "        Output\n",
    "        float[][] -- (N,d), N d-dimensional samples\n",
    "        int[] -- (N,), cluster assignments\n",
    "        '''\n",
    "        pass\n",
    "        #YOUR CODE\n",
    "\n",
    "    def fitEM(self, data, nSteps):\n",
    "        '''\n",
    "        Fits mus and sigmas using EM-algorithm\n",
    "        Input\n",
    "        float[][] data -- (batch, d), given data\n",
    "        int nSteps --  number of steps for EM\n",
    "        '''\n",
    "        pass"
   ]
  },
  {
   "cell_type": "markdown",
   "id": "461717b6",
   "metadata": {},
   "source": [
    "Задайте произвольную модель и посмотрите, как она выдаёт семплы."
   ]
  },
  {
   "cell_type": "code",
   "execution_count": null,
   "id": "0d7efa43",
   "metadata": {},
   "outputs": [],
   "source": [
    "#считаем простой пример\n",
    "mus = [np.array([0,0]),np.array([5,5])]\n",
    "sigmas = [np.array([[1,0],[0,1]]), np.array([[2,0.2],[0.2,2]])]\n",
    "pis = [0.7,0.3]\n",
    "\n",
    "gmmModel = GaussianMixtureModel(2, mus=mus,\\\n",
    "                                   sigmas=sigmas,\\\n",
    "                                   pis = pis)\n",
    "\n",
    "#семплируем 100 точек\n",
    "samples, clusterAssignments = gmmModel.sample(100)"
   ]
  },
  {
   "cell_type": "code",
   "execution_count": null,
   "id": "9bb18288",
   "metadata": {},
   "outputs": [],
   "source": [
    "#Рисуем!!\n",
    "\n",
    "f,ax = plt.subplots(figsize=(7,7))\n",
    "\n",
    "ax.grid()\n",
    "ax.set_title(\"Mixture Plot\")\n",
    "#ax.scatter(...)"
   ]
  },
  {
   "cell_type": "markdown",
   "id": "02a79a6a",
   "metadata": {},
   "source": [
    "Теперь реализуйте EM-алгоритм и попробуйте по семплированным ранее данным оценить параметры. В нашем случае пара шагов EM уже приводит к хорошему результату."
   ]
  },
  {
   "cell_type": "code",
   "execution_count": null,
   "id": "b3d1e78a",
   "metadata": {},
   "outputs": [],
   "source": [
    "gmmModel2 = GaussianMixtureModel(2, mus = [np.zeros(2), np.ones(2)*3], sigmas = [np.eye(2), np.eye(2)*0.5], pis = [0.5,0.5] ) #инициализация с потолочными параметрами\n",
    "#ВАЖНО: ПАРАМЕТРЫ ДОЛЖНЫ БЫТЬ РАЗНЫМИ ДЛЯ РАЗНЫХ КОМПОНЕНТ СМЕСИ!!\n",
    "\n",
    "gmmModel2.fitEM(samples,10)\n",
    "\n",
    "#нарисуйте график изменения критерия Q\n",
    "\n",
    "#напечатайте в консоль значения параметров после fitEM\n",
    "\n",
    "#насемплируйте 100 точек"
   ]
  },
  {
   "cell_type": "code",
   "execution_count": null,
   "id": "7bee1bce",
   "metadata": {},
   "outputs": [],
   "source": [
    "#напечатайте семплы подогнанной модели!"
   ]
  },
  {
   "cell_type": "markdown",
   "id": "4a5bb181",
   "metadata": {},
   "source": [
    "### Подогнать EM по данным\n",
    "\n",
    "Теперь откройте датасет Робина Гуда с помощью numpy, напечатайте точки на плоскости, как мы делали раньше, и примените EM-алгоритм, чтобы затем аргументированно ответить на поставленные вопросы с помощью графиков."
   ]
  },
  {
   "cell_type": "code",
   "execution_count": null,
   "id": "3cfd1bbf",
   "metadata": {},
   "outputs": [],
   "source": [
    "#поехали!"
   ]
  }
 ],
 "metadata": {
  "kernelspec": {
   "display_name": "Python 3 (ipykernel)",
   "language": "python",
   "name": "python3"
  },
  "language_info": {
   "codemirror_mode": {
    "name": "ipython",
    "version": 3
   },
   "file_extension": ".py",
   "mimetype": "text/x-python",
   "name": "python",
   "nbconvert_exporter": "python",
   "pygments_lexer": "ipython3",
   "version": "3.11.4"
  }
 },
 "nbformat": 4,
 "nbformat_minor": 5
}
