{
 "cells": [
  {
   "cell_type": "markdown",
   "metadata": {
    "id": "O5S26tIHX2O6"
   },
   "source": [
    "# ДЗ 1, часть 2. Теория кодирования"
   ]
  },
  {
   "cell_type": "markdown",
   "metadata": {
    "id": "a5wwIW7pn_u2"
   },
   "source": [
    "## Задача 1"
   ]
  },
  {
   "cell_type": "markdown",
   "metadata": {
    "id": "gd4TDy9yoBXy"
   },
   "source": [
    "Доказать, что распределение $Exp(\\lambda)$ обладает максимальной энтропией в классе непрерывных распределений с матожиданием $\\lambda^{-1}$ и неотрицательным носителем.\n",
    "\n",
    "*Подсказка: похожая задача решалась в семинаре для непрерывного распрделения на дискретном множестве и для нормального распределения.*"
   ]
  },
  {
   "cell_type": "markdown",
   "metadata": {
    "id": "RprY4lEdoScy"
   },
   "source": [
    "## Задача 2"
   ]
  },
  {
   "cell_type": "markdown",
   "metadata": {
    "id": "cmQ_zdISouKB"
   },
   "source": [
    "Доказать связь между геометрическим и бернулиевским распределениями: $H_2(Geom) = \\frac1p H_2(Bern)$"
   ]
  },
  {
   "cell_type": "markdown",
   "metadata": {
    "id": "ut9FLWLgosrG"
   },
   "source": [
    "## Задача 3"
   ]
  },
  {
   "cell_type": "markdown",
   "metadata": {
    "id": "MJEWqr3SA6yt"
   },
   "source": [
    "Найти энтропию многомерного нормального распределения.\n",
    "\n",
    "*Подсказка: энтропию одномерного нормального считали на семинаре.*"
   ]
  }
 ],
 "metadata": {
  "colab": {
   "authorship_tag": "ABX9TyPuJyGtz2xStkh0f1+n+5/m",
   "provenance": []
  },
  "kernelspec": {
   "display_name": "Python 3 (ipykernel)",
   "language": "python",
   "name": "python3"
  },
  "language_info": {
   "codemirror_mode": {
    "name": "ipython",
    "version": 3
   },
   "file_extension": ".py",
   "mimetype": "text/x-python",
   "name": "python",
   "nbconvert_exporter": "python",
   "pygments_lexer": "ipython3",
   "version": "3.10.9"
  }
 },
 "nbformat": 4,
 "nbformat_minor": 1
}
