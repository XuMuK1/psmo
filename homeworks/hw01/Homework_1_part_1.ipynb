{
 "cells": [
  {
   "cell_type": "markdown",
   "metadata": {
    "id": "xpO92YkQ-9SB"
   },
   "source": [
    "# ДЗ 1, часть 1. Метод максимального правдоподобия"
   ]
  },
  {
   "cell_type": "markdown",
   "metadata": {
    "id": "ZGDzE6YO9zYe"
   },
   "source": [
    "## Задача 1. Линейная Регрессия"
   ]
  },
  {
   "cell_type": "markdown",
   "metadata": {
    "id": "prF-DzQZ93tB"
   },
   "source": [
    "### Модель"
   ]
  },
  {
   "cell_type": "markdown",
   "metadata": {
    "id": "Q-Kavf9T98vG"
   },
   "source": [
    "$Y_i = X_i^T \\alpha + \\epsilon_i$\n",
    "\n",
    "$\\epsilon_i \\overset{iid}{\\sim} \\mathcal{N}(0, \\sigma^2)$\n",
    "\n",
    "$X_i \\in \\mathbb{R}^n, Y_i \\in \\mathbb{R}$ - наблюдаемые случайные величины\n",
    "\n",
    "$\\epsilon_i \\in \\mathbb{R}$ - ненаблюдаемые случайные величины\n",
    "\n",
    "$\\alpha \\in \\mathbb{R}^n$ - параметры модели\n",
    "\n"
   ]
  },
  {
   "cell_type": "markdown",
   "metadata": {
    "id": "4OcsE1cS-ByX"
   },
   "source": [
    "### Параметры"
   ]
  },
  {
   "cell_type": "markdown",
   "metadata": {
    "id": "uNz9mTmY-Eo5"
   },
   "source": [
    "*Определите, какие параметры модели вы будете оценивать.*"
   ]
  },
  {
   "cell_type": "markdown",
   "metadata": {
    "id": "Q9RSC9hb-ezH"
   },
   "source": [
    "### Выборка"
   ]
  },
  {
   "cell_type": "markdown",
   "metadata": {
    "id": "EUtFQD1C-gES"
   },
   "source": [
    "$\\{(\\hat{X}_i, \\hat{Y}_i) \\}_{i=1}^n$, где $\\hat{X}_i$ - реализация случайного вектора $X_i$, $\\hat{Y}_i$ - реализация случайной величины $Y_i$"
   ]
  },
  {
   "cell_type": "markdown",
   "metadata": {
    "id": "7fKqN4ZQ-nVb"
   },
   "source": [
    "### Правдоподобие"
   ]
  },
  {
   "cell_type": "markdown",
   "metadata": {
    "id": "PBthIk_k-pjn"
   },
   "source": [
    "*Запишите функцию правдоподобия и ее логарифм.*"
   ]
  },
  {
   "cell_type": "markdown",
   "metadata": {
    "id": "x1i770Ps-vOj"
   },
   "source": [
    "### ММП-оценки"
   ]
  },
  {
   "cell_type": "markdown",
   "metadata": {
    "id": "HKvSlaCD-yih"
   },
   "source": [
    "*Найдите выражение для ММП-оценок параметров.*"
   ]
  },
  {
   "cell_type": "markdown",
   "metadata": {
    "id": "g4hbID4f_ZW7"
   },
   "source": [
    "## Задача 2. Свойства ММП оценок для модели нормального распределения"
   ]
  },
  {
   "cell_type": "markdown",
   "metadata": {
    "id": "jU9QZbW0_gJi"
   },
   "source": [
    "### Модель"
   ]
  },
  {
   "cell_type": "markdown",
   "metadata": {
    "id": "u7k7E-A9_t-Z"
   },
   "source": [
    "$X_i \\overset{iid}{\\sim} \\mathcal{N}(\\mu, \\sigma^2)$, $\\mu$ известно"
   ]
  },
  {
   "cell_type": "markdown",
   "metadata": {
    "id": "5LKz1yX0_y8f"
   },
   "source": [
    "### Правдоподобие"
   ]
  },
  {
   "cell_type": "markdown",
   "metadata": {
    "id": "FL5DLC6p_1WE"
   },
   "source": [
    "*Запишите функцию правдоподобия и ее логарифм.*"
   ]
  },
  {
   "cell_type": "markdown",
   "metadata": {
    "id": "64qHNr_E_u9_"
   },
   "source": [
    "### ММП-оценка дисперсии"
   ]
  },
  {
   "cell_type": "markdown",
   "metadata": {
    "id": "MgVx_nin_88x"
   },
   "source": [
    "*Найдите выражение для ММП-оценки дисперсии.*"
   ]
  },
  {
   "cell_type": "markdown",
   "metadata": {
    "id": "B5OignmY__o_"
   },
   "source": [
    "### Асимптотическая несмещенность"
   ]
  },
  {
   "cell_type": "markdown",
   "metadata": {
    "id": "W2cjnQuuAEFx"
   },
   "source": [
    "*Проверьте свойство асимптотической несмещенности для ММП-оценки дисперсии.*"
   ]
  },
  {
   "cell_type": "markdown",
   "metadata": {
    "id": "4VeLGnhIAIko"
   },
   "source": [
    "### Состоятельность"
   ]
  },
  {
   "cell_type": "markdown",
   "metadata": {
    "id": "1niEAPWSALEc"
   },
   "source": [
    "*Проверьте свойство состоятельности для ММП-оценки дисперсии.*"
   ]
  },
  {
   "cell_type": "markdown",
   "metadata": {
    "id": "rI9rM4bwASSm"
   },
   "source": [
    "### Асимптотическая нормальность"
   ]
  },
  {
   "cell_type": "markdown",
   "metadata": {
    "id": "YWMUPDGvATOe"
   },
   "source": [
    "*Проверьте свойство асимптотической нормальности для ММП-оценки дисперсии.*"
   ]
  },
  {
   "cell_type": "markdown",
   "metadata": {
    "id": "ZDNXyjtgAdnv"
   },
   "source": [
    "## Задача 3. Свойства ММП оценок для модели равномерного распределения"
   ]
  },
  {
   "cell_type": "markdown",
   "metadata": {
    "id": "9aMyr0QdAdnw"
   },
   "source": [
    "### Модель"
   ]
  },
  {
   "cell_type": "markdown",
   "metadata": {
    "id": "Jd6AICLiAdnx"
   },
   "source": [
    "$X_i \\overset{iid}{\\sim} U[0,a]$"
   ]
  },
  {
   "cell_type": "markdown",
   "metadata": {
    "id": "SyBL7sjIAdnx"
   },
   "source": [
    "### Правдоподобие"
   ]
  },
  {
   "cell_type": "markdown",
   "metadata": {
    "id": "vwW6yH7wAdnx"
   },
   "source": [
    "*Запишите функцию правдоподобия и ее логарифм.*"
   ]
  },
  {
   "cell_type": "markdown",
   "metadata": {
    "id": "cmnHmosjAdny"
   },
   "source": [
    "### ММП-оценка параметра $a$"
   ]
  },
  {
   "cell_type": "markdown",
   "metadata": {
    "id": "sOkupW5BAdny"
   },
   "source": [
    "*Найдите выражение для ММП-оценки параметра $a$*."
   ]
  },
  {
   "cell_type": "markdown",
   "metadata": {
    "id": "wZwiZCtQAdny"
   },
   "source": [
    "### Асимптотическая несмещенность"
   ]
  },
  {
   "cell_type": "markdown",
   "metadata": {
    "id": "_BQLjwQBAdny"
   },
   "source": [
    "*Проверьте свойство асимптотической несмещенности для ММП-оценки параметра $a$*.\n",
    "\n"
   ]
  },
  {
   "cell_type": "markdown",
   "metadata": {
    "id": "27dqs5BqAdny"
   },
   "source": [
    "### Состоятельность"
   ]
  },
  {
   "cell_type": "markdown",
   "metadata": {
    "id": "wKYFVplBAdnz"
   },
   "source": [
    "*Проверьте свойство состоятельности для ММП-оценки параметра $a$*."
   ]
  },
  {
   "cell_type": "markdown",
   "metadata": {
    "id": "GJKmHMMrAdn0"
   },
   "source": [
    "### Асимптотическая нормальность"
   ]
  },
  {
   "cell_type": "markdown",
   "metadata": {
    "id": "TPBnkZAqAdn0"
   },
   "source": [
    "*Проверьте свойство асимптотической нормальности для ММП-оценки параметра $a$*."
   ]
  },
  {
   "cell_type": "markdown",
   "metadata": {
    "id": "75QeT2ShA1KU"
   },
   "source": [
    "## Задача 4. ММП-параметры экспоненциального семейства"
   ]
  },
  {
   "cell_type": "markdown",
   "metadata": {
    "id": "DJRZMZAZA8bx"
   },
   "source": [
    "### Модель"
   ]
  },
  {
   "cell_type": "markdown",
   "metadata": {
    "id": "sk786PqOBCKN"
   },
   "source": [
    "$ X_i \\overset{iid}{\\sim} p_{\\eta}(x) = h(x) \\exp [\\eta^T T(x) - A(\\eta)]$\n"
   ]
  },
  {
   "cell_type": "markdown",
   "metadata": {
    "id": "Bcv8LhdcBtWz"
   },
   "source": [
    "### Выборка"
   ]
  },
  {
   "cell_type": "markdown",
   "metadata": {
    "id": "26dX9P6oBvU5"
   },
   "source": [
    "$\\{\\hat{X}_i\\}_{i=1}^n$, где $\\hat{X}_i$ - реализация случайной величины $X_i$"
   ]
  },
  {
   "cell_type": "markdown",
   "metadata": {
    "id": "5Dvt5OvbBQAy"
   },
   "source": [
    "### Правдоподобие"
   ]
  },
  {
   "cell_type": "markdown",
   "metadata": {
    "id": "Mq1_n3uMBS56"
   },
   "source": [
    "*Запишите функцию правдоподобия и ее логарифм.*"
   ]
  },
  {
   "cell_type": "markdown",
   "metadata": {
    "id": "01GvipoXCO9X"
   },
   "source": [
    "### ММП-оценки"
   ]
  },
  {
   "cell_type": "markdown",
   "metadata": {
    "id": "tElcdUJ0CTrn"
   },
   "source": [
    "*Найдите выражение для ММП-оценки параметра $\\eta$.*"
   ]
  },
  {
   "cell_type": "markdown",
   "metadata": {
    "id": "ZYkRomn1Cb4u"
   },
   "source": [
    "### Проверка на нормальном распределении"
   ]
  },
  {
   "cell_type": "markdown",
   "metadata": {
    "id": "fp184550CjXR"
   },
   "source": [
    "*Проверьте ваше решение на ММП-оценке параметров нормального распределения.*"
   ]
  },
  {
   "cell_type": "markdown",
   "metadata": {
    "id": "KWEp8ErcCvKY"
   },
   "source": [
    "## Задача 5. Модель волатильности"
   ]
  },
  {
   "cell_type": "markdown",
   "metadata": {
    "id": "Cz2EJrpdbwYq"
   },
   "source": [
    "### Броуновское движение"
   ]
  },
  {
   "cell_type": "markdown",
   "metadata": {
    "id": "4HkSAp6_b-Vw"
   },
   "source": [
    "Броуновское движение  - это случайный процесс (набор случайных величин) $\\{W_t\\}_{t \\geq 0}$ c непрерывным временем. Он задается следующей ниже моделью."
   ]
  },
  {
   "cell_type": "markdown",
   "metadata": {
    "id": "vAYYadvdcbk-"
   },
   "source": [
    "### Модель броуновского движения"
   ]
  },
  {
   "cell_type": "markdown",
   "metadata": {
    "id": "I0mcmaDSbVVv"
   },
   "source": [
    "$W_0 = 0$\n",
    "\n",
    "$W_t - W_s \\sim \\mathcal{N}(0, t-s)$, $0 \\leq s \\leq t$\n",
    "\n",
    "$W_{t_2} - W_{t_1}$ и $W_{t_4} - W_{t_3}$ независимы для $0 \\leq t_1 \\leq t_2 \\leq t_3 \\leq t_4$"
   ]
  },
  {
   "cell_type": "markdown",
   "metadata": {
    "id": "YvQIAxbVcdD-"
   },
   "source": [
    "### Симуляция"
   ]
  },
  {
   "cell_type": "markdown",
   "metadata": {
    "id": "eLIeMDzHckMJ"
   },
   "source": [
    "*Запишите формулу для дискретизации этого процесса по времени ($\\{W_{t_i}\\}_{i=1}^n$, где $t_i = i \\Delta T$).*"
   ]
  },
  {
   "cell_type": "markdown",
   "metadata": {
    "id": "YuDwif8udBhW"
   },
   "source": [
    "*Реализуйте симуляцию этого дискретизированного процесса.*"
   ]
  },
  {
   "cell_type": "code",
   "execution_count": null,
   "metadata": {
    "executionInfo": {
     "elapsed": 762,
     "status": "ok",
     "timestamp": 1694196773350,
     "user": {
      "displayName": "Дарья Демидова",
      "userId": "17379068568578483334"
     },
     "user_tz": -180
    },
    "id": "SC922m7Ta7oD"
   },
   "outputs": [],
   "source": [
    "import pandas as pd\n",
    "import numpy as np\n",
    "\n",
    "import matplotlib.pyplot as plt\n",
    "%matplotlib inline"
   ]
  },
  {
   "cell_type": "code",
   "execution_count": null,
   "metadata": {
    "colab": {
     "base_uri": "https://localhost:8080/",
     "height": 489
    },
    "executionInfo": {
     "elapsed": 793,
     "status": "ok",
     "timestamp": 1694196805129,
     "user": {
      "displayName": "Дарья Демидова",
      "userId": "17379068568578483334"
     },
     "user_tz": -180
    },
    "id": "5RcW-rvCb9m1",
    "outputId": "af881a16-385f-4931-d739-a23884b8fdc7"
   },
   "outputs": [],
   "source": [
    "n = 1000\n",
    "delta_T = 0.01\n",
    "\n",
    "W = np.zeros(n)\n",
    "\n",
    "# Calculate W\n",
    "\n",
    "plt.plot(W)\n",
    "plt.title('Simulated Brownian Motion')"
   ]
  },
  {
   "cell_type": "markdown",
   "metadata": {
    "id": "uv_jGHh6cUYH"
   },
   "source": [
    "## Геометрическое Броуновское движение"
   ]
  },
  {
   "cell_type": "markdown",
   "metadata": {},
   "source": [
    "### Модель"
   ]
  },
  {
   "cell_type": "markdown",
   "metadata": {
    "id": "aQP0w0NJcu9L"
   },
   "source": [
    "$S_t = S_0 \\exp[(\\mu - \\frac{\\sigma^2}{2})t + \\sigma W_t]$"
   ]
  },
  {
   "cell_type": "markdown",
   "metadata": {
    "id": "XatNuDjK7GCE"
   },
   "source": [
    "*Запишите формулу для дискретизации этого процесса по времени ($\\{S_{t_i}\\}_{i=1}^n$, где $t_i = i \\Delta T$).*"
   ]
  },
  {
   "cell_type": "markdown",
   "metadata": {
    "id": "K40fnXvg8w1P"
   },
   "source": [
    "### Параметры"
   ]
  },
  {
   "cell_type": "markdown",
   "metadata": {
    "id": "Xw_9afS78w1X"
   },
   "source": [
    "*Определите, какие параметры модели вы будете оценивать.*"
   ]
  },
  {
   "cell_type": "markdown",
   "metadata": {
    "id": "odAc0n1C7fwY"
   },
   "source": [
    "### Выборка"
   ]
  },
  {
   "cell_type": "markdown",
   "metadata": {
    "id": "IX-1sJHA7kiX"
   },
   "source": [
    "$\\{\\hat{S}_{t_i}\\}_{i=1}^n$, где $\\hat{S}_{t_i}$ - реализация случайной величини $S_{t_i}$"
   ]
  },
  {
   "cell_type": "markdown",
   "metadata": {
    "id": "EUfbmrB_8pmn"
   },
   "source": [
    "### Правдоподобие"
   ]
  },
  {
   "cell_type": "markdown",
   "metadata": {
    "id": "i_ie3APJ8pmx"
   },
   "source": [
    "*Запишите функцию правдоподобия и ее логарифм.*"
   ]
  },
  {
   "cell_type": "markdown",
   "metadata": {
    "id": "BhK-vxKj8pmy"
   },
   "source": [
    "### ММП-оценки"
   ]
  },
  {
   "cell_type": "markdown",
   "metadata": {
    "id": "lP6M_O1d8pmy"
   },
   "source": [
    "*Найдите выражение для ММП-оценок параметров.*"
   ]
  },
  {
   "cell_type": "markdown",
   "metadata": {
    "id": "obdaNDj39pVd"
   },
   "source": [
    "### Проверка на данных"
   ]
  },
  {
   "cell_type": "markdown",
   "metadata": {},
   "source": [
    "*Посчитайте по данным ММП-оценки параметров модели*"
   ]
  },
  {
   "cell_type": "code",
   "execution_count": null,
   "metadata": {},
   "outputs": [],
   "source": [
    "delta_T = 0.01"
   ]
  },
  {
   "cell_type": "code",
   "execution_count": null,
   "metadata": {},
   "outputs": [],
   "source": [
    "# load data\n",
    "\n",
    "path = 'datasets/volatility.csv'\n",
    "\n",
    "S_hat = np.loadtxt(path)\n",
    "\n",
    "plt.plot(S_hat)\n",
    "plt.title('Geometric Brownian Motion Data')"
   ]
  },
  {
   "cell_type": "code",
   "execution_count": null,
   "metadata": {},
   "outputs": [],
   "source": [
    "# calculate estimation of parameters\n",
    "\n",
    "mu_hat_MLE = \n",
    "\n",
    "sigma_hat_MLE = \n",
    "\n",
    "print('mu_MLE', mu_hat_MLE)\n",
    "print('sigma_MLE', sigma_hat_MLE)"
   ]
  }
 ],
 "metadata": {
  "colab": {
   "collapsed_sections": [
    "ZGDzE6YO9zYe",
    "g4hbID4f_ZW7",
    "ZDNXyjtgAdnv",
    "75QeT2ShA1KU"
   ],
   "provenance": []
  },
  "kernelspec": {
   "display_name": "Python 3 (ipykernel)",
   "language": "python",
   "name": "python3"
  },
  "language_info": {
   "codemirror_mode": {
    "name": "ipython",
    "version": 3
   },
   "file_extension": ".py",
   "mimetype": "text/x-python",
   "name": "python",
   "nbconvert_exporter": "python",
   "pygments_lexer": "ipython3",
   "version": "3.11.4"
  }
 },
 "nbformat": 4,
 "nbformat_minor": 1
}
