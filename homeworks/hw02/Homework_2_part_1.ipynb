{
  "nbformat": 4,
  "nbformat_minor": 0,
  "metadata": {
    "colab": {
      "provenance": []
    },
    "kernelspec": {
      "name": "python3",
      "display_name": "Python 3"
    },
    "language_info": {
      "name": "python"
    }
  },
  "cells": [
    {
      "cell_type": "markdown",
      "source": [
        "# ДЗ 2, часть 1. Эконометрика\n"
      ],
      "metadata": {
        "id": "rP3IDBEel39E"
      }
    },
    {
      "cell_type": "markdown",
      "source": [
        "Это часть весит 100 баллов из 200 за всю ДЗ2. Также будет вторая часть дз2."
      ],
      "metadata": {
        "id": "Z08sjva2hwmq"
      }
    },
    {
      "cell_type": "markdown",
      "source": [
        "# Задача 1.МНК (15 баллов)\n"
      ],
      "metadata": {
        "id": "wlfML4CCl9Ta"
      }
    },
    {
      "cell_type": "markdown",
      "source": [
        "Корпорация монстров предсказаний хочет  измерить уровень смеха у каждого их клиента.  Для этого она хочет оценить три неизвестные константы $(\\mu_1,\\mu_2, \\mu_3)$, каждую из которых  измеряют независимо, однократно и с ошибкой, имеющей стандартное нормальное распределение.\n",
        "\n",
        "\n",
        "$x_i = \\mu_i +\\epsilon_i$, где  $\\epsilon_i \\sim N(0,1)$ для $ i =1,2,3$.\n",
        "\n",
        "$x_i$ это $\\mu_i$ измерения с ошибкой.\n",
        "Для сравнения различных векторных оценок Майк Вазовский  и  Джеймс Салливан  хотят использовать общую величину риска:\n",
        "\n",
        "$$E[(\\hat \\mu_1 - \\mu_1 )^{2}+(\\hat \\mu_2 - \\mu_2 )^{2}+(\\hat \\mu_3 - \\mu_3 )^{2}]$$\n",
        "\n",
        "Майк Вазовский решил использовать оценку параметров  $(\\mu_1,\\mu_2, \\mu_3)$\n",
        "\n",
        "$ \\hat \\mu^{МНК} = ( \\hat \\mu_1, \\hat \\mu_2,\\hat \\mu_3)$\n",
        "\n",
        "Джеймс Салливан решил использовать метод Салливана, где его оценка это:\n",
        "$\\hat \\mu = (1-(X^{T}X)^{-1}) \\mu^{МНК}, X = (x_1,x_2,x_3)^{T}$"
      ],
      "metadata": {
        "id": "-9-rFOBMmI6M"
      }
    },
    {
      "cell_type": "markdown",
      "source": [
        "1) Найдите оценку Майк Вазовский (оценку метода максимального правдоподобия ) и оценку Джеймса Салливана (10 баллов)\n",
        "\n",
        "Ваш ответ здесь: (можно markdown или фото решения на листочке, но только очень аккуратное)\n",
        "\n"
      ],
      "metadata": {
        "id": "Gr8G9tU5nPTM"
      }
    },
    {
      "cell_type": "markdown",
      "source": [
        "2) Чему будет равна общая величина риска для оценок Майка Вазовского, сравните эту величину с общей величиной риска для оценок Джеймс Салливана. (5 баллов)\n",
        "\n",
        "Ваш ответ здесь:  (можно markdown или фото решения на листочке, но только очень аккуратное)"
      ],
      "metadata": {
        "id": "rcpwxG8AlOEr"
      }
    },
    {
      "cell_type": "markdown",
      "source": [
        "# Задача 2. F-test для тестирования линейных ограничений в классе линейной регрессии (45 баллов)"
      ],
      "metadata": {
        "id": "aMthSnApnbDm"
      }
    },
    {
      "cell_type": "markdown",
      "source": [
        "1) Имплементируйте F test(смотрите ваш учебник по статистике, там есть формула для $\\beta$ с ограничениями, которая вам поможет):\n",
        "\n",
        "**!Нельзя пользоваться готовым F-test из statmodels**\n",
        "\n",
        "$$F_{st} =\\frac{(RSS_{R} - RSS_{UR})/r}{ RSS_{UR}/(n-p)}  \\sim F(r,n-p)$$\n",
        "r -число ограничений,\n",
        "p количество колонок в матрице X(включая константу).\n",
        "(20 баллов за имплементацию)\n"
      ],
      "metadata": {
        "id": "68uD_HKYq2fY"
      }
    },
    {
      "cell_type": "code",
      "execution_count": null,
      "metadata": {
        "id": "l8-ceT9AlBU3"
      },
      "outputs": [],
      "source": [
        "import scipy as sp\n",
        "import numpy as np\n",
        "class LinearRegression():\n",
        "\n",
        "  def __init__(self, regularize = 0):\n",
        "    self.regularize = 0\n",
        "\n",
        "  def fit(self, X, y):\n",
        "    '''\n",
        "    X:\n",
        "        vector of shape(n_observations, n_features)\n",
        "    y:\n",
        "        vector of shape  (n_observations, 1)\n",
        "    returns:\n",
        "       beta of shape n_features\n",
        "    '''\n",
        "    self.n_observations = X.shape[0]\n",
        "    self.n_features =  X.shape[1]\n",
        "    assert X.shape[0] == len(y)\n",
        "\n",
        "    self.X = X\n",
        "    self.y = y\n",
        "    beta  = np.linalg.inv(X.T@X)@X.T@y\n",
        "\n",
        "    self.beta = beta\n",
        "\n",
        "    return beta\n",
        "\n",
        "  def RSS(self, X, y):\n",
        "    return np.sum((y - X@self.beta)**2)\n",
        "\n",
        "  def predict(self, X):\n",
        "\n",
        "    return X@self.beta\n",
        "\n",
        "  def F_test(self, A, c, alpha_test = 0.05 , r_A=0):\n",
        "     '''\n",
        "     The fucntion tests restrictions Ab=c, where b are coefficients.\n",
        "     Parametrs:\n",
        "        A:\n",
        "            A is matrix of shape (r_A,  n_features) which is a left part on equation on beta\n",
        "        c:\n",
        "            c vector right part of restrictions\n",
        "\n",
        "     Returns:\n",
        "         f_statistics, p-value\n",
        "    '''\n",
        "    #your code here\n",
        "    # нельзя пользоваться готовым F-test из statmodels\n",
        "    # можно использовать F распределение из scipy.stats\n",
        "\n",
        "\n"
      ]
    },
    {
      "cell_type": "markdown",
      "source": [
        "**Датасет Danish Money Demand Data**:\n",
        "\n",
        "lrm - спрос на деньги (Log real money) таргет переменная\n",
        "\n",
        "\n",
        "Регрессоры:\n",
        "*  lry - логарифм от ВВП (Log real income)\n",
        "*  lpy -  логарифм индекса уровня цен (Log prices)\n",
        "*  ibo - ставка по облигациям (Bond rate)\n",
        "*  ide - ставка по депозитам (Deposit rate)\n",
        "\n"
      ],
      "metadata": {
        "id": "H_D3b097MN6V"
      }
    },
    {
      "cell_type": "markdown",
      "source": [
        "Интуиция откуда берется модель,\n",
        "в экономике исходя из количественной теории денег основой спроса является  потребность осуществлять транзакции(покупать и продавать).\n",
        "\n",
        " Согласно уравнению обмена $MV = PY$, где M - запас денег, V - его скорость (сколько раз денежная единица оборачивается за определенный период времени), P - уровень цен, а Y - реальный доход (ВВП).\n",
        "\n",
        " Следовательно, PY - это номинальный доход или, другими словами, количество транзакций, совершенных в экономике за определенный период времени. А $MV$  - - это объем денег поучаствовавших в транзакциях, что и равно номинальному доходу. Давая этому поведенческую интерпретацию как спрос на деньги, мы имеем\n",
        "$ M^{d}V = PY$.\n",
        "\n",
        "Тогда взяв логарифм по левой и правой части  получаем,\n",
        "$log(M^{d}) = log(P)+log(Y)- log(V)$\n",
        "\n",
        "\n",
        "Также в макроэкономике существует гипотеза, что **номинальная процентная ставка** $R$ также влияет на **денежный спрос** через скорость обмена $V$.\n",
        "\n",
        "Значит согласно этой  гипотезе $V$ это функция от номинальной процентной ставки $R$, зависящей в свою очередь  от ставки по облгациям и ставки по депозитам:  \n",
        " $R = \\alpha_1 ibo + \\alpha_2 ide $, где $\\alpha_1$ и $\\alpha_2$ неизвестные константы.\n",
        "\n",
        "Пусть $V  =constant+ e^{-R} = constant+ e^{-\\alpha_1 ibo + \\alpha_2 ide}$\n",
        "\n",
        "\n",
        "$log(M^{d}) = log(P)+log(Y)+ \\alpha_1 ibo + \\alpha_2 ide$\n",
        "где $M^{d}$ это спрос на деньги,\n",
        "$P$ уровень цен,\n",
        "$Y$ ВВП,\n",
        "$R$ номинальная процентная ставка, которая представляет собой какую-то линейную комбинацию ставки по облигациям и ставки по депозитам.\n",
        "\n",
        "\n",
        "Тогда получаем такую модель линейной регрессии, где хотим оценить коэффициенты\n",
        " ($\\beta_0, \\beta_1, \\beta_2, \\beta_3, \\beta_4$):\n",
        "\n",
        "$log(M^{d}) = \\beta_0 +\\beta_1 log(P) + \\beta_2 log(Y) +\\beta_3 ibo+\\beta_4 ide$.\n"
      ],
      "metadata": {
        "id": "VR5H-EieYreH"
      }
    },
    {
      "cell_type": "code",
      "source": [
        "import statsmodels.api as sm\n",
        "\n",
        "danich_money  = sm.datasets.danish_data.load().data\n",
        "danich_money.head()"
      ],
      "metadata": {
        "colab": {
          "base_uri": "https://localhost:8080/",
          "height": 238
        },
        "id": "pbA41PJ7MpH7",
        "outputId": "287dc347-74a2-4fc5-83a1-58e2d392aec4"
      },
      "execution_count": null,
      "outputs": [
        {
          "output_type": "execute_result",
          "data": {
            "text/plain": [
              "                  lrm       lry       lpy       ibo     ide\n",
              "period                                                     \n",
              "1974-01-01  11.632550  5.903658 -0.618736  0.154736  0.0940\n",
              "1974-04-01  11.604152  5.873820 -0.580748  0.177991  0.0955\n",
              "1974-07-01  11.581521  5.837818 -0.542848  0.170565  0.0955\n",
              "1974-10-01  11.601847  5.812255 -0.504604  0.152227  0.0955\n",
              "1975-01-01  11.586305  5.803945 -0.486458  0.134228  0.0885"
            ],
            "text/html": [
              "\n",
              "  <div id=\"df-77cb8aec-924a-4833-b496-80fc4308e56d\" class=\"colab-df-container\">\n",
              "    <div>\n",
              "<style scoped>\n",
              "    .dataframe tbody tr th:only-of-type {\n",
              "        vertical-align: middle;\n",
              "    }\n",
              "\n",
              "    .dataframe tbody tr th {\n",
              "        vertical-align: top;\n",
              "    }\n",
              "\n",
              "    .dataframe thead th {\n",
              "        text-align: right;\n",
              "    }\n",
              "</style>\n",
              "<table border=\"1\" class=\"dataframe\">\n",
              "  <thead>\n",
              "    <tr style=\"text-align: right;\">\n",
              "      <th></th>\n",
              "      <th>lrm</th>\n",
              "      <th>lry</th>\n",
              "      <th>lpy</th>\n",
              "      <th>ibo</th>\n",
              "      <th>ide</th>\n",
              "    </tr>\n",
              "    <tr>\n",
              "      <th>period</th>\n",
              "      <th></th>\n",
              "      <th></th>\n",
              "      <th></th>\n",
              "      <th></th>\n",
              "      <th></th>\n",
              "    </tr>\n",
              "  </thead>\n",
              "  <tbody>\n",
              "    <tr>\n",
              "      <th>1974-01-01</th>\n",
              "      <td>11.632550</td>\n",
              "      <td>5.903658</td>\n",
              "      <td>-0.618736</td>\n",
              "      <td>0.154736</td>\n",
              "      <td>0.0940</td>\n",
              "    </tr>\n",
              "    <tr>\n",
              "      <th>1974-04-01</th>\n",
              "      <td>11.604152</td>\n",
              "      <td>5.873820</td>\n",
              "      <td>-0.580748</td>\n",
              "      <td>0.177991</td>\n",
              "      <td>0.0955</td>\n",
              "    </tr>\n",
              "    <tr>\n",
              "      <th>1974-07-01</th>\n",
              "      <td>11.581521</td>\n",
              "      <td>5.837818</td>\n",
              "      <td>-0.542848</td>\n",
              "      <td>0.170565</td>\n",
              "      <td>0.0955</td>\n",
              "    </tr>\n",
              "    <tr>\n",
              "      <th>1974-10-01</th>\n",
              "      <td>11.601847</td>\n",
              "      <td>5.812255</td>\n",
              "      <td>-0.504604</td>\n",
              "      <td>0.152227</td>\n",
              "      <td>0.0955</td>\n",
              "    </tr>\n",
              "    <tr>\n",
              "      <th>1975-01-01</th>\n",
              "      <td>11.586305</td>\n",
              "      <td>5.803945</td>\n",
              "      <td>-0.486458</td>\n",
              "      <td>0.134228</td>\n",
              "      <td>0.0885</td>\n",
              "    </tr>\n",
              "  </tbody>\n",
              "</table>\n",
              "</div>\n",
              "    <div class=\"colab-df-buttons\">\n",
              "\n",
              "  <div class=\"colab-df-container\">\n",
              "    <button class=\"colab-df-convert\" onclick=\"convertToInteractive('df-77cb8aec-924a-4833-b496-80fc4308e56d')\"\n",
              "            title=\"Convert this dataframe to an interactive table.\"\n",
              "            style=\"display:none;\">\n",
              "\n",
              "  <svg xmlns=\"http://www.w3.org/2000/svg\" height=\"24px\" viewBox=\"0 -960 960 960\">\n",
              "    <path d=\"M120-120v-720h720v720H120Zm60-500h600v-160H180v160Zm220 220h160v-160H400v160Zm0 220h160v-160H400v160ZM180-400h160v-160H180v160Zm440 0h160v-160H620v160ZM180-180h160v-160H180v160Zm440 0h160v-160H620v160Z\"/>\n",
              "  </svg>\n",
              "    </button>\n",
              "\n",
              "  <style>\n",
              "    .colab-df-container {\n",
              "      display:flex;\n",
              "      gap: 12px;\n",
              "    }\n",
              "\n",
              "    .colab-df-convert {\n",
              "      background-color: #E8F0FE;\n",
              "      border: none;\n",
              "      border-radius: 50%;\n",
              "      cursor: pointer;\n",
              "      display: none;\n",
              "      fill: #1967D2;\n",
              "      height: 32px;\n",
              "      padding: 0 0 0 0;\n",
              "      width: 32px;\n",
              "    }\n",
              "\n",
              "    .colab-df-convert:hover {\n",
              "      background-color: #E2EBFA;\n",
              "      box-shadow: 0px 1px 2px rgba(60, 64, 67, 0.3), 0px 1px 3px 1px rgba(60, 64, 67, 0.15);\n",
              "      fill: #174EA6;\n",
              "    }\n",
              "\n",
              "    .colab-df-buttons div {\n",
              "      margin-bottom: 4px;\n",
              "    }\n",
              "\n",
              "    [theme=dark] .colab-df-convert {\n",
              "      background-color: #3B4455;\n",
              "      fill: #D2E3FC;\n",
              "    }\n",
              "\n",
              "    [theme=dark] .colab-df-convert:hover {\n",
              "      background-color: #434B5C;\n",
              "      box-shadow: 0px 1px 3px 1px rgba(0, 0, 0, 0.15);\n",
              "      filter: drop-shadow(0px 1px 2px rgba(0, 0, 0, 0.3));\n",
              "      fill: #FFFFFF;\n",
              "    }\n",
              "  </style>\n",
              "\n",
              "    <script>\n",
              "      const buttonEl =\n",
              "        document.querySelector('#df-77cb8aec-924a-4833-b496-80fc4308e56d button.colab-df-convert');\n",
              "      buttonEl.style.display =\n",
              "        google.colab.kernel.accessAllowed ? 'block' : 'none';\n",
              "\n",
              "      async function convertToInteractive(key) {\n",
              "        const element = document.querySelector('#df-77cb8aec-924a-4833-b496-80fc4308e56d');\n",
              "        const dataTable =\n",
              "          await google.colab.kernel.invokeFunction('convertToInteractive',\n",
              "                                                    [key], {});\n",
              "        if (!dataTable) return;\n",
              "\n",
              "        const docLinkHtml = 'Like what you see? Visit the ' +\n",
              "          '<a target=\"_blank\" href=https://colab.research.google.com/notebooks/data_table.ipynb>data table notebook</a>'\n",
              "          + ' to learn more about interactive tables.';\n",
              "        element.innerHTML = '';\n",
              "        dataTable['output_type'] = 'display_data';\n",
              "        await google.colab.output.renderOutput(dataTable, element);\n",
              "        const docLink = document.createElement('div');\n",
              "        docLink.innerHTML = docLinkHtml;\n",
              "        element.appendChild(docLink);\n",
              "      }\n",
              "    </script>\n",
              "  </div>\n",
              "\n",
              "\n",
              "<div id=\"df-33f27347-83b3-4b89-9626-fd91c0732c2a\">\n",
              "  <button class=\"colab-df-quickchart\" onclick=\"quickchart('df-33f27347-83b3-4b89-9626-fd91c0732c2a')\"\n",
              "            title=\"Suggest charts.\"\n",
              "            style=\"display:none;\">\n",
              "\n",
              "<svg xmlns=\"http://www.w3.org/2000/svg\" height=\"24px\"viewBox=\"0 0 24 24\"\n",
              "     width=\"24px\">\n",
              "    <g>\n",
              "        <path d=\"M19 3H5c-1.1 0-2 .9-2 2v14c0 1.1.9 2 2 2h14c1.1 0 2-.9 2-2V5c0-1.1-.9-2-2-2zM9 17H7v-7h2v7zm4 0h-2V7h2v10zm4 0h-2v-4h2v4z\"/>\n",
              "    </g>\n",
              "</svg>\n",
              "  </button>\n",
              "\n",
              "<style>\n",
              "  .colab-df-quickchart {\n",
              "      --bg-color: #E8F0FE;\n",
              "      --fill-color: #1967D2;\n",
              "      --hover-bg-color: #E2EBFA;\n",
              "      --hover-fill-color: #174EA6;\n",
              "      --disabled-fill-color: #AAA;\n",
              "      --disabled-bg-color: #DDD;\n",
              "  }\n",
              "\n",
              "  [theme=dark] .colab-df-quickchart {\n",
              "      --bg-color: #3B4455;\n",
              "      --fill-color: #D2E3FC;\n",
              "      --hover-bg-color: #434B5C;\n",
              "      --hover-fill-color: #FFFFFF;\n",
              "      --disabled-bg-color: #3B4455;\n",
              "      --disabled-fill-color: #666;\n",
              "  }\n",
              "\n",
              "  .colab-df-quickchart {\n",
              "    background-color: var(--bg-color);\n",
              "    border: none;\n",
              "    border-radius: 50%;\n",
              "    cursor: pointer;\n",
              "    display: none;\n",
              "    fill: var(--fill-color);\n",
              "    height: 32px;\n",
              "    padding: 0;\n",
              "    width: 32px;\n",
              "  }\n",
              "\n",
              "  .colab-df-quickchart:hover {\n",
              "    background-color: var(--hover-bg-color);\n",
              "    box-shadow: 0 1px 2px rgba(60, 64, 67, 0.3), 0 1px 3px 1px rgba(60, 64, 67, 0.15);\n",
              "    fill: var(--button-hover-fill-color);\n",
              "  }\n",
              "\n",
              "  .colab-df-quickchart-complete:disabled,\n",
              "  .colab-df-quickchart-complete:disabled:hover {\n",
              "    background-color: var(--disabled-bg-color);\n",
              "    fill: var(--disabled-fill-color);\n",
              "    box-shadow: none;\n",
              "  }\n",
              "\n",
              "  .colab-df-spinner {\n",
              "    border: 2px solid var(--fill-color);\n",
              "    border-color: transparent;\n",
              "    border-bottom-color: var(--fill-color);\n",
              "    animation:\n",
              "      spin 1s steps(1) infinite;\n",
              "  }\n",
              "\n",
              "  @keyframes spin {\n",
              "    0% {\n",
              "      border-color: transparent;\n",
              "      border-bottom-color: var(--fill-color);\n",
              "      border-left-color: var(--fill-color);\n",
              "    }\n",
              "    20% {\n",
              "      border-color: transparent;\n",
              "      border-left-color: var(--fill-color);\n",
              "      border-top-color: var(--fill-color);\n",
              "    }\n",
              "    30% {\n",
              "      border-color: transparent;\n",
              "      border-left-color: var(--fill-color);\n",
              "      border-top-color: var(--fill-color);\n",
              "      border-right-color: var(--fill-color);\n",
              "    }\n",
              "    40% {\n",
              "      border-color: transparent;\n",
              "      border-right-color: var(--fill-color);\n",
              "      border-top-color: var(--fill-color);\n",
              "    }\n",
              "    60% {\n",
              "      border-color: transparent;\n",
              "      border-right-color: var(--fill-color);\n",
              "    }\n",
              "    80% {\n",
              "      border-color: transparent;\n",
              "      border-right-color: var(--fill-color);\n",
              "      border-bottom-color: var(--fill-color);\n",
              "    }\n",
              "    90% {\n",
              "      border-color: transparent;\n",
              "      border-bottom-color: var(--fill-color);\n",
              "    }\n",
              "  }\n",
              "</style>\n",
              "\n",
              "  <script>\n",
              "    async function quickchart(key) {\n",
              "      const quickchartButtonEl =\n",
              "        document.querySelector('#' + key + ' button');\n",
              "      quickchartButtonEl.disabled = true;  // To prevent multiple clicks.\n",
              "      quickchartButtonEl.classList.add('colab-df-spinner');\n",
              "      try {\n",
              "        const charts = await google.colab.kernel.invokeFunction(\n",
              "            'suggestCharts', [key], {});\n",
              "      } catch (error) {\n",
              "        console.error('Error during call to suggestCharts:', error);\n",
              "      }\n",
              "      quickchartButtonEl.classList.remove('colab-df-spinner');\n",
              "      quickchartButtonEl.classList.add('colab-df-quickchart-complete');\n",
              "    }\n",
              "    (() => {\n",
              "      let quickchartButtonEl =\n",
              "        document.querySelector('#df-33f27347-83b3-4b89-9626-fd91c0732c2a button');\n",
              "      quickchartButtonEl.style.display =\n",
              "        google.colab.kernel.accessAllowed ? 'block' : 'none';\n",
              "    })();\n",
              "  </script>\n",
              "</div>\n",
              "    </div>\n",
              "  </div>\n"
            ]
          },
          "metadata": {},
          "execution_count": 13
        }
      ]
    },
    {
      "cell_type": "markdown",
      "source": [
        "Посчитаем регрессию:"
      ],
      "metadata": {
        "id": "_BNGCHvVSnPa"
      }
    },
    {
      "cell_type": "code",
      "source": [
        "y = danich_money[\"lrm\"].values\n",
        "X = sm.add_constant(danich_money)\n",
        "X = X.drop(columns=\"lrm\").values\n",
        "myreg = LinearRegression()\n",
        "myreg.fit(X = X, y = y)\n"
      ],
      "metadata": {
        "colab": {
          "base_uri": "https://localhost:8080/"
        },
        "id": "GMBrAfkFRP1Q",
        "outputId": "70ed1fa3-8806-4c7e-db2a-2b0ffaa5bc9f"
      },
      "execution_count": null,
      "outputs": [
        {
          "output_type": "execute_result",
          "data": {
            "text/plain": [
              "array([ 4.47209275e+00,  1.28311317e+00,  3.52060287e-03, -2.60143539e+00,\n",
              "        5.68904316e-01])"
            ]
          },
          "metadata": {},
          "execution_count": 24
        }
      ]
    },
    {
      "cell_type": "markdown",
      "source": [
        "Регрессия вида:\n",
        "$y = \\beta_0 +\\beta_1 x_1 + \\beta_2 x_2 +\\beta_3 x_3+\\beta_4 x_4$.\n",
        "\n",
        "## a) Протестируйте с помощью F-test, что $\\beta_3 = 0$ и $\\beta_4 = 0$ коэфффиенты равны нулю.(что ставка по депозитам и ставка по по облигациям не влияет на общий денежный спрос.)\n",
        "\n",
        "\n",
        "\\begin{equation}\n",
        "    \\begin{cases}\n",
        "      \\beta_3 = 0\\\\\n",
        "      \\beta_4 = 0\n",
        "    \\end{cases}\\,.\n",
        "\\end{equation}\n",
        "Представим в виде $A \\beta = c$.\n",
        "\n",
        "В данном случае матрица A это\n",
        "$ A = \\begin{bmatrix}\n",
        "0 & 0 & 0 & 1 & 0\\\\\n",
        "0 & 0 & 0 & 0 & 1\n",
        "\\end{bmatrix}$\n",
        ", вектор $c = \\left[\\begin{array}{c}\n",
        "0 \\\\\n",
        "0\n",
        "\\end{array}\\right]$\n",
        "Воспользуйтесь написанным вами тестом из класса для проверки гипотезы.\n",
        "Сделайте выводы о том, что вы принимаете или отвергаете нулевую гипотезу на уровне значимости $\\alpha = 0.05$ (10 баллов за проведение теста и выводы, если есть сделана имплементация F-test)"
      ],
      "metadata": {
        "id": "2pDmiYfruIga"
      }
    },
    {
      "cell_type": "code",
      "source": [
        "# Run F test that beta_3 = 0  and beta_4 = 0 using class method\n",
        "#use myreg.F_test(A, c) and interpret results\n",
        "\n",
        "#your code here\n",
        "\n"
      ],
      "metadata": {
        "id": "D6X_UqjpSSJ7"
      },
      "execution_count": null,
      "outputs": []
    },
    {
      "cell_type": "markdown",
      "source": [
        "Какая экономическая интуиция стоит за этим результатом и какой моделью советуете пользоваться? (3 балла)\n",
        "\n",
        "Ваш ответ:"
      ],
      "metadata": {
        "id": "yJK3zKdDa9U4"
      }
    },
    {
      "cell_type": "markdown",
      "source": [
        "Сравните результаты ваш написанный в классе F-test с F-test из statmodels, используя F-test из statmodels (2 балла)"
      ],
      "metadata": {
        "id": "k0tZksbjg0WS"
      }
    },
    {
      "cell_type": "code",
      "source": [
        "#your code here"
      ],
      "metadata": {
        "id": "Lx6-2gTFTeGL"
      },
      "execution_count": null,
      "outputs": []
    },
    {
      "cell_type": "markdown",
      "source": [
        "##б) Протестируйте с помощью F-test, ограничение вида $\\beta_2 +\\beta_3 = 2$.\n",
        "\n",
        " Напишите, как в этом случае будет выглядеть матрица $A$ и вектор $c$. С каким числом степеней свободы будет F-statistics.\n",
        "\n",
        "\n",
        "\n"
      ],
      "metadata": {
        "id": "3i8frc0dx-__"
      }
    },
    {
      "cell_type": "markdown",
      "source": [
        "Примените ваш F-test и сделайте выводы о принятии гипотезы на уровне значимости $\\alpha = 0.05$ (10 баллов за проведение теста и выводы, если есть сделана имплементация F-test)"
      ],
      "metadata": {
        "id": "76lCgFTcUmZf"
      }
    },
    {
      "cell_type": "code",
      "source": [
        "#your code here"
      ],
      "metadata": {
        "id": "Kkg2RxRrTdqI"
      },
      "execution_count": null,
      "outputs": []
    },
    {
      "cell_type": "markdown",
      "source": [
        "\n"
      ],
      "metadata": {
        "id": "vkIaSHg6TXts"
      }
    },
    {
      "cell_type": "markdown",
      "source": [
        "# Задача 3. Дублирование (30 баллов)"
      ],
      "metadata": {
        "id": "HUnnjzn6HZSb"
      }
    },
    {
      "cell_type": "markdown",
      "source": [
        "\n",
        "\n",
        "Эконометристка Урсулла проверяет гипотезу\n",
        "$H_0: \\beta_1 +\\beta_2 = 1$ против альтернативы\n",
        "$H_A: \\beta_1 +\\beta_2 > 1$.\n",
        "\n",
        "\n",
        "После отправки результатов, она обнаружила, что она случайно скопировала данные в Excel и вместо 100 оригинальных строк, она строила регрессию и проверяла гипотезу на датасете из 200 строк, так что каждое наблюдение повторяется ровно дважды.\n"
      ],
      "metadata": {
        "id": "Hym6RexsEMaX"
      }
    },
    {
      "cell_type": "markdown",
      "source": [
        "a) Как повлияло дублирование данных на оценки $\\beta_1, \\beta_2$ в регрессии.\n",
        "Посчитайте оценки до и после дублирования данных. (10 баллов)\n",
        "\n",
        "Как  дублирование данных повлияло на дисперсии этих оценок и на значимость этих оценок?\n",
        "Посчитайте дисперсию оценок до и после дублирования данных.  (10 баллов)\n",
        "\n",
        "б) Предположим нас волнует только вопрос, какую гипотезу принять.\n",
        "Нужно ли эконометристке Урсулле переделывать результаты и что-то исправлять или нет?  (10 баллов)"
      ],
      "metadata": {
        "id": "zJbNQhPMF3IK"
      }
    },
    {
      "cell_type": "markdown",
      "source": [],
      "metadata": {
        "id": "ztkKyGC8hCgo"
      }
    },
    {
      "cell_type": "markdown",
      "source": [
        "#Задача 4  $R^2$ (10 баллов)"
      ],
      "metadata": {
        "id": "Qa13vsJI0uPU"
      }
    },
    {
      "cell_type": "markdown",
      "source": [
        "Докажите, что $R^2 = 1 - \\frac{RSS}{TSS}$ коэфициент детерминации в случае  модели парной регрессии $y = \\beta_0+\\beta_1 x+\\epsilon$ это просто квадрат коэффициента корреляции между $x$ и $y$."
      ],
      "metadata": {
        "id": "4RRgMqHv0LFR"
      }
    },
    {
      "cell_type": "markdown",
      "source": [
        "Ваш ответ здесь:  (можно markdown или фото решения на листочке, но просим только аккуратное)"
      ],
      "metadata": {
        "id": "E-aVrFlvlkGK"
      }
    },
    {
      "cell_type": "code",
      "source": [],
      "metadata": {
        "id": "ewzxlV4kqwW0"
      },
      "execution_count": null,
      "outputs": []
    }
  ]
}
