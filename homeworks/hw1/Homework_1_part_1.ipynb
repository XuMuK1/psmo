{
 "cells": [
  {
   "cell_type": "markdown",
   "metadata": {
    "id": "xpO92YkQ-9SB"
   },
   "source": [
    "# ДЗ 1, часть 1. Метод максимального правдоподобия"
   ]
  },
  {
   "cell_type": "markdown",
   "metadata": {},
   "source": [
    "Имя, Фамилия: *напишите здесь*\n",
    "\n",
    "группа: *напишите здесь группу, где вы числитесь*\n",
    "\n",
    "**Оценка(для проверяющего):** 0 из 10\n",
    "\n",
    "**Дедлайн:** одновременно с частью 3"
   ]
  },
  {
   "cell_type": "code",
   "execution_count": 1,
   "metadata": {},
   "outputs": [],
   "source": [
    "#all imports here please\n",
    "import pickle as pkl\n",
    "\n",
    "import numpy as np\n",
    "import matplotlib.pyplot as plt\n",
    "%matplotlib inline\n",
    "#... add your own if necessary"
   ]
  },
  {
   "cell_type": "markdown",
   "metadata": {
    "id": "g4hbID4f_ZW7"
   },
   "source": [
    "## Задача 1. Свойства ММП оценок для модели нормального распределения (2 балла)"
   ]
  },
  {
   "cell_type": "markdown",
   "metadata": {
    "id": "jU9QZbW0_gJi"
   },
   "source": [
    "Рассмотрим следующую модель из независимых векторных наблюдений $X_1,..,X_n$:\n",
    "\n",
    "$$X_i \\overset{iid}{\\sim} \\mathcal{N}(\\mu, \\Sigma).$$\n",
    "\n",
    "Постройте и исследуйте оценку для вектора матожиданий $\\mu$ и ковариационной матрицы $\\Sigma$ методом максимального правдоподобия.\n",
    "\n",
    "**В помощь:** Если дифференцировать функцию $f: \\mathbb{R}^{m \\times n} \\to \\mathbb{R}$ по ячейкам входной матрицы, то получится матрица из производных, обозначаемая $\\nabla_A f(A)$. Условие первого порядка для оптимизации записывается так же, как и в привычных вам случаях, нужно приравнять производные к нулю. Можете использовать [таблицу](https://en.wikipedia.org/wiki/Matrix_calculus#Scalar-by-matrix_identities) для получения оценок."
   ]
  },
  {
   "cell_type": "markdown",
   "metadata": {
    "id": "5LKz1yX0_y8f"
   },
   "source": [
    "### Правдоподобие"
   ]
  },
  {
   "cell_type": "markdown",
   "metadata": {
    "id": "FL5DLC6p_1WE"
   },
   "source": [
    "*Запишите функцию правдоподобия и ее логарифм.*"
   ]
  },
  {
   "cell_type": "markdown",
   "metadata": {},
   "source": [
    "ВАШЕ РЕШЕНИЕ И ОБОСНОВАНИЯ ТУТ..."
   ]
  },
  {
   "cell_type": "markdown",
   "metadata": {
    "id": "64qHNr_E_u9_"
   },
   "source": [
    "### ММП-оценка"
   ]
  },
  {
   "cell_type": "markdown",
   "metadata": {
    "id": "MgVx_nin_88x"
   },
   "source": [
    "*Найдите выражение для ММП-оценки и сравните решение с решением в одномерном случае.*"
   ]
  },
  {
   "cell_type": "markdown",
   "metadata": {},
   "source": [
    "ВАШЕ РЕШЕНИЕ И ОБОСНОВАНИЯ ТУТ..."
   ]
  },
  {
   "cell_type": "markdown",
   "metadata": {
    "id": "ZDNXyjtgAdnv"
   },
   "source": [
    "## Задача 2. Свойства ММП оценок для модели равномерного распределения (2 балла)"
   ]
  },
  {
   "cell_type": "markdown",
   "metadata": {
    "id": "9aMyr0QdAdnw"
   },
   "source": [
    "Рассмотрим модель выборки $X_1,..,X_n$ из наблюдений"
   ]
  },
  {
   "cell_type": "markdown",
   "metadata": {
    "id": "Jd6AICLiAdnx"
   },
   "source": [
    "$X_i \\overset{iid}{\\sim} U[0,a]$"
   ]
  },
  {
   "cell_type": "markdown",
   "metadata": {
    "id": "SyBL7sjIAdnx"
   },
   "source": [
    "### Правдоподобие"
   ]
  },
  {
   "cell_type": "markdown",
   "metadata": {
    "id": "vwW6yH7wAdnx"
   },
   "source": [
    "*Запишите функцию правдоподобия и ее логарифм.*"
   ]
  },
  {
   "cell_type": "markdown",
   "metadata": {},
   "source": [
    "ВАШЕ РЕШЕНИЕ И ОБОСНОВАНИЯ ТУТ..."
   ]
  },
  {
   "cell_type": "markdown",
   "metadata": {
    "id": "cmnHmosjAdny"
   },
   "source": [
    "### ММП-оценка параметра $a$"
   ]
  },
  {
   "cell_type": "markdown",
   "metadata": {
    "id": "sOkupW5BAdny"
   },
   "source": [
    "*Найдите выражение для ММП-оценки параметра $a$*."
   ]
  },
  {
   "cell_type": "markdown",
   "metadata": {},
   "source": [
    "ВАШЕ РЕШЕНИЕ И ОБОСНОВАНИЯ ТУТ..."
   ]
  },
  {
   "cell_type": "markdown",
   "metadata": {},
   "source": [
    "## Задача 3. Оцениваем модель охлаждения (3 балла)\n",
    "\n",
    "[(Другой) закон Ньютона](https://en.wikipedia.org/wiki/Newton%27s_law_of_cooling)  -- простая математическая модель охлаждения(или нагревания) тела\n",
    "\n",
    "$$\n",
    "\\frac{dT}{dt} = r (T_{env} - T(t)),\n",
    "$$\n",
    "\n",
    "это дифференциальное уравнение первого порядка, которое в непрерывном (то есть, в любой момент $t$) показывает, какая должна быть температура у тела, если дана начальная температура $T(0)=T_0$. Температурные единицы измерения -- Кельвины, $r$ -- это некоторая константа, зависящая от самого тела, от состава среды и т.п. . Это приближённый закон.\n",
    "\n",
    "Вообще константа $r$ неизвестна априори и если мы хотим делать какое-то устройство, которое использует такую модель, мы должны как-то оценить $r$. Один из вариантов -- померить температуру среды (полагаем её константной), нагреть тело до какой-то температуры $T_0$, а потом оставить остывать и замерять через разные промежутки времени его температуру. По итогам таких наблюдений получится датасет\n",
    "$$\n",
    "T_{t_0},T_{t_1},..,T_{t_n}, ~~ t_0=0.\n",
    "$$\n",
    "\n",
    "Осталось придумать вероятностную модель. Например, мы можем записать приближённое дискретизированное по времени уравнение, используя метод Эйлера:\n",
    "\n",
    "$$\n",
    "T_{t_{i+1}} = T_{t_{i}} + r (T_{env} - T_{t_{i}}) \\Delta t_i, ~~  \\Delta t_i = t_{i+1} - t_i,\n",
    "$$\n",
    "\n",
    "а дальше предлагать разные варианты оценивания."
   ]
  },
  {
   "cell_type": "markdown",
   "metadata": {},
   "source": [
    "### Правдоподобие\n",
    "\n",
    "С учётом ошибок измерений и необъяснимых факторов среды, договорившись измерять температуру через равные промежутки времени $\\Delta t_i= \\Delta t$, можно предположить модель, очень похожую на модель авторегрессии $AR(1)$:\n",
    "\n",
    "$$\n",
    "T_{i+1} = (1 - r\\Delta t)T_{i} + r T_{env} \\Delta t + \\varepsilon_{i+1}, ~~ \\varepsilon_{i+1} \\sim_{iid} N(0,\\sigma^2).\n",
    "$$\n",
    "\n",
    "1. Предполагая $T_{env}$ и $\\Delta t$ данными, определите параметры модели, которые нужно оценивать и выведите функцию лог-правдоподобия.\n",
    "\n",
    "2. Выведите оценки ММП для данной модели."
   ]
  },
  {
   "cell_type": "markdown",
   "metadata": {},
   "source": [
    "ВАШЕ РЕШЕНИЕ И ОБОСНОВАНИЯ ТУТ..."
   ]
  },
  {
   "cell_type": "markdown",
   "metadata": {},
   "source": [
    "### Пишем модель\n",
    "\n",
    "Имплементируйте класс модели, используя шаблон ниже и проведите некоторые тесты, чтобы убедиться, что он рабочий."
   ]
  },
  {
   "cell_type": "code",
   "execution_count": 2,
   "metadata": {},
   "outputs": [],
   "source": [
    "class CoolingModel:\n",
    "    \n",
    "    def __init__(self, r, delta, sigma2):\n",
    "        self.r = r\n",
    "        self.sigma2 = sigma2\n",
    "        self.delta = delta\n",
    "        \n",
    "    def step(self,T0,Tenv):\n",
    "        \"\"\"Makes one step in time\n",
    "\n",
    "        Args:\n",
    "            T0 (float[]): current temperature (NTraj,)\n",
    "            Tenv (float[]): current environment temperature (NTraj,)\n",
    "        Returns:\n",
    "            T (float[]): next temperature (NTraj,)\n",
    "        \"\"\"        \n",
    "        raise NotImplementedError\n",
    "    \n",
    "    def simulate(self, T0, NSteps, Tenv):\n",
    "        \"\"\"Simulates NTraj trajectories of cooling process\n",
    "\n",
    "        Args:\n",
    "            T0 (float[]): initial temperature (NTraj,)\n",
    "            NSteps (int): number of time steps\n",
    "            Tenv (float): environment temperature\n",
    "        Returns:\n",
    "            trajs (float[]): simulation result (NTraj,NSteps)\n",
    "        \"\"\"        \n",
    "        Tenv = np.ones_like(T0)*Tenv\n",
    "        trajs = np.zeros([T0.shape[0],NSteps+1])\n",
    "        trajs[:,0] = T0\n",
    "        #YOUR CODE? use self.step\n",
    "        # trajs = ....s\n",
    "        return trajs       \n",
    "\n",
    "    def fit(self, temps, Tenv):\n",
    "        \"\"\"Fits the model using the given data\n",
    "\n",
    "        Args:\n",
    "            temps (float[]): temperatures (N,)\n",
    "            Tenv (float): environment temperature\n",
    "        \"\"\"        \n",
    "        #write here your MLE estimate (see the task below)\n",
    "        raise NotImplementedError"
   ]
  },
  {
   "cell_type": "markdown",
   "metadata": {},
   "source": [
    "Попробуйте для нарисовать несколько возможных траекторий, код ниже должен показать график."
   ]
  },
  {
   "cell_type": "code",
   "execution_count": 3,
   "metadata": {},
   "outputs": [],
   "source": [
    "#params\n",
    "r = 0.2 #1/sec\n",
    "sigma2=0.02\n",
    "\n",
    "#time stuff\n",
    "NSteps = 1000\n",
    "finalTime = 100\n",
    "delta=finalTime/NSteps #sec\n",
    "\n",
    "#number of simulations\n",
    "NTrajs = 5\n",
    "\n",
    "#temperatures\n",
    "T0 = np.ones([NTrajs])*280 #K\n",
    "Tenv = 300 #K\n",
    "\n",
    "procModel = CoolingModel(r,delta,sigma2)\n",
    "trajs = procModel.simulate(T0,NSteps,Tenv)"
   ]
  },
  {
   "cell_type": "code",
   "execution_count": null,
   "metadata": {},
   "outputs": [],
   "source": [
    "ts = np.arange(0,finalTime+delta/2,delta) #+delta/2 to include the last value\n",
    "\n",
    "f, ax = plt.subplots(figsize=(5,3))\n",
    "\n",
    "ax.grid()\n",
    "ax.set_title(\"Симуляции процесса охлаждения\")\n",
    "ax.set_xlabel(\"t, сек\")\n",
    "ax.set_ylabel(\"T, K\")\n",
    "ax.plot(ts,trajs.T)\n",
    "plt.show()"
   ]
  },
  {
   "cell_type": "markdown",
   "metadata": {},
   "source": [
    "ВАШ КОММЕНТАРИЙ ЗДЕСЬ"
   ]
  },
  {
   "cell_type": "markdown",
   "metadata": {},
   "source": [
    "### Оценка модели по данным\n",
    "\n",
    "Допишите метод `fit` в класс модели и оцените параметры, используя данный датасет, с помощью метода максимального правдоподобия. Данные в формате ``pkl``, загружаются как словарь."
   ]
  },
  {
   "cell_type": "code",
   "execution_count": 7,
   "metadata": {},
   "outputs": [],
   "source": [
    "with open(\"./coolingModel.pkl\",\"rb\") as f:\n",
    "    dd = pkl.load(f)\n",
    "    #YOUR CODE\n",
    "    #read the data, run fit below"
   ]
  },
  {
   "cell_type": "code",
   "execution_count": null,
   "metadata": {},
   "outputs": [],
   "source": [
    "#random init\n",
    "procModel = CoolingModel(0.1,delta,0.1)\n",
    "#procModel.fit(??,??)\n",
    "print(f\"Parameters:  r={procModel.r},sigma^2={procModel.sigma2}\")"
   ]
  },
  {
   "cell_type": "markdown",
   "metadata": {},
   "source": [
    "Нарисуйте несколько траекторий оценённой модели более тонкими и прозрачными линиями и сравните с вашими данными."
   ]
  },
  {
   "cell_type": "code",
   "execution_count": 9,
   "metadata": {},
   "outputs": [],
   "source": [
    "#trajs = procModel.simulate(???)"
   ]
  },
  {
   "cell_type": "code",
   "execution_count": null,
   "metadata": {},
   "outputs": [],
   "source": [
    "ts = np.arange(0,finalTime+delta/2,delta) #+delta/2 to include the last value\n",
    "\n",
    "f, ax = plt.subplots(figsize=(5,3))\n",
    "\n",
    "ax.grid()\n",
    "ax.set_title(\"Симуляции процесса охлаждения\")\n",
    "ax.set_xlabel(\"t, сек\")\n",
    "ax.set_ylabel(\"T, K\")\n",
    "#YOUR CODE\n",
    "#any plots?\n",
    "\n",
    "plt.show()"
   ]
  },
  {
   "cell_type": "markdown",
   "metadata": {},
   "source": [
    "ВАШ КОММЕНТАРИЙ ЗДЕСЬ."
   ]
  },
  {
   "cell_type": "markdown",
   "metadata": {
    "id": "KWEp8ErcCvKY"
   },
   "source": [
    "## Задача 4. Дискретная модель цен (3 балла)"
   ]
  },
  {
   "cell_type": "markdown",
   "metadata": {
    "id": "Cz2EJrpdbwYq"
   },
   "source": [
    "### Броуновское движение"
   ]
  },
  {
   "cell_type": "markdown",
   "metadata": {
    "id": "4HkSAp6_b-Vw"
   },
   "source": [
    "[Броуновское движение (или по-другому Винеровский процесс)](https://en.wikipedia.org/wiki/Wiener_process)  - это случайный процесс (набор случайных величин) $\\{W_t\\}_{t \\geq 0}$ c непрерывным временем, который задётся так:"
   ]
  },
  {
   "cell_type": "markdown",
   "metadata": {
    "id": "I0mcmaDSbVVv"
   },
   "source": [
    "* $W_0 = 0$\n",
    "\n",
    "* $W_t - W_s \\sim \\mathcal{N}(0, t-s)$, $0 \\leq s \\leq t$\n",
    "\n",
    "* $W_{t_2} - W_{t_1}$ и $W_{t_4} - W_{t_3}$  независимы для $0 \\leq t_1 \\leq t_2 \\leq t_3 \\leq t_4$"
   ]
  },
  {
   "cell_type": "markdown",
   "metadata": {},
   "source": [
    "Мы можем попытаться нарисовать значения процесса в любом конечном наборе точек $(t_i)_{i=0}^{N_t}$, это будут зависимые случайные величины. Удобнее всего для симуляции пользоваться последним свойством: если обозначить $\\Delta t_i = t_{i+1} - t_i$, то\n",
    "\n",
    "$$\n",
    "W_{t_{i+1}} = W_{t_i} + \\varepsilon_{i+1},\n",
    "$$\n",
    "\n",
    "где $W_{t_0}$ задано, а шумы $\\varepsilon_{i+1} \\sim N(0, \\Delta t_i)$ независимы."
   ]
  },
  {
   "cell_type": "markdown",
   "metadata": {
    "id": "YvQIAxbVcdD-"
   },
   "source": [
    "### Симуляция"
   ]
  },
  {
   "cell_type": "markdown",
   "metadata": {
    "id": "YuDwif8udBhW"
   },
   "source": [
    "*Реализуйте симуляцию этого дискретизированного процесса $(W_{t_i})_{i=0}^{N_t}$, используя данную сетку по времени $(t_i)_{i=0}^{N_t}$.*"
   ]
  },
  {
   "cell_type": "code",
   "execution_count": 11,
   "metadata": {
    "colab": {
     "base_uri": "https://localhost:8080/",
     "height": 489
    },
    "executionInfo": {
     "elapsed": 793,
     "status": "ok",
     "timestamp": 1694196805129,
     "user": {
      "displayName": "Дарья Демидова",
      "userId": "17379068568578483334"
     },
     "user_tz": -180
    },
    "id": "5RcW-rvCb9m1",
    "outputId": "af881a16-385f-4931-d739-a23884b8fdc7"
   },
   "outputs": [],
   "source": [
    "class BrownianMotion:\n",
    "\n",
    "    def __init__(self):\n",
    "        pass\n",
    "\n",
    "    def sample(self, ts, Ntraj):\n",
    "        \"\"\"Returns a discrete set of observations\n",
    "\n",
    "        Args:\n",
    "            ts (float[]): time grid (T,)\n",
    "            Ntraj (int): number of trajectories to sample\n",
    "        Returns\n",
    "            trajs (float[]): (Ntraj,T) samples\n",
    "        \"\"\"\n",
    "        trajs = np.zeros([Ntraj,len(ts)])\n",
    "        #YOUR CODE\n",
    "        #trajs = ??\n",
    "        return trajs"
   ]
  },
  {
   "cell_type": "markdown",
   "metadata": {},
   "source": [
    "Проверим! Нарисуйте набор семплов наблюдений $W_{t_0},..,W_{t_{N_{t}}}$ из модели Броуновского движения при $t_0=0$ и $W_{t_0} = 0$."
   ]
  },
  {
   "cell_type": "code",
   "execution_count": 12,
   "metadata": {},
   "outputs": [],
   "source": [
    "#example\n",
    "Ntraj = 50\n",
    "T=3\n",
    "Nt = 100#number of time subdivisions\n",
    "delta = T/Nt\n",
    "ts = np.arange(0,T+delta/2 ,delta)# discrete points from [0,T] \n",
    "\n",
    "bmProc = BrownianMotion()\n",
    "trajs = bmProc.sample(ts,Ntraj)"
   ]
  },
  {
   "cell_type": "code",
   "execution_count": null,
   "metadata": {},
   "outputs": [],
   "source": [
    "f, ax = plt.subplots(figsize=(7,4))\n",
    "\n",
    "ax.grid()\n",
    "ax.set_title(\"Траектории Броуновского движения\")\n",
    "ax.set_xlabel(\"t\")\n",
    "ax.plot(ts,trajs.T)\n",
    "plt.show()#if needed"
   ]
  },
  {
   "cell_type": "markdown",
   "metadata": {
    "id": "uv_jGHh6cUYH"
   },
   "source": [
    "## Геометрическое Броуновское движение"
   ]
  },
  {
   "cell_type": "markdown",
   "metadata": {},
   "source": [
    "Геометрическое Броуновское движение (GBM) -- это модель\n",
    "\n",
    "$$\n",
    "S_t = S_0 \\exp[(\\mu - \\frac{\\sigma^2}{2})t + \\sigma W_t],\n",
    "$$\n",
    "\n",
    "где параметр $\\mu$ называется сносом (он связан с безрисковой процентной ставкой на рынке и выплатами по активу, например, дивидендами акции), а $\\sigma$ -- волатильностью. Это один из базовых кирпичиков моделей финансовых рядов.\n",
    "\n",
    "Пусть мы пронаблюдали набор значений $S_{t_1},..,S_{t_N}$, давайте получим оценки параметров и попробуем оценить их по данным.\n"
   ]
  },
  {
   "cell_type": "markdown",
   "metadata": {
    "id": "K40fnXvg8w1P"
   },
   "source": [
    "### Параметры"
   ]
  },
  {
   "cell_type": "markdown",
   "metadata": {
    "id": "Xw_9afS78w1X"
   },
   "source": [
    "*Определите, какие параметры модели вы будете оценивать.*"
   ]
  },
  {
   "cell_type": "markdown",
   "metadata": {},
   "source": [
    "ВАШЕ РЕШЕНИЕ И ОБОСНОВАНИЯ ТУТ..."
   ]
  },
  {
   "cell_type": "markdown",
   "metadata": {
    "id": "EUfbmrB_8pmn"
   },
   "source": [
    "### Правдоподобие"
   ]
  },
  {
   "cell_type": "markdown",
   "metadata": {
    "id": "i_ie3APJ8pmx"
   },
   "source": [
    "*Запишите функцию правдоподобия для модели данных и ее логарифм.*"
   ]
  },
  {
   "cell_type": "markdown",
   "metadata": {},
   "source": [
    "ВАШЕ РЕШЕНИЕ И ОБОСНОВАНИЯ ТУТ..."
   ]
  },
  {
   "cell_type": "markdown",
   "metadata": {
    "id": "BhK-vxKj8pmy"
   },
   "source": [
    "### ММП-оценки"
   ]
  },
  {
   "cell_type": "markdown",
   "metadata": {
    "id": "lP6M_O1d8pmy"
   },
   "source": [
    "*Найдите выражение для ММП-оценок параметров.*"
   ]
  },
  {
   "cell_type": "markdown",
   "metadata": {},
   "source": [
    "\n",
    "ВАШЕ РЕШЕНИЕ И ОБОСНОВАНИЯ ТУТ..."
   ]
  },
  {
   "cell_type": "markdown",
   "metadata": {
    "id": "obdaNDj39pVd"
   },
   "source": [
    "### Пишем модель"
   ]
  },
  {
   "cell_type": "code",
   "execution_count": 14,
   "metadata": {},
   "outputs": [],
   "source": [
    "class GBM:\n",
    "\n",
    "    def __init__(self,mu,sigma):\n",
    "        self.mu = mu \n",
    "        self.sigma = sigma\n",
    "        self.brownMotion = BrownianMotion() \n",
    "\n",
    "    def sample(self, x0, ts):\n",
    "        \"\"\"Returns a discrete set of observations\n",
    "\n",
    "        Args:\n",
    "            x0 (float[]): set of initial conditions x_{ts[0]}  (Ntraj,)\n",
    "            ts (float[]): time grid (T,)\n",
    "        Returns\n",
    "            trajs (float[]): (Ntraj,T) samples\n",
    "        \"\"\"\n",
    "        Ntraj = x0.shape[0]\n",
    "        #YOUR CODE\n",
    "        #trajs =??\n",
    "        return trajs\n",
    "\n",
    "    def fit(self, st, delta):\n",
    "        \"\"\"Fits the parameters given the data (assuming the step size is constant and equal delta)\n",
    "\n",
    "        Args:\n",
    "            st (float[]): observations (T,)\n",
    "            delta (flaot): time step size\n",
    "        \"\"\"\n",
    "        #YOUR ESTIMATION HERE\n",
    "        #self.mu = ??   self.sigma = ??s"
   ]
  },
  {
   "cell_type": "markdown",
   "metadata": {},
   "source": [
    "Протестируем."
   ]
  },
  {
   "cell_type": "code",
   "execution_count": 15,
   "metadata": {},
   "outputs": [],
   "source": [
    "#example\n",
    "Ntraj = 50\n",
    "T=50\n",
    "Nt = 5000#number of time subdivisions\n",
    "delta = T/Nt\n",
    "ts = np.arange(0,T+delta/2 ,delta)# discrete points from [0,T] \n",
    "\n",
    "mu=0.02\n",
    "sigma=0.27\n",
    "gbmProc = GBM(mu, sigma)\n",
    "\n",
    "x0 = np.ones([Ntraj])*100\n",
    "trajs = gbmProc.sample(x0,ts)"
   ]
  },
  {
   "cell_type": "code",
   "execution_count": null,
   "metadata": {},
   "outputs": [],
   "source": [
    "f, ax = plt.subplots(figsize=(7,4))\n",
    "\n",
    "ax.grid()\n",
    "ax.set_title(\"Траектории GBM\")\n",
    "ax.set_xlabel(\"t\")\n",
    "ax.plot(ts,trajs.T)\n",
    "plt.show()#if needed"
   ]
  },
  {
   "cell_type": "markdown",
   "metadata": {},
   "source": [
    "### Оценка модели по данным\n",
    "\n",
    "Допишите метод `fit` в класс модели и оцените параметры, используя данный датасет, с помощью метода максимального правдоподобия. Данные в формате ``pkl``, загружаются как словарь."
   ]
  },
  {
   "cell_type": "code",
   "execution_count": 17,
   "metadata": {},
   "outputs": [],
   "source": [
    "# load data\n",
    "with open(\"./gbmData.pkl\", \"rb\") as f:\n",
    "    dd=pkl.load(f)\n",
    "    #YOUR CODE\n",
    "    #read the data"
   ]
  },
  {
   "cell_type": "code",
   "execution_count": null,
   "metadata": {},
   "outputs": [],
   "source": [
    "#random init\n",
    "gbmProc = GBM(0.01, 0.01)\n",
    "#gbmProc.fit(??)\n",
    "\n",
    "print('mu_MLE', gbmProc.mu)\n",
    "print('sigma_MLE', gbmProc.sigma) "
   ]
  },
  {
   "cell_type": "markdown",
   "metadata": {},
   "source": [
    "Нарисуйте несколько траекторий оценённой модели более тонкими и прозрачными линиями и сравните с вашими данными."
   ]
  },
  {
   "cell_type": "code",
   "execution_count": 21,
   "metadata": {},
   "outputs": [],
   "source": [
    "#generating new trajectories\n",
    "Ntraj = 10\n",
    "\n",
    "#\n",
    "#trajs = gbmProc.sample(??)"
   ]
  },
  {
   "cell_type": "code",
   "execution_count": null,
   "metadata": {},
   "outputs": [],
   "source": [
    "f, ax = plt.subplots(figsize=(7,4))\n",
    "\n",
    "ax.grid()\n",
    "ax.set_title(\"Траектории GBM\")\n",
    "ax.set_xlabel(\"t\")\n",
    "#YOUR CODE\n",
    "#any plots?\n",
    "ax.legend([\"Data\",\"Samples\"])\n",
    "plt.show()#if needed"
   ]
  },
  {
   "cell_type": "markdown",
   "metadata": {},
   "source": [
    "ВАШ КОММЕНТАРИЙ ЗДЕСЬ"
   ]
  },
  {
   "cell_type": "markdown",
   "metadata": {},
   "source": []
  }
 ],
 "metadata": {
  "colab": {
   "collapsed_sections": [
    "ZGDzE6YO9zYe",
    "g4hbID4f_ZW7",
    "ZDNXyjtgAdnv",
    "75QeT2ShA1KU"
   ],
   "provenance": []
  },
  "kernelspec": {
   "display_name": "Python 3 (ipykernel)",
   "language": "python",
   "name": "python3"
  },
  "language_info": {
   "codemirror_mode": {
    "name": "ipython",
    "version": 3
   },
   "file_extension": ".py",
   "mimetype": "text/x-python",
   "name": "python",
   "nbconvert_exporter": "python",
   "pygments_lexer": "ipython3",
   "version": "3.10.14"
  }
 },
 "nbformat": 4,
 "nbformat_minor": 1
}
