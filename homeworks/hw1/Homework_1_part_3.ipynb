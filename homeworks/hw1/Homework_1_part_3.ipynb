{
 "cells": [
  {
   "cell_type": "markdown",
   "metadata": {},
   "source": [
    "# ДЗ 1, часть 3. ЕМ-алгоритм"
   ]
  },
  {
   "cell_type": "markdown",
   "metadata": {},
   "source": [
    "Имя, Фамилия: *напишите здесь*\n",
    "\n",
    "группа: *напишите здесь группу, где вы числитесь*\n",
    "\n",
    "**Оценка(для проверяющего):** 0 из 10\n",
    "\n",
    "**Дедлайн:** 5 ноября 23:59 (решение нужно сдать в энитаск)"
   ]
  },
  {
   "cell_type": "code",
   "execution_count": null,
   "metadata": {},
   "outputs": [],
   "source": [
    "#all imports here please\n",
    "import pickle as pkl\n",
    "import tqdm\n",
    "import numpy as np\n",
    "import scipy.stats as spstats\n",
    "import matplotlib.pyplot as plt\n",
    "%matplotlib inline\n",
    "#... add your own if necessary"
   ]
  },
  {
   "cell_type": "markdown",
   "metadata": {},
   "source": [
    "## Задача 1. Поломки (5 баллов)\n",
    "\n",
    "В офисе одного небольшого СобериБанка происходят поломки серверной. Служба обслуживания в таких случаях посылает специалиста решить проблему.  Для этого необходимо произвести обслуживание вычислительного узла А и вычислительного узла B. Каждый специалист имеет какую-то свою инструкцию, методологию, а также свой опыт, который определяет то, как именно он занимается ремонтном, и то, сколько времени у него занимают ремонтные работы.\n",
    "\n",
    "В офисе точно могут сказать, сколько суммарно времени занял ремонт каждого из узлов(в минутах), обозначим их за переменные $X_A,~X_B$, но очень сложно понять, какие конкретно рабочие занимались ремонтом в каждом случае.\n",
    "\n",
    "Коллеги вас, как экперта в статистике, просят оценить, сколько рабочих занято в ремонте вашей серверной. Немного посидев в браузере, вы узнаёте, что, оказывается, времена обслуживания техники можно моделировать с помощью знакомого [логнормального распределения](https://en.wikipedia.org/wiki/Log-normal_distribution). \n",
    "\n",
    "Используя ЕМ-алгоритм, модель смеси распределений, а также приложенный датасет, определите сколько рабочих могло участвовать в ремонте серверной за время наблюдений. Можете ли вы определить, какой рабочий участвовал в каждом ремонте?\n",
    "\n",
    "Действуем по инструкции."
   ]
  },
  {
   "cell_type": "markdown",
   "metadata": {},
   "source": [
    "### Посмотрим на датасет\n",
    "\n",
    "Откройте приложенный датасет и нарисуйте диаграмму разброса (scatterplot) в осях $X_A,~X_B$, чтобы посмотреть, что в целом дано. Возможно, удобнее перейти в логарифмические оси."
   ]
  },
  {
   "cell_type": "code",
   "execution_count": null,
   "metadata": {},
   "outputs": [],
   "source": [
    "with open(\"./maintenance.pkl\",\"rb\") as f:\n",
    "    dd = pkl.load(f)\n",
    "    #??"
   ]
  },
  {
   "cell_type": "code",
   "execution_count": null,
   "metadata": {},
   "outputs": [],
   "source": [
    "f,ax = plt.subplots(figsize=(5,5))\n",
    "\n",
    "ax.grid()\n",
    "ax.set_title(\"Data\")\n",
    "#your plots here\n",
    "ax.set_xlabel(\"Xa\")\n",
    "ax.set_ylabel(\"Xb\")\n",
    "plt.show()"
   ]
  },
  {
   "cell_type": "code",
   "execution_count": null,
   "metadata": {},
   "outputs": [],
   "source": [
    "#more plots?"
   ]
  },
  {
   "cell_type": "markdown",
   "metadata": {},
   "source": [
    "### Модель\n",
    "\n",
    "Опишите модель смеси, которая вам пригодится для решения задачи. Число компонент будем определять экспериментально, а остальное надо оценивать. Предполагается, что вектор $[\\ln X_A, \\ln X_B]$ у каждого рабочего имеет нормальное распределение. Логарифмы $\\ln X_A$ и $\\ln X_B$ могут быть коррелированы, но пары  $(X^i_A,X^i_B)$ независимы в совокупности.\n",
    "\n",
    "* Что по смыслу задачи является скрытыми переменными $Y_i$ (номерами компонент)?\n",
    "* Какое вы можете предложить распределение для пары $(X^i_A, X^i_B)$? Будьте здесь внимательны!\n",
    "* Какие параметры $\\theta$ есть в вероятностной модели?"
   ]
  },
  {
   "cell_type": "markdown",
   "metadata": {},
   "source": [
    "ВАШИ ОТВЕТЫ И КОММЕНТАРИИ ЗДЕСЬ"
   ]
  },
  {
   "cell_type": "markdown",
   "metadata": {},
   "source": [
    "### Матчасть\n",
    "\n",
    "Построим математическую основу решения задачи. Выведите и запишите формулы для ЕМ-алгоритма: Е-шаг (вычисление необходимых весов наблюдений) и М-шаг (обновление параметров)."
   ]
  },
  {
   "cell_type": "markdown",
   "metadata": {},
   "source": [
    "ВАШИ ФОРМУЛЫ И КОММЕНТАРИИ ЗДЕСЬ"
   ]
  },
  {
   "cell_type": "markdown",
   "metadata": {},
   "source": [
    "### Имплементация модели\n",
    "\n",
    "Будем использовать уже знакомый пайплайн для смеси распределений, который вы видели в семинарах, как основу. Вам предлагается заполнить детали и дописать вычисление Q-функции и лог-правдоподобия для логирования. Предлагаемые тесты смотрите ниже.\n",
    "\n",
    "* Напишите код модели: начните с заполнения ``init`` и ``sample``, протестируйте, что всё семплится, как вы ожидаете (см. первый тест ниже).\n",
    "* Добавьте ``fit`` и протестируйте его, он должен корректно оценивать параметры по выборке (см. второй тест ниже)\n",
    "* Нарисуйте в каждом тесте график зависимости логправдоподобия (по наблюдаемым переменным) и Q-функции от номера итерации, чтобы убедиться, что алгоритм к чему-то сходится."
   ]
  },
  {
   "cell_type": "code",
   "execution_count": null,
   "metadata": {},
   "outputs": [],
   "source": [
    "class LogNMixtureModel:\n",
    "    '''\n",
    "    Implements LogN Mixture Model in R^d\n",
    "    '''\n",
    "\n",
    "    def __init__(self,K=1,mus=[0],sigmas=[1], pis=[1]):\n",
    "        \"\"\"\n",
    "        Args:\n",
    "            K (int, optional): number of components. Defaults to 1.\n",
    "            mus (list, optional): K entries of (d,), expected values. Defaults to [0].\n",
    "            sigmas (list, optional): K entries of (d,d,), covariances. Defaults to [1].\n",
    "            pis (list, optional): K floats, weights, positive and sump up to 1. Defaults to [1].\n",
    "        \"\"\"        \n",
    "        self.K=K\n",
    "        self.mus = mus\n",
    "        self.sigmas = sigmas\n",
    "        self.pis = pis\n",
    "\n",
    "    def __str__(self):\n",
    "        \"\"\"Prints the parameters\n",
    "\n",
    "        Returns:\n",
    "            out (str): text print as if you would write print(myModel)\n",
    "        \"\"\" \n",
    "        raise NotImplementedError\n",
    "        #YOUR CODE\n",
    "\n",
    "    def sample(self, N=10):\n",
    "        \"\"\"Samples N samples from the model\n",
    "\n",
    "        Args:\n",
    "            N (int, optional): number of samples. Defaults to 10.\n",
    "\n",
    "        Returns:\n",
    "           result(float[]) : N d-dimensional samples (N,d)\n",
    "           ids(int[]) : mixture ids (N,)\n",
    "        \"\"\"        \n",
    "        raise NotImplementedError\n",
    "        #YOUR CODE\n",
    "        #return result, ids\n",
    "\n",
    "    def EStep(self, data):\n",
    "        \"\"\"Performs E-Step (computation of theta0 weights)\n",
    "\n",
    "        Args:\n",
    "            data (float[]): Training data (N,d)\n",
    "        \"\"\"        \n",
    "        raise NotImplementedError\n",
    "        #YOUR CODE\n",
    "        #self.gammas = ??\n",
    "    \n",
    "    def MStep(self, data):\n",
    "        \"\"\"Performs M-Step (weight update)\n",
    "\n",
    "        Args:\n",
    "            data (float[]): Training data (N,d)\n",
    "        \"\"\"        \n",
    "       \n",
    "        #self.pis = ??\n",
    "        #self.mus = ??\n",
    "        #self.sigmas = ??\n",
    "        raise NotImplementedError\n",
    "        #YOUR CODE\n",
    "        \n",
    "        \n",
    "    def fit(self, data, nSteps):\n",
    "        \"\"\"Fits the model\n",
    "\n",
    "        Args:\n",
    "            data (float[]): (batch, d), given data\n",
    "            nSteps (int): number of steps for EM\n",
    "        \"\"\"        \n",
    "        #YOUR CODE\n",
    "        #EM Loop\n",
    "        for _ in tqdm.tqdm(np.arange(nSteps)):\n",
    "            break\n",
    "            #\n",
    "            #YOUR CODE\n",
    "            \n",
    "            \n",
    "    def _Qfun(self,data):\n",
    "        \"\"\"Computes Q-function\n",
    "\n",
    "        Args:\n",
    "            data (float[]): (N,2)\n",
    "        Returns:\n",
    "            qfun (float): Qfunction value\n",
    "        \"\"\"\n",
    "        #self.gammas\n",
    "        raise NotImplementedError\n",
    "        #YOUR CODE\n",
    "                \n",
    "    def _loglike(self,data):\n",
    "        \"\"\"Computes observable log-likelihood\n",
    "\n",
    "        Args:\n",
    "            data (float[]): (N,2)\n",
    "        Returns:\n",
    "            loglike (float): log-likelihood value\n",
    "        \"\"\"\n",
    "        raise NotImplementedError\n",
    "        #YOUR CODE"
   ]
  },
  {
   "cell_type": "code",
   "execution_count": null,
   "metadata": {},
   "outputs": [],
   "source": [
    "#Test1: init model and sample from it, draw scatter plot\n",
    "\n",
    "mus = [np.array([2,2]), np.array([4,4])]\n",
    "sigmas = [0.2*np.eye(2), 0.05*np.eye(2)]\n",
    "pis=[0.3,0.7]\n",
    "mixMod = LogNMixtureModel(2,mus,sigmas,pis)\n",
    "\n",
    "xs, ids = mixMod.sample(100)"
   ]
  },
  {
   "cell_type": "code",
   "execution_count": null,
   "metadata": {},
   "outputs": [],
   "source": [
    "f,ax = plt.subplots(figsize=(4,4))\n",
    "\n",
    "ax.grid()\n",
    "ax.set_title(\"Mixture Model Samples\")\n",
    "#your plots\n",
    "#don't forget labels\n",
    "ax.legend([\"Comp0\",\"Comp1\"])\n",
    "plt.show()"
   ]
  },
  {
   "cell_type": "code",
   "execution_count": null,
   "metadata": {},
   "outputs": [],
   "source": [
    "#Test2: init model sample from it, draw scatter plot, estimate parameters, check that the estimate is correct.\n",
    "mus = [np.array([2,2]), np.array([4,4])]\n",
    "sigmas = [0.2*np.eye(2), 0.05*np.eye(2)]\n",
    "pis=[0.3,0.7]\n",
    "mixMod = LogNMixtureModel(2,mus,sigmas,pis)\n",
    "\n",
    "xs, ids = mixMod.sample(1000)"
   ]
  },
  {
   "cell_type": "code",
   "execution_count": null,
   "metadata": {},
   "outputs": [],
   "source": [
    "f,ax = plt.subplots(figsize=(4,4))\n",
    "\n",
    "ax.grid()\n",
    "ax.set_title(\"Mixture Model Samples\")\n",
    "#your plots\n",
    "#don't forget labels\n",
    "ax.legend([\"Comp0\",\"Comp1\"])\n",
    "plt.show()"
   ]
  },
  {
   "cell_type": "code",
   "execution_count": null,
   "metadata": {},
   "outputs": [],
   "source": [
    "mus = [np.zeros([2]), np.zeros([2])]\n",
    "sigmas = [np.eye(2), np.eye(2)]\n",
    "pis=[0.9,0.1]\n",
    "mixMod1 = LogNMixtureModel(2,mus,sigmas,pis)\n",
    "\n",
    "mixMod1.fit(xs,500)\n",
    "print(mixMod1)"
   ]
  },
  {
   "cell_type": "markdown",
   "metadata": {},
   "source": [
    "Параметры должны быть примерно как настоящие, это очень простой случай для EM."
   ]
  },
  {
   "cell_type": "markdown",
   "metadata": {},
   "source": [
    "### Переходим к данным\n",
    "\n",
    "Для оценки количества рабочих можно путём эксперимента подобрать количество кластеров. Попробуйте разное количество кластеров и подберите лучший. Ответьте на вопрос задачи и обоснуйте ваш выбор, используя написанный вами код."
   ]
  },
  {
   "cell_type": "code",
   "execution_count": null,
   "metadata": {},
   "outputs": [],
   "source": [
    "#experiments"
   ]
  },
  {
   "cell_type": "markdown",
   "metadata": {},
   "source": [
    "ВАШИ ОБОСНОВАНИЯ И ДОПОЛНИТЕЛЬНЫЙ КОД ТУТ"
   ]
  },
  {
   "cell_type": "markdown",
   "metadata": {},
   "source": [
    "## Задача 2. Тотальный контроль (5 баллов)\n",
    "\n",
    "В чат по теории вероятности сообщения приходят круглосуточно и особенно часто -- в кризисное время, когда у всех проходят коллоквиумы и разные другие контрольные мероприятия. Если выгрузить сырой лог из чата, то можно посчитать длину сообщения в символах $X$ и момент времени $T$, когда сообщение пришло в чат. Предполагается, что $X$ и $T$ независимы, а также промежутки времени $\\Delta T_i = T_{i+1} - T_i$ являются независимыми в совокупности.\n",
    "\n",
    "Исследуя интернет, вы наткнулись на подходящее [экспоненциальное распределение](https://en.wikipedia.org/wiki/Exponential_distribution), которое используется в survival analysis, исследовании времён до происхождения следующего события, которое можно использовать для моделирования времени, и на уже известное [логнормальное распределение](https://en.wikipedia.org/wiki/Log-normal_distribution) для моделирования длины сообщений (несмотря на то, что длины целые, мы попробуем).\n",
    "\n",
    "На основе наблюдений предложите вероятностную модель на основе смесей распределений, которая помогла бы вам научиться определять, является ли конкретный момент времени $t$, когда было прислано сообщение длины $x$, кризисным.\n",
    "\n",
    "Как и раньше, действуем по инструкции."
   ]
  },
  {
   "cell_type": "markdown",
   "metadata": {},
   "source": [
    "### Посмотрим на датасет\n",
    "\n",
    "Откройте приложенный датасет и нарисуйте гистограммы для $X_i$ и $\\Delta T_i$ -- длин сообщений и времени, прошедшего с предыдущего сообщения."
   ]
  },
  {
   "cell_type": "code",
   "execution_count": null,
   "metadata": {},
   "outputs": [],
   "source": [
    "with open(\"./terver.pkl\",\"rb\") as f:\n",
    "    dd = pkl.load(f)\n",
    "    #??"
   ]
  },
  {
   "cell_type": "code",
   "execution_count": null,
   "metadata": {},
   "outputs": [],
   "source": [
    "#your scatter plot and comments"
   ]
  },
  {
   "cell_type": "markdown",
   "metadata": {},
   "source": [
    "### Модель\n",
    "\n",
    "Опишите модель смеси, которая вам пригодится для решения задачи. \n",
    "\n",
    "* Что по смыслу задачи является скрытыми переменными $Y_i$ (номерами компонент)?\n",
    "* Какое вы можете предложить распределение для пары $(X^i, \\Delta T_{i-1})$? Будьте здесь внимательны!\n",
    "* Какие параметры $\\theta$ есть в вероятностной модели?"
   ]
  },
  {
   "cell_type": "markdown",
   "metadata": {},
   "source": [
    "ВАШИ ОТВЕТЫ И КОММЕНТАРИИ ЗДЕСЬ"
   ]
  },
  {
   "cell_type": "markdown",
   "metadata": {},
   "source": [
    "### Матчасть\n",
    "\n",
    "Построим математическую основу решения задачи. Выведите и запишите формулы для ЕМ-алгоритма: Е-шаг (вычисление необходимых весов наблюдений) и М-шаг (обновление параметров)."
   ]
  },
  {
   "cell_type": "markdown",
   "metadata": {},
   "source": [
    "ВАШИ ФОРМУЛЫ И КОММЕНТАРИИ ЗДЕСЬ"
   ]
  },
  {
   "cell_type": "markdown",
   "metadata": {},
   "source": [
    "### Имплементация модели\n",
    "\n",
    "Будем использовать уже знакомый пайплайн для смеси распределений, который вы видели в семинарах, как основу. Вам предлагается заполнить детали и дописать вычисление Q-функции и лог-правдоподобия для логирования. Предлагаемые тесты смотрите ниже.\n",
    "\n",
    "* Напишите код модели: начните с заполнения ``init`` и ``sample``, протестируйте, что всё семплится, как вы ожидаете (см. первый тест ниже).\n",
    "* Добавьте ``fit`` и протестируйте его, он должен корректно оценивать параметры по выборке (см. второй тест ниже)\n",
    "* Нарисуйте в каждом тесте график зависимости логправдоподобия (по наблюдаемым переменным) и Q-функции от номера итерации, чтобы убедиться, что алгоритм к чему-то сходится."
   ]
  },
  {
   "cell_type": "code",
   "execution_count": null,
   "metadata": {},
   "outputs": [],
   "source": [
    "class CustomMixtureModel:\n",
    "    '''\n",
    "    Implements Weibull Mixture Model in R^d\n",
    "    '''\n",
    "\n",
    "    def __init__(self,K,lambdas, pis, mus, sigmas):\n",
    "        \"\"\"\n",
    "        Args:\n",
    "            K (int, optional): number of components.\n",
    "            mus (list, optional): K entries of (d,), expected values.\n",
    "            sigmas (list, optional): K entries of (d,d,), covariances.\n",
    "            pis (list, optional): K floats, weights, positive and sump up to 1.\n",
    "        \"\"\"        \n",
    "        self.K=K\n",
    "        self.pis = pis\n",
    "        self.lambdas = lambdas\n",
    "        self.mus = mus\n",
    "        self.sigmas = sigmas\n",
    "\n",
    "    def __str__(self):\n",
    "        \"\"\"Prints the parameters\n",
    "\n",
    "        Returns:\n",
    "            out (str): text print\n",
    "        \"\"\" \n",
    "        return f\"CustomMixture:\\n pis={self.pis},\\n mus={self.mus},\\n sigmas={self.sigmas},\\n lambdas={self.lambdas}\"\n",
    "\n",
    "    def sample(self, N=10):\n",
    "        \"\"\"Samples N samples from the model\n",
    "\n",
    "        Args:\n",
    "            N (int, optional): number of samples. Defaults to 10.\n",
    "\n",
    "        Returns:\n",
    "           result(float[]) : N d-dimensional samples (N,d)\n",
    "           ids(int[]) : mixture ids (N,)\n",
    "        \"\"\"        \n",
    "        raise NotImplementedError\n",
    "        #YOUR CODE\n",
    "        #return result, ids\n",
    "\n",
    "    def EStep(self, data):\n",
    "        \"\"\"Performs E-Step (computation of theta0 weights)\n",
    "\n",
    "        Args:\n",
    "            data (float[]): Training data (N,d)\n",
    "        \"\"\"\n",
    "        raise NotImplementedError\n",
    "        #YOUR CODE\n",
    "    \n",
    "    def MStep(self, data):\n",
    "        \"\"\"Performs M-Step (weight update)\n",
    "\n",
    "        Args:\n",
    "            data (float[]): Training data (N,d)\n",
    "        \"\"\"        \n",
    "        raise NotImplementedError\n",
    "        #YOUR CODE\n",
    "        \n",
    "        \n",
    "    def fit(self, data, nSteps):\n",
    "        \"\"\"Fits the model\n",
    "\n",
    "        Args:\n",
    "            data (float[]): (batch, d), given data\n",
    "            nSteps (int): number of steps for EM\n",
    "        \"\"\"        \n",
    "        for _ in tqdm.tqdm(np.arange(nSteps)):\n",
    "            #YOUR CODE\n",
    "            break\n",
    "        pass\n",
    "            \n",
    "    def _Qfun(self,data):\n",
    "        \"\"\"Computes Q-function\n",
    "\n",
    "        Args:\n",
    "            data (float[]): given data (N,2)\n",
    "        Returns:\n",
    "            qfun (float): Qfunction value\n",
    "        \"\"\"\n",
    "        #self.gammas\n",
    "        raise NotImplementedError\n",
    "        #YOUR CODE\n",
    "                \n",
    "    def _loglike(self,data):\n",
    "        \"\"\"Computes observable log-likelihood\n",
    "\n",
    "        Args:\n",
    "            data (float[]): given data (N,2)\n",
    "        Returns:\n",
    "            loglike (float): log-likelihood value\n",
    "        \"\"\"\n",
    "        #self.gammas\n",
    "        raise NotImplementedError\n",
    "        #YOUR CODE\n"
   ]
  },
  {
   "cell_type": "code",
   "execution_count": null,
   "metadata": {},
   "outputs": [],
   "source": [
    "#Test1: init model and sample from it, draw scatter plot"
   ]
  },
  {
   "cell_type": "code",
   "execution_count": null,
   "metadata": {},
   "outputs": [],
   "source": [
    "#Test2: init model sample from it, draw scatter plot, estimate parameters, check that the estimate is correct."
   ]
  },
  {
   "cell_type": "markdown",
   "metadata": {},
   "source": [
    "### Ответы\n",
    "\n",
    "Какие сообщения были написаны в кризисное время, а какие в нормальное?\n",
    "\n",
    "Какая доля сообщений была написана в кризисное время?\n",
    "\n",
    "Обоснуйте свои ответы, используя ваш код."
   ]
  },
  {
   "cell_type": "markdown",
   "metadata": {},
   "source": [
    "ВАШИ КОМЕНТАРИИ И КОД ЗДЕСЬ"
   ]
  }
 ],
 "metadata": {
  "kernelspec": {
   "display_name": "studyEnv",
   "language": "python",
   "name": "python3"
  },
  "language_info": {
   "codemirror_mode": {
    "name": "ipython",
    "version": 3
   },
   "file_extension": ".py",
   "mimetype": "text/x-python",
   "name": "python",
   "nbconvert_exporter": "python",
   "pygments_lexer": "ipython3",
   "version": "3.8.0"
  }
 },
 "nbformat": 4,
 "nbformat_minor": 2
}
